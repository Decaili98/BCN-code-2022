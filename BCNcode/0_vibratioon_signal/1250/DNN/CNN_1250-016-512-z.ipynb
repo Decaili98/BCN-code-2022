{
 "cells": [
  {
   "cell_type": "code",
   "execution_count": 1,
   "metadata": {},
   "outputs": [],
   "source": [
    "from tensorflow import keras\n",
    "from tensorflow.keras import *\n",
    "from tensorflow.keras.models import *\n",
    "from tensorflow.keras.layers import *\n",
    "from tensorflow.keras.regularizers import l2#正则化L2\n",
    "import tensorflow as tf\n",
    "import numpy as np\n",
    "import pandas as pd"
   ]
  },
  {
   "cell_type": "code",
   "execution_count": 2,
   "metadata": {},
   "outputs": [
    {
     "name": "stdout",
     "output_type": "stream",
     "text": [
      "(22, 32768) (20, 32768) ***************************************************\n",
      "(2, 32768) (2, 32768)\n",
      "[[ 0.006563  0.69693   0.36774  ...  0.023889 -0.55568  -0.94358 ]\n",
      " [-0.13989  -1.5401    0.29726  ...  0.15154  -0.081996 -0.33388 ]] \r\n",
      " [[ 0.55769  -0.41621  -0.59624  ...  2.0395    1.6655   -0.086483]\n",
      " [ 0.90511   0.88114   0.20347  ... -2.3256    1.3639   -0.13755 ]] ***************************************************\n",
      "(1, 65536) (1, 65536)\n",
      "[[ 0.006563  0.69693   0.36774  ...  0.15154  -0.081996 -0.33388 ]] \r\n",
      " [[ 0.55769 -0.41621 -0.59624 ... -2.3256   1.3639  -0.13755]] ***************************************************\n"
     ]
    }
   ],
   "source": [
    "# 12-0.2\n",
    "# 13-2.4\n",
    "# 18-12.14\n",
    "import pandas as pd\n",
    "import numpy as np\n",
    "normal = np.loadtxt(r'F:\\张老师课题学习内容\\code\\数据集\\试验数据(包括压力脉动和振动)\\2013.9.12-未发生缠绕前\\2013-9.12振动\\2013-9-12振动-1250rmin-mat\\1250rnormalvibz.txt', delimiter=',')\n",
    "chanrao = np.loadtxt(r'F:\\张老师课题学习内容\\code\\数据集\\试验数据(包括压力脉动和振动)\\2013.9.17-发生缠绕后\\振动\\9-18上午振动1250rmin-mat\\1250r_chanraovibz.txt', delimiter=',')\n",
    "print(normal.shape,chanrao.shape,\"***************************************************\")\n",
    "data_normal=normal[8:10]   #提取前两行\n",
    "data_chanrao=chanrao[8:10]   #提取前两行\n",
    "print(data_normal.shape,data_chanrao.shape)\n",
    "print(data_normal,\"\\r\\n\",data_chanrao,\"***************************************************\")\n",
    "data_normal=data_normal.reshape(1,-1)\n",
    "data_chanrao=data_chanrao.reshape(1,-1)\n",
    "print(data_normal.shape,data_chanrao.shape)\n",
    "print(data_normal,\"\\r\\n\",data_chanrao,\"***************************************************\")"
   ]
  },
  {
   "cell_type": "code",
   "execution_count": 3,
   "metadata": {},
   "outputs": [
    {
     "name": "stdout",
     "output_type": "stream",
     "text": [
      "(128, 512) (128, 512)\n"
     ]
    }
   ],
   "source": [
    "#水泵的两种故障类型信号normal正常，chanrao故障\n",
    "data_normal=data_normal.reshape(-1, 512)#(65536,1)-(128, 515)\n",
    "data_chanrao=data_chanrao.reshape(-1,512)\n",
    "print(data_normal.shape,data_chanrao.shape)\n"
   ]
  },
  {
   "cell_type": "code",
   "execution_count": 4,
   "metadata": {},
   "outputs": [
    {
     "name": "stdout",
     "output_type": "stream",
     "text": [
      "(204, 512, 1) (52, 512, 1)\n"
     ]
    }
   ],
   "source": [
    "import numpy as np\n",
    "def yuchuli(data,label):#(4:1)(51:13)\n",
    "    #打乱数据顺序\n",
    "    np.random.shuffle(data)\n",
    "    train = data[0:102,:]\n",
    "    test = data[102:128,:]\n",
    "    label_train = np.array([label for i in range(0,102)])\n",
    "    label_test =np.array([label for i in range(0,26)])\n",
    "    return train,test ,label_train ,label_test\n",
    "def stackkk(a,b,c,d,e,f,g,h):\n",
    "    aa = np.vstack((a, e))\n",
    "    bb = np.vstack((b, f))\n",
    "    cc = np.hstack((c, g))\n",
    "    dd = np.hstack((d, h))\n",
    "    return aa,bb,cc,dd\n",
    "x_tra0,x_tes0,y_tra0,y_tes0 = yuchuli(data_normal,0)\n",
    "x_tra1,x_tes1,y_tra1,y_tes1 = yuchuli(data_chanrao,1)\n",
    "tr1,te1,yr1,ye1=stackkk(x_tra0,x_tes0,y_tra0,y_tes0 ,x_tra1,x_tes1,y_tra1,y_tes1)\n",
    "\n",
    "x_train=tr1\n",
    "x_test=te1\n",
    "y_train = yr1\n",
    "y_test = ye1\n",
    "\n",
    "#打乱数据\n",
    "state = np.random.get_state()\n",
    "np.random.shuffle(x_train)\n",
    "np.random.set_state(state)\n",
    "np.random.shuffle(y_train)\n",
    "\n",
    "state = np.random.get_state()\n",
    "np.random.shuffle(x_test)\n",
    "np.random.set_state(state)\n",
    "np.random.shuffle(y_test)\n",
    "\n",
    "\n",
    "#对训练集和测试集标准化\n",
    "def ZscoreNormalization(x):\n",
    "    \"\"\"Z-score normaliaztion\"\"\"\n",
    "    x = (x - np.mean(x)) / np.std(x)\n",
    "    return x\n",
    "x_train=ZscoreNormalization(x_train)\n",
    "x_test=ZscoreNormalization(x_test)\n",
    "# print(x_test[0])\n",
    "\n",
    "\n",
    "#转化为一维序列\n",
    "x_train = x_train.reshape(-1,512,1)\n",
    "x_test = x_test.reshape(-1,512,1)\n",
    "print(x_train.shape,x_test.shape)\n",
    "\n",
    "def to_one_hot(labels,dimension=2):\n",
    "    results = np.zeros((len(labels),dimension))\n",
    "    for i,label in enumerate(labels):\n",
    "        results[i,label] = 1\n",
    "    return results\n",
    "one_hot_train_labels = to_one_hot(y_train)\n",
    "one_hot_test_labels = to_one_hot(y_test)\n"
   ]
  },
  {
   "cell_type": "code",
   "execution_count": 5,
   "metadata": {
    "scrolled": true
   },
   "outputs": [
    {
     "name": "stdout",
     "output_type": "stream",
     "text": [
      "Model: \"model\"\n",
      "_________________________________________________________________\n",
      "Layer (type)                 Output Shape              Param #   \n",
      "=================================================================\n",
      "input_1 (InputLayer)         [(None, 512, 1, 1)]       0         \n",
      "_________________________________________________________________\n",
      "flatten (Flatten)            (None, 512)               0         \n",
      "_________________________________________________________________\n",
      "dense (Dense)                (None, 12)                6156      \n",
      "_________________________________________________________________\n",
      "dense_1 (Dense)              (None, 6)                 78        \n",
      "_________________________________________________________________\n",
      "dense_2 (Dense)              (None, 2)                 14        \n",
      "=================================================================\n",
      "Total params: 6,248\n",
      "Trainable params: 6,248\n",
      "Non-trainable params: 0\n",
      "_________________________________________________________________\n"
     ]
    }
   ],
   "source": [
    "x = layers.Input(shape=[512,1,1])\n",
    "Flatten=layers.Flatten()(x)\n",
    "Dense1=layers.Dense(12, activation='relu')(Flatten)\n",
    "Dense2=layers.Dense(6, activation='relu')(Dense1)\n",
    "Dense3=layers.Dense(2, activation='softmax')(Dense2)\n",
    "model = keras.Model(x, Dense3)    \n",
    "model.summary() "
   ]
  },
  {
   "cell_type": "code",
   "execution_count": 6,
   "metadata": {},
   "outputs": [],
   "source": [
    "\n",
    "#定义优化\n",
    "model.compile(loss='categorical_crossentropy',\n",
    "              optimizer='adam',metrics=['accuracy']) "
   ]
  },
  {
   "cell_type": "code",
   "execution_count": 7,
   "metadata": {
    "scrolled": true
   },
   "outputs": [
    {
     "name": "stdout",
     "output_type": "stream",
     "text": [
      "Epoch 1/50\n",
      "19/19 [==============================] - 2s 71ms/step - loss: 0.7615 - accuracy: 0.5030 - val_loss: 0.6510 - val_accuracy: 0.6190\n",
      "Epoch 2/50\n",
      "19/19 [==============================] - 0s 4ms/step - loss: 0.5775 - accuracy: 0.6679 - val_loss: 0.6393 - val_accuracy: 0.6667\n",
      "Epoch 3/50\n",
      "19/19 [==============================] - 0s 4ms/step - loss: 0.5199 - accuracy: 0.7100 - val_loss: 0.6250 - val_accuracy: 0.6667\n",
      "Epoch 4/50\n",
      "19/19 [==============================] - 0s 4ms/step - loss: 0.4895 - accuracy: 0.7457 - val_loss: 0.6147 - val_accuracy: 0.7143\n",
      "Epoch 5/50\n",
      "19/19 [==============================] - 0s 3ms/step - loss: 0.4143 - accuracy: 0.8709 - val_loss: 0.6080 - val_accuracy: 0.7143\n",
      "Epoch 6/50\n",
      "19/19 [==============================] - 0s 3ms/step - loss: 0.3497 - accuracy: 0.8850 - val_loss: 0.5931 - val_accuracy: 0.7143\n",
      "Epoch 7/50\n",
      "19/19 [==============================] - 0s 3ms/step - loss: 0.3147 - accuracy: 0.9267 - val_loss: 0.5868 - val_accuracy: 0.7143\n",
      "Epoch 8/50\n",
      "19/19 [==============================] - 0s 3ms/step - loss: 0.2971 - accuracy: 0.9180 - val_loss: 0.5836 - val_accuracy: 0.7143\n",
      "Epoch 9/50\n",
      "19/19 [==============================] - 0s 3ms/step - loss: 0.2774 - accuracy: 0.9319 - val_loss: 0.5720 - val_accuracy: 0.7143\n",
      "Epoch 10/50\n",
      "19/19 [==============================] - 0s 3ms/step - loss: 0.2277 - accuracy: 0.9648 - val_loss: 0.5656 - val_accuracy: 0.7143\n",
      "Epoch 11/50\n",
      "19/19 [==============================] - 0s 3ms/step - loss: 0.2289 - accuracy: 0.9493 - val_loss: 0.5612 - val_accuracy: 0.6190\n",
      "Epoch 12/50\n",
      "19/19 [==============================] - 0s 5ms/step - loss: 0.1670 - accuracy: 0.9724 - val_loss: 0.5649 - val_accuracy: 0.6190\n",
      "Epoch 13/50\n",
      "19/19 [==============================] - 0s 3ms/step - loss: 0.1358 - accuracy: 0.9842 - val_loss: 0.5947 - val_accuracy: 0.6190\n",
      "Epoch 14/50\n",
      "19/19 [==============================] - 0s 2ms/step - loss: 0.1297 - accuracy: 0.9864 - val_loss: 0.5924 - val_accuracy: 0.6190\n",
      "Epoch 15/50\n",
      "19/19 [==============================] - 0s 3ms/step - loss: 0.1280 - accuracy: 0.9888 - val_loss: 0.5880 - val_accuracy: 0.6667\n",
      "Epoch 16/50\n",
      "19/19 [==============================] - 0s 4ms/step - loss: 0.1229 - accuracy: 0.9731 - val_loss: 0.5918 - val_accuracy: 0.6667\n",
      "Epoch 17/50\n",
      "19/19 [==============================] - 0s 3ms/step - loss: 0.1048 - accuracy: 0.9961 - val_loss: 0.5936 - val_accuracy: 0.7143\n",
      "Epoch 18/50\n",
      "19/19 [==============================] - 0s 3ms/step - loss: 0.0713 - accuracy: 0.9979 - val_loss: 0.6024 - val_accuracy: 0.7143\n",
      "Epoch 19/50\n",
      "19/19 [==============================] - 0s 3ms/step - loss: 0.0707 - accuracy: 0.9992 - val_loss: 0.6147 - val_accuracy: 0.7143\n",
      "Epoch 20/50\n",
      "19/19 [==============================] - 0s 3ms/step - loss: 0.0862 - accuracy: 0.9895 - val_loss: 0.6190 - val_accuracy: 0.7143\n",
      "Epoch 21/50\n",
      "19/19 [==============================] - 0s 3ms/step - loss: 0.0567 - accuracy: 0.9971 - val_loss: 0.6072 - val_accuracy: 0.7143\n",
      "Epoch 22/50\n",
      "19/19 [==============================] - 0s 3ms/step - loss: 0.0639 - accuracy: 0.9986 - val_loss: 0.6062 - val_accuracy: 0.7143\n",
      "Epoch 23/50\n",
      "19/19 [==============================] - 0s 2ms/step - loss: 0.0442 - accuracy: 0.9895 - val_loss: 0.6034 - val_accuracy: 0.7143\n",
      "Epoch 24/50\n",
      "19/19 [==============================] - 0s 3ms/step - loss: 0.0458 - accuracy: 0.9979 - val_loss: 0.6099 - val_accuracy: 0.7143\n",
      "Epoch 25/50\n",
      "19/19 [==============================] - 0s 3ms/step - loss: 0.0526 - accuracy: 0.9956 - val_loss: 0.6139 - val_accuracy: 0.7143\n",
      "Epoch 26/50\n",
      "19/19 [==============================] - ETA: 0s - loss: 0.0084 - accuracy: 1.00 - 0s 3ms/step - loss: 0.0469 - accuracy: 0.9895 - val_loss: 0.6133 - val_accuracy: 0.7143\n",
      "Epoch 27/50\n",
      "19/19 [==============================] - 0s 3ms/step - loss: 0.0437 - accuracy: 0.9934 - val_loss: 0.6155 - val_accuracy: 0.7143\n",
      "Epoch 28/50\n",
      "19/19 [==============================] - 0s 3ms/step - loss: 0.0321 - accuracy: 0.9949 - val_loss: 0.6136 - val_accuracy: 0.7143\n",
      "Epoch 29/50\n",
      "19/19 [==============================] - 0s 2ms/step - loss: 0.0454 - accuracy: 0.9995 - val_loss: 0.6155 - val_accuracy: 0.7143\n",
      "Epoch 30/50\n",
      "19/19 [==============================] - 0s 3ms/step - loss: 0.0432 - accuracy: 0.9924 - val_loss: 0.6114 - val_accuracy: 0.7143\n",
      "Epoch 31/50\n",
      "19/19 [==============================] - 0s 5ms/step - loss: 0.0330 - accuracy: 0.9971 - val_loss: 0.6082 - val_accuracy: 0.7143\n",
      "Epoch 32/50\n",
      "19/19 [==============================] - 0s 2ms/step - loss: 0.0393 - accuracy: 0.9911 - val_loss: 0.6062 - val_accuracy: 0.7143\n",
      "Epoch 33/50\n",
      "19/19 [==============================] - 0s 3ms/step - loss: 0.0288 - accuracy: 0.9979 - val_loss: 0.6094 - val_accuracy: 0.7143\n",
      "Epoch 34/50\n",
      "19/19 [==============================] - 0s 2ms/step - loss: 0.0349 - accuracy: 0.9924 - val_loss: 0.6093 - val_accuracy: 0.7143\n",
      "Epoch 35/50\n",
      "19/19 [==============================] - 0s 3ms/step - loss: 0.0169 - accuracy: 0.9992 - val_loss: 0.6059 - val_accuracy: 0.7143\n",
      "Epoch 36/50\n",
      "19/19 [==============================] - 0s 2ms/step - loss: 0.0304 - accuracy: 0.9966 - val_loss: 0.6031 - val_accuracy: 0.7143\n",
      "Epoch 37/50\n",
      "19/19 [==============================] - 0s 3ms/step - loss: 0.0260 - accuracy: 0.9995 - val_loss: 0.6019 - val_accuracy: 0.7143\n",
      "Epoch 38/50\n",
      "19/19 [==============================] - 0s 3ms/step - loss: 0.0276 - accuracy: 0.9924 - val_loss: 0.6010 - val_accuracy: 0.7143\n",
      "Epoch 39/50\n",
      "19/19 [==============================] - 0s 3ms/step - loss: 0.0392 - accuracy: 0.9820 - val_loss: 0.6025 - val_accuracy: 0.7143\n",
      "Epoch 40/50\n",
      "19/19 [==============================] - 0s 2ms/step - loss: 0.0317 - accuracy: 0.9934 - val_loss: 0.5992 - val_accuracy: 0.7143\n",
      "Epoch 41/50\n",
      "19/19 [==============================] - 0s 3ms/step - loss: 0.0370 - accuracy: 0.9911 - val_loss: 0.5981 - val_accuracy: 0.7143\n",
      "Epoch 42/50\n",
      "19/19 [==============================] - 0s 3ms/step - loss: 0.0196 - accuracy: 0.9979 - val_loss: 0.5960 - val_accuracy: 0.7143\n",
      "Epoch 43/50\n",
      "19/19 [==============================] - 0s 3ms/step - loss: 0.0176 - accuracy: 0.9986 - val_loss: 0.5944 - val_accuracy: 0.7143\n",
      "Epoch 44/50\n",
      "19/19 [==============================] - 0s 3ms/step - loss: 0.0289 - accuracy: 0.9934 - val_loss: 0.5927 - val_accuracy: 0.7143\n",
      "Epoch 45/50\n",
      "19/19 [==============================] - 0s 3ms/step - loss: 0.0188 - accuracy: 0.9961 - val_loss: 0.5907 - val_accuracy: 0.7143\n",
      "Epoch 46/50\n",
      "19/19 [==============================] - 0s 3ms/step - loss: 0.0264 - accuracy: 0.9911 - val_loss: 0.5882 - val_accuracy: 0.7143\n",
      "Epoch 47/50\n",
      "19/19 [==============================] - 0s 3ms/step - loss: 0.0331 - accuracy: 0.9870 - val_loss: 0.5866 - val_accuracy: 0.7143\n",
      "Epoch 48/50\n",
      "19/19 [==============================] - 0s 3ms/step - loss: 0.0283 - accuracy: 0.9895 - val_loss: 0.5808 - val_accuracy: 0.7143\n",
      "Epoch 49/50\n",
      "19/19 [==============================] - 0s 5ms/step - loss: 0.0312 - accuracy: 0.9934 - val_loss: 0.5666 - val_accuracy: 0.7143\n",
      "Epoch 50/50\n",
      "19/19 [==============================] - 0s 3ms/step - loss: 0.0216 - accuracy: 0.9934 - val_loss: 0.5564 - val_accuracy: 0.7619\n",
      "time: 5.237394571304321\n"
     ]
    }
   ],
   "source": [
    "import time\n",
    "time_begin = time.time()\n",
    "history = model.fit(x_train,one_hot_train_labels,\n",
    "                    validation_split=0.1,\n",
    "                    epochs=50,batch_size=10,\n",
    "                    shuffle=True)\n",
    "time_end = time.time()\n",
    "time = time_end - time_begin\n",
    "print('time:', time)"
   ]
  },
  {
   "cell_type": "code",
   "execution_count": 8,
   "metadata": {},
   "outputs": [
    {
     "name": "stdout",
     "output_type": "stream",
     "text": [
      "Test loss: 0.8534607291221619\n",
      "Test accuracy: 0.7115384340286255\n",
      "time: 0.03954482078552246\n"
     ]
    }
   ],
   "source": [
    "import time\n",
    "time_begin = time.time()\n",
    "score = model.evaluate(x_test,one_hot_test_labels, verbose=0)\n",
    "print('Test loss:', score[0])\n",
    "print('Test accuracy:', score[1])\n",
    " \n",
    "time_end = time.time()\n",
    "time = time_end - time_begin\n",
    "print('time:', time)"
   ]
  },
  {
   "cell_type": "code",
   "execution_count": 9,
   "metadata": {},
   "outputs": [
    {
     "data": {
      "image/png": "[encoded data removed]",
      "text/plain": [
       "<Figure size 432x288 with 1 Axes>"
      ]
     },
     "metadata": {
      "needs_background": "light"
     },
     "output_type": "display_data"
    }
   ],
   "source": [
    "#绘制acc-loss曲线\n",
    "import matplotlib.pyplot as plt\n",
    "\n",
    "plt.plot(history.history['loss'],color='r')\n",
    "plt.plot(history.history['val_loss'],color='g')\n",
    "plt.plot(history.history['accuracy'],color='b')\n",
    "plt.plot(history.history['val_accuracy'],color='k')\n",
    "plt.title('model loss and acc')\n",
    "plt.ylabel('Accuracy')\n",
    "plt.xlabel('epoch')\n",
    "plt.legend(['train_loss', 'test_loss','train_acc', 'test_acc'], loc='center right')\n",
    "# plt.legend(['train_loss','train_acc'], loc='upper left')\n",
    "#plt.savefig('1.png')\n",
    "plt.show()"
   ]
  },
  {
   "cell_type": "code",
   "execution_count": 10,
   "metadata": {},
   "outputs": [
    {
     "data": {
      "image/png": "[encoded data removed]",
      "text/plain": [
       "<Figure size 432x288 with 1 Axes>"
      ]
     },
     "metadata": {
      "needs_background": "light"
     },
     "output_type": "display_data"
    }
   ],
   "source": [
    "import matplotlib.pyplot as plt\n",
    "\n",
    "plt.plot(history.history['loss'],color='r')\n",
    "plt.plot(history.history['accuracy'],color='b')\n",
    "plt.title('model loss and sccuracy ')\n",
    "plt.ylabel('loss/sccuracy')\n",
    "plt.xlabel('epoch')\n",
    "plt.legend(['train_loss', 'train_sccuracy'], loc='center right')\n",
    "plt.show()"
   ]
  }
 ],
 "metadata": {
  "kernelspec": {
   "display_name": "Python 3",
   "language": "python",
   "name": "python3"
  },
  "language_info": {
   "codemirror_mode": {
    "name": "ipython",
    "version": 3
   },
   "file_extension": ".py",
   "mimetype": "text/x-python",
   "name": "python",
   "nbconvert_exporter": "python",
   "pygments_lexer": "ipython3",
   "version": "3.8.5"
  }
 },
 "nbformat": 4,
 "nbformat_minor": 2
}
