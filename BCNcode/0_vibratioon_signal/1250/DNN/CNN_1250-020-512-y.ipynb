{
 "cells": [
  {
   "cell_type": "code",
   "execution_count": 1,
   "metadata": {},
   "outputs": [],
   "source": [
    "from tensorflow import keras\n",
    "from tensorflow.keras import *\n",
    "from tensorflow.keras.models import *\n",
    "from tensorflow.keras.layers import *\n",
    "from tensorflow.keras.regularizers import l2#正则化L2\n",
    "import tensorflow as tf\n",
    "import numpy as np\n",
    "import pandas as pd"
   ]
  },
  {
   "cell_type": "code",
   "execution_count": 2,
   "metadata": {},
   "outputs": [
    {
     "name": "stdout",
     "output_type": "stream",
     "text": [
      "(22, 32768) (20, 32768) ***************************************************\n",
      "(2, 32768) (2, 32768)\n",
      "[[-0.68211  -0.45644   0.17156  ... -1.5448   -0.69122  -0.64386 ]\n",
      " [ 0.28011  -0.033696  0.090616 ... -0.51051   0.30773  -0.27334 ]] \r\n",
      " [[-0.5479    0.36193   0.036384 ...  0.17879  -0.38059   0.40927 ]\n",
      " [ 0.10057  -0.53746  -1.1906   ...  3.3167    0.7189   -0.08073 ]] ***************************************************\n",
      "(1, 65536) (1, 65536)\n",
      "[[-0.68211 -0.45644  0.17156 ... -0.51051  0.30773 -0.27334]] \r\n",
      " [[-0.5479    0.36193   0.036384 ...  3.3167    0.7189   -0.08073 ]] ***************************************************\n"
     ]
    }
   ],
   "source": [
    "# 12-0.2\n",
    "# 13-2.4\n",
    "# 18-12.14\n",
    "import pandas as pd\n",
    "import numpy as np\n",
    "normal = np.loadtxt(r'F:\\张老师课题学习内容\\code\\数据集\\试验数据(包括压力脉动和振动)\\2013.9.12-未发生缠绕前\\2013-9.12振动\\2013-9-12振动-1250rmin-mat\\1250rnormalviby.txt', delimiter=',')\n",
    "chanrao = np.loadtxt(r'F:\\张老师课题学习内容\\code\\数据集\\试验数据(包括压力脉动和振动)\\2013.9.17-发生缠绕后\\振动\\9-18上午振动1250rmin-mat\\1250r_chanraoviby.txt', delimiter=',')\n",
    "print(normal.shape,chanrao.shape,\"***************************************************\")\n",
    "data_normal=normal[16:18]   #提取前两行\n",
    "data_chanrao=chanrao[16:18]   #提取前两行\n",
    "print(data_normal.shape,data_chanrao.shape)\n",
    "print(data_normal,\"\\r\\n\",data_chanrao,\"***************************************************\")\n",
    "data_normal=data_normal.reshape(1,-1)\n",
    "data_chanrao=data_chanrao.reshape(1,-1)\n",
    "print(data_normal.shape,data_chanrao.shape)\n",
    "print(data_normal,\"\\r\\n\",data_chanrao,\"***************************************************\")"
   ]
  },
  {
   "cell_type": "code",
   "execution_count": 3,
   "metadata": {},
   "outputs": [
    {
     "name": "stdout",
     "output_type": "stream",
     "text": [
      "(128, 512) (128, 512)\n"
     ]
    }
   ],
   "source": [
    "#水泵的两种故障类型信号normal正常，chanrao故障\n",
    "data_normal=data_normal.reshape(-1, 512)#(65536,1)-(128, 515)\n",
    "data_chanrao=data_chanrao.reshape(-1,512)\n",
    "print(data_normal.shape,data_chanrao.shape)\n"
   ]
  },
  {
   "cell_type": "code",
   "execution_count": 4,
   "metadata": {},
   "outputs": [
    {
     "name": "stdout",
     "output_type": "stream",
     "text": [
      "(204, 512, 1) (52, 512, 1)\n"
     ]
    }
   ],
   "source": [
    "import numpy as np\n",
    "def yuchuli(data,label):#(4:1)(51:13)\n",
    "    #打乱数据顺序\n",
    "    np.random.shuffle(data)\n",
    "    train = data[0:102,:]\n",
    "    test = data[102:128,:]\n",
    "    label_train = np.array([label for i in range(0,102)])\n",
    "    label_test =np.array([label for i in range(0,26)])\n",
    "    return train,test ,label_train ,label_test\n",
    "def stackkk(a,b,c,d,e,f,g,h):\n",
    "    aa = np.vstack((a, e))\n",
    "    bb = np.vstack((b, f))\n",
    "    cc = np.hstack((c, g))\n",
    "    dd = np.hstack((d, h))\n",
    "    return aa,bb,cc,dd\n",
    "x_tra0,x_tes0,y_tra0,y_tes0 = yuchuli(data_normal,0)\n",
    "x_tra1,x_tes1,y_tra1,y_tes1 = yuchuli(data_chanrao,1)\n",
    "tr1,te1,yr1,ye1=stackkk(x_tra0,x_tes0,y_tra0,y_tes0 ,x_tra1,x_tes1,y_tra1,y_tes1)\n",
    "\n",
    "x_train=tr1\n",
    "x_test=te1\n",
    "y_train = yr1\n",
    "y_test = ye1\n",
    "\n",
    "#打乱数据\n",
    "state = np.random.get_state()\n",
    "np.random.shuffle(x_train)\n",
    "np.random.set_state(state)\n",
    "np.random.shuffle(y_train)\n",
    "\n",
    "state = np.random.get_state()\n",
    "np.random.shuffle(x_test)\n",
    "np.random.set_state(state)\n",
    "np.random.shuffle(y_test)\n",
    "\n",
    "\n",
    "#对训练集和测试集标准化\n",
    "def ZscoreNormalization(x):\n",
    "    \"\"\"Z-score normaliaztion\"\"\"\n",
    "    x = (x - np.mean(x)) / np.std(x)\n",
    "    return x\n",
    "x_train=ZscoreNormalization(x_train)\n",
    "x_test=ZscoreNormalization(x_test)\n",
    "# print(x_test[0])\n",
    "\n",
    "\n",
    "#转化为一维序列\n",
    "x_train = x_train.reshape(-1,512,1)\n",
    "x_test = x_test.reshape(-1,512,1)\n",
    "print(x_train.shape,x_test.shape)\n",
    "\n",
    "def to_one_hot(labels,dimension=2):\n",
    "    results = np.zeros((len(labels),dimension))\n",
    "    for i,label in enumerate(labels):\n",
    "        results[i,label] = 1\n",
    "    return results\n",
    "one_hot_train_labels = to_one_hot(y_train)\n",
    "one_hot_test_labels = to_one_hot(y_test)\n"
   ]
  },
  {
   "cell_type": "code",
   "execution_count": 5,
   "metadata": {
    "scrolled": true
   },
   "outputs": [
    {
     "name": "stdout",
     "output_type": "stream",
     "text": [
      "Model: \"model\"\n",
      "_________________________________________________________________\n",
      "Layer (type)                 Output Shape              Param #   \n",
      "=================================================================\n",
      "input_1 (InputLayer)         [(None, 512, 1, 1)]       0         \n",
      "_________________________________________________________________\n",
      "flatten (Flatten)            (None, 512)               0         \n",
      "_________________________________________________________________\n",
      "dense (Dense)                (None, 12)                6156      \n",
      "_________________________________________________________________\n",
      "dense_1 (Dense)              (None, 6)                 78        \n",
      "_________________________________________________________________\n",
      "dense_2 (Dense)              (None, 2)                 14        \n",
      "=================================================================\n",
      "Total params: 6,248\n",
      "Trainable params: 6,248\n",
      "Non-trainable params: 0\n",
      "_________________________________________________________________\n"
     ]
    }
   ],
   "source": [
    "x = layers.Input(shape=[512,1,1])\n",
    "Flatten=layers.Flatten()(x)\n",
    "Dense1=layers.Dense(12, activation='relu')(Flatten)\n",
    "Dense2=layers.Dense(6, activation='relu')(Dense1)\n",
    "Dense3=layers.Dense(2, activation='softmax')(Dense2)\n",
    "model = keras.Model(x, Dense3)    \n",
    "model.summary() "
   ]
  },
  {
   "cell_type": "code",
   "execution_count": 6,
   "metadata": {},
   "outputs": [],
   "source": [
    "\n",
    "#定义优化\n",
    "model.compile(loss='categorical_crossentropy',\n",
    "              optimizer='adam',metrics=['accuracy']) "
   ]
  },
  {
   "cell_type": "code",
   "execution_count": 7,
   "metadata": {
    "scrolled": true
   },
   "outputs": [
    {
     "name": "stdout",
     "output_type": "stream",
     "text": [
      "Epoch 1/50\n",
      "19/19 [==============================] - 2s 77ms/step - loss: 0.9508 - accuracy: 0.5287 - val_loss: 0.7883 - val_accuracy: 0.5238\n",
      "Epoch 2/50\n",
      "19/19 [==============================] - 0s 4ms/step - loss: 0.7497 - accuracy: 0.4326 - val_loss: 0.7579 - val_accuracy: 0.4286\n",
      "Epoch 3/50\n",
      "19/19 [==============================] - 0s 4ms/step - loss: 0.6073 - accuracy: 0.6133 - val_loss: 0.7578 - val_accuracy: 0.4286\n",
      "Epoch 4/50\n",
      "19/19 [==============================] - 0s 7ms/step - loss: 0.5692 - accuracy: 0.6619 - val_loss: 0.7618 - val_accuracy: 0.3333\n",
      "Epoch 5/50\n",
      "19/19 [==============================] - 0s 5ms/step - loss: 0.5076 - accuracy: 0.7879 - val_loss: 0.7613 - val_accuracy: 0.4762\n",
      "Epoch 6/50\n",
      "19/19 [==============================] - 0s 5ms/step - loss: 0.4672 - accuracy: 0.8526 - val_loss: 0.7745 - val_accuracy: 0.4286\n",
      "Epoch 7/50\n",
      "19/19 [==============================] - 0s 4ms/step - loss: 0.4634 - accuracy: 0.8597 - val_loss: 0.7723 - val_accuracy: 0.4286\n",
      "Epoch 8/50\n",
      "19/19 [==============================] - 0s 4ms/step - loss: 0.4445 - accuracy: 0.8972 - val_loss: 0.7679 - val_accuracy: 0.3810\n",
      "Epoch 9/50\n",
      "19/19 [==============================] - 0s 4ms/step - loss: 0.4344 - accuracy: 0.9146 - val_loss: 0.7640 - val_accuracy: 0.3810\n",
      "Epoch 10/50\n",
      "19/19 [==============================] - 0s 4ms/step - loss: 0.3941 - accuracy: 0.9522 - val_loss: 0.7691 - val_accuracy: 0.3810\n",
      "Epoch 11/50\n",
      "19/19 [==============================] - 0s 4ms/step - loss: 0.3932 - accuracy: 0.9211 - val_loss: 0.7816 - val_accuracy: 0.3810\n",
      "Epoch 12/50\n",
      "19/19 [==============================] - 0s 5ms/step - loss: 0.3581 - accuracy: 0.9674 - val_loss: 0.7905 - val_accuracy: 0.4286\n",
      "Epoch 13/50\n",
      "19/19 [==============================] - 0s 4ms/step - loss: 0.3594 - accuracy: 0.9587 - val_loss: 0.7960 - val_accuracy: 0.4286\n",
      "Epoch 14/50\n",
      "19/19 [==============================] - 0s 3ms/step - loss: 0.3385 - accuracy: 0.9636 - val_loss: 0.8041 - val_accuracy: 0.4286\n",
      "Epoch 15/50\n",
      "19/19 [==============================] - 0s 3ms/step - loss: 0.3393 - accuracy: 0.9611 - val_loss: 0.7920 - val_accuracy: 0.4286\n",
      "Epoch 16/50\n",
      "19/19 [==============================] - 0s 3ms/step - loss: 0.3241 - accuracy: 0.9689 - val_loss: 0.8208 - val_accuracy: 0.4286\n",
      "Epoch 17/50\n",
      "19/19 [==============================] - 0s 3ms/step - loss: 0.3054 - accuracy: 0.9860 - val_loss: 0.8162 - val_accuracy: 0.4762\n",
      "Epoch 18/50\n",
      "19/19 [==============================] - 0s 3ms/step - loss: 0.3104 - accuracy: 0.9612 - val_loss: 0.8188 - val_accuracy: 0.5238\n",
      "Epoch 19/50\n",
      "19/19 [==============================] - 0s 3ms/step - loss: 0.3006 - accuracy: 0.9534 - val_loss: 0.8323 - val_accuracy: 0.5238\n",
      "Epoch 20/50\n",
      "19/19 [==============================] - 0s 3ms/step - loss: 0.2657 - accuracy: 0.9757 - val_loss: 0.8436 - val_accuracy: 0.5238\n",
      "Epoch 21/50\n",
      "19/19 [==============================] - 0s 3ms/step - loss: 0.2777 - accuracy: 0.9819 - val_loss: 0.8222 - val_accuracy: 0.4762\n",
      "Epoch 22/50\n",
      "19/19 [==============================] - 0s 3ms/step - loss: 0.2502 - accuracy: 0.9787 - val_loss: 0.8494 - val_accuracy: 0.4286\n",
      "Epoch 23/50\n",
      "19/19 [==============================] - 0s 3ms/step - loss: 0.2900 - accuracy: 0.9760 - val_loss: 0.8681 - val_accuracy: 0.5238\n",
      "Epoch 24/50\n",
      "19/19 [==============================] - 0s 3ms/step - loss: 0.2450 - accuracy: 0.9867 - val_loss: 0.8802 - val_accuracy: 0.5238\n",
      "Epoch 25/50\n",
      "19/19 [==============================] - 0s 3ms/step - loss: 0.2361 - accuracy: 0.9801 - val_loss: 0.8944 - val_accuracy: 0.5238\n",
      "Epoch 26/50\n",
      "19/19 [==============================] - ETA: 0s - loss: 0.2485 - accuracy: 1.00 - 0s 4ms/step - loss: 0.2405 - accuracy: 0.9956 - val_loss: 0.9001 - val_accuracy: 0.5238\n",
      "Epoch 27/50\n",
      "19/19 [==============================] - 0s 4ms/step - loss: 0.2049 - accuracy: 0.9966 - val_loss: 0.8792 - val_accuracy: 0.5238\n",
      "Epoch 28/50\n",
      "19/19 [==============================] - 0s 4ms/step - loss: 0.2206 - accuracy: 0.9961 - val_loss: 0.8738 - val_accuracy: 0.6190\n",
      "Epoch 29/50\n",
      "19/19 [==============================] - 0s 4ms/step - loss: 0.2274 - accuracy: 0.9895 - val_loss: 0.8520 - val_accuracy: 0.5238\n",
      "Epoch 30/50\n",
      "19/19 [==============================] - 0s 4ms/step - loss: 0.1955 - accuracy: 0.9986 - val_loss: 0.8735 - val_accuracy: 0.5238\n",
      "Epoch 31/50\n",
      "19/19 [==============================] - 0s 4ms/step - loss: 0.1942 - accuracy: 0.9995 - val_loss: 0.8812 - val_accuracy: 0.5238\n",
      "Epoch 32/50\n",
      "19/19 [==============================] - 0s 4ms/step - loss: 0.2000 - accuracy: 0.9986 - val_loss: 0.8847 - val_accuracy: 0.5238\n",
      "Epoch 33/50\n",
      "19/19 [==============================] - 0s 3ms/step - loss: 0.1794 - accuracy: 0.9934 - val_loss: 0.8854 - val_accuracy: 0.5238\n",
      "Epoch 34/50\n",
      "19/19 [==============================] - 0s 4ms/step - loss: 0.1709 - accuracy: 0.9971 - val_loss: 0.8826 - val_accuracy: 0.5238\n",
      "Epoch 35/50\n",
      "19/19 [==============================] - 0s 3ms/step - loss: 0.1874 - accuracy: 0.9946 - val_loss: 0.8888 - val_accuracy: 0.5238\n",
      "Epoch 36/50\n",
      "19/19 [==============================] - 0s 3ms/step - loss: 0.1836 - accuracy: 0.9870 - val_loss: 0.8802 - val_accuracy: 0.5714\n",
      "Epoch 37/50\n",
      "19/19 [==============================] - 0s 3ms/step - loss: 0.1688 - accuracy: 0.9924 - val_loss: 0.8943 - val_accuracy: 0.5714\n",
      "Epoch 38/50\n",
      "19/19 [==============================] - 0s 3ms/step - loss: 0.1462 - accuracy: 0.9975 - val_loss: 0.9030 - val_accuracy: 0.5714\n",
      "Epoch 39/50\n",
      "19/19 [==============================] - 0s 3ms/step - loss: 0.1660 - accuracy: 0.9820 - val_loss: 0.8950 - val_accuracy: 0.5714\n",
      "Epoch 40/50\n",
      "19/19 [==============================] - 0s 3ms/step - loss: 0.1485 - accuracy: 0.9966 - val_loss: 0.9061 - val_accuracy: 0.5714\n",
      "Epoch 41/50\n",
      "19/19 [==============================] - 0s 4ms/step - loss: 0.1437 - accuracy: 0.9971 - val_loss: 0.8792 - val_accuracy: 0.5714\n",
      "Epoch 42/50\n",
      "19/19 [==============================] - 0s 3ms/step - loss: 0.1527 - accuracy: 0.9966 - val_loss: 0.8205 - val_accuracy: 0.6190\n",
      "Epoch 43/50\n",
      "19/19 [==============================] - 0s 3ms/step - loss: 0.1438 - accuracy: 0.9971 - val_loss: 0.8268 - val_accuracy: 0.6190\n",
      "Epoch 44/50\n",
      "19/19 [==============================] - 0s 4ms/step - loss: 0.1332 - accuracy: 0.9934 - val_loss: 0.8163 - val_accuracy: 0.5714\n",
      "Epoch 45/50\n",
      "19/19 [==============================] - 0s 4ms/step - loss: 0.1509 - accuracy: 0.9961 - val_loss: 0.8195 - val_accuracy: 0.5714\n",
      "Epoch 46/50\n",
      "19/19 [==============================] - 0s 5ms/step - loss: 0.1288 - accuracy: 0.9949 - val_loss: 0.8287 - val_accuracy: 0.5714\n",
      "Epoch 47/50\n",
      "19/19 [==============================] - 0s 4ms/step - loss: 0.1396 - accuracy: 0.9975 - val_loss: 0.8394 - val_accuracy: 0.5714\n",
      "Epoch 48/50\n",
      "19/19 [==============================] - 0s 4ms/step - loss: 0.1263 - accuracy: 0.9979 - val_loss: 0.8510 - val_accuracy: 0.5714\n",
      "Epoch 49/50\n",
      "19/19 [==============================] - 0s 4ms/step - loss: 0.1426 - accuracy: 0.9870 - val_loss: 0.8611 - val_accuracy: 0.5714\n",
      "Epoch 50/50\n",
      "19/19 [==============================] - 0s 5ms/step - loss: 0.1159 - accuracy: 0.9986 - val_loss: 0.8730 - val_accuracy: 0.5714\n",
      "time: 5.567326545715332\n"
     ]
    }
   ],
   "source": [
    "import time\n",
    "time_begin = time.time()\n",
    "history = model.fit(x_train,one_hot_train_labels,\n",
    "                    validation_split=0.1,\n",
    "                    epochs=50,batch_size=10,\n",
    "                    shuffle=True)\n",
    "time_end = time.time()\n",
    "time = time_end - time_begin\n",
    "print('time:', time)"
   ]
  },
  {
   "cell_type": "code",
   "execution_count": 8,
   "metadata": {},
   "outputs": [
    {
     "name": "stdout",
     "output_type": "stream",
     "text": [
      "Test loss: 1.0052658319473267\n",
      "Test accuracy: 0.6346153616905212\n",
      "time: 0.0792992115020752\n"
     ]
    }
   ],
   "source": [
    "import time\n",
    "time_begin = time.time()\n",
    "score = model.evaluate(x_test,one_hot_test_labels, verbose=0)\n",
    "print('Test loss:', score[0])\n",
    "print('Test accuracy:', score[1])\n",
    " \n",
    "time_end = time.time()\n",
    "time = time_end - time_begin\n",
    "print('time:', time)"
   ]
  },
  {
   "cell_type": "code",
   "execution_count": 9,
   "metadata": {},
   "outputs": [
    {
     "data": {
      "image/png": "[encoded data removed]",
      "text/plain": [
       "<Figure size 432x288 with 1 Axes>"
      ]
     },
     "metadata": {
      "needs_background": "light"
     },
     "output_type": "display_data"
    }
   ],
   "source": [
    "#绘制acc-loss曲线\n",
    "import matplotlib.pyplot as plt\n",
    "\n",
    "plt.plot(history.history['loss'],color='r')\n",
    "plt.plot(history.history['val_loss'],color='g')\n",
    "plt.plot(history.history['accuracy'],color='b')\n",
    "plt.plot(history.history['val_accuracy'],color='k')\n",
    "plt.title('model loss and acc')\n",
    "plt.ylabel('Accuracy')\n",
    "plt.xlabel('epoch')\n",
    "plt.legend(['train_loss', 'test_loss','train_acc', 'test_acc'], loc='center right')\n",
    "# plt.legend(['train_loss','train_acc'], loc='upper left')\n",
    "#plt.savefig('1.png')\n",
    "plt.show()"
   ]
  },
  {
   "cell_type": "code",
   "execution_count": 10,
   "metadata": {},
   "outputs": [
    {
     "data": {
      "image/png": "[encoded data removed]",
      "text/plain": [
       "<Figure size 432x288 with 1 Axes>"
      ]
     },
     "metadata": {
      "needs_background": "light"
     },
     "output_type": "display_data"
    }
   ],
   "source": [
    "import matplotlib.pyplot as plt\n",
    "\n",
    "plt.plot(history.history['loss'],color='r')\n",
    "plt.plot(history.history['accuracy'],color='b')\n",
    "plt.title('model loss and sccuracy ')\n",
    "plt.ylabel('loss/sccuracy')\n",
    "plt.xlabel('epoch')\n",
    "plt.legend(['train_loss', 'train_sccuracy'], loc='center right')\n",
    "plt.show()"
   ]
  }
 ],
 "metadata": {
  "kernelspec": {
   "display_name": "Python 3",
   "language": "python",
   "name": "python3"
  },
  "language_info": {
   "codemirror_mode": {
    "name": "ipython",
    "version": 3
   },
   "file_extension": ".py",
   "mimetype": "text/x-python",
   "name": "python",
   "nbconvert_exporter": "python",
   "pygments_lexer": "ipython3",
   "version": "3.8.5"
  }
 },
 "nbformat": 4,
 "nbformat_minor": 2
}
