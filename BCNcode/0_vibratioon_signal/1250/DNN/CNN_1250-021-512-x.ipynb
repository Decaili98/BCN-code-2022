{
 "cells": [
  {
   "cell_type": "code",
   "execution_count": 1,
   "metadata": {},
   "outputs": [],
   "source": [
    "from tensorflow import keras\n",
    "from tensorflow.keras import *\n",
    "from tensorflow.keras.models import *\n",
    "from tensorflow.keras.layers import *\n",
    "from tensorflow.keras.regularizers import l2#正则化L2\n",
    "import tensorflow as tf\n",
    "import numpy as np\n",
    "import pandas as pd"
   ]
  },
  {
   "cell_type": "code",
   "execution_count": 2,
   "metadata": {},
   "outputs": [
    {
     "name": "stdout",
     "output_type": "stream",
     "text": [
      "(22, 32768) (20, 32768) ***************************************************\n",
      "(2, 32768) (2, 32768)\n",
      "[[-0.64232   0.28481   0.019615 ... -0.28667  -0.35359  -0.48948 ]\n",
      " [ 0.53844  -0.32918  -0.24182  ... -1.4122   -0.54809  -0.38989 ]] \r\n",
      " [[ 0.54346  3.6729   0.3955  ...  2.6821   0.29378  0.75449]\n",
      " [-0.93964 -0.33413 -0.71537 ...  0.71874 -0.58781  1.9811 ]] ***************************************************\n",
      "(1, 65536) (1, 65536)\n",
      "[[-0.64232   0.28481   0.019615 ... -1.4122   -0.54809  -0.38989 ]] \r\n",
      " [[ 0.54346  3.6729   0.3955  ...  0.71874 -0.58781  1.9811 ]] ***************************************************\n"
     ]
    }
   ],
   "source": [
    "# 12-0.2\n",
    "# 13-2.4\n",
    "# 18-12.14\n",
    "import pandas as pd\n",
    "import numpy as np\n",
    "normal = np.loadtxt(r'F:\\张老师课题学习内容\\code\\数据集\\试验数据(包括压力脉动和振动)\\2013.9.12-未发生缠绕前\\2013-9.12振动\\2013-9-12振动-1250rmin-mat\\1250rnormalvibx.txt', delimiter=',')\n",
    "chanrao = np.loadtxt(r'F:\\张老师课题学习内容\\code\\数据集\\试验数据(包括压力脉动和振动)\\2013.9.17-发生缠绕后\\振动\\9-18上午振动1250rmin-mat\\1250r_chanraovibx.txt', delimiter=',')\n",
    "print(normal.shape,chanrao.shape,\"***************************************************\")\n",
    "data_normal=normal[18:20]   #提取前两行\n",
    "data_chanrao=chanrao[18:20]   #提取前两行\n",
    "print(data_normal.shape,data_chanrao.shape)\n",
    "print(data_normal,\"\\r\\n\",data_chanrao,\"***************************************************\")\n",
    "data_normal=data_normal.reshape(1,-1)\n",
    "data_chanrao=data_chanrao.reshape(1,-1)\n",
    "print(data_normal.shape,data_chanrao.shape)\n",
    "print(data_normal,\"\\r\\n\",data_chanrao,\"***************************************************\")"
   ]
  },
  {
   "cell_type": "code",
   "execution_count": 3,
   "metadata": {},
   "outputs": [
    {
     "name": "stdout",
     "output_type": "stream",
     "text": [
      "(128, 512) (128, 512)\n"
     ]
    }
   ],
   "source": [
    "#水泵的两种故障类型信号normal正常，chanrao故障\n",
    "data_normal=data_normal.reshape(-1, 512)#(65536,1)-(128, 515)\n",
    "data_chanrao=data_chanrao.reshape(-1,512)\n",
    "print(data_normal.shape,data_chanrao.shape)\n"
   ]
  },
  {
   "cell_type": "code",
   "execution_count": 4,
   "metadata": {},
   "outputs": [
    {
     "name": "stdout",
     "output_type": "stream",
     "text": [
      "(204, 512, 1) (52, 512, 1)\n"
     ]
    }
   ],
   "source": [
    "import numpy as np\n",
    "def yuchuli(data,label):#(4:1)(51:13)\n",
    "    #打乱数据顺序\n",
    "    np.random.shuffle(data)\n",
    "    train = data[0:102,:]\n",
    "    test = data[102:128,:]\n",
    "    label_train = np.array([label for i in range(0,102)])\n",
    "    label_test =np.array([label for i in range(0,26)])\n",
    "    return train,test ,label_train ,label_test\n",
    "def stackkk(a,b,c,d,e,f,g,h):\n",
    "    aa = np.vstack((a, e))\n",
    "    bb = np.vstack((b, f))\n",
    "    cc = np.hstack((c, g))\n",
    "    dd = np.hstack((d, h))\n",
    "    return aa,bb,cc,dd\n",
    "x_tra0,x_tes0,y_tra0,y_tes0 = yuchuli(data_normal,0)\n",
    "x_tra1,x_tes1,y_tra1,y_tes1 = yuchuli(data_chanrao,1)\n",
    "tr1,te1,yr1,ye1=stackkk(x_tra0,x_tes0,y_tra0,y_tes0 ,x_tra1,x_tes1,y_tra1,y_tes1)\n",
    "\n",
    "x_train=tr1\n",
    "x_test=te1\n",
    "y_train = yr1\n",
    "y_test = ye1\n",
    "\n",
    "#打乱数据\n",
    "state = np.random.get_state()\n",
    "np.random.shuffle(x_train)\n",
    "np.random.set_state(state)\n",
    "np.random.shuffle(y_train)\n",
    "\n",
    "state = np.random.get_state()\n",
    "np.random.shuffle(x_test)\n",
    "np.random.set_state(state)\n",
    "np.random.shuffle(y_test)\n",
    "\n",
    "\n",
    "#对训练集和测试集标准化\n",
    "def ZscoreNormalization(x):\n",
    "    \"\"\"Z-score normaliaztion\"\"\"\n",
    "    x = (x - np.mean(x)) / np.std(x)\n",
    "    return x\n",
    "x_train=ZscoreNormalization(x_train)\n",
    "x_test=ZscoreNormalization(x_test)\n",
    "# print(x_test[0])\n",
    "\n",
    "\n",
    "#转化为一维序列\n",
    "x_train = x_train.reshape(-1,512,1)\n",
    "x_test = x_test.reshape(-1,512,1)\n",
    "print(x_train.shape,x_test.shape)\n",
    "\n",
    "def to_one_hot(labels,dimension=2):\n",
    "    results = np.zeros((len(labels),dimension))\n",
    "    for i,label in enumerate(labels):\n",
    "        results[i,label] = 1\n",
    "    return results\n",
    "one_hot_train_labels = to_one_hot(y_train)\n",
    "one_hot_test_labels = to_one_hot(y_test)\n"
   ]
  },
  {
   "cell_type": "code",
   "execution_count": 5,
   "metadata": {
    "scrolled": true
   },
   "outputs": [
    {
     "name": "stdout",
     "output_type": "stream",
     "text": [
      "Model: \"model\"\n",
      "_________________________________________________________________\n",
      "Layer (type)                 Output Shape              Param #   \n",
      "=================================================================\n",
      "input_1 (InputLayer)         [(None, 512, 1, 1)]       0         \n",
      "_________________________________________________________________\n",
      "flatten (Flatten)            (None, 512)               0         \n",
      "_________________________________________________________________\n",
      "dense (Dense)                (None, 12)                6156      \n",
      "_________________________________________________________________\n",
      "dense_1 (Dense)              (None, 6)                 78        \n",
      "_________________________________________________________________\n",
      "dense_2 (Dense)              (None, 2)                 14        \n",
      "=================================================================\n",
      "Total params: 6,248\n",
      "Trainable params: 6,248\n",
      "Non-trainable params: 0\n",
      "_________________________________________________________________\n"
     ]
    }
   ],
   "source": [
    "x = layers.Input(shape=[512,1,1])\n",
    "Flatten=layers.Flatten()(x)\n",
    "Dense1=layers.Dense(12, activation='relu')(Flatten)\n",
    "Dense2=layers.Dense(6, activation='relu')(Dense1)\n",
    "Dense3=layers.Dense(2, activation='softmax')(Dense2)\n",
    "model = keras.Model(x, Dense3)    \n",
    "model.summary() "
   ]
  },
  {
   "cell_type": "code",
   "execution_count": 6,
   "metadata": {},
   "outputs": [],
   "source": [
    "\n",
    "#定义优化\n",
    "model.compile(loss='categorical_crossentropy',\n",
    "              optimizer='adam',metrics=['accuracy']) "
   ]
  },
  {
   "cell_type": "code",
   "execution_count": 7,
   "metadata": {
    "scrolled": true
   },
   "outputs": [
    {
     "name": "stdout",
     "output_type": "stream",
     "text": [
      "Epoch 1/50\n",
      "19/19 [==============================] - 2s 62ms/step - loss: 0.6910 - accuracy: 0.4988 - val_loss: 0.7319 - val_accuracy: 0.3810\n",
      "Epoch 2/50\n",
      "19/19 [==============================] - 0s 3ms/step - loss: 0.5813 - accuracy: 0.6809 - val_loss: 0.6927 - val_accuracy: 0.4286\n",
      "Epoch 3/50\n",
      "19/19 [==============================] - 0s 3ms/step - loss: 0.4853 - accuracy: 0.8091 - val_loss: 0.6567 - val_accuracy: 0.4762\n",
      "Epoch 4/50\n",
      "19/19 [==============================] - 0s 3ms/step - loss: 0.4439 - accuracy: 0.7953 - val_loss: 0.6340 - val_accuracy: 0.6667\n",
      "Epoch 5/50\n",
      "19/19 [==============================] - 0s 3ms/step - loss: 0.3980 - accuracy: 0.9036 - val_loss: 0.6098 - val_accuracy: 0.6190\n",
      "Epoch 6/50\n",
      "19/19 [==============================] - 0s 3ms/step - loss: 0.3533 - accuracy: 0.9508 - val_loss: 0.5920 - val_accuracy: 0.6190\n",
      "Epoch 7/50\n",
      "19/19 [==============================] - 0s 3ms/step - loss: 0.3202 - accuracy: 0.9876 - val_loss: 0.5789 - val_accuracy: 0.6667\n",
      "Epoch 8/50\n",
      "19/19 [==============================] - 0s 3ms/step - loss: 0.2804 - accuracy: 0.9947 - val_loss: 0.5617 - val_accuracy: 0.6190\n",
      "Epoch 9/50\n",
      "19/19 [==============================] - 0s 3ms/step - loss: 0.2394 - accuracy: 0.9986 - val_loss: 0.5411 - val_accuracy: 0.6667\n",
      "Epoch 10/50\n",
      "19/19 [==============================] - 0s 3ms/step - loss: 0.2065 - accuracy: 0.9820 - val_loss: 0.5257 - val_accuracy: 0.7143\n",
      "Epoch 11/50\n",
      "19/19 [==============================] - 0s 3ms/step - loss: 0.1911 - accuracy: 0.9911 - val_loss: 0.5170 - val_accuracy: 0.7619\n",
      "Epoch 12/50\n",
      "19/19 [==============================] - 0s 3ms/step - loss: 0.1808 - accuracy: 0.9961 - val_loss: 0.4923 - val_accuracy: 0.7143\n",
      "Epoch 13/50\n",
      "19/19 [==============================] - 0s 3ms/step - loss: 0.1403 - accuracy: 0.9924 - val_loss: 0.4753 - val_accuracy: 0.7143\n",
      "Epoch 14/50\n",
      "19/19 [==============================] - 0s 3ms/step - loss: 0.1257 - accuracy: 0.9979 - val_loss: 0.4679 - val_accuracy: 0.7619\n",
      "Epoch 15/50\n",
      "19/19 [==============================] - 0s 3ms/step - loss: 0.1056 - accuracy: 0.9942 - val_loss: 0.4583 - val_accuracy: 0.7619\n",
      "Epoch 16/50\n",
      "19/19 [==============================] - 0s 3ms/step - loss: 0.1118 - accuracy: 0.9924 - val_loss: 0.4534 - val_accuracy: 0.8095\n",
      "Epoch 17/50\n",
      "19/19 [==============================] - 0s 3ms/step - loss: 0.1058 - accuracy: 1.0000 - val_loss: 0.4467 - val_accuracy: 0.8095\n",
      "Epoch 18/50\n",
      "19/19 [==============================] - 0s 4ms/step - loss: 0.0859 - accuracy: 1.0000 - val_loss: 0.4384 - val_accuracy: 0.8095\n",
      "Epoch 19/50\n",
      "19/19 [==============================] - 0s 3ms/step - loss: 0.0835 - accuracy: 1.0000 - val_loss: 0.4406 - val_accuracy: 0.8095\n",
      "Epoch 20/50\n",
      "19/19 [==============================] - 0s 3ms/step - loss: 0.0732 - accuracy: 1.0000 - val_loss: 0.4283 - val_accuracy: 0.8095\n",
      "Epoch 21/50\n",
      "19/19 [==============================] - 0s 3ms/step - loss: 0.0700 - accuracy: 1.0000 - val_loss: 0.4234 - val_accuracy: 0.8095\n",
      "Epoch 22/50\n",
      "19/19 [==============================] - 0s 3ms/step - loss: 0.0834 - accuracy: 1.0000 - val_loss: 0.4242 - val_accuracy: 0.8095\n",
      "Epoch 23/50\n",
      "19/19 [==============================] - 0s 3ms/step - loss: 0.0765 - accuracy: 1.0000 - val_loss: 0.4204 - val_accuracy: 0.8095\n",
      "Epoch 24/50\n",
      "19/19 [==============================] - 0s 3ms/step - loss: 0.0752 - accuracy: 1.0000 - val_loss: 0.4121 - val_accuracy: 0.8095\n",
      "Epoch 25/50\n",
      "19/19 [==============================] - 0s 4ms/step - loss: 0.0576 - accuracy: 1.0000 - val_loss: 0.4126 - val_accuracy: 0.8095\n",
      "Epoch 26/50\n",
      "19/19 [==============================] - 0s 3ms/step - loss: 0.0530 - accuracy: 1.0000 - val_loss: 0.4123 - val_accuracy: 0.8095\n",
      "Epoch 27/50\n",
      "19/19 [==============================] - 0s 3ms/step - loss: 0.0518 - accuracy: 1.0000 - val_loss: 0.4081 - val_accuracy: 0.8095\n",
      "Epoch 28/50\n",
      "19/19 [==============================] - 0s 3ms/step - loss: 0.0685 - accuracy: 1.0000 - val_loss: 0.4065 - val_accuracy: 0.8095\n",
      "Epoch 29/50\n",
      "19/19 [==============================] - 0s 3ms/step - loss: 0.0566 - accuracy: 1.0000 - val_loss: 0.4031 - val_accuracy: 0.8095\n",
      "Epoch 30/50\n",
      "19/19 [==============================] - 0s 3ms/step - loss: 0.0575 - accuracy: 1.0000 - val_loss: 0.3973 - val_accuracy: 0.8095\n",
      "Epoch 31/50\n",
      "19/19 [==============================] - 0s 3ms/step - loss: 0.0408 - accuracy: 1.0000 - val_loss: 0.3892 - val_accuracy: 0.8095\n",
      "Epoch 32/50\n",
      "19/19 [==============================] - 0s 4ms/step - loss: 0.0394 - accuracy: 1.0000 - val_loss: 0.3880 - val_accuracy: 0.8095\n",
      "Epoch 33/50\n",
      "19/19 [==============================] - 0s 3ms/step - loss: 0.0481 - accuracy: 1.0000 - val_loss: 0.3901 - val_accuracy: 0.8095\n",
      "Epoch 34/50\n",
      "19/19 [==============================] - 0s 2ms/step - loss: 0.0444 - accuracy: 1.0000 - val_loss: 0.3859 - val_accuracy: 0.8095\n",
      "Epoch 35/50\n",
      "19/19 [==============================] - 0s 10ms/step - loss: 0.0390 - accuracy: 1.0000 - val_loss: 0.3912 - val_accuracy: 0.7619\n",
      "Epoch 36/50\n",
      "19/19 [==============================] - 0s 3ms/step - loss: 0.0364 - accuracy: 1.0000 - val_loss: 0.4007 - val_accuracy: 0.7619\n",
      "Epoch 37/50\n",
      "19/19 [==============================] - 0s 3ms/step - loss: 0.0404 - accuracy: 1.0000 - val_loss: 0.4173 - val_accuracy: 0.7619\n",
      "Epoch 38/50\n",
      "19/19 [==============================] - 0s 3ms/step - loss: 0.0267 - accuracy: 1.0000 - val_loss: 0.4229 - val_accuracy: 0.7619\n",
      "Epoch 39/50\n",
      "19/19 [==============================] - 0s 3ms/step - loss: 0.0233 - accuracy: 1.0000 - val_loss: 0.4385 - val_accuracy: 0.7619\n",
      "Epoch 40/50\n",
      "19/19 [==============================] - 0s 3ms/step - loss: 0.0242 - accuracy: 1.0000 - val_loss: 0.4485 - val_accuracy: 0.7619\n",
      "Epoch 41/50\n",
      "19/19 [==============================] - 0s 3ms/step - loss: 0.0204 - accuracy: 1.0000 - val_loss: 0.4544 - val_accuracy: 0.7619\n",
      "Epoch 42/50\n",
      "19/19 [==============================] - 0s 3ms/step - loss: 0.0197 - accuracy: 1.0000 - val_loss: 0.4647 - val_accuracy: 0.7619\n",
      "Epoch 43/50\n",
      "19/19 [==============================] - 0s 3ms/step - loss: 0.0176 - accuracy: 1.0000 - val_loss: 0.4741 - val_accuracy: 0.7619\n",
      "Epoch 44/50\n",
      "19/19 [==============================] - 0s 3ms/step - loss: 0.0167 - accuracy: 1.0000 - val_loss: 0.4746 - val_accuracy: 0.7619\n",
      "Epoch 45/50\n",
      "19/19 [==============================] - 0s 3ms/step - loss: 0.0177 - accuracy: 1.0000 - val_loss: 0.4836 - val_accuracy: 0.7619\n",
      "Epoch 46/50\n",
      "19/19 [==============================] - 0s 2ms/step - loss: 0.0225 - accuracy: 1.0000 - val_loss: 0.4870 - val_accuracy: 0.7619\n",
      "Epoch 47/50\n",
      "19/19 [==============================] - 0s 2ms/step - loss: 0.0163 - accuracy: 1.0000 - val_loss: 0.4909 - val_accuracy: 0.7619\n",
      "Epoch 48/50\n",
      "19/19 [==============================] - 0s 2ms/step - loss: 0.0159 - accuracy: 1.0000 - val_loss: 0.4906 - val_accuracy: 0.7619\n",
      "Epoch 49/50\n",
      "19/19 [==============================] - 0s 3ms/step - loss: 0.0173 - accuracy: 1.0000 - val_loss: 0.4937 - val_accuracy: 0.7619\n",
      "Epoch 50/50\n",
      "19/19 [==============================] - 0s 3ms/step - loss: 0.0206 - accuracy: 1.0000 - val_loss: 0.4917 - val_accuracy: 0.7619\n",
      "time: 5.151568174362183\n"
     ]
    }
   ],
   "source": [
    "import time\n",
    "time_begin = time.time()\n",
    "history = model.fit(x_train,one_hot_train_labels,\n",
    "                    validation_split=0.1,\n",
    "                    epochs=50,batch_size=10,\n",
    "                    shuffle=True)\n",
    "time_end = time.time()\n",
    "time = time_end - time_begin\n",
    "print('time:', time)"
   ]
  },
  {
   "cell_type": "code",
   "execution_count": 8,
   "metadata": {},
   "outputs": [
    {
     "name": "stdout",
     "output_type": "stream",
     "text": [
      "Test loss: 0.6982888579368591\n",
      "Test accuracy: 0.807692289352417\n",
      "time: 0.0638265609741211\n"
     ]
    }
   ],
   "source": [
    "import time\n",
    "time_begin = time.time()\n",
    "score = model.evaluate(x_test,one_hot_test_labels, verbose=0)\n",
    "print('Test loss:', score[0])\n",
    "print('Test accuracy:', score[1])\n",
    " \n",
    "time_end = time.time()\n",
    "time = time_end - time_begin\n",
    "print('time:', time)"
   ]
  },
  {
   "cell_type": "code",
   "execution_count": 9,
   "metadata": {},
   "outputs": [
    {
     "data": {
      "image/png": "[encoded data removed]",
      "text/plain": [
       "<Figure size 432x288 with 1 Axes>"
      ]
     },
     "metadata": {
      "needs_background": "light"
     },
     "output_type": "display_data"
    }
   ],
   "source": [
    "#绘制acc-loss曲线\n",
    "import matplotlib.pyplot as plt\n",
    "\n",
    "plt.plot(history.history['loss'],color='r')\n",
    "plt.plot(history.history['val_loss'],color='g')\n",
    "plt.plot(history.history['accuracy'],color='b')\n",
    "plt.plot(history.history['val_accuracy'],color='k')\n",
    "plt.title('model loss and acc')\n",
    "plt.ylabel('Accuracy')\n",
    "plt.xlabel('epoch')\n",
    "plt.legend(['train_loss', 'test_loss','train_acc', 'test_acc'], loc='center right')\n",
    "# plt.legend(['train_loss','train_acc'], loc='upper left')\n",
    "#plt.savefig('1.png')\n",
    "plt.show()"
   ]
  },
  {
   "cell_type": "code",
   "execution_count": 10,
   "metadata": {},
   "outputs": [
    {
     "data": {
      "image/png": "[encoded data removed]",
      "text/plain": [
       "<Figure size 432x288 with 1 Axes>"
      ]
     },
     "metadata": {
      "needs_background": "light"
     },
     "output_type": "display_data"
    }
   ],
   "source": [
    "import matplotlib.pyplot as plt\n",
    "\n",
    "plt.plot(history.history['loss'],color='r')\n",
    "plt.plot(history.history['accuracy'],color='b')\n",
    "plt.title('model loss and sccuracy ')\n",
    "plt.ylabel('loss/sccuracy')\n",
    "plt.xlabel('epoch')\n",
    "plt.legend(['train_loss', 'train_sccuracy'], loc='center right')\n",
    "plt.show()"
   ]
  }
 ],
 "metadata": {
  "kernelspec": {
   "display_name": "Python 3",
   "language": "python",
   "name": "python3"
  },
  "language_info": {
   "codemirror_mode": {
    "name": "ipython",
    "version": 3
   },
   "file_extension": ".py",
   "mimetype": "text/x-python",
   "name": "python",
   "nbconvert_exporter": "python",
   "pygments_lexer": "ipython3",
   "version": "3.8.5"
  }
 },
 "nbformat": 4,
 "nbformat_minor": 2
}
