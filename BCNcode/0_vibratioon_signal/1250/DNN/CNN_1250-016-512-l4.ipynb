{
 "cells": [
  {
   "cell_type": "code",
   "execution_count": 1,
   "metadata": {},
   "outputs": [],
   "source": [
    "from tensorflow import keras\n",
    "from tensorflow.keras import *\n",
    "from tensorflow.keras.models import *\n",
    "from tensorflow.keras.layers import *\n",
    "from tensorflow.keras.regularizers import l2#正则化L2\n",
    "import tensorflow as tf\n",
    "import numpy as np\n",
    "import pandas as pd"
   ]
  },
  {
   "cell_type": "code",
   "execution_count": 2,
   "metadata": {},
   "outputs": [
    {
     "name": "stdout",
     "output_type": "stream",
     "text": [
      "(22, 32768) (20, 32768) ***************************************************\n",
      "(2, 32768) (2, 32768)\n",
      "[[-0.044672 -0.06818   0.63202  ... -1.525     0.063845  0.29388 ]\n",
      " [-0.33885  -0.21366  -0.22635  ...  0.37816   0.43692   0.54859 ]] \r\n",
      " [[ 1.0612  -0.47571  1.1271  ... -1.0066  -3.021   -0.80554]\n",
      " [-2.1957  -1.1117  -2.7123  ...  1.5153   1.8197   0.29017]] ***************************************************\n",
      "(1, 65536) (1, 65536)\n",
      "[[-0.044672 -0.06818   0.63202  ...  0.37816   0.43692   0.54859 ]] \r\n",
      " [[ 1.0612  -0.47571  1.1271  ...  1.5153   1.8197   0.29017]] ***************************************************\n"
     ]
    }
   ],
   "source": [
    "# 12-0.2\n",
    "# 13-2.4\n",
    "# 18-12.14\n",
    "import pandas as pd\n",
    "import numpy as np\n",
    "normal = np.loadtxt(r'F:\\张老师课题学习内容\\code\\数据集\\试验数据(包括压力脉动和振动)\\2013.9.12-未发生缠绕前\\2013-9.12振动\\2013-9-12振动-1250rmin-mat\\1250rnormalvib4.txt', delimiter=',')\n",
    "chanrao = np.loadtxt(r'F:\\张老师课题学习内容\\code\\数据集\\试验数据(包括压力脉动和振动)\\2013.9.17-发生缠绕后\\振动\\9-18上午振动1250rmin-mat\\1250r_chanraovib4.txt', delimiter=',')\n",
    "print(normal.shape,chanrao.shape,\"***************************************************\")\n",
    "data_normal=normal[8:10]   #提取前两行\n",
    "data_chanrao=chanrao[8:10]   #提取前两行\n",
    "print(data_normal.shape,data_chanrao.shape)\n",
    "print(data_normal,\"\\r\\n\",data_chanrao,\"***************************************************\")\n",
    "data_normal=data_normal.reshape(1,-1)\n",
    "data_chanrao=data_chanrao.reshape(1,-1)\n",
    "print(data_normal.shape,data_chanrao.shape)\n",
    "print(data_normal,\"\\r\\n\",data_chanrao,\"***************************************************\")"
   ]
  },
  {
   "cell_type": "code",
   "execution_count": 3,
   "metadata": {},
   "outputs": [
    {
     "name": "stdout",
     "output_type": "stream",
     "text": [
      "(128, 512) (128, 512)\n"
     ]
    }
   ],
   "source": [
    "#水泵的两种故障类型信号normal正常，chanrao故障\n",
    "data_normal=data_normal.reshape(-1, 512)#(65536,1)-(128, 515)\n",
    "data_chanrao=data_chanrao.reshape(-1,512)\n",
    "print(data_normal.shape,data_chanrao.shape)\n"
   ]
  },
  {
   "cell_type": "code",
   "execution_count": 4,
   "metadata": {},
   "outputs": [
    {
     "name": "stdout",
     "output_type": "stream",
     "text": [
      "(204, 512, 1) (52, 512, 1)\n"
     ]
    }
   ],
   "source": [
    "import numpy as np\n",
    "def yuchuli(data,label):#(4:1)(51:13)\n",
    "    #打乱数据顺序\n",
    "    np.random.shuffle(data)\n",
    "    train = data[0:102,:]\n",
    "    test = data[102:128,:]\n",
    "    label_train = np.array([label for i in range(0,102)])\n",
    "    label_test =np.array([label for i in range(0,26)])\n",
    "    return train,test ,label_train ,label_test\n",
    "def stackkk(a,b,c,d,e,f,g,h):\n",
    "    aa = np.vstack((a, e))\n",
    "    bb = np.vstack((b, f))\n",
    "    cc = np.hstack((c, g))\n",
    "    dd = np.hstack((d, h))\n",
    "    return aa,bb,cc,dd\n",
    "x_tra0,x_tes0,y_tra0,y_tes0 = yuchuli(data_normal,0)\n",
    "x_tra1,x_tes1,y_tra1,y_tes1 = yuchuli(data_chanrao,1)\n",
    "tr1,te1,yr1,ye1=stackkk(x_tra0,x_tes0,y_tra0,y_tes0 ,x_tra1,x_tes1,y_tra1,y_tes1)\n",
    "\n",
    "x_train=tr1\n",
    "x_test=te1\n",
    "y_train = yr1\n",
    "y_test = ye1\n",
    "\n",
    "#打乱数据\n",
    "state = np.random.get_state()\n",
    "np.random.shuffle(x_train)\n",
    "np.random.set_state(state)\n",
    "np.random.shuffle(y_train)\n",
    "\n",
    "state = np.random.get_state()\n",
    "np.random.shuffle(x_test)\n",
    "np.random.set_state(state)\n",
    "np.random.shuffle(y_test)\n",
    "\n",
    "\n",
    "#对训练集和测试集标准化\n",
    "def ZscoreNormalization(x):\n",
    "    \"\"\"Z-score normaliaztion\"\"\"\n",
    "    x = (x - np.mean(x)) / np.std(x)\n",
    "    return x\n",
    "x_train=ZscoreNormalization(x_train)\n",
    "x_test=ZscoreNormalization(x_test)\n",
    "# print(x_test[0])\n",
    "\n",
    "\n",
    "#转化为一维序列\n",
    "x_train = x_train.reshape(-1,512,1)\n",
    "x_test = x_test.reshape(-1,512,1)\n",
    "print(x_train.shape,x_test.shape)\n",
    "\n",
    "def to_one_hot(labels,dimension=2):\n",
    "    results = np.zeros((len(labels),dimension))\n",
    "    for i,label in enumerate(labels):\n",
    "        results[i,label] = 1\n",
    "    return results\n",
    "one_hot_train_labels = to_one_hot(y_train)\n",
    "one_hot_test_labels = to_one_hot(y_test)\n"
   ]
  },
  {
   "cell_type": "code",
   "execution_count": 5,
   "metadata": {
    "scrolled": true
   },
   "outputs": [
    {
     "name": "stdout",
     "output_type": "stream",
     "text": [
      "Model: \"model\"\n",
      "_________________________________________________________________\n",
      "Layer (type)                 Output Shape              Param #   \n",
      "=================================================================\n",
      "input_1 (InputLayer)         [(None, 512, 1, 1)]       0         \n",
      "_________________________________________________________________\n",
      "flatten (Flatten)            (None, 512)               0         \n",
      "_________________________________________________________________\n",
      "dense (Dense)                (None, 12)                6156      \n",
      "_________________________________________________________________\n",
      "dense_1 (Dense)              (None, 6)                 78        \n",
      "_________________________________________________________________\n",
      "dense_2 (Dense)              (None, 2)                 14        \n",
      "=================================================================\n",
      "Total params: 6,248\n",
      "Trainable params: 6,248\n",
      "Non-trainable params: 0\n",
      "_________________________________________________________________\n"
     ]
    }
   ],
   "source": [
    "x = layers.Input(shape=[512,1,1])\n",
    "Flatten=layers.Flatten()(x)\n",
    "Dense1=layers.Dense(12, activation='relu')(Flatten)\n",
    "Dense2=layers.Dense(6, activation='relu')(Dense1)\n",
    "Dense3=layers.Dense(2, activation='softmax')(Dense2)\n",
    "model = keras.Model(x, Dense3)    \n",
    "model.summary() "
   ]
  },
  {
   "cell_type": "code",
   "execution_count": 6,
   "metadata": {},
   "outputs": [],
   "source": [
    "\n",
    "#定义优化\n",
    "model.compile(loss='categorical_crossentropy',\n",
    "              optimizer='adam',metrics=['accuracy']) "
   ]
  },
  {
   "cell_type": "code",
   "execution_count": 7,
   "metadata": {
    "scrolled": true
   },
   "outputs": [
    {
     "name": "stdout",
     "output_type": "stream",
     "text": [
      "Epoch 1/50\n",
      "19/19 [==============================] - 3s 83ms/step - loss: 0.7633 - accuracy: 0.4632 - val_loss: 0.5219 - val_accuracy: 0.6667\n",
      "Epoch 2/50\n",
      "19/19 [==============================] - 0s 4ms/step - loss: 0.5997 - accuracy: 0.6083 - val_loss: 0.5237 - val_accuracy: 0.7143\n",
      "Epoch 3/50\n",
      "19/19 [==============================] - 0s 4ms/step - loss: 0.4866 - accuracy: 0.7649 - val_loss: 0.5106 - val_accuracy: 0.7143\n",
      "Epoch 4/50\n",
      "19/19 [==============================] - 0s 4ms/step - loss: 0.4205 - accuracy: 0.8635 - val_loss: 0.4959 - val_accuracy: 0.7619\n",
      "Epoch 5/50\n",
      "19/19 [==============================] - 0s 4ms/step - loss: 0.3705 - accuracy: 0.8960 - val_loss: 0.4805 - val_accuracy: 0.7619\n",
      "Epoch 6/50\n",
      "19/19 [==============================] - 0s 4ms/step - loss: 0.3400 - accuracy: 0.9123 - val_loss: 0.4728 - val_accuracy: 0.7619\n",
      "Epoch 7/50\n",
      "19/19 [==============================] - 0s 5ms/step - loss: 0.2967 - accuracy: 0.9469 - val_loss: 0.4590 - val_accuracy: 0.8095\n",
      "Epoch 8/50\n",
      "19/19 [==============================] - 0s 7ms/step - loss: 0.2797 - accuracy: 0.9431 - val_loss: 0.4458 - val_accuracy: 0.8095\n",
      "Epoch 9/50\n",
      "19/19 [==============================] - 0s 4ms/step - loss: 0.2186 - accuracy: 0.9701 - val_loss: 0.4419 - val_accuracy: 0.8095\n",
      "Epoch 10/50\n",
      "19/19 [==============================] - 0s 4ms/step - loss: 0.1681 - accuracy: 0.9635 - val_loss: 0.4385 - val_accuracy: 0.7619\n",
      "Epoch 11/50\n",
      "19/19 [==============================] - 0s 4ms/step - loss: 0.1644 - accuracy: 0.9460 - val_loss: 0.4495 - val_accuracy: 0.8095\n",
      "Epoch 12/50\n",
      "19/19 [==============================] - 0s 4ms/step - loss: 0.1342 - accuracy: 0.9470 - val_loss: 0.4504 - val_accuracy: 0.8095\n",
      "Epoch 13/50\n",
      "19/19 [==============================] - 0s 4ms/step - loss: 0.1247 - accuracy: 0.9652 - val_loss: 0.4945 - val_accuracy: 0.8095\n",
      "Epoch 14/50\n",
      "19/19 [==============================] - 0s 4ms/step - loss: 0.1071 - accuracy: 0.9544 - val_loss: 0.4979 - val_accuracy: 0.8095\n",
      "Epoch 15/50\n",
      "19/19 [==============================] - 0s 4ms/step - loss: 0.0857 - accuracy: 0.9652 - val_loss: 0.4997 - val_accuracy: 0.8095\n",
      "Epoch 16/50\n",
      "19/19 [==============================] - 0s 4ms/step - loss: 0.0790 - accuracy: 0.9719 - val_loss: 0.5236 - val_accuracy: 0.8095\n",
      "Epoch 17/50\n",
      "19/19 [==============================] - 0s 4ms/step - loss: 0.0650 - accuracy: 0.9780 - val_loss: 0.5300 - val_accuracy: 0.8095\n",
      "Epoch 18/50\n",
      "19/19 [==============================] - 0s 4ms/step - loss: 0.0517 - accuracy: 0.9844 - val_loss: 0.5304 - val_accuracy: 0.8095\n",
      "Epoch 19/50\n",
      "19/19 [==============================] - 0s 4ms/step - loss: 0.0607 - accuracy: 0.9676 - val_loss: 0.5421 - val_accuracy: 0.8095\n",
      "Epoch 20/50\n",
      "19/19 [==============================] - 0s 4ms/step - loss: 0.0413 - accuracy: 0.9888 - val_loss: 0.5445 - val_accuracy: 0.8095\n",
      "Epoch 21/50\n",
      "19/19 [==============================] - 0s 4ms/step - loss: 0.0390 - accuracy: 0.9931 - val_loss: 0.5546 - val_accuracy: 0.8095\n",
      "Epoch 22/50\n",
      "19/19 [==============================] - 0s 4ms/step - loss: 0.0306 - accuracy: 0.9902 - val_loss: 0.5767 - val_accuracy: 0.8095\n",
      "Epoch 23/50\n",
      "19/19 [==============================] - 0s 4ms/step - loss: 0.0289 - accuracy: 0.9863 - val_loss: 0.5854 - val_accuracy: 0.8095\n",
      "Epoch 24/50\n",
      "19/19 [==============================] - 0s 4ms/step - loss: 0.0398 - accuracy: 0.9755 - val_loss: 0.5981 - val_accuracy: 0.8095\n",
      "Epoch 25/50\n",
      "19/19 [==============================] - 0s 4ms/step - loss: 0.0344 - accuracy: 0.9768 - val_loss: 0.6074 - val_accuracy: 0.8095\n",
      "Epoch 26/50\n",
      "19/19 [==============================] - 0s 5ms/step - loss: 0.0241 - accuracy: 0.9869 - val_loss: 0.6166 - val_accuracy: 0.8095\n",
      "Epoch 27/50\n",
      "19/19 [==============================] - 0s 4ms/step - loss: 0.0271 - accuracy: 0.9907 - val_loss: 0.6248 - val_accuracy: 0.8095\n",
      "Epoch 28/50\n",
      "19/19 [==============================] - 0s 4ms/step - loss: 0.0195 - accuracy: 0.9943 - val_loss: 0.6326 - val_accuracy: 0.8095\n",
      "Epoch 29/50\n",
      "19/19 [==============================] - 0s 3ms/step - loss: 0.0401 - accuracy: 0.9670 - val_loss: 0.6402 - val_accuracy: 0.8095\n",
      "Epoch 30/50\n",
      "19/19 [==============================] - 0s 3ms/step - loss: 0.0293 - accuracy: 0.9733 - val_loss: 0.6466 - val_accuracy: 0.8095\n",
      "Epoch 31/50\n",
      "19/19 [==============================] - 0s 3ms/step - loss: 0.0187 - accuracy: 0.9920 - val_loss: 0.6663 - val_accuracy: 0.8095\n",
      "Epoch 32/50\n",
      "19/19 [==============================] - 0s 4ms/step - loss: 0.0240 - accuracy: 0.9831 - val_loss: 0.6701 - val_accuracy: 0.8095\n",
      "Epoch 33/50\n",
      "19/19 [==============================] - 0s 6ms/step - loss: 0.0174 - accuracy: 0.9885 - val_loss: 0.6778 - val_accuracy: 0.8095\n",
      "Epoch 34/50\n",
      "19/19 [==============================] - 0s 5ms/step - loss: 0.0242 - accuracy: 0.9853 - val_loss: 0.6831 - val_accuracy: 0.8095\n",
      "Epoch 35/50\n",
      "19/19 [==============================] - 0s 5ms/step - loss: 0.0161 - accuracy: 0.9895 - val_loss: 0.6923 - val_accuracy: 0.8095\n",
      "Epoch 36/50\n",
      "19/19 [==============================] - 0s 4ms/step - loss: 0.0251 - accuracy: 0.9789 - val_loss: 0.6987 - val_accuracy: 0.8095\n",
      "Epoch 37/50\n",
      "19/19 [==============================] - 0s 5ms/step - loss: 0.0210 - accuracy: 0.9836 - val_loss: 0.7053 - val_accuracy: 0.8095\n",
      "Epoch 38/50\n",
      "19/19 [==============================] - 0s 4ms/step - loss: 0.0244 - accuracy: 0.9769 - val_loss: 0.7114 - val_accuracy: 0.7619\n",
      "Epoch 39/50\n",
      "19/19 [==============================] - 0s 4ms/step - loss: 0.0168 - accuracy: 0.9884 - val_loss: 0.7187 - val_accuracy: 0.7619\n",
      "Epoch 40/50\n",
      "19/19 [==============================] - 0s 4ms/step - loss: 0.0121 - accuracy: 0.9903 - val_loss: 0.7268 - val_accuracy: 0.7619\n",
      "Epoch 41/50\n",
      "19/19 [==============================] - 0s 4ms/step - loss: 0.0211 - accuracy: 0.9827 - val_loss: 0.7334 - val_accuracy: 0.7619\n",
      "Epoch 42/50\n",
      "19/19 [==============================] - 0s 4ms/step - loss: 0.0212 - accuracy: 0.9801 - val_loss: 0.7392 - val_accuracy: 0.7619\n",
      "Epoch 43/50\n",
      "19/19 [==============================] - 0s 4ms/step - loss: 0.0159 - accuracy: 0.9877 - val_loss: 0.7474 - val_accuracy: 0.7619\n",
      "Epoch 44/50\n",
      "19/19 [==============================] - 0s 4ms/step - loss: 0.0187 - accuracy: 0.9841 - val_loss: 0.7530 - val_accuracy: 0.7619\n",
      "Epoch 45/50\n",
      "19/19 [==============================] - 0s 4ms/step - loss: 0.0117 - accuracy: 0.9915 - val_loss: 0.7592 - val_accuracy: 0.7619\n",
      "Epoch 46/50\n",
      "19/19 [==============================] - 0s 5ms/step - loss: 0.0100 - accuracy: 0.9949 - val_loss: 0.7702 - val_accuracy: 0.7619\n",
      "Epoch 47/50\n",
      "19/19 [==============================] - 0s 4ms/step - loss: 0.0145 - accuracy: 0.9965 - val_loss: 0.7627 - val_accuracy: 0.7619\n",
      "Epoch 48/50\n",
      "19/19 [==============================] - 0s 4ms/step - loss: 0.0113 - accuracy: 0.9937 - val_loss: 0.7738 - val_accuracy: 0.7619\n",
      "Epoch 49/50\n",
      "19/19 [==============================] - 0s 4ms/step - loss: 0.0236 - accuracy: 0.9762 - val_loss: 0.7771 - val_accuracy: 0.7619\n",
      "Epoch 50/50\n",
      "19/19 [==============================] - 0s 4ms/step - loss: 0.0075 - accuracy: 0.9977 - val_loss: 0.7846 - val_accuracy: 0.7619\n",
      "time: 6.551406621932983\n"
     ]
    }
   ],
   "source": [
    "import time\n",
    "time_begin = time.time()\n",
    "history = model.fit(x_train,one_hot_train_labels,\n",
    "                    validation_split=0.1,\n",
    "                    epochs=50,batch_size=10,\n",
    "                    shuffle=True)\n",
    "time_end = time.time()\n",
    "time = time_end - time_begin\n",
    "print('time:', time)"
   ]
  },
  {
   "cell_type": "code",
   "execution_count": 8,
   "metadata": {},
   "outputs": [
    {
     "name": "stdout",
     "output_type": "stream",
     "text": [
      "Test loss: 0.7334117889404297\n",
      "Test accuracy: 0.6730769276618958\n",
      "time: 0.08497023582458496\n"
     ]
    }
   ],
   "source": [
    "import time\n",
    "time_begin = time.time()\n",
    "score = model.evaluate(x_test,one_hot_test_labels, verbose=0)\n",
    "print('Test loss:', score[0])\n",
    "print('Test accuracy:', score[1])\n",
    " \n",
    "time_end = time.time()\n",
    "time = time_end - time_begin\n",
    "print('time:', time)"
   ]
  },
  {
   "cell_type": "code",
   "execution_count": 9,
   "metadata": {},
   "outputs": [
    {
     "data": {
      "image/png": "[encoded data removed]",
      "text/plain": [
       "<Figure size 432x288 with 1 Axes>"
      ]
     },
     "metadata": {
      "needs_background": "light"
     },
     "output_type": "display_data"
    }
   ],
   "source": [
    "#绘制acc-loss曲线\n",
    "import matplotlib.pyplot as plt\n",
    "\n",
    "plt.plot(history.history['loss'],color='r')\n",
    "plt.plot(history.history['val_loss'],color='g')\n",
    "plt.plot(history.history['accuracy'],color='b')\n",
    "plt.plot(history.history['val_accuracy'],color='k')\n",
    "plt.title('model loss and acc')\n",
    "plt.ylabel('Accuracy')\n",
    "plt.xlabel('epoch')\n",
    "plt.legend(['train_loss', 'test_loss','train_acc', 'test_acc'], loc='center right')\n",
    "# plt.legend(['train_loss','train_acc'], loc='upper left')\n",
    "#plt.savefig('1.png')\n",
    "plt.show()"
   ]
  },
  {
   "cell_type": "code",
   "execution_count": 10,
   "metadata": {},
   "outputs": [
    {
     "data": {
      "image/png": "[encoded data removed]",
      "text/plain": [
       "<Figure size 432x288 with 1 Axes>"
      ]
     },
     "metadata": {
      "needs_background": "light"
     },
     "output_type": "display_data"
    }
   ],
   "source": [
    "import matplotlib.pyplot as plt\n",
    "\n",
    "plt.plot(history.history['loss'],color='r')\n",
    "plt.plot(history.history['accuracy'],color='b')\n",
    "plt.title('model loss and sccuracy ')\n",
    "plt.ylabel('loss/sccuracy')\n",
    "plt.xlabel('epoch')\n",
    "plt.legend(['train_loss', 'train_sccuracy'], loc='center right')\n",
    "plt.show()"
   ]
  }
 ],
 "metadata": {
  "kernelspec": {
   "display_name": "Python 3",
   "language": "python",
   "name": "python3"
  },
  "language_info": {
   "codemirror_mode": {
    "name": "ipython",
    "version": 3
   },
   "file_extension": ".py",
   "mimetype": "text/x-python",
   "name": "python",
   "nbconvert_exporter": "python",
   "pygments_lexer": "ipython3",
   "version": "3.8.5"
  }
 },
 "nbformat": 4,
 "nbformat_minor": 2
}
