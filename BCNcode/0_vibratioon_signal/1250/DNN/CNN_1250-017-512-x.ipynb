{
 "cells": [
  {
   "cell_type": "code",
   "execution_count": 1,
   "metadata": {},
   "outputs": [],
   "source": [
    "from tensorflow import keras\n",
    "from tensorflow.keras import *\n",
    "from tensorflow.keras.models import *\n",
    "from tensorflow.keras.layers import *\n",
    "from tensorflow.keras.regularizers import l2#正则化L2\n",
    "import tensorflow as tf\n",
    "import numpy as np\n",
    "import pandas as pd"
   ]
  },
  {
   "cell_type": "code",
   "execution_count": 2,
   "metadata": {},
   "outputs": [
    {
     "name": "stdout",
     "output_type": "stream",
     "text": [
      "(22, 32768) (20, 32768) ***************************************************\n",
      "(2, 32768) (2, 32768)\n",
      "[[-0.88253   -1.3222     0.27762   ...  0.35325   -0.39045   -0.025807 ]\n",
      " [ 0.542      0.0043268  0.045142  ... -0.72797   -0.77562   -0.82809  ]] \r\n",
      " [[-0.038468 -2.3602    0.24983  ...  3.5227    1.0532    1.6303  ]\n",
      " [-0.57531  -2.2474   -1.2508   ...  0.3243   -0.36034   0.33432 ]] ***************************************************\n",
      "(1, 65536) (1, 65536)\n",
      "[[-0.88253 -1.3222   0.27762 ... -0.72797 -0.77562 -0.82809]] \r\n",
      " [[-0.038468 -2.3602    0.24983  ...  0.3243   -0.36034   0.33432 ]] ***************************************************\n"
     ]
    }
   ],
   "source": [
    "# 12-0.2\n",
    "# 13-2.4\n",
    "# 18-12.14\n",
    "import pandas as pd\n",
    "import numpy as np\n",
    "normal = np.loadtxt(r'F:\\张老师课题学习内容\\code\\数据集\\试验数据(包括压力脉动和振动)\\2013.9.12-未发生缠绕前\\2013-9.12振动\\2013-9-12振动-1250rmin-mat\\1250rnormalvibx.txt', delimiter=',')\n",
    "chanrao = np.loadtxt(r'F:\\张老师课题学习内容\\code\\数据集\\试验数据(包括压力脉动和振动)\\2013.9.17-发生缠绕后\\振动\\9-18上午振动1250rmin-mat\\1250r_chanraovibx.txt', delimiter=',')\n",
    "print(normal.shape,chanrao.shape,\"***************************************************\")\n",
    "data_normal=normal[10:12]   #提取前两行\n",
    "data_chanrao=chanrao[10:12]   #提取前两行\n",
    "print(data_normal.shape,data_chanrao.shape)\n",
    "print(data_normal,\"\\r\\n\",data_chanrao,\"***************************************************\")\n",
    "data_normal=data_normal.reshape(1,-1)\n",
    "data_chanrao=data_chanrao.reshape(1,-1)\n",
    "print(data_normal.shape,data_chanrao.shape)\n",
    "print(data_normal,\"\\r\\n\",data_chanrao,\"***************************************************\")"
   ]
  },
  {
   "cell_type": "code",
   "execution_count": 3,
   "metadata": {},
   "outputs": [
    {
     "name": "stdout",
     "output_type": "stream",
     "text": [
      "(128, 512) (128, 512)\n"
     ]
    }
   ],
   "source": [
    "#水泵的两种故障类型信号normal正常，chanrao故障\n",
    "data_normal=data_normal.reshape(-1, 512)#(65536,1)-(128, 515)\n",
    "data_chanrao=data_chanrao.reshape(-1,512)\n",
    "print(data_normal.shape,data_chanrao.shape)\n"
   ]
  },
  {
   "cell_type": "code",
   "execution_count": 4,
   "metadata": {},
   "outputs": [
    {
     "name": "stdout",
     "output_type": "stream",
     "text": [
      "(204, 512, 1) (52, 512, 1)\n"
     ]
    }
   ],
   "source": [
    "import numpy as np\n",
    "def yuchuli(data,label):#(4:1)(51:13)\n",
    "    #打乱数据顺序\n",
    "    np.random.shuffle(data)\n",
    "    train = data[0:102,:]\n",
    "    test = data[102:128,:]\n",
    "    label_train = np.array([label for i in range(0,102)])\n",
    "    label_test =np.array([label for i in range(0,26)])\n",
    "    return train,test ,label_train ,label_test\n",
    "def stackkk(a,b,c,d,e,f,g,h):\n",
    "    aa = np.vstack((a, e))\n",
    "    bb = np.vstack((b, f))\n",
    "    cc = np.hstack((c, g))\n",
    "    dd = np.hstack((d, h))\n",
    "    return aa,bb,cc,dd\n",
    "x_tra0,x_tes0,y_tra0,y_tes0 = yuchuli(data_normal,0)\n",
    "x_tra1,x_tes1,y_tra1,y_tes1 = yuchuli(data_chanrao,1)\n",
    "tr1,te1,yr1,ye1=stackkk(x_tra0,x_tes0,y_tra0,y_tes0 ,x_tra1,x_tes1,y_tra1,y_tes1)\n",
    "\n",
    "x_train=tr1\n",
    "x_test=te1\n",
    "y_train = yr1\n",
    "y_test = ye1\n",
    "\n",
    "#打乱数据\n",
    "state = np.random.get_state()\n",
    "np.random.shuffle(x_train)\n",
    "np.random.set_state(state)\n",
    "np.random.shuffle(y_train)\n",
    "\n",
    "state = np.random.get_state()\n",
    "np.random.shuffle(x_test)\n",
    "np.random.set_state(state)\n",
    "np.random.shuffle(y_test)\n",
    "\n",
    "\n",
    "#对训练集和测试集标准化\n",
    "def ZscoreNormalization(x):\n",
    "    \"\"\"Z-score normaliaztion\"\"\"\n",
    "    x = (x - np.mean(x)) / np.std(x)\n",
    "    return x\n",
    "x_train=ZscoreNormalization(x_train)\n",
    "x_test=ZscoreNormalization(x_test)\n",
    "# print(x_test[0])\n",
    "\n",
    "\n",
    "#转化为一维序列\n",
    "x_train = x_train.reshape(-1,512,1)\n",
    "x_test = x_test.reshape(-1,512,1)\n",
    "print(x_train.shape,x_test.shape)\n",
    "\n",
    "def to_one_hot(labels,dimension=2):\n",
    "    results = np.zeros((len(labels),dimension))\n",
    "    for i,label in enumerate(labels):\n",
    "        results[i,label] = 1\n",
    "    return results\n",
    "one_hot_train_labels = to_one_hot(y_train)\n",
    "one_hot_test_labels = to_one_hot(y_test)\n"
   ]
  },
  {
   "cell_type": "code",
   "execution_count": 5,
   "metadata": {
    "scrolled": true
   },
   "outputs": [
    {
     "name": "stdout",
     "output_type": "stream",
     "text": [
      "Model: \"model\"\n",
      "_________________________________________________________________\n",
      "Layer (type)                 Output Shape              Param #   \n",
      "=================================================================\n",
      "input_1 (InputLayer)         [(None, 512, 1, 1)]       0         \n",
      "_________________________________________________________________\n",
      "flatten (Flatten)            (None, 512)               0         \n",
      "_________________________________________________________________\n",
      "dense (Dense)                (None, 12)                6156      \n",
      "_________________________________________________________________\n",
      "dense_1 (Dense)              (None, 6)                 78        \n",
      "_________________________________________________________________\n",
      "dense_2 (Dense)              (None, 2)                 14        \n",
      "=================================================================\n",
      "Total params: 6,248\n",
      "Trainable params: 6,248\n",
      "Non-trainable params: 0\n",
      "_________________________________________________________________\n"
     ]
    }
   ],
   "source": [
    "x = layers.Input(shape=[512,1,1])\n",
    "Flatten=layers.Flatten()(x)\n",
    "Dense1=layers.Dense(12, activation='relu')(Flatten)\n",
    "Dense2=layers.Dense(6, activation='relu')(Dense1)\n",
    "Dense3=layers.Dense(2, activation='softmax')(Dense2)\n",
    "model = keras.Model(x, Dense3)    \n",
    "model.summary() "
   ]
  },
  {
   "cell_type": "code",
   "execution_count": 6,
   "metadata": {},
   "outputs": [],
   "source": [
    "\n",
    "#定义优化\n",
    "model.compile(loss='categorical_crossentropy',\n",
    "              optimizer='adam',metrics=['accuracy']) "
   ]
  },
  {
   "cell_type": "code",
   "execution_count": 7,
   "metadata": {
    "scrolled": true
   },
   "outputs": [
    {
     "name": "stdout",
     "output_type": "stream",
     "text": [
      "Epoch 1/50\n",
      "19/19 [==============================] - 4s 127ms/step - loss: 0.9225 - accuracy: 0.5183 - val_loss: 0.7635 - val_accuracy: 0.4762\n",
      "Epoch 2/50\n",
      "19/19 [==============================] - 0s 4ms/step - loss: 0.6449 - accuracy: 0.5125 - val_loss: 0.6931 - val_accuracy: 0.4286\n",
      "Epoch 3/50\n",
      "19/19 [==============================] - 0s 6ms/step - loss: 0.5179 - accuracy: 0.6151 - val_loss: 0.6574 - val_accuracy: 0.4762\n",
      "Epoch 4/50\n",
      "19/19 [==============================] - 0s 5ms/step - loss: 0.4213 - accuracy: 0.7664 - val_loss: 0.6387 - val_accuracy: 0.4762\n",
      "Epoch 5/50\n",
      "19/19 [==============================] - 0s 6ms/step - loss: 0.3705 - accuracy: 0.8892 - val_loss: 0.6342 - val_accuracy: 0.5714\n",
      "Epoch 6/50\n",
      "19/19 [==============================] - 0s 7ms/step - loss: 0.3175 - accuracy: 0.9526 - val_loss: 0.6299 - val_accuracy: 0.5238\n",
      "Epoch 7/50\n",
      "19/19 [==============================] - 0s 6ms/step - loss: 0.2745 - accuracy: 0.9632 - val_loss: 0.6339 - val_accuracy: 0.5714\n",
      "Epoch 8/50\n",
      "19/19 [==============================] - 0s 7ms/step - loss: 0.2413 - accuracy: 0.9860 - val_loss: 0.6373 - val_accuracy: 0.5714\n",
      "Epoch 9/50\n",
      "19/19 [==============================] - 0s 7ms/step - loss: 0.2381 - accuracy: 0.9820 - val_loss: 0.6481 - val_accuracy: 0.5238\n",
      "Epoch 10/50\n",
      "19/19 [==============================] - 0s 6ms/step - loss: 0.1834 - accuracy: 1.0000 - val_loss: 0.6554 - val_accuracy: 0.5238\n",
      "Epoch 11/50\n",
      "19/19 [==============================] - 0s 6ms/step - loss: 0.1485 - accuracy: 1.0000 - val_loss: 0.6706 - val_accuracy: 0.5238\n",
      "Epoch 12/50\n",
      "19/19 [==============================] - 0s 5ms/step - loss: 0.1287 - accuracy: 1.0000 - val_loss: 0.6991 - val_accuracy: 0.5238\n",
      "Epoch 13/50\n",
      "19/19 [==============================] - 0s 11ms/step - loss: 0.1050 - accuracy: 1.0000 - val_loss: 0.7287 - val_accuracy: 0.5238\n",
      "Epoch 14/50\n",
      "19/19 [==============================] - 0s 6ms/step - loss: 0.0877 - accuracy: 1.0000 - val_loss: 0.7496 - val_accuracy: 0.5238\n",
      "Epoch 15/50\n",
      "19/19 [==============================] - 0s 6ms/step - loss: 0.0719 - accuracy: 1.0000 - val_loss: 0.7703 - val_accuracy: 0.5238\n",
      "Epoch 16/50\n",
      "19/19 [==============================] - 0s 6ms/step - loss: 0.0595 - accuracy: 1.0000 - val_loss: 0.8036 - val_accuracy: 0.5714\n",
      "Epoch 17/50\n",
      "19/19 [==============================] - 0s 5ms/step - loss: 0.0628 - accuracy: 1.0000 - val_loss: 0.8327 - val_accuracy: 0.5714\n",
      "Epoch 18/50\n",
      "19/19 [==============================] - 0s 7ms/step - loss: 0.0468 - accuracy: 1.0000 - val_loss: 0.8569 - val_accuracy: 0.5714\n",
      "Epoch 19/50\n",
      "19/19 [==============================] - 0s 5ms/step - loss: 0.0517 - accuracy: 1.0000 - val_loss: 0.8740 - val_accuracy: 0.6190\n",
      "Epoch 20/50\n",
      "19/19 [==============================] - 0s 5ms/step - loss: 0.0364 - accuracy: 1.0000 - val_loss: 0.8846 - val_accuracy: 0.6190\n",
      "Epoch 21/50\n",
      "19/19 [==============================] - 0s 9ms/step - loss: 0.0460 - accuracy: 1.0000 - val_loss: 0.8973 - val_accuracy: 0.6190\n",
      "Epoch 22/50\n",
      "19/19 [==============================] - 0s 6ms/step - loss: 0.0387 - accuracy: 1.0000 - val_loss: 0.9250 - val_accuracy: 0.6190\n",
      "Epoch 23/50\n",
      "19/19 [==============================] - 0s 5ms/step - loss: 0.0224 - accuracy: 1.0000 - val_loss: 0.9505 - val_accuracy: 0.6190\n",
      "Epoch 24/50\n",
      "19/19 [==============================] - 0s 5ms/step - loss: 0.0202 - accuracy: 1.0000 - val_loss: 0.9684 - val_accuracy: 0.6190\n",
      "Epoch 25/50\n",
      "19/19 [==============================] - 0s 6ms/step - loss: 0.0152 - accuracy: 1.0000 - val_loss: 0.9837 - val_accuracy: 0.6190\n",
      "Epoch 26/50\n",
      "19/19 [==============================] - 0s 6ms/step - loss: 0.0127 - accuracy: 1.0000 - val_loss: 0.9910 - val_accuracy: 0.6190\n",
      "Epoch 27/50\n",
      "19/19 [==============================] - 0s 4ms/step - loss: 0.0125 - accuracy: 1.0000 - val_loss: 1.0124 - val_accuracy: 0.6190\n",
      "Epoch 28/50\n",
      "19/19 [==============================] - 0s 5ms/step - loss: 0.0108 - accuracy: 1.0000 - val_loss: 1.0255 - val_accuracy: 0.6190\n",
      "Epoch 29/50\n",
      "19/19 [==============================] - 0s 6ms/step - loss: 0.0115 - accuracy: 1.0000 - val_loss: 1.0420 - val_accuracy: 0.6190\n",
      "Epoch 30/50\n",
      "19/19 [==============================] - 0s 6ms/step - loss: 0.0098 - accuracy: 1.0000 - val_loss: 1.0534 - val_accuracy: 0.6190\n",
      "Epoch 31/50\n",
      "19/19 [==============================] - 0s 6ms/step - loss: 0.0124 - accuracy: 1.0000 - val_loss: 1.0608 - val_accuracy: 0.6190\n",
      "Epoch 32/50\n",
      "19/19 [==============================] - 0s 6ms/step - loss: 0.0086 - accuracy: 1.0000 - val_loss: 1.0702 - val_accuracy: 0.6190\n",
      "Epoch 33/50\n",
      "19/19 [==============================] - 0s 5ms/step - loss: 0.0081 - accuracy: 1.0000 - val_loss: 1.0781 - val_accuracy: 0.6190\n",
      "Epoch 34/50\n",
      "19/19 [==============================] - 0s 4ms/step - loss: 0.0107 - accuracy: 1.0000 - val_loss: 1.0889 - val_accuracy: 0.6190\n",
      "Epoch 35/50\n",
      "19/19 [==============================] - 0s 4ms/step - loss: 0.0093 - accuracy: 1.0000 - val_loss: 1.0932 - val_accuracy: 0.6190\n",
      "Epoch 36/50\n",
      "19/19 [==============================] - 0s 4ms/step - loss: 0.0045 - accuracy: 1.0000 - val_loss: 1.1010 - val_accuracy: 0.6190\n",
      "Epoch 37/50\n",
      "19/19 [==============================] - 0s 4ms/step - loss: 0.0068 - accuracy: 1.0000 - val_loss: 1.1115 - val_accuracy: 0.6190\n",
      "Epoch 38/50\n",
      "19/19 [==============================] - 0s 4ms/step - loss: 0.0063 - accuracy: 1.0000 - val_loss: 1.1214 - val_accuracy: 0.6190\n",
      "Epoch 39/50\n",
      "19/19 [==============================] - 0s 4ms/step - loss: 0.0040 - accuracy: 1.0000 - val_loss: 1.1301 - val_accuracy: 0.6190\n",
      "Epoch 40/50\n",
      "19/19 [==============================] - 0s 4ms/step - loss: 0.0057 - accuracy: 1.0000 - val_loss: 1.1383 - val_accuracy: 0.6190\n",
      "Epoch 41/50\n",
      "19/19 [==============================] - 0s 4ms/step - loss: 0.0054 - accuracy: 1.0000 - val_loss: 1.1471 - val_accuracy: 0.6190\n",
      "Epoch 42/50\n",
      "19/19 [==============================] - 0s 5ms/step - loss: 0.0050 - accuracy: 1.0000 - val_loss: 1.1536 - val_accuracy: 0.6190\n",
      "Epoch 43/50\n",
      "19/19 [==============================] - 0s 5ms/step - loss: 0.0055 - accuracy: 1.0000 - val_loss: 1.1612 - val_accuracy: 0.6190\n",
      "Epoch 44/50\n",
      "19/19 [==============================] - 0s 4ms/step - loss: 0.0051 - accuracy: 1.0000 - val_loss: 1.1690 - val_accuracy: 0.6190\n",
      "Epoch 45/50\n",
      "19/19 [==============================] - 0s 4ms/step - loss: 0.0072 - accuracy: 1.0000 - val_loss: 1.1750 - val_accuracy: 0.6190\n",
      "Epoch 46/50\n",
      "19/19 [==============================] - 0s 5ms/step - loss: 0.0025 - accuracy: 1.0000 - val_loss: 1.1838 - val_accuracy: 0.6190\n",
      "Epoch 47/50\n",
      "19/19 [==============================] - 0s 4ms/step - loss: 0.0042 - accuracy: 1.0000 - val_loss: 1.1902 - val_accuracy: 0.6190\n",
      "Epoch 48/50\n",
      "19/19 [==============================] - 0s 4ms/step - loss: 0.0035 - accuracy: 1.0000 - val_loss: 1.1981 - val_accuracy: 0.6190\n",
      "Epoch 49/50\n",
      "19/19 [==============================] - 0s 6ms/step - loss: 0.0027 - accuracy: 1.0000 - val_loss: 1.2049 - val_accuracy: 0.6190\n",
      "Epoch 50/50\n",
      "19/19 [==============================] - 0s 5ms/step - loss: 0.0024 - accuracy: 1.0000 - val_loss: 1.2104 - val_accuracy: 0.6190\n",
      "time: 8.825229167938232\n"
     ]
    }
   ],
   "source": [
    "import time\n",
    "time_begin = time.time()\n",
    "history = model.fit(x_train,one_hot_train_labels,\n",
    "                    validation_split=0.1,\n",
    "                    epochs=50,batch_size=10,\n",
    "                    shuffle=True)\n",
    "time_end = time.time()\n",
    "time = time_end - time_begin\n",
    "print('time:', time)"
   ]
  },
  {
   "cell_type": "code",
   "execution_count": 8,
   "metadata": {},
   "outputs": [
    {
     "name": "stdout",
     "output_type": "stream",
     "text": [
      "Test loss: 0.48119550943374634\n",
      "Test accuracy: 0.7692307829856873\n",
      "time: 0.10123991966247559\n"
     ]
    }
   ],
   "source": [
    "import time\n",
    "time_begin = time.time()\n",
    "score = model.evaluate(x_test,one_hot_test_labels, verbose=0)\n",
    "print('Test loss:', score[0])\n",
    "print('Test accuracy:', score[1])\n",
    " \n",
    "time_end = time.time()\n",
    "time = time_end - time_begin\n",
    "print('time:', time)"
   ]
  },
  {
   "cell_type": "code",
   "execution_count": 9,
   "metadata": {},
   "outputs": [
    {
     "data": {
      "image/png": "[encoded data removed]",
      "text/plain": [
       "<Figure size 432x288 with 1 Axes>"
      ]
     },
     "metadata": {
      "needs_background": "light"
     },
     "output_type": "display_data"
    }
   ],
   "source": [
    "#绘制acc-loss曲线\n",
    "import matplotlib.pyplot as plt\n",
    "\n",
    "plt.plot(history.history['loss'],color='r')\n",
    "plt.plot(history.history['val_loss'],color='g')\n",
    "plt.plot(history.history['accuracy'],color='b')\n",
    "plt.plot(history.history['val_accuracy'],color='k')\n",
    "plt.title('model loss and acc')\n",
    "plt.ylabel('Accuracy')\n",
    "plt.xlabel('epoch')\n",
    "plt.legend(['train_loss', 'test_loss','train_acc', 'test_acc'], loc='center right')\n",
    "# plt.legend(['train_loss','train_acc'], loc='upper left')\n",
    "#plt.savefig('1.png')\n",
    "plt.show()"
   ]
  },
  {
   "cell_type": "code",
   "execution_count": 10,
   "metadata": {},
   "outputs": [
    {
     "data": {
      "image/png": "[encoded data removed]",
      "text/plain": [
       "<Figure size 432x288 with 1 Axes>"
      ]
     },
     "metadata": {
      "needs_background": "light"
     },
     "output_type": "display_data"
    }
   ],
   "source": [
    "import matplotlib.pyplot as plt\n",
    "\n",
    "plt.plot(history.history['loss'],color='r')\n",
    "plt.plot(history.history['accuracy'],color='b')\n",
    "plt.title('model loss and sccuracy ')\n",
    "plt.ylabel('loss/sccuracy')\n",
    "plt.xlabel('epoch')\n",
    "plt.legend(['train_loss', 'train_sccuracy'], loc='center right')\n",
    "plt.show()"
   ]
  }
 ],
 "metadata": {
  "kernelspec": {
   "display_name": "Python 3",
   "language": "python",
   "name": "python3"
  },
  "language_info": {
   "codemirror_mode": {
    "name": "ipython",
    "version": 3
   },
   "file_extension": ".py",
   "mimetype": "text/x-python",
   "name": "python",
   "nbconvert_exporter": "python",
   "pygments_lexer": "ipython3",
   "version": "3.8.5"
  }
 },
 "nbformat": 4,
 "nbformat_minor": 2
}
