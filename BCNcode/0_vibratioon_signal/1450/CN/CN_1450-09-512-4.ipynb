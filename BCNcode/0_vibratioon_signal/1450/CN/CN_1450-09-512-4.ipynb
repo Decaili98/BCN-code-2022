{
 "cells": [
  {
   "cell_type": "code",
   "execution_count": 1,
   "metadata": {},
   "outputs": [
    {
     "name": "stderr",
     "output_type": "stream",
     "text": [
      "Using TensorFlow backend.\n"
     ]
    }
   ],
   "source": [
    "import tensorflow as tf\n",
    "from tensorflow import keras\n",
    "from tensorflow.keras import layers\n",
    "from keras import initializers\n",
    "import keras.backend as K\n",
    "import numpy as np\n",
    "import pandas as pd\n",
    "from tensorflow.keras.layers import *\n",
    "from keras.regularizers import l2#正则化"
   ]
  },
  {
   "cell_type": "code",
   "execution_count": 2,
   "metadata": {},
   "outputs": [
    {
     "name": "stdout",
     "output_type": "stream",
     "text": [
      "(22, 32768) (22, 32768) ***************************************************\n",
      "(2, 32768) (2, 32768)\n",
      "[[-0.72913   1.1169    0.050474 ... -1.5078    0.5698   -0.15932 ]\n",
      " [-1.0622   -0.53586   0.40943  ... -0.35689   0.25513  -0.12852 ]] \r\n",
      " [[ 0.41297   2.4888    2.2997   ... -0.45455  -1.3251    0.50932 ]\n",
      " [ 1.801    -1.3239   -0.028511 ...  1.5224    0.83281   1.8075  ]] ***************************************************\n",
      "(1, 65536) (1, 65536)\n",
      "[[-0.72913   1.1169    0.050474 ... -0.35689   0.25513  -0.12852 ]] \r\n",
      " [[0.41297 2.4888  2.2997  ... 1.5224  0.83281 1.8075 ]] ***************************************************\n"
     ]
    }
   ],
   "source": [
    "import pandas as pd\n",
    "import numpy as np\n",
    "normal = np.loadtxt(r'F:\\data_all\\试验数据(包括压力脉动和振动)\\2013.9.12-未发生缠绕前\\2013-9.12振动\\2013-9-12振动-1450rmin-mat\\1450r_normalvib4.txt', delimiter=',')\n",
    "chanrao = np.loadtxt(r'F:\\data_all\\试验数据(包括压力脉动和振动)\\2013.9.17-发生缠绕后\\振动\\9-17下午振动1450rmin-mat\\1450r_chanraovib4.txt', delimiter=',')\n",
    "print(normal.shape,chanrao.shape,\"***************************************************\")\n",
    "data_normal=normal[16:18]   #提取前两行\n",
    "data_chanrao=chanrao[16:18]   #提取前两行\n",
    "print(data_normal.shape,data_chanrao.shape)\n",
    "print(data_normal,\"\\r\\n\",data_chanrao,\"***************************************************\")\n",
    "data_normal=data_normal.reshape(1,-1)\n",
    "data_chanrao=data_chanrao.reshape(1,-1)\n",
    "print(data_normal.shape,data_chanrao.shape)\n",
    "print(data_normal,\"\\r\\n\",data_chanrao,\"***************************************************\")"
   ]
  },
  {
   "cell_type": "code",
   "execution_count": 3,
   "metadata": {},
   "outputs": [
    {
     "name": "stdout",
     "output_type": "stream",
     "text": [
      "(128, 512) (128, 512)\n"
     ]
    }
   ],
   "source": [
    "#水泵的两种故障类型信号normal正常，chanrao故障\n",
    "data_normal=data_normal.reshape(-1, 512)#(65536,1)-(128, 515)\n",
    "data_chanrao=data_chanrao.reshape(-1,512)\n",
    "print(data_normal.shape,data_chanrao.shape)\n"
   ]
  },
  {
   "cell_type": "code",
   "execution_count": 4,
   "metadata": {},
   "outputs": [
    {
     "name": "stdout",
     "output_type": "stream",
     "text": [
      "(204, 512, 1) (52, 512, 1)\n"
     ]
    }
   ],
   "source": [
    "import numpy as np\n",
    "def yuchuli(data,label):#(4:1)(51:13)\n",
    "    #打乱数据顺序\n",
    "    np.random.shuffle(data)\n",
    "    train = data[0:102,:]\n",
    "    test = data[102:128,:]\n",
    "    label_train = np.array([label for i in range(0,102)])\n",
    "    label_test =np.array([label for i in range(0,26)])\n",
    "    return train,test ,label_train ,label_test\n",
    "def stackkk(a,b,c,d,e,f,g,h):\n",
    "    aa = np.vstack((a, e))\n",
    "    bb = np.vstack((b, f))\n",
    "    cc = np.hstack((c, g))\n",
    "    dd = np.hstack((d, h))\n",
    "    return aa,bb,cc,dd\n",
    "x_tra0,x_tes0,y_tra0,y_tes0 = yuchuli(data_normal,0)\n",
    "x_tra1,x_tes1,y_tra1,y_tes1 = yuchuli(data_chanrao,1)\n",
    "tr1,te1,yr1,ye1=stackkk(x_tra0,x_tes0,y_tra0,y_tes0 ,x_tra1,x_tes1,y_tra1,y_tes1)\n",
    "\n",
    "x_train=tr1\n",
    "x_test=te1\n",
    "y_train = yr1\n",
    "y_test = ye1\n",
    "\n",
    "#打乱数据\n",
    "state = np.random.get_state()\n",
    "np.random.shuffle(x_train)\n",
    "np.random.set_state(state)\n",
    "np.random.shuffle(y_train)\n",
    "\n",
    "state = np.random.get_state()\n",
    "np.random.shuffle(x_test)\n",
    "np.random.set_state(state)\n",
    "np.random.shuffle(y_test)\n",
    "\n",
    "\n",
    "#对训练集和测试集标准化\n",
    "def ZscoreNormalization(x):\n",
    "    \"\"\"Z-score normaliaztion\"\"\"\n",
    "    x = (x - np.mean(x)) / np.std(x)\n",
    "    return x\n",
    "x_train=ZscoreNormalization(x_train)\n",
    "x_test=ZscoreNormalization(x_test)\n",
    "# print(x_test[0])\n",
    "\n",
    "\n",
    "#转化为一维序列\n",
    "x_train = x_train.reshape(-1,512,1)\n",
    "x_test = x_test.reshape(-1,512,1)\n",
    "print(x_train.shape,x_test.shape)\n",
    "\n",
    "def to_one_hot(labels,dimension=2):\n",
    "    results = np.zeros((len(labels),dimension))\n",
    "    for i,label in enumerate(labels):\n",
    "        results[i,label] = 1\n",
    "    return results\n",
    "one_hot_train_labels = to_one_hot(y_train)\n",
    "one_hot_test_labels = to_one_hot(y_test)"
   ]
  },
  {
   "cell_type": "code",
   "execution_count": 5,
   "metadata": {},
   "outputs": [],
   "source": [
    "#定义挤压函数\n",
    "def squash(vectors, axis=-1):\n",
    "    \"\"\"\n",
    "    对向量的非线性激活函数\n",
    "    ## vectors: some vectors to be squashed, N-dim tensor\n",
    "    ## axis: the axis to squash\n",
    "    :return: a Tensor with same shape as input vectors\n",
    "    \"\"\"\n",
    "    s_squared_norm = K.sum(K.square(vectors), axis, keepdims=True)\n",
    "    scale = s_squared_norm / (1 + s_squared_norm) / K.sqrt(s_squared_norm + K.epsilon())\n",
    "    return scale * vectors\n",
    "\n",
    "class Length(layers.Layer):\n",
    "    \"\"\"\n",
    "    计算向量的长度。它用于计算与margin_loss中的y_true具有相同形状的张量\n",
    "    Compute the length of vectors. This is used to compute a Tensor that has the same shape with y_true in margin_loss\n",
    "    inputs: shape=[dim_1, ..., dim_{n-1}, dim_n]\n",
    "    output: shape=[dim_1, ..., dim_{n-1}]\n",
    "    \"\"\"\n",
    "    def call(self, inputs, **kwargs):\n",
    "        return K.sqrt(K.sum(K.square(inputs), -1))\n",
    "\n",
    "    def compute_output_shape(self, input_shape):\n",
    "         return input_shape[:-1]\n",
    "        \n",
    "    def get_config(self):\n",
    "        config = super(Length, self).get_config()\n",
    "        return config\n",
    "#定义预胶囊层\n",
    "def PrimaryCap(inputs, dim_capsule, n_channels, kernel_size, strides, padding):\n",
    "    \"\"\"\n",
    "    进行普通二维卷积 `n_channels` 次, 然后将所有的胶囊重叠起来\n",
    "    :param inputs: 4D tensor, shape=[None, width, height, channels]\n",
    "    :param dim_capsule: the dim of the output vector of capsule\n",
    "    :param n_channels: the number of types of capsules\n",
    "    :return: output tensor, shape=[None, num_capsule, dim_capsule]\n",
    "    \"\"\"\n",
    "    output = layers.Conv2D(filters=dim_capsule*n_channels, kernel_size=kernel_size, strides=strides,\n",
    "                           padding=padding,name='primarycap_conv2d')(inputs)\n",
    "    outputs = layers.Reshape(target_shape=[-1, dim_capsule], name='primarycap_reshape')(output)\n",
    "    return layers.Lambda(squash, name='primarycap_squash')(outputs)\n",
    "\n",
    "class DenseCapsule(layers.Layer):\n",
    "    \"\"\"\n",
    "    胶囊层. 输入输出都为向量. \n",
    "    ## num_capsule: 本层包含的胶囊数量\n",
    "    ## dim_capsule: 输出的每一个胶囊向量的维度\n",
    "    ## routings: routing 算法的迭代次数\n",
    "    \"\"\"\n",
    "    def __init__(self, num_capsule, dim_capsule, routings=3, kernel_initializer='glorot_uniform',**kwargs):\n",
    "        super(DenseCapsule, self).__init__(**kwargs)\n",
    "        self.num_capsule = num_capsule\n",
    "        self.dim_capsule = dim_capsule\n",
    "        self.routings = routings\n",
    "        self.kernel_initializer = kernel_initializer\n",
    "\n",
    "    def build(self, input_shape):\n",
    "        assert len(input_shape) >= 3, '输入的 Tensor 的形状[None, input_num_capsule, input_dim_capsule]'#(None,1152,8)\n",
    "        self.input_num_capsule = input_shape[1]\n",
    "        self.input_dim_capsule = input_shape[2]\n",
    "\n",
    "        #转换矩阵\n",
    "        self.W = self.add_weight(shape=[self.num_capsule, self.input_num_capsule,\n",
    "                                        self.dim_capsule, self.input_dim_capsule],\n",
    "                                initializer=self.kernel_initializer,name='W')\n",
    "        self.built = True\n",
    "\n",
    "    def call(self, inputs, training=None):\n",
    "        # inputs.shape=[None, input_num_capsuie, input_dim_capsule]\n",
    "        # inputs_expand.shape=[None, 1, input_num_capsule, input_dim_capsule]\n",
    "        inputs_expand = K.expand_dims(inputs, 1)\n",
    "        # 运算优化:将inputs_expand重复num_capsule 次，用于快速和W相乘\n",
    "        # inputs_tiled.shape=[None, num_capsule, input_num_capsule, input_dim_capsule]\n",
    "        inputs_tiled = K.tile(inputs_expand, [1, self.num_capsule, 1, 1])\n",
    "\n",
    "        # 将inputs_tiled的batch中的每一条数据，计算inputs+W\n",
    "        # x.shape = [num_capsule, input_num_capsule, input_dim_capsule]\n",
    "        # W.shape = [num_capsule, input_num_capsule, dim_capsule, input_dim_capsule]\n",
    "        # 将x和W的前两个维度看作'batch'维度，向量和矩阵相乘:\n",
    "        # [input_dim_capsule] x [dim_capsule, input_dim_capsule]^T -> [dim_capsule].\n",
    "        # inputs_hat.shape = [None, num_capsule, input_num_capsule, dim_capsutel\n",
    "        inputs_hat = K.map_fn(lambda x: K.batch_dot(x, self.W, [2, 3]),elems=inputs_tiled)\n",
    "\n",
    "        # Begin: Routing算法\n",
    "        # 将系数b初始化为0.\n",
    "        # b.shape = [None, self.num_capsule, self, input_num_capsule].\n",
    "        b = tf.zeros(shape=[K.shape(inputs_hat)[0], self.num_capsule, self.input_num_capsule])\n",
    "        \n",
    "        assert self.routings > 0, 'The routings should be > 0.'\n",
    "        for i in range(self.routings):\n",
    "            # c.shape=[None, num_capsule, input_num_capsule]\n",
    "            C = tf.nn.softmax(b ,axis=1)\n",
    "            # c.shape = [None, num_capsule, input_num_capsule]\n",
    "            # inputs_hat.shape = [None, num_capsule, input_num_capsule, dim_capsule]\n",
    "            # 将c与inputs_hat的前两个维度看作'batch'维度，向量和矩阵相乘:\n",
    "            # [input_num_capsule] x [input_num_capsule, dim_capsule] -> [dim_capsule],\n",
    "            # outputs.shape= [None, num_capsule, dim_capsule]\n",
    "            outputs = squash(K. batch_dot(C, inputs_hat, [2, 2])) # [None, 10, 16]\n",
    "        \n",
    "            if i < self.routings - 1:\n",
    "                # outputs.shape = [None, num_capsule, dim_capsule]\n",
    "                # inputs_hat.shape = [None, num_capsule, input_num_capsule, dim_capsule]\n",
    "                # 将outputs和inρuts_hat的前两个维度看作‘batch’ 维度，向量和矩阵相乘:\n",
    "                # [dim_capsule] x [imput_num_capsule, dim_capsule]^T -> [input_num_capsule]\n",
    "                # b.shape = [batch_size. num_capsule, input_nom_capsule]\n",
    "#                 b += K.batch_dot(outputs, inputs_hat, [2, 3]) to this b += tf.matmul(self.W, x)\n",
    "                b += K.batch_dot(outputs, inputs_hat, [2, 3])\n",
    "\n",
    "        # End: Routing 算法\n",
    "        return outputs\n",
    "\n",
    "    def compute_output_shape(self, input_shape):\n",
    "        return tuple([None, self.num_capsule, self.dim_capsule])\n",
    "\n",
    "    def get_config(self):\n",
    "        config = {\n",
    "            'num_capsule': self.num_capsule,\n",
    "            'dim_capsule': self.dim_capsule,\n",
    "            'routings': self.routings\n",
    "            }\n",
    "        base_config = super(DenseCapsule, self).get_config()\n",
    "        return dict(list(base_config.items()) + list(config.items()))"
   ]
  },
  {
   "cell_type": "code",
   "execution_count": 6,
   "metadata": {
    "scrolled": true
   },
   "outputs": [
    {
     "name": "stdout",
     "output_type": "stream",
     "text": [
      "WARNING:tensorflow:From C:\\ProgramData\\Anaconda3\\envs\\tf2\\lib\\site-packages\\tensorflow\\python\\util\\deprecation.py:605: calling map_fn_v2 (from tensorflow.python.ops.map_fn) with dtype is deprecated and will be removed in a future version.\n",
      "Instructions for updating:\n",
      "Use fn_output_signature instead\n",
      "Model: \"model\"\n",
      "_________________________________________________________________\n",
      "Layer (type)                 Output Shape              Param #   \n",
      "=================================================================\n",
      "input_1 (InputLayer)         [(None, 512, 1, 1)]       0         \n",
      "_________________________________________________________________\n",
      "conv1 (Conv2D)               (None, 511, 1, 16)        48        \n",
      "_________________________________________________________________\n",
      "primarycap_conv2d (Conv2D)   (None, 254, 1, 96)        6240      \n",
      "_________________________________________________________________\n",
      "primarycap_reshape (Reshape) (None, 3048, 8)           0         \n",
      "_________________________________________________________________\n",
      "primarycap_squash (Lambda)   (None, 3048, 8)           0         \n",
      "_________________________________________________________________\n",
      "digit_caps (DenseCapsule)    (None, 2, 16)             780288    \n",
      "_________________________________________________________________\n",
      "out_caps (Length)            (None, 2)                 0         \n",
      "=================================================================\n",
      "Total params: 786,576\n",
      "Trainable params: 786,576\n",
      "Non-trainable params: 0\n",
      "_________________________________________________________________\n"
     ]
    }
   ],
   "source": [
    "from tensorflow import keras\n",
    "from keras.regularizers import l2#正则化\n",
    "x = layers.Input(shape=[512,1, 1])\n",
    "#普通卷积层\n",
    "conv1 = layers.Conv2D(filters=16, kernel_size=(2, 1),activation='relu',padding='valid',name='conv1')(x)\n",
    "\n",
    "# Layer 3: 使用“squash”激活的Conv2D层， 然后重塑 [None, num_capsule, dim_vector]\n",
    "primarycaps = PrimaryCap(conv1, dim_capsule=8, n_channels=12, kernel_size=(4, 1), strides=2, padding='valid')\n",
    "# Layer 4: 数字胶囊层，动态路由算法在这里工作。\n",
    "digitcaps = DenseCapsule(num_capsule=2, dim_capsule=16, routings=3, name='digit_caps')(primarycaps)\n",
    "# Layer 5:这是一个辅助层，用它的长度代替每个胶囊。只是为了符合标签的形状。\n",
    "out_caps = Length(name='out_caps')(digitcaps)\n",
    "\n",
    "model = keras.Model(x, out_caps)    \n",
    "model.summary() "
   ]
  },
  {
   "cell_type": "code",
   "execution_count": 7,
   "metadata": {
    "scrolled": true
   },
   "outputs": [
    {
     "name": "stdout",
     "output_type": "stream",
     "text": [
      "Epoch 1/50\n",
      "19/19 [==============================] - 4s 107ms/step - loss: 0.1477 - accuracy: 0.5079 - val_loss: 0.0741 - val_accuracy: 0.6667\n",
      "Epoch 2/50\n",
      "19/19 [==============================] - 1s 53ms/step - loss: 0.0730 - accuracy: 0.4885 - val_loss: 0.0472 - val_accuracy: 0.6667\n",
      "Epoch 3/50\n",
      "19/19 [==============================] - 1s 58ms/step - loss: 0.0469 - accuracy: 0.5857 - val_loss: 0.0346 - val_accuracy: 0.9048\n",
      "Epoch 4/50\n",
      "19/19 [==============================] - 1s 59ms/step - loss: 0.0261 - accuracy: 1.0000 - val_loss: 0.0239 - val_accuracy: 0.9048\n",
      "Epoch 5/50\n",
      "19/19 [==============================] - 1s 65ms/step - loss: 0.0037 - accuracy: 1.0000 - val_loss: 0.0144 - val_accuracy: 0.9048\n",
      "Epoch 6/50\n",
      "19/19 [==============================] - 1s 67ms/step - loss: 7.4288e-04 - accuracy: 1.0000 - val_loss: 0.0162 - val_accuracy: 0.9048\n",
      "Epoch 7/50\n",
      "19/19 [==============================] - 1s 59ms/step - loss: 6.1936e-04 - accuracy: 1.0000 - val_loss: 0.0154 - val_accuracy: 0.9048\n",
      "Epoch 8/50\n",
      "19/19 [==============================] - 1s 50ms/step - loss: 2.1738e-04 - accuracy: 1.0000 - val_loss: 0.0158 - val_accuracy: 0.9048\n",
      "Epoch 9/50\n",
      "19/19 [==============================] - 1s 55ms/step - loss: 8.9717e-05 - accuracy: 1.0000 - val_loss: 0.0148 - val_accuracy: 0.9048\n",
      "Epoch 10/50\n",
      "19/19 [==============================] - 1s 52ms/step - loss: 1.4888e-04 - accuracy: 1.0000 - val_loss: 0.0147 - val_accuracy: 0.9048\n",
      "Epoch 11/50\n",
      "19/19 [==============================] - 1s 55ms/step - loss: 5.7768e-05 - accuracy: 1.0000 - val_loss: 0.0146 - val_accuracy: 0.9048\n",
      "Epoch 12/50\n",
      "19/19 [==============================] - 1s 50ms/step - loss: 6.0722e-05 - accuracy: 1.0000 - val_loss: 0.0150 - val_accuracy: 0.9524\n",
      "Epoch 13/50\n",
      "19/19 [==============================] - 1s 54ms/step - loss: 1.1359e-04 - accuracy: 1.0000 - val_loss: 0.0151 - val_accuracy: 0.9048\n",
      "Epoch 14/50\n",
      "19/19 [==============================] - 1s 52ms/step - loss: 1.2442e-04 - accuracy: 1.0000 - val_loss: 0.0152 - val_accuracy: 0.9524\n",
      "Epoch 15/50\n",
      "19/19 [==============================] - 1s 63ms/step - loss: 6.2367e-04 - accuracy: 1.0000 - val_loss: 0.0148 - val_accuracy: 0.9048\n",
      "Epoch 16/50\n",
      "19/19 [==============================] - 1s 58ms/step - loss: 3.1336e-04 - accuracy: 1.0000 - val_loss: 0.0150 - val_accuracy: 0.9048\n",
      "Epoch 17/50\n",
      "19/19 [==============================] - 1s 59ms/step - loss: 2.3574e-04 - accuracy: 1.0000 - val_loss: 0.0153 - val_accuracy: 0.9048\n",
      "Epoch 18/50\n",
      "19/19 [==============================] - 1s 67ms/step - loss: 9.1408e-04 - accuracy: 1.0000 - val_loss: 0.0144 - val_accuracy: 0.9048\n",
      "Epoch 19/50\n",
      "19/19 [==============================] - 1s 65ms/step - loss: 1.2193e-04 - accuracy: 1.0000 - val_loss: 0.0149 - val_accuracy: 0.9048\n",
      "Epoch 20/50\n",
      "19/19 [==============================] - 2s 80ms/step - loss: 7.0787e-05 - accuracy: 1.0000 - val_loss: 0.0149 - val_accuracy: 0.9524\n",
      "Epoch 21/50\n",
      "19/19 [==============================] - 1s 69ms/step - loss: 5.9261e-05 - accuracy: 1.0000 - val_loss: 0.0146 - val_accuracy: 0.9048\n",
      "Epoch 22/50\n",
      "19/19 [==============================] - 1s 64ms/step - loss: 1.2234e-04 - accuracy: 1.0000 - val_loss: 0.0153 - val_accuracy: 0.9048\n",
      "Epoch 23/50\n",
      "19/19 [==============================] - 1s 71ms/step - loss: 3.1458e-04 - accuracy: 1.0000 - val_loss: 0.0144 - val_accuracy: 0.9524\n",
      "Epoch 24/50\n",
      "19/19 [==============================] - 1s 74ms/step - loss: 1.9843e-04 - accuracy: 1.0000 - val_loss: 0.0147 - val_accuracy: 0.9524\n",
      "Epoch 25/50\n",
      "19/19 [==============================] - 1s 67ms/step - loss: 2.3728e-04 - accuracy: 1.0000 - val_loss: 0.0150 - val_accuracy: 0.9048\n",
      "Epoch 26/50\n",
      "19/19 [==============================] - 1s 62ms/step - loss: 2.1105e-04 - accuracy: 1.0000 - val_loss: 0.0146 - val_accuracy: 0.9524\n",
      "Epoch 27/50\n",
      "19/19 [==============================] - 1s 64ms/step - loss: 3.2405e-04 - accuracy: 1.0000 - val_loss: 0.0150 - val_accuracy: 0.9524\n",
      "Epoch 28/50\n",
      "19/19 [==============================] - 1s 59ms/step - loss: 2.3966e-04 - accuracy: 1.0000 - val_loss: 0.0152 - val_accuracy: 0.9524\n",
      "Epoch 29/50\n",
      "19/19 [==============================] - 1s 55ms/step - loss: 5.1599e-04 - accuracy: 1.0000 - val_loss: 0.0165 - val_accuracy: 0.9048\n",
      "Epoch 30/50\n",
      "19/19 [==============================] - 1s 52ms/step - loss: 0.0017 - accuracy: 1.0000 - val_loss: 0.0145 - val_accuracy: 0.9524\n",
      "Epoch 31/50\n",
      "19/19 [==============================] - 1s 53ms/step - loss: 0.0010 - accuracy: 0.9961 - val_loss: 0.0127 - val_accuracy: 1.0000\n",
      "Epoch 32/50\n",
      "19/19 [==============================] - 1s 53ms/step - loss: 0.0013 - accuracy: 0.9870 - val_loss: 0.0129 - val_accuracy: 0.9524\n",
      "Epoch 33/50\n",
      "19/19 [==============================] - 1s 53ms/step - loss: 3.4184e-04 - accuracy: 1.0000 - val_loss: 0.0125 - val_accuracy: 1.0000\n",
      "Epoch 34/50\n",
      "19/19 [==============================] - 1s 58ms/step - loss: 5.9440e-04 - accuracy: 1.0000 - val_loss: 0.0132 - val_accuracy: 0.9524\n",
      "Epoch 35/50\n",
      "19/19 [==============================] - 1s 59ms/step - loss: 4.1820e-04 - accuracy: 1.0000 - val_loss: 0.0138 - val_accuracy: 0.9524\n",
      "Epoch 36/50\n",
      "19/19 [==============================] - 1s 56ms/step - loss: 4.6168e-04 - accuracy: 1.0000 - val_loss: 0.0130 - val_accuracy: 0.9524\n",
      "Epoch 37/50\n",
      "19/19 [==============================] - 1s 56ms/step - loss: 3.6293e-04 - accuracy: 1.0000 - val_loss: 0.0153 - val_accuracy: 0.9524\n",
      "Epoch 38/50\n",
      "19/19 [==============================] - 1s 56ms/step - loss: 9.9343e-05 - accuracy: 1.0000 - val_loss: 0.0130 - val_accuracy: 0.9524\n",
      "Epoch 39/50\n",
      "19/19 [==============================] - 1s 53ms/step - loss: 1.3056e-05 - accuracy: 1.0000 - val_loss: 0.0129 - val_accuracy: 0.9524\n",
      "Epoch 40/50\n",
      "19/19 [==============================] - 1s 51ms/step - loss: 9.4079e-05 - accuracy: 1.0000 - val_loss: 0.0138 - val_accuracy: 0.9524\n",
      "Epoch 41/50\n",
      "19/19 [==============================] - 1s 56ms/step - loss: 5.3178e-05 - accuracy: 1.0000 - val_loss: 0.0113 - val_accuracy: 1.0000\n",
      "Epoch 42/50\n",
      "19/19 [==============================] - 1s 52ms/step - loss: 4.3865e-05 - accuracy: 1.0000 - val_loss: 0.0127 - val_accuracy: 0.9524\n",
      "Epoch 43/50\n",
      "19/19 [==============================] - 1s 57ms/step - loss: 2.1481e-04 - accuracy: 1.0000 - val_loss: 0.0136 - val_accuracy: 0.9524\n",
      "Epoch 44/50\n",
      "19/19 [==============================] - 1s 57ms/step - loss: 3.1391e-04 - accuracy: 1.0000 - val_loss: 0.0110 - val_accuracy: 1.0000\n",
      "Epoch 45/50\n",
      "19/19 [==============================] - 1s 61ms/step - loss: 2.1396e-04 - accuracy: 1.0000 - val_loss: 0.0140 - val_accuracy: 0.9524\n",
      "Epoch 46/50\n",
      "19/19 [==============================] - 1s 63ms/step - loss: 5.7155e-04 - accuracy: 1.0000 - val_loss: 0.0146 - val_accuracy: 0.9524\n",
      "Epoch 47/50\n",
      "19/19 [==============================] - 1s 67ms/step - loss: 2.4997e-04 - accuracy: 1.0000 - val_loss: 0.0126 - val_accuracy: 1.0000\n",
      "Epoch 48/50\n",
      "19/19 [==============================] - 1s 60ms/step - loss: 1.9708e-04 - accuracy: 1.0000 - val_loss: 0.0138 - val_accuracy: 0.9524\n",
      "Epoch 49/50\n",
      "19/19 [==============================] - 1s 57ms/step - loss: 5.6531e-05 - accuracy: 1.0000 - val_loss: 0.0118 - val_accuracy: 1.0000\n",
      "Epoch 50/50\n",
      "19/19 [==============================] - 1s 62ms/step - loss: 3.3833e-04 - accuracy: 1.0000 - val_loss: 0.0106 - val_accuracy: 1.0000\n",
      "time: 59.38322901725769\n"
     ]
    }
   ],
   "source": [
    "#定义优化\n",
    "model.compile(metrics=['accuracy'],\n",
    "              optimizer='adam',\n",
    "              loss=lambda y_true,y_pred: y_true*K.relu(0.9-y_pred)**2 + 0.25*(1-y_true)*K.relu(y_pred-0.1)**2   \n",
    "             )\n",
    "import time\n",
    "time_begin = time.time()\n",
    "history = model.fit(x_train,one_hot_train_labels,\n",
    "                    validation_split=0.1,\n",
    "                    epochs=50,batch_size=10,\n",
    "                    shuffle=True)\n",
    "time_end = time.time()\n",
    "time = time_end - time_begin\n",
    "print('time:', time)\n"
   ]
  },
  {
   "cell_type": "code",
   "execution_count": 8,
   "metadata": {},
   "outputs": [
    {
     "name": "stdout",
     "output_type": "stream",
     "text": [
      "Test loss: 0.014359557069838047\n",
      "Test accuracy: 0.9615384340286255\n"
     ]
    }
   ],
   "source": [
    "score = model.evaluate(x_test,one_hot_test_labels, verbose=0)\n",
    "print('Test loss:', score[0])\n",
    "print('Test accuracy:', score[1])"
   ]
  },
  {
   "cell_type": "code",
   "execution_count": 9,
   "metadata": {
    "scrolled": true
   },
   "outputs": [
    {
     "data": {
      "image/png": "[encoded data removed]",
      "text/plain": [
       "<Figure size 432x288 with 1 Axes>"
      ]
     },
     "metadata": {
      "needs_background": "light"
     },
     "output_type": "display_data"
    }
   ],
   "source": [
    "#绘制acc-loss曲线\n",
    "import matplotlib.pyplot as plt\n",
    "\n",
    "plt.plot(history.history['loss'],color='r')\n",
    "plt.plot(history.history['val_loss'],color='g')\n",
    "plt.plot(history.history['accuracy'],color='b')\n",
    "plt.plot(history.history['val_accuracy'],color='k')\n",
    "plt.title('model loss and acc')\n",
    "plt.ylabel('Accuracy')\n",
    "plt.xlabel('epoch')\n",
    "plt.legend(['train_loss', 'test_loss','train_acc', 'test_acc'], loc='upper left')\n",
    "# plt.legend(['train_loss','train_acc'], loc='upper left')\n",
    "#plt.savefig('1.png')\n",
    "plt.show()"
   ]
  },
  {
   "cell_type": "code",
   "execution_count": 10,
   "metadata": {
    "scrolled": true
   },
   "outputs": [
    {
     "data": {
      "image/png": "[encoded data removed]",
      "text/plain": [
       "<Figure size 432x288 with 1 Axes>"
      ]
     },
     "metadata": {
      "needs_background": "light"
     },
     "output_type": "display_data"
    }
   ],
   "source": [
    "import matplotlib.pyplot as plt\n",
    "\n",
    "plt.plot(history.history['loss'],color='r')\n",
    "plt.plot(history.history['accuracy'],color='b')\n",
    "plt.title('model loss and sccuracy ')\n",
    "plt.ylabel('loss/sccuracy')\n",
    "plt.xlabel('epoch')\n",
    "plt.legend(['train_loss', 'train_sccuracy'], loc='upper left')\n",
    "plt.show()"
   ]
  },
  {
   "cell_type": "code",
   "execution_count": null,
   "metadata": {},
   "outputs": [],
   "source": []
  },
  {
   "cell_type": "code",
   "execution_count": null,
   "metadata": {},
   "outputs": [],
   "source": []
  }
 ],
 "metadata": {
  "kernelspec": {
   "display_name": "Python 3",
   "language": "python",
   "name": "python3"
  },
  "language_info": {
   "codemirror_mode": {
    "name": "ipython",
    "version": 3
   },
   "file_extension": ".py",
   "mimetype": "text/x-python",
   "name": "python",
   "nbconvert_exporter": "python",
   "pygments_lexer": "ipython3",
   "version": "3.8.5"
  }
 },
 "nbformat": 4,
 "nbformat_minor": 4
}
