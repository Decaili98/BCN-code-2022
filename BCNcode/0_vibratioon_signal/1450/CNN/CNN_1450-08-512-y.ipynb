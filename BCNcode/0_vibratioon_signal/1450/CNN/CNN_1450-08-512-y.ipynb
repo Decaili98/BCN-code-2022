{
 "cells": [
  {
   "cell_type": "code",
   "execution_count": 1,
   "metadata": {},
   "outputs": [],
   "source": [
    "from tensorflow import keras\n",
    "from tensorflow.keras import *\n",
    "from tensorflow.keras.models import *\n",
    "from tensorflow.keras.layers import *\n",
    "from tensorflow.keras.regularizers import l2#正则化L2\n",
    "import tensorflow as tf\n",
    "import numpy as np\n",
    "import pandas as pd"
   ]
  },
  {
   "cell_type": "code",
   "execution_count": 2,
   "metadata": {},
   "outputs": [
    {
     "name": "stdout",
     "output_type": "stream",
     "text": [
      "(22, 32768) (22, 32768) ***************************************************\n",
      "(2, 32768) (2, 32768)\n",
      "[[ 0.44295   -0.16001    0.34986   ... -0.41652   -0.37092   -1.336    ]\n",
      " [-0.2326     1.491     -0.18399   ...  1.4395    -0.0042269  0.33185  ]] \r\n",
      " [[-1.0162   3.1821  -0.95812 ...  0.49205  1.2232  -1.7624 ]\n",
      " [ 0.41314 -2.2372  -1.242   ...  2.754    1.6787   1.5887 ]] ***************************************************\n",
      "(1, 65536) (1, 65536)\n",
      "[[ 0.44295   -0.16001    0.34986   ...  1.4395    -0.0042269  0.33185  ]] \r\n",
      " [[-1.0162   3.1821  -0.95812 ...  2.754    1.6787   1.5887 ]] ***************************************************\n"
     ]
    }
   ],
   "source": [
    "# 12-0.2\n",
    "# 13-2.4\n",
    "# 18-12.14\n",
    "import pandas as pd\n",
    "import numpy as np\n",
    "normal = np.loadtxt(r'F:\\张老师课题学习内容\\code\\数据集\\试验数据(包括压力脉动和振动)\\2013.9.12-未发生缠绕前\\2013-9.12振动\\2013-9-12振动-1450rmin-mat\\1450r_normalviby.txt', delimiter=',')\n",
    "chanrao = np.loadtxt(r'F:\\张老师课题学习内容\\code\\数据集\\试验数据(包括压力脉动和振动)\\2013.9.17-发生缠绕后\\振动\\9-17下午振动1450rmin-mat\\1450r_chanraoviby.txt', delimiter=',')\n",
    "print(normal.shape,chanrao.shape,\"***************************************************\")\n",
    "data_normal=normal[14:16]   #提取前两行\n",
    "data_chanrao=chanrao[14:16]   #提取前两行\n",
    "print(data_normal.shape,data_chanrao.shape)\n",
    "print(data_normal,\"\\r\\n\",data_chanrao,\"***************************************************\")\n",
    "data_normal=data_normal.reshape(1,-1)\n",
    "data_chanrao=data_chanrao.reshape(1,-1)\n",
    "print(data_normal.shape,data_chanrao.shape)\n",
    "print(data_normal,\"\\r\\n\",data_chanrao,\"***************************************************\")"
   ]
  },
  {
   "cell_type": "code",
   "execution_count": 3,
   "metadata": {},
   "outputs": [
    {
     "name": "stdout",
     "output_type": "stream",
     "text": [
      "(128, 512) (128, 512)\n"
     ]
    }
   ],
   "source": [
    "#水泵的两种故障类型信号normal正常，chanrao故障\n",
    "data_normal=data_normal.reshape(-1, 512)#(65536,1)-(128, 515)\n",
    "data_chanrao=data_chanrao.reshape(-1,512)\n",
    "print(data_normal.shape,data_chanrao.shape)\n"
   ]
  },
  {
   "cell_type": "code",
   "execution_count": 4,
   "metadata": {},
   "outputs": [
    {
     "name": "stdout",
     "output_type": "stream",
     "text": [
      "(204, 512, 1) (52, 512, 1)\n"
     ]
    }
   ],
   "source": [
    "import numpy as np\n",
    "def yuchuli(data,label):#(4:1)(51:13)\n",
    "    #打乱数据顺序\n",
    "    np.random.shuffle(data)\n",
    "    train = data[0:102,:]\n",
    "    test = data[102:128,:]\n",
    "    label_train = np.array([label for i in range(0,102)])\n",
    "    label_test =np.array([label for i in range(0,26)])\n",
    "    return train,test ,label_train ,label_test\n",
    "def stackkk(a,b,c,d,e,f,g,h):\n",
    "    aa = np.vstack((a, e))\n",
    "    bb = np.vstack((b, f))\n",
    "    cc = np.hstack((c, g))\n",
    "    dd = np.hstack((d, h))\n",
    "    return aa,bb,cc,dd\n",
    "x_tra0,x_tes0,y_tra0,y_tes0 = yuchuli(data_normal,0)\n",
    "x_tra1,x_tes1,y_tra1,y_tes1 = yuchuli(data_chanrao,1)\n",
    "tr1,te1,yr1,ye1=stackkk(x_tra0,x_tes0,y_tra0,y_tes0 ,x_tra1,x_tes1,y_tra1,y_tes1)\n",
    "\n",
    "x_train=tr1\n",
    "x_test=te1\n",
    "y_train = yr1\n",
    "y_test = ye1\n",
    "\n",
    "#打乱数据\n",
    "state = np.random.get_state()\n",
    "np.random.shuffle(x_train)\n",
    "np.random.set_state(state)\n",
    "np.random.shuffle(y_train)\n",
    "\n",
    "state = np.random.get_state()\n",
    "np.random.shuffle(x_test)\n",
    "np.random.set_state(state)\n",
    "np.random.shuffle(y_test)\n",
    "\n",
    "\n",
    "#对训练集和测试集标准化\n",
    "def ZscoreNormalization(x):\n",
    "    \"\"\"Z-score normaliaztion\"\"\"\n",
    "    x = (x - np.mean(x)) / np.std(x)\n",
    "    return x\n",
    "x_train=ZscoreNormalization(x_train)\n",
    "x_test=ZscoreNormalization(x_test)\n",
    "# print(x_test[0])\n",
    "\n",
    "\n",
    "#转化为一维序列\n",
    "x_train = x_train.reshape(-1,512,1)\n",
    "x_test = x_test.reshape(-1,512,1)\n",
    "print(x_train.shape,x_test.shape)\n",
    "\n",
    "def to_one_hot(labels,dimension=2):\n",
    "    results = np.zeros((len(labels),dimension))\n",
    "    for i,label in enumerate(labels):\n",
    "        results[i,label] = 1\n",
    "    return results\n",
    "one_hot_train_labels = to_one_hot(y_train)\n",
    "one_hot_test_labels = to_one_hot(y_test)\n"
   ]
  },
  {
   "cell_type": "code",
   "execution_count": 5,
   "metadata": {
    "scrolled": true
   },
   "outputs": [
    {
     "name": "stdout",
     "output_type": "stream",
     "text": [
      "Model: \"model\"\n",
      "_________________________________________________________________\n",
      "Layer (type)                 Output Shape              Param #   \n",
      "=================================================================\n",
      "input_1 (InputLayer)         [(None, 512, 1, 1)]       0         \n",
      "_________________________________________________________________\n",
      "conv1 (Conv2D)               (None, 511, 1, 16)        48        \n",
      "_________________________________________________________________\n",
      "max_pooling2d (MaxPooling2D) (None, 255, 1, 16)        0         \n",
      "_________________________________________________________________\n",
      "conv2 (Conv2D)               (None, 254, 1, 32)        1056      \n",
      "_________________________________________________________________\n",
      "max_pooling2d_1 (MaxPooling2 (None, 127, 1, 32)        0         \n",
      "_________________________________________________________________\n",
      "dropout (Dropout)            (None, 127, 1, 32)        0         \n",
      "_________________________________________________________________\n",
      "flatten (Flatten)            (None, 4064)              0         \n",
      "_________________________________________________________________\n",
      "dense (Dense)                (None, 50)                203250    \n",
      "_________________________________________________________________\n",
      "dense_1 (Dense)              (None, 2)                 102       \n",
      "=================================================================\n",
      "Total params: 204,456\n",
      "Trainable params: 204,456\n",
      "Non-trainable params: 0\n",
      "_________________________________________________________________\n"
     ]
    }
   ],
   "source": [
    "x = layers.Input(shape=[512,1,1])\n",
    "#普通卷积层\n",
    "conv1 = layers.Conv2D(filters=16, kernel_size=(2, 1),  activation='relu',padding='valid',name='conv1')(x)\n",
    "#池化层\n",
    "POOL1 = MaxPooling2D((2,1))(conv1)\n",
    "#普通卷积层\n",
    "conv2 = layers.Conv2D(filters=32, kernel_size=(2, 1), activation='relu',padding='valid',name='conv2')(POOL1)\n",
    "#池化层\n",
    "POOL2 = MaxPooling2D((2,1))(conv2)\n",
    "#Dropout层\n",
    "Dropout=layers.Dropout(0.1)(POOL2 )\n",
    "Flatten=layers.Flatten()(Dropout)\n",
    "#全连接层\n",
    "Dense1=layers.Dense(50, activation='relu')(Flatten)\n",
    "Dense2=layers.Dense(2, activation='softmax')(Dense1)\n",
    "model = keras.Model(x, Dense2)    \n",
    "model.summary() "
   ]
  },
  {
   "cell_type": "code",
   "execution_count": 6,
   "metadata": {},
   "outputs": [],
   "source": [
    "\n",
    "#定义优化\n",
    "model.compile(loss='categorical_crossentropy',\n",
    "              optimizer='adam',metrics=['accuracy']) "
   ]
  },
  {
   "cell_type": "code",
   "execution_count": 7,
   "metadata": {
    "scrolled": true
   },
   "outputs": [
    {
     "name": "stdout",
     "output_type": "stream",
     "text": [
      "Epoch 1/50\n",
      "19/19 [==============================] - 2s 52ms/step - loss: 0.7558 - accuracy: 0.4409 - val_loss: 0.7135 - val_accuracy: 0.4762\n",
      "Epoch 2/50\n",
      "19/19 [==============================] - 0s 6ms/step - loss: 0.6570 - accuracy: 0.5530 - val_loss: 0.6780 - val_accuracy: 0.5714\n",
      "Epoch 3/50\n",
      "19/19 [==============================] - 0s 6ms/step - loss: 0.5643 - accuracy: 0.8315 - val_loss: 0.6608 - val_accuracy: 0.6667\n",
      "Epoch 4/50\n",
      "19/19 [==============================] - 0s 7ms/step - loss: 0.4556 - accuracy: 0.8787 - val_loss: 0.6119 - val_accuracy: 0.7619\n",
      "Epoch 5/50\n",
      "19/19 [==============================] - 0s 6ms/step - loss: 0.2468 - accuracy: 0.9773 - val_loss: 0.5785 - val_accuracy: 0.6190\n",
      "Epoch 6/50\n",
      "19/19 [==============================] - 0s 6ms/step - loss: 0.1795 - accuracy: 0.9758 - val_loss: 1.0218 - val_accuracy: 0.5238\n",
      "Epoch 7/50\n",
      "19/19 [==============================] - 0s 7ms/step - loss: 0.1932 - accuracy: 0.9449 - val_loss: 0.7537 - val_accuracy: 0.6190\n",
      "Epoch 8/50\n",
      "19/19 [==============================] - 0s 7ms/step - loss: 0.0866 - accuracy: 0.9820 - val_loss: 0.5224 - val_accuracy: 0.7619\n",
      "Epoch 9/50\n",
      "19/19 [==============================] - 0s 7ms/step - loss: 0.0367 - accuracy: 1.0000 - val_loss: 0.4573 - val_accuracy: 0.7619\n",
      "Epoch 10/50\n",
      "19/19 [==============================] - 0s 7ms/step - loss: 0.0487 - accuracy: 0.9934 - val_loss: 0.5293 - val_accuracy: 0.6190\n",
      "Epoch 11/50\n",
      "19/19 [==============================] - 0s 7ms/step - loss: 0.0177 - accuracy: 1.0000 - val_loss: 0.5412 - val_accuracy: 0.6667\n",
      "Epoch 12/50\n",
      "19/19 [==============================] - 0s 9ms/step - loss: 0.0133 - accuracy: 1.0000 - val_loss: 0.4553 - val_accuracy: 0.7619\n",
      "Epoch 13/50\n",
      "19/19 [==============================] - 0s 9ms/step - loss: 0.0108 - accuracy: 1.0000 - val_loss: 0.4634 - val_accuracy: 0.7143\n",
      "Epoch 14/50\n",
      "19/19 [==============================] - 0s 9ms/step - loss: 0.0087 - accuracy: 1.0000 - val_loss: 0.4511 - val_accuracy: 0.7619\n",
      "Epoch 15/50\n",
      "19/19 [==============================] - 0s 9ms/step - loss: 0.0059 - accuracy: 1.0000 - val_loss: 0.4427 - val_accuracy: 0.7619\n",
      "Epoch 16/50\n",
      "19/19 [==============================] - 0s 9ms/step - loss: 0.0054 - accuracy: 1.0000 - val_loss: 0.4474 - val_accuracy: 0.7143\n",
      "Epoch 17/50\n",
      "19/19 [==============================] - 0s 7ms/step - loss: 0.0050 - accuracy: 1.0000 - val_loss: 0.4586 - val_accuracy: 0.7619\n",
      "Epoch 18/50\n",
      "19/19 [==============================] - 0s 7ms/step - loss: 0.0038 - accuracy: 1.0000 - val_loss: 0.4459 - val_accuracy: 0.7143\n",
      "Epoch 19/50\n",
      "19/19 [==============================] - 0s 6ms/step - loss: 0.0037 - accuracy: 1.0000 - val_loss: 0.4473 - val_accuracy: 0.7619\n",
      "Epoch 20/50\n",
      "19/19 [==============================] - 0s 8ms/step - loss: 0.0040 - accuracy: 1.0000 - val_loss: 0.4480 - val_accuracy: 0.7619\n",
      "Epoch 21/50\n",
      "19/19 [==============================] - 0s 8ms/step - loss: 0.0031 - accuracy: 1.0000 - val_loss: 0.4532 - val_accuracy: 0.7619\n",
      "Epoch 22/50\n",
      "19/19 [==============================] - 0s 9ms/step - loss: 0.0028 - accuracy: 1.0000 - val_loss: 0.4648 - val_accuracy: 0.7619\n",
      "Epoch 23/50\n",
      "19/19 [==============================] - 0s 8ms/step - loss: 0.0026 - accuracy: 1.0000 - val_loss: 0.4880 - val_accuracy: 0.6667\n",
      "Epoch 24/50\n",
      "19/19 [==============================] - 0s 7ms/step - loss: 0.0025 - accuracy: 1.0000 - val_loss: 0.4737 - val_accuracy: 0.7143\n",
      "Epoch 25/50\n",
      "19/19 [==============================] - 0s 7ms/step - loss: 0.0023 - accuracy: 1.0000 - val_loss: 0.4667 - val_accuracy: 0.7143\n",
      "Epoch 26/50\n",
      "19/19 [==============================] - 0s 7ms/step - loss: 0.0019 - accuracy: 1.0000 - val_loss: 0.4668 - val_accuracy: 0.7619\n",
      "Epoch 27/50\n",
      "19/19 [==============================] - 0s 8ms/step - loss: 0.0017 - accuracy: 1.0000 - val_loss: 0.4673 - val_accuracy: 0.7619\n",
      "Epoch 28/50\n",
      "19/19 [==============================] - 0s 9ms/step - loss: 0.0015 - accuracy: 1.0000 - val_loss: 0.4698 - val_accuracy: 0.7143\n",
      "Epoch 29/50\n",
      "19/19 [==============================] - 0s 8ms/step - loss: 0.0016 - accuracy: 1.0000 - val_loss: 0.4723 - val_accuracy: 0.7619\n",
      "Epoch 30/50\n",
      "19/19 [==============================] - 0s 9ms/step - loss: 0.0012 - accuracy: 1.0000 - val_loss: 0.4706 - val_accuracy: 0.7143\n",
      "Epoch 31/50\n",
      "19/19 [==============================] - 0s 9ms/step - loss: 0.0011 - accuracy: 1.0000 - val_loss: 0.4708 - val_accuracy: 0.7143\n",
      "Epoch 32/50\n",
      "19/19 [==============================] - 0s 10ms/step - loss: 0.0013 - accuracy: 1.0000 - val_loss: 0.4724 - val_accuracy: 0.7143\n",
      "Epoch 33/50\n",
      "19/19 [==============================] - 0s 8ms/step - loss: 9.9723e-04 - accuracy: 1.0000 - val_loss: 0.4781 - val_accuracy: 0.8095\n",
      "Epoch 34/50\n",
      "19/19 [==============================] - 0s 9ms/step - loss: 0.0012 - accuracy: 1.0000 - val_loss: 0.4732 - val_accuracy: 0.7143\n",
      "Epoch 35/50\n",
      "19/19 [==============================] - 0s 10ms/step - loss: 9.5269e-04 - accuracy: 1.0000 - val_loss: 0.4735 - val_accuracy: 0.8095\n",
      "Epoch 36/50\n",
      "19/19 [==============================] - 0s 10ms/step - loss: 9.0178e-04 - accuracy: 1.0000 - val_loss: 0.4752 - val_accuracy: 0.7143\n",
      "Epoch 37/50\n",
      "19/19 [==============================] - 0s 9ms/step - loss: 8.7160e-04 - accuracy: 1.0000 - val_loss: 0.4785 - val_accuracy: 0.7143\n",
      "Epoch 38/50\n",
      "19/19 [==============================] - 0s 9ms/step - loss: 7.3797e-04 - accuracy: 1.0000 - val_loss: 0.4790 - val_accuracy: 0.8095\n",
      "Epoch 39/50\n",
      "19/19 [==============================] - 0s 8ms/step - loss: 5.7899e-04 - accuracy: 1.0000 - val_loss: 0.4812 - val_accuracy: 0.7143\n",
      "Epoch 40/50\n",
      "19/19 [==============================] - 0s 8ms/step - loss: 7.4086e-04 - accuracy: 1.0000 - val_loss: 0.4804 - val_accuracy: 0.7619\n",
      "Epoch 41/50\n",
      "19/19 [==============================] - 0s 8ms/step - loss: 4.9199e-04 - accuracy: 1.0000 - val_loss: 0.4809 - val_accuracy: 0.7143\n",
      "Epoch 42/50\n",
      "19/19 [==============================] - 0s 9ms/step - loss: 5.3441e-04 - accuracy: 1.0000 - val_loss: 0.4818 - val_accuracy: 0.7143\n",
      "Epoch 43/50\n",
      "19/19 [==============================] - 0s 8ms/step - loss: 4.4112e-04 - accuracy: 1.0000 - val_loss: 0.4828 - val_accuracy: 0.7143\n",
      "Epoch 44/50\n",
      "19/19 [==============================] - 0s 9ms/step - loss: 4.0504e-04 - accuracy: 1.0000 - val_loss: 0.4829 - val_accuracy: 0.7619\n",
      "Epoch 45/50\n",
      "19/19 [==============================] - 0s 8ms/step - loss: 4.1157e-04 - accuracy: 1.0000 - val_loss: 0.5263 - val_accuracy: 0.7143\n",
      "Epoch 46/50\n",
      "19/19 [==============================] - 0s 8ms/step - loss: 7.2589e-04 - accuracy: 1.0000 - val_loss: 0.4889 - val_accuracy: 0.7619\n",
      "Epoch 47/50\n",
      "19/19 [==============================] - 0s 8ms/step - loss: 4.9902e-04 - accuracy: 1.0000 - val_loss: 0.4897 - val_accuracy: 0.7619\n",
      "Epoch 48/50\n",
      "19/19 [==============================] - 0s 11ms/step - loss: 3.7116e-04 - accuracy: 1.0000 - val_loss: 0.4909 - val_accuracy: 0.7619\n",
      "Epoch 49/50\n",
      "19/19 [==============================] - 0s 10ms/step - loss: 2.7111e-04 - accuracy: 1.0000 - val_loss: 0.5064 - val_accuracy: 0.7143\n",
      "Epoch 50/50\n",
      "19/19 [==============================] - 0s 9ms/step - loss: 3.5838e-04 - accuracy: 1.0000 - val_loss: 0.4916 - val_accuracy: 0.7619\n",
      "time: 9.401565551757812\n"
     ]
    }
   ],
   "source": [
    "import time\n",
    "time_begin = time.time()\n",
    "history = model.fit(x_train,one_hot_train_labels,\n",
    "                    validation_split=0.1,\n",
    "                    epochs=50,batch_size=10,\n",
    "                    shuffle=True)\n",
    "time_end = time.time()\n",
    "time = time_end - time_begin\n",
    "print('time:', time)"
   ]
  },
  {
   "cell_type": "code",
   "execution_count": 8,
   "metadata": {},
   "outputs": [
    {
     "name": "stdout",
     "output_type": "stream",
     "text": [
      "Test loss: 0.4297027289867401\n",
      "Test accuracy: 0.807692289352417\n",
      "time: 0.09275937080383301\n"
     ]
    }
   ],
   "source": [
    "import time\n",
    "time_begin = time.time()\n",
    "score = model.evaluate(x_test,one_hot_test_labels, verbose=0)\n",
    "print('Test loss:', score[0])\n",
    "print('Test accuracy:', score[1])\n",
    " \n",
    "time_end = time.time()\n",
    "time = time_end - time_begin\n",
    "print('time:', time)"
   ]
  },
  {
   "cell_type": "code",
   "execution_count": 9,
   "metadata": {},
   "outputs": [
    {
     "data": {
      "image/png": "[encoded data removed]",
      "text/plain": [
       "<Figure size 432x288 with 1 Axes>"
      ]
     },
     "metadata": {
      "needs_background": "light"
     },
     "output_type": "display_data"
    }
   ],
   "source": [
    "#绘制acc-loss曲线\n",
    "import matplotlib.pyplot as plt\n",
    "\n",
    "plt.plot(history.history['loss'],color='r')\n",
    "plt.plot(history.history['val_loss'],color='g')\n",
    "plt.plot(history.history['accuracy'],color='b')\n",
    "plt.plot(history.history['val_accuracy'],color='k')\n",
    "plt.title('model loss and acc')\n",
    "plt.ylabel('Accuracy')\n",
    "plt.xlabel('epoch')\n",
    "plt.legend(['train_loss', 'test_loss','train_acc', 'test_acc'], loc='center right')\n",
    "# plt.legend(['train_loss','train_acc'], loc='upper left')\n",
    "#plt.savefig('1.png')\n",
    "plt.show()"
   ]
  },
  {
   "cell_type": "code",
   "execution_count": 10,
   "metadata": {},
   "outputs": [
    {
     "data": {
      "image/png": "[encoded data removed]",
      "text/plain": [
       "<Figure size 432x288 with 1 Axes>"
      ]
     },
     "metadata": {
      "needs_background": "light"
     },
     "output_type": "display_data"
    }
   ],
   "source": [
    "import matplotlib.pyplot as plt\n",
    "\n",
    "plt.plot(history.history['loss'],color='r')\n",
    "plt.plot(history.history['accuracy'],color='b')\n",
    "plt.title('model loss and sccuracy ')\n",
    "plt.ylabel('loss/sccuracy')\n",
    "plt.xlabel('epoch')\n",
    "plt.legend(['train_loss', 'train_sccuracy'], loc='center right')\n",
    "plt.show()"
   ]
  },
  {
   "cell_type": "code",
   "execution_count": null,
   "metadata": {},
   "outputs": [],
   "source": []
  },
  {
   "cell_type": "code",
   "execution_count": null,
   "metadata": {},
   "outputs": [],
   "source": []
  }
 ],
 "metadata": {
  "kernelspec": {
   "display_name": "Python 3",
   "language": "python",
   "name": "python3"
  },
  "language_info": {
   "codemirror_mode": {
    "name": "ipython",
    "version": 3
   },
   "file_extension": ".py",
   "mimetype": "text/x-python",
   "name": "python",
   "nbconvert_exporter": "python",
   "pygments_lexer": "ipython3",
   "version": "3.8.5"
  }
 },
 "nbformat": 4,
 "nbformat_minor": 2
}
