{
 "cells": [
  {
   "cell_type": "code",
   "execution_count": 1,
   "metadata": {},
   "outputs": [],
   "source": [
    "from tensorflow import keras\n",
    "from tensorflow.keras import *\n",
    "from tensorflow.keras.models import *\n",
    "from tensorflow.keras.layers import *\n",
    "from tensorflow.keras.regularizers import l2#正则化L2\n",
    "import tensorflow as tf\n",
    "import numpy as np\n",
    "import pandas as pd"
   ]
  },
  {
   "cell_type": "code",
   "execution_count": 2,
   "metadata": {},
   "outputs": [
    {
     "name": "stdout",
     "output_type": "stream",
     "text": [
      "(22, 32768) (22, 32768) ***************************************************\n",
      "(2, 32768) (2, 32768)\n",
      "[[ 1.3019  -1.4857   0.17466 ...  0.99471  0.31638  0.35524]\n",
      " [ 0.91259 -0.58925 -0.75321 ... -2.713    0.11026  0.08035]] \r\n",
      " [[ 2.4738   1.067    2.6707  ...  0.17386 -0.41222 -1.9366 ]\n",
      " [ 3.771    0.5142   0.51687 ...  1.3231  -0.84389  0.82212]] ***************************************************\n",
      "(1, 65536) (1, 65536)\n",
      "[[ 1.3019  -1.4857   0.17466 ... -2.713    0.11026  0.08035]] \r\n",
      " [[ 2.4738   1.067    2.6707  ...  1.3231  -0.84389  0.82212]] ***************************************************\n"
     ]
    }
   ],
   "source": [
    "# 12-0.2\n",
    "# 13-2.4\n",
    "# 18-12.14\n",
    "import pandas as pd\n",
    "import numpy as np\n",
    "normal = np.loadtxt(r'F:\\data_all\\试验数据(包括压力脉动和振动)\\2013.9.12-未发生缠绕前\\2013-9.12振动\\2013-9-12振动-1450rmin-mat\\1450r_normalvib4.txt', delimiter=',')\n",
    "chanrao = np.loadtxt(r'F:\\data_all\\试验数据(包括压力脉动和振动)\\2013.9.17-发生缠绕后\\振动\\9-17下午振动1450rmin-mat\\1450r_chanraovib4.txt', delimiter=',')\n",
    "print(normal.shape,chanrao.shape,\"***************************************************\")\n",
    "data_normal=normal[8:10]   #提取前两行\n",
    "data_chanrao=chanrao[8:10]   #提取前两行\n",
    "print(data_normal.shape,data_chanrao.shape)\n",
    "print(data_normal,\"\\r\\n\",data_chanrao,\"***************************************************\")\n",
    "data_normal=data_normal.reshape(1,-1)\n",
    "data_chanrao=data_chanrao.reshape(1,-1)\n",
    "print(data_normal.shape,data_chanrao.shape)\n",
    "print(data_normal,\"\\r\\n\",data_chanrao,\"***************************************************\")"
   ]
  },
  {
   "cell_type": "code",
   "execution_count": 3,
   "metadata": {},
   "outputs": [
    {
     "name": "stdout",
     "output_type": "stream",
     "text": [
      "(128, 512) (128, 512)\n"
     ]
    }
   ],
   "source": [
    "#水泵的两种故障类型信号normal正常，chanrao故障\n",
    "data_normal=data_normal.reshape(-1, 512)#(65536,1)-(128, 515)\n",
    "data_chanrao=data_chanrao.reshape(-1,512)\n",
    "print(data_normal.shape,data_chanrao.shape)\n"
   ]
  },
  {
   "cell_type": "code",
   "execution_count": 4,
   "metadata": {},
   "outputs": [
    {
     "name": "stdout",
     "output_type": "stream",
     "text": [
      "(204, 512, 1) (52, 512, 1)\n"
     ]
    }
   ],
   "source": [
    "import numpy as np\n",
    "def yuchuli(data,label):#(4:1)(51:13)\n",
    "    #打乱数据顺序\n",
    "    np.random.shuffle(data)\n",
    "    train = data[0:102,:]\n",
    "    test = data[102:128,:]\n",
    "    label_train = np.array([label for i in range(0,102)])\n",
    "    label_test =np.array([label for i in range(0,26)])\n",
    "    return train,test ,label_train ,label_test\n",
    "def stackkk(a,b,c,d,e,f,g,h):\n",
    "    aa = np.vstack((a, e))\n",
    "    bb = np.vstack((b, f))\n",
    "    cc = np.hstack((c, g))\n",
    "    dd = np.hstack((d, h))\n",
    "    return aa,bb,cc,dd\n",
    "x_tra0,x_tes0,y_tra0,y_tes0 = yuchuli(data_normal,0)\n",
    "x_tra1,x_tes1,y_tra1,y_tes1 = yuchuli(data_chanrao,1)\n",
    "tr1,te1,yr1,ye1=stackkk(x_tra0,x_tes0,y_tra0,y_tes0 ,x_tra1,x_tes1,y_tra1,y_tes1)\n",
    "\n",
    "x_train=tr1\n",
    "x_test=te1\n",
    "y_train = yr1\n",
    "y_test = ye1\n",
    "\n",
    "#打乱数据\n",
    "state = np.random.get_state()\n",
    "np.random.shuffle(x_train)\n",
    "np.random.set_state(state)\n",
    "np.random.shuffle(y_train)\n",
    "\n",
    "state = np.random.get_state()\n",
    "np.random.shuffle(x_test)\n",
    "np.random.set_state(state)\n",
    "np.random.shuffle(y_test)\n",
    "\n",
    "\n",
    "#对训练集和测试集标准化\n",
    "def ZscoreNormalization(x):\n",
    "    \"\"\"Z-score normaliaztion\"\"\"\n",
    "    x = (x - np.mean(x)) / np.std(x)\n",
    "    return x\n",
    "x_train=ZscoreNormalization(x_train)\n",
    "x_test=ZscoreNormalization(x_test)\n",
    "# print(x_test[0])\n",
    "\n",
    "\n",
    "#转化为一维序列\n",
    "x_train = x_train.reshape(-1,512,1)\n",
    "x_test = x_test.reshape(-1,512,1)\n",
    "print(x_train.shape,x_test.shape)\n",
    "\n",
    "def to_one_hot(labels,dimension=2):\n",
    "    results = np.zeros((len(labels),dimension))\n",
    "    for i,label in enumerate(labels):\n",
    "        results[i,label] = 1\n",
    "    return results\n",
    "one_hot_train_labels = to_one_hot(y_train)\n",
    "one_hot_test_labels = to_one_hot(y_test)\n"
   ]
  },
  {
   "cell_type": "code",
   "execution_count": 5,
   "metadata": {
    "scrolled": true
   },
   "outputs": [
    {
     "name": "stdout",
     "output_type": "stream",
     "text": [
      "Model: \"model\"\n",
      "_________________________________________________________________\n",
      "Layer (type)                 Output Shape              Param #   \n",
      "=================================================================\n",
      "input_1 (InputLayer)         [(None, 512, 1, 1)]       0         \n",
      "_________________________________________________________________\n",
      "conv1 (Conv2D)               (None, 511, 1, 16)        48        \n",
      "_________________________________________________________________\n",
      "max_pooling2d (MaxPooling2D) (None, 255, 1, 16)        0         \n",
      "_________________________________________________________________\n",
      "conv2 (Conv2D)               (None, 254, 1, 32)        1056      \n",
      "_________________________________________________________________\n",
      "max_pooling2d_1 (MaxPooling2 (None, 127, 1, 32)        0         \n",
      "_________________________________________________________________\n",
      "dropout (Dropout)            (None, 127, 1, 32)        0         \n",
      "_________________________________________________________________\n",
      "flatten (Flatten)            (None, 4064)              0         \n",
      "_________________________________________________________________\n",
      "dense (Dense)                (None, 50)                203250    \n",
      "_________________________________________________________________\n",
      "dense_1 (Dense)              (None, 2)                 102       \n",
      "=================================================================\n",
      "Total params: 204,456\n",
      "Trainable params: 204,456\n",
      "Non-trainable params: 0\n",
      "_________________________________________________________________\n"
     ]
    }
   ],
   "source": [
    "x = layers.Input(shape=[512,1,1])\n",
    "#普通卷积层\n",
    "conv1 = layers.Conv2D(filters=16, kernel_size=(2, 1),  activation='relu',padding='valid',name='conv1')(x)\n",
    "#池化层\n",
    "POOL1 = MaxPooling2D((2,1))(conv1)\n",
    "#普通卷积层\n",
    "conv2 = layers.Conv2D(filters=32, kernel_size=(2, 1), activation='relu',padding='valid',name='conv2')(POOL1)\n",
    "#池化层\n",
    "POOL2 = MaxPooling2D((2,1))(conv2)\n",
    "#Dropout层\n",
    "Dropout=layers.Dropout(0.1)(POOL2 )\n",
    "Flatten=layers.Flatten()(Dropout)\n",
    "#全连接层\n",
    "Dense1=layers.Dense(50, activation='relu')(Flatten)\n",
    "Dense2=layers.Dense(2, activation='softmax')(Dense1)\n",
    "model = keras.Model(x, Dense2)    \n",
    "model.summary() "
   ]
  },
  {
   "cell_type": "code",
   "execution_count": 6,
   "metadata": {},
   "outputs": [],
   "source": [
    "\n",
    "#定义优化\n",
    "model.compile(loss='categorical_crossentropy',\n",
    "              optimizer='adam',metrics=['accuracy']) "
   ]
  },
  {
   "cell_type": "code",
   "execution_count": 7,
   "metadata": {
    "scrolled": true
   },
   "outputs": [
    {
     "name": "stdout",
     "output_type": "stream",
     "text": [
      "Epoch 1/50\n",
      "19/19 [==============================] - 1s 47ms/step - loss: 0.9610 - accuracy: 0.4476 - val_loss: 0.6855 - val_accuracy: 0.6190\n",
      "Epoch 2/50\n",
      "19/19 [==============================] - 0s 7ms/step - loss: 0.6913 - accuracy: 0.5242 - val_loss: 0.6927 - val_accuracy: 0.6190\n",
      "Epoch 3/50\n",
      "19/19 [==============================] - 0s 6ms/step - loss: 0.6904 - accuracy: 0.5269 - val_loss: 0.6902 - val_accuracy: 0.6190\n",
      "Epoch 4/50\n",
      "19/19 [==============================] - 0s 6ms/step - loss: 0.6878 - accuracy: 0.6931 - val_loss: 0.6913 - val_accuracy: 0.6190\n",
      "Epoch 5/50\n",
      "19/19 [==============================] - 0s 6ms/step - loss: 0.6862 - accuracy: 0.7748 - val_loss: 0.6841 - val_accuracy: 0.6190\n",
      "Epoch 6/50\n",
      "19/19 [==============================] - 0s 7ms/step - loss: 0.6821 - accuracy: 0.7148 - val_loss: 0.6801 - val_accuracy: 0.6190\n",
      "Epoch 7/50\n",
      "19/19 [==============================] - 0s 9ms/step - loss: 0.6730 - accuracy: 0.5451 - val_loss: 0.6729 - val_accuracy: 0.6667\n",
      "Epoch 8/50\n",
      "19/19 [==============================] - 0s 8ms/step - loss: 0.6524 - accuracy: 0.7299 - val_loss: 0.6630 - val_accuracy: 0.9048\n",
      "Epoch 9/50\n",
      "19/19 [==============================] - 0s 8ms/step - loss: 0.6252 - accuracy: 0.8260 - val_loss: 0.6224 - val_accuracy: 0.6190\n",
      "Epoch 10/50\n",
      "19/19 [==============================] - 0s 7ms/step - loss: 0.6026 - accuracy: 0.6409 - val_loss: 0.5925 - val_accuracy: 0.6667\n",
      "Epoch 11/50\n",
      "19/19 [==============================] - 0s 9ms/step - loss: 0.5375 - accuracy: 0.7885 - val_loss: 0.5965 - val_accuracy: 0.9048\n",
      "Epoch 12/50\n",
      "19/19 [==============================] - 0s 7ms/step - loss: 0.5188 - accuracy: 0.9270 - val_loss: 0.5137 - val_accuracy: 0.7619\n",
      "Epoch 13/50\n",
      "19/19 [==============================] - 0s 7ms/step - loss: 0.4480 - accuracy: 0.9136 - val_loss: 0.4834 - val_accuracy: 0.7619\n",
      "Epoch 14/50\n",
      "19/19 [==============================] - 0s 9ms/step - loss: 0.3866 - accuracy: 0.9162 - val_loss: 0.4562 - val_accuracy: 0.8571\n",
      "Epoch 15/50\n",
      "19/19 [==============================] - 0s 7ms/step - loss: 0.3767 - accuracy: 0.9530 - val_loss: 0.4341 - val_accuracy: 0.8571\n",
      "Epoch 16/50\n",
      "19/19 [==============================] - 0s 7ms/step - loss: 0.3370 - accuracy: 0.9928 - val_loss: 0.4244 - val_accuracy: 0.8571\n",
      "Epoch 17/50\n",
      "19/19 [==============================] - 0s 7ms/step - loss: 0.3467 - accuracy: 0.9922 - val_loss: 0.4017 - val_accuracy: 0.8571\n",
      "Epoch 18/50\n",
      "19/19 [==============================] - 0s 6ms/step - loss: 0.2992 - accuracy: 0.9937 - val_loss: 0.3804 - val_accuracy: 0.8571\n",
      "Epoch 19/50\n",
      "19/19 [==============================] - 0s 7ms/step - loss: 0.3013 - accuracy: 0.9889 - val_loss: 0.3765 - val_accuracy: 0.8571\n",
      "Epoch 20/50\n",
      "19/19 [==============================] - 0s 6ms/step - loss: 0.2978 - accuracy: 0.9870 - val_loss: 0.3658 - val_accuracy: 0.8571\n",
      "Epoch 21/50\n",
      "19/19 [==============================] - 0s 6ms/step - loss: 0.2793 - accuracy: 1.0000 - val_loss: 0.3502 - val_accuracy: 0.8571\n",
      "Epoch 22/50\n",
      "19/19 [==============================] - 0s 7ms/step - loss: 0.2367 - accuracy: 0.9942 - val_loss: 0.3614 - val_accuracy: 0.8571\n",
      "Epoch 23/50\n",
      "19/19 [==============================] - 0s 7ms/step - loss: 0.2654 - accuracy: 0.9859 - val_loss: 0.3195 - val_accuracy: 0.9524\n",
      "Epoch 24/50\n",
      "19/19 [==============================] - 0s 6ms/step - loss: 0.2925 - accuracy: 0.9971 - val_loss: 0.3298 - val_accuracy: 0.9048\n",
      "Epoch 25/50\n",
      "19/19 [==============================] - 0s 6ms/step - loss: 0.2527 - accuracy: 1.0000 - val_loss: 0.3388 - val_accuracy: 0.8571\n",
      "Epoch 26/50\n",
      "19/19 [==============================] - 0s 6ms/step - loss: 0.2179 - accuracy: 1.0000 - val_loss: 0.3080 - val_accuracy: 0.9048\n",
      "Epoch 27/50\n",
      "19/19 [==============================] - 0s 6ms/step - loss: 0.2380 - accuracy: 1.0000 - val_loss: 0.3144 - val_accuracy: 0.8571\n",
      "Epoch 28/50\n",
      "19/19 [==============================] - 0s 6ms/step - loss: 0.2309 - accuracy: 0.9982 - val_loss: 0.2919 - val_accuracy: 0.9048\n",
      "Epoch 29/50\n",
      "19/19 [==============================] - 0s 6ms/step - loss: 0.2259 - accuracy: 1.0000 - val_loss: 0.2941 - val_accuracy: 0.8571\n",
      "Epoch 30/50\n",
      "19/19 [==============================] - 0s 6ms/step - loss: 0.1993 - accuracy: 1.0000 - val_loss: 0.3526 - val_accuracy: 0.8571\n",
      "Epoch 31/50\n",
      "19/19 [==============================] - 0s 6ms/step - loss: 0.1997 - accuracy: 1.0000 - val_loss: 0.2886 - val_accuracy: 0.8571\n",
      "Epoch 32/50\n",
      "19/19 [==============================] - 0s 10ms/step - loss: 0.1899 - accuracy: 1.0000 - val_loss: 0.3405 - val_accuracy: 0.8571\n",
      "Epoch 33/50\n",
      "19/19 [==============================] - 0s 8ms/step - loss: 0.1984 - accuracy: 1.0000 - val_loss: 0.3114 - val_accuracy: 0.8571\n",
      "Epoch 34/50\n",
      "19/19 [==============================] - 0s 7ms/step - loss: 0.1769 - accuracy: 1.0000 - val_loss: 0.2977 - val_accuracy: 0.8571\n",
      "Epoch 35/50\n",
      "19/19 [==============================] - 0s 7ms/step - loss: 0.1707 - accuracy: 1.0000 - val_loss: 0.2434 - val_accuracy: 0.9524\n",
      "Epoch 36/50\n",
      "19/19 [==============================] - 0s 9ms/step - loss: 0.2038 - accuracy: 1.0000 - val_loss: 0.3983 - val_accuracy: 0.8095\n",
      "Epoch 37/50\n",
      "19/19 [==============================] - 0s 7ms/step - loss: 0.1857 - accuracy: 1.0000 - val_loss: 0.3122 - val_accuracy: 0.8571\n",
      "Epoch 38/50\n",
      "19/19 [==============================] - 0s 7ms/step - loss: 0.1682 - accuracy: 1.0000 - val_loss: 0.3633 - val_accuracy: 0.8571\n",
      "Epoch 39/50\n",
      "19/19 [==============================] - 0s 9ms/step - loss: 0.1538 - accuracy: 1.0000 - val_loss: 0.2928 - val_accuracy: 0.8571\n",
      "Epoch 40/50\n",
      "19/19 [==============================] - 0s 7ms/step - loss: 0.1717 - accuracy: 1.0000 - val_loss: 0.2629 - val_accuracy: 0.8571\n",
      "Epoch 41/50\n",
      "19/19 [==============================] - 0s 7ms/step - loss: 0.1488 - accuracy: 1.0000 - val_loss: 0.2270 - val_accuracy: 0.9524\n",
      "Epoch 42/50\n",
      "19/19 [==============================] - 0s 7ms/step - loss: 0.1395 - accuracy: 1.0000 - val_loss: 0.2726 - val_accuracy: 0.8571\n",
      "Epoch 43/50\n",
      "19/19 [==============================] - 0s 6ms/step - loss: 0.1565 - accuracy: 1.0000 - val_loss: 0.3087 - val_accuracy: 0.8571\n",
      "Epoch 44/50\n",
      "19/19 [==============================] - 0s 8ms/step - loss: 0.1608 - accuracy: 1.0000 - val_loss: 0.2309 - val_accuracy: 0.9524\n",
      "Epoch 45/50\n",
      "19/19 [==============================] - 0s 7ms/step - loss: 0.1409 - accuracy: 1.0000 - val_loss: 0.2820 - val_accuracy: 0.8571\n",
      "Epoch 46/50\n",
      "19/19 [==============================] - 0s 6ms/step - loss: 0.1310 - accuracy: 1.0000 - val_loss: 0.2360 - val_accuracy: 0.9524\n",
      "Epoch 47/50\n",
      "19/19 [==============================] - 0s 6ms/step - loss: 0.1315 - accuracy: 1.0000 - val_loss: 0.2180 - val_accuracy: 0.9524\n",
      "Epoch 48/50\n",
      "19/19 [==============================] - 0s 6ms/step - loss: 0.1422 - accuracy: 1.0000 - val_loss: 0.3405 - val_accuracy: 0.8571\n",
      "Epoch 49/50\n",
      "19/19 [==============================] - 0s 6ms/step - loss: 0.1320 - accuracy: 1.0000 - val_loss: 0.2535 - val_accuracy: 0.8571\n",
      "Epoch 50/50\n",
      "19/19 [==============================] - 0s 6ms/step - loss: 0.1361 - accuracy: 1.0000 - val_loss: 0.2408 - val_accuracy: 0.8571\n",
      "time: 8.012112140655518\n"
     ]
    }
   ],
   "source": [
    "import time\n",
    "time_begin = time.time()\n",
    "history = model.fit(x_train,one_hot_train_labels,\n",
    "                    validation_split=0.1,\n",
    "                    epochs=50,batch_size=10,\n",
    "                    shuffle=True)\n",
    "time_end = time.time()\n",
    "time = time_end - time_begin\n",
    "print('time:', time)"
   ]
  },
  {
   "cell_type": "code",
   "execution_count": 8,
   "metadata": {},
   "outputs": [
    {
     "name": "stdout",
     "output_type": "stream",
     "text": [
      "Test loss: 0.3940465748310089\n",
      "Test accuracy: 0.8461538553237915\n",
      "time: 0.04838991165161133\n"
     ]
    }
   ],
   "source": [
    "import time\n",
    "time_begin = time.time()\n",
    "score = model.evaluate(x_test,one_hot_test_labels, verbose=0)\n",
    "print('Test loss:', score[0])\n",
    "print('Test accuracy:', score[1])\n",
    " \n",
    "time_end = time.time()\n",
    "time = time_end - time_begin\n",
    "print('time:', time)"
   ]
  },
  {
   "cell_type": "code",
   "execution_count": 9,
   "metadata": {},
   "outputs": [
    {
     "data": {
      "image/png": "[encoded data removed]",
      "text/plain": [
       "<Figure size 432x288 with 1 Axes>"
      ]
     },
     "metadata": {
      "needs_background": "light"
     },
     "output_type": "display_data"
    }
   ],
   "source": [
    "#绘制acc-loss曲线\n",
    "import matplotlib.pyplot as plt\n",
    "\n",
    "plt.plot(history.history['loss'],color='r')\n",
    "plt.plot(history.history['val_loss'],color='g')\n",
    "plt.plot(history.history['accuracy'],color='b')\n",
    "plt.plot(history.history['val_accuracy'],color='k')\n",
    "plt.title('model loss and acc')\n",
    "plt.ylabel('Accuracy')\n",
    "plt.xlabel('epoch')\n",
    "plt.legend(['train_loss', 'test_loss','train_acc', 'test_acc'], loc='center right')\n",
    "# plt.legend(['train_loss','train_acc'], loc='upper left')\n",
    "#plt.savefig('1.png')\n",
    "plt.show()"
   ]
  },
  {
   "cell_type": "code",
   "execution_count": 10,
   "metadata": {},
   "outputs": [
    {
     "data": {
      "image/png": "[encoded data removed]",
      "text/plain": [
       "<Figure size 432x288 with 1 Axes>"
      ]
     },
     "metadata": {
      "needs_background": "light"
     },
     "output_type": "display_data"
    }
   ],
   "source": [
    "import matplotlib.pyplot as plt\n",
    "\n",
    "plt.plot(history.history['loss'],color='r')\n",
    "plt.plot(history.history['accuracy'],color='b')\n",
    "plt.title('model loss and sccuracy ')\n",
    "plt.ylabel('loss/sccuracy')\n",
    "plt.xlabel('epoch')\n",
    "plt.legend(['train_loss', 'train_sccuracy'], loc='center right')\n",
    "plt.show()"
   ]
  },
  {
   "cell_type": "code",
   "execution_count": null,
   "metadata": {},
   "outputs": [],
   "source": []
  },
  {
   "cell_type": "code",
   "execution_count": null,
   "metadata": {},
   "outputs": [],
   "source": []
  }
 ],
 "metadata": {
  "kernelspec": {
   "display_name": "Python 3",
   "language": "python",
   "name": "python3"
  },
  "language_info": {
   "codemirror_mode": {
    "name": "ipython",
    "version": 3
   },
   "file_extension": ".py",
   "mimetype": "text/x-python",
   "name": "python",
   "nbconvert_exporter": "python",
   "pygments_lexer": "ipython3",
   "version": "3.8.5"
  }
 },
 "nbformat": 4,
 "nbformat_minor": 2
}
