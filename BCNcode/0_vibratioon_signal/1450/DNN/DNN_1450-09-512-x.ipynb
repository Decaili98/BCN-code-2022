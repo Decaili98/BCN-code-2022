{
 "cells": [
  {
   "cell_type": "code",
   "execution_count": 1,
   "metadata": {},
   "outputs": [],
   "source": [
    "from tensorflow import keras\n",
    "from tensorflow.keras import *\n",
    "from tensorflow.keras.models import *\n",
    "from tensorflow.keras.layers import *\n",
    "from tensorflow.keras.regularizers import l2#正则化L2\n",
    "import tensorflow as tf\n",
    "import numpy as np\n",
    "import pandas as pd"
   ]
  },
  {
   "cell_type": "code",
   "execution_count": 2,
   "metadata": {},
   "outputs": [
    {
     "name": "stdout",
     "output_type": "stream",
     "text": [
      "(22, 32768) (22, 32768) ***************************************************\n",
      "(2, 32768) (2, 32768)\n",
      "[[ 1.2027    2.7489   -0.32088  ... -0.36631  -0.059784  0.88198 ]\n",
      " [-2.3527    2.4643    0.95492  ...  4.1248   -0.4956   -0.2093  ]] \r\n",
      " [[ 0.59238  -3.0357   -0.24356  ...  0.48481   1.8901    0.21009 ]\n",
      " [-2.2471   -1.5225    0.74835  ... -1.5349    0.37456   0.054544]] ***************************************************\n",
      "(1, 65536) (1, 65536)\n",
      "[[ 1.2027   2.7489  -0.32088 ...  4.1248  -0.4956  -0.2093 ]] \r\n",
      " [[ 0.59238  -3.0357   -0.24356  ... -1.5349    0.37456   0.054544]] ***************************************************\n"
     ]
    }
   ],
   "source": [
    "normal = np.loadtxt(r'F:\\张老师课题学习内容\\code\\数据集\\试验数据(包括压力脉动和振动)\\2013.9.12-未发生缠绕前\\2013-9.12振动\\2013-9-12振动-1450rmin-mat\\1450r_normalvibx.txt', delimiter=',')\n",
    "chanrao = np.loadtxt(r'F:\\张老师课题学习内容\\code\\数据集\\试验数据(包括压力脉动和振动)\\2013.9.17-发生缠绕后\\振动\\9-17下午振动1450rmin-mat\\1450r_chanraovibx.txt', delimiter=',')\n",
    "print(normal.shape,chanrao.shape,\"***************************************************\")\n",
    "data_normal=normal[16:18]   #提取前两行\n",
    "data_chanrao=chanrao[16:18]   #提取前两行\n",
    "print(data_normal.shape,data_chanrao.shape)\n",
    "print(data_normal,\"\\r\\n\",data_chanrao,\"***************************************************\")\n",
    "data_normal=data_normal.reshape(1,-1)\n",
    "data_chanrao=data_chanrao.reshape(1,-1)\n",
    "print(data_normal.shape,data_chanrao.shape)\n",
    "print(data_normal,\"\\r\\n\",data_chanrao,\"***************************************************\")"
   ]
  },
  {
   "cell_type": "code",
   "execution_count": 3,
   "metadata": {},
   "outputs": [
    {
     "name": "stdout",
     "output_type": "stream",
     "text": [
      "(128, 512) (128, 512)\n"
     ]
    }
   ],
   "source": [
    "#水泵的两种故障类型信号normal正常，chanrao故障\n",
    "data_normal=data_normal.reshape(-1, 512)#(65536,1)-(128, 515)\n",
    "data_chanrao=data_chanrao.reshape(-1,512)\n",
    "print(data_normal.shape,data_chanrao.shape)\n"
   ]
  },
  {
   "cell_type": "code",
   "execution_count": 4,
   "metadata": {},
   "outputs": [
    {
     "name": "stdout",
     "output_type": "stream",
     "text": [
      "(204, 512, 1) (52, 512, 1)\n"
     ]
    }
   ],
   "source": [
    "import numpy as np\n",
    "def yuchuli(data,label):#(4:1)(51:13)\n",
    "    #打乱数据顺序\n",
    "    np.random.shuffle(data)\n",
    "    train = data[0:102,:]\n",
    "    test = data[102:128,:]\n",
    "    label_train = np.array([label for i in range(0,102)])\n",
    "    label_test =np.array([label for i in range(0,26)])\n",
    "    return train,test ,label_train ,label_test\n",
    "def stackkk(a,b,c,d,e,f,g,h):\n",
    "    aa = np.vstack((a, e))\n",
    "    bb = np.vstack((b, f))\n",
    "    cc = np.hstack((c, g))\n",
    "    dd = np.hstack((d, h))\n",
    "    return aa,bb,cc,dd\n",
    "x_tra0,x_tes0,y_tra0,y_tes0 = yuchuli(data_normal,0)\n",
    "x_tra1,x_tes1,y_tra1,y_tes1 = yuchuli(data_chanrao,1)\n",
    "tr1,te1,yr1,ye1=stackkk(x_tra0,x_tes0,y_tra0,y_tes0 ,x_tra1,x_tes1,y_tra1,y_tes1)\n",
    "\n",
    "x_train=tr1\n",
    "x_test=te1\n",
    "y_train = yr1\n",
    "y_test = ye1\n",
    "\n",
    "#打乱数据\n",
    "state = np.random.get_state()\n",
    "np.random.shuffle(x_train)\n",
    "np.random.set_state(state)\n",
    "np.random.shuffle(y_train)\n",
    "\n",
    "state = np.random.get_state()\n",
    "np.random.shuffle(x_test)\n",
    "np.random.set_state(state)\n",
    "np.random.shuffle(y_test)\n",
    "\n",
    "\n",
    "#对训练集和测试集标准化\n",
    "def ZscoreNormalization(x):\n",
    "    \"\"\"Z-score normaliaztion\"\"\"\n",
    "    x = (x - np.mean(x)) / np.std(x)\n",
    "    return x\n",
    "x_train=ZscoreNormalization(x_train)\n",
    "x_test=ZscoreNormalization(x_test)\n",
    "# print(x_test[0])\n",
    "\n",
    "\n",
    "#转化为一维序列\n",
    "x_train = x_train.reshape(-1,512,1)\n",
    "x_test = x_test.reshape(-1,512,1)\n",
    "print(x_train.shape,x_test.shape)\n",
    "\n",
    "def to_one_hot(labels,dimension=2):\n",
    "    results = np.zeros((len(labels),dimension))\n",
    "    for i,label in enumerate(labels):\n",
    "        results[i,label] = 1\n",
    "    return results\n",
    "one_hot_train_labels = to_one_hot(y_train)\n",
    "one_hot_test_labels = to_one_hot(y_test)\n"
   ]
  },
  {
   "cell_type": "code",
   "execution_count": 5,
   "metadata": {},
   "outputs": [
    {
     "name": "stdout",
     "output_type": "stream",
     "text": [
      "Model: \"model\"\n",
      "_________________________________________________________________\n",
      "Layer (type)                 Output Shape              Param #   \n",
      "=================================================================\n",
      "input_1 (InputLayer)         [(None, 512, 1, 1)]       0         \n",
      "_________________________________________________________________\n",
      "flatten (Flatten)            (None, 512)               0         \n",
      "_________________________________________________________________\n",
      "dense (Dense)                (None, 12)                6156      \n",
      "_________________________________________________________________\n",
      "dense_1 (Dense)              (None, 6)                 78        \n",
      "_________________________________________________________________\n",
      "dense_2 (Dense)              (None, 2)                 14        \n",
      "=================================================================\n",
      "Total params: 6,248\n",
      "Trainable params: 6,248\n",
      "Non-trainable params: 0\n",
      "_________________________________________________________________\n"
     ]
    }
   ],
   "source": [
    "x = layers.Input(shape=[512,1,1])\n",
    "Flatten=layers.Flatten()(x)\n",
    "Dense1=layers.Dense(12, activation='relu')(Flatten)\n",
    "Dense2=layers.Dense(6, activation='relu')(Dense1)\n",
    "Dense3=layers.Dense(2, activation='softmax')(Dense2)\n",
    "model = keras.Model(x, Dense3)    \n",
    "model.summary() "
   ]
  },
  {
   "cell_type": "code",
   "execution_count": 6,
   "metadata": {},
   "outputs": [],
   "source": [
    "#定义优化\n",
    "model.compile(loss='categorical_crossentropy',\n",
    "              optimizer='adam',metrics=['accuracy']) "
   ]
  },
  {
   "cell_type": "code",
   "execution_count": 7,
   "metadata": {
    "scrolled": true
   },
   "outputs": [
    {
     "name": "stdout",
     "output_type": "stream",
     "text": [
      "Epoch 1/50\n",
      "19/19 [==============================] - 3s 91ms/step - loss: 0.9257 - accuracy: 0.4729 - val_loss: 0.7630 - val_accuracy: 0.4762\n",
      "Epoch 2/50\n",
      "19/19 [==============================] - 0s 4ms/step - loss: 0.6430 - accuracy: 0.6512 - val_loss: 0.7600 - val_accuracy: 0.5238\n",
      "Epoch 3/50\n",
      "19/19 [==============================] - 0s 4ms/step - loss: 0.5330 - accuracy: 0.7538 - val_loss: 0.7673 - val_accuracy: 0.4762\n",
      "Epoch 4/50\n",
      "19/19 [==============================] - 0s 5ms/step - loss: 0.4818 - accuracy: 0.7948 - val_loss: 0.7822 - val_accuracy: 0.4762\n",
      "Epoch 5/50\n",
      "19/19 [==============================] - 0s 5ms/step - loss: 0.4700 - accuracy: 0.8367 - val_loss: 0.7917 - val_accuracy: 0.4762\n",
      "Epoch 6/50\n",
      "19/19 [==============================] - 0s 4ms/step - loss: 0.4265 - accuracy: 0.8063 - val_loss: 0.8034 - val_accuracy: 0.5238\n",
      "Epoch 7/50\n",
      "19/19 [==============================] - 0s 5ms/step - loss: 0.4152 - accuracy: 0.7737 - val_loss: 0.8214 - val_accuracy: 0.4762\n",
      "Epoch 8/50\n",
      "19/19 [==============================] - 0s 5ms/step - loss: 0.3861 - accuracy: 0.7798 - val_loss: 0.8264 - val_accuracy: 0.5238\n",
      "Epoch 9/50\n",
      "19/19 [==============================] - 0s 3ms/step - loss: 0.3414 - accuracy: 0.8068 - val_loss: 0.8344 - val_accuracy: 0.5238\n",
      "Epoch 10/50\n",
      "19/19 [==============================] - 0s 5ms/step - loss: 0.3029 - accuracy: 0.8304 - val_loss: 0.8566 - val_accuracy: 0.5238\n",
      "Epoch 11/50\n",
      "19/19 [==============================] - 0s 4ms/step - loss: 0.3038 - accuracy: 0.7962 - val_loss: 0.8976 - val_accuracy: 0.5238\n",
      "Epoch 12/50\n",
      "19/19 [==============================] - 0s 4ms/step - loss: 0.2767 - accuracy: 0.8088 - val_loss: 0.9182 - val_accuracy: 0.5238\n",
      "Epoch 13/50\n",
      "19/19 [==============================] - 0s 4ms/step - loss: 0.2173 - accuracy: 0.8506 - val_loss: 0.9345 - val_accuracy: 0.5238\n",
      "Epoch 14/50\n",
      "19/19 [==============================] - 0s 5ms/step - loss: 0.2040 - accuracy: 0.8925 - val_loss: 0.9432 - val_accuracy: 0.5238\n",
      "Epoch 15/50\n",
      "19/19 [==============================] - 0s 5ms/step - loss: 0.1664 - accuracy: 0.9345 - val_loss: 0.9422 - val_accuracy: 0.5238\n",
      "Epoch 16/50\n",
      "19/19 [==============================] - 0s 5ms/step - loss: 0.1820 - accuracy: 0.9153 - val_loss: 0.9682 - val_accuracy: 0.4762\n",
      "Epoch 17/50\n",
      "19/19 [==============================] - 0s 5ms/step - loss: 0.1602 - accuracy: 0.9407 - val_loss: 1.0068 - val_accuracy: 0.4762\n",
      "Epoch 18/50\n",
      "19/19 [==============================] - 0s 4ms/step - loss: 0.1324 - accuracy: 0.9572 - val_loss: 1.0200 - val_accuracy: 0.4762\n",
      "Epoch 19/50\n",
      "19/19 [==============================] - 0s 5ms/step - loss: 0.1329 - accuracy: 0.9122 - val_loss: 1.0236 - val_accuracy: 0.4762\n",
      "Epoch 20/50\n",
      "19/19 [==============================] - 0s 5ms/step - loss: 0.1079 - accuracy: 0.9481 - val_loss: 1.0398 - val_accuracy: 0.4762\n",
      "Epoch 21/50\n",
      "19/19 [==============================] - 0s 4ms/step - loss: 0.1050 - accuracy: 0.9640 - val_loss: 1.0407 - val_accuracy: 0.4762\n",
      "Epoch 22/50\n",
      "19/19 [==============================] - 0s 4ms/step - loss: 0.0922 - accuracy: 0.9671 - val_loss: 1.0353 - val_accuracy: 0.5238\n",
      "Epoch 23/50\n",
      "19/19 [==============================] - 0s 4ms/step - loss: 0.0732 - accuracy: 0.9876 - val_loss: 1.0444 - val_accuracy: 0.5238\n",
      "Epoch 24/50\n",
      "19/19 [==============================] - 0s 4ms/step - loss: 0.0701 - accuracy: 0.9858 - val_loss: 1.0539 - val_accuracy: 0.5238\n",
      "Epoch 25/50\n",
      "19/19 [==============================] - 0s 4ms/step - loss: 0.0575 - accuracy: 0.9683 - val_loss: 1.0738 - val_accuracy: 0.5238\n",
      "Epoch 26/50\n",
      "19/19 [==============================] - 0s 4ms/step - loss: 0.0733 - accuracy: 0.9769 - val_loss: 1.0974 - val_accuracy: 0.3810\n",
      "Epoch 27/50\n",
      "19/19 [==============================] - 0s 3ms/step - loss: 0.0701 - accuracy: 0.9860 - val_loss: 1.1145 - val_accuracy: 0.3810\n",
      "Epoch 28/50\n",
      "19/19 [==============================] - 0s 4ms/step - loss: 0.0547 - accuracy: 0.9961 - val_loss: 1.1131 - val_accuracy: 0.3810\n",
      "Epoch 29/50\n",
      "19/19 [==============================] - 0s 5ms/step - loss: 0.0480 - accuracy: 0.9870 - val_loss: 1.1263 - val_accuracy: 0.3810\n",
      "Epoch 30/50\n",
      "19/19 [==============================] - 0s 4ms/step - loss: 0.0489 - accuracy: 0.9820 - val_loss: 1.1299 - val_accuracy: 0.4762\n",
      "Epoch 31/50\n",
      "19/19 [==============================] - 0s 4ms/step - loss: 0.0481 - accuracy: 0.9866 - val_loss: 1.1375 - val_accuracy: 0.3810\n",
      "Epoch 32/50\n",
      "19/19 [==============================] - 0s 4ms/step - loss: 0.0332 - accuracy: 0.9867 - val_loss: 1.1462 - val_accuracy: 0.4286\n",
      "Epoch 33/50\n",
      "19/19 [==============================] - 0s 3ms/step - loss: 0.0539 - accuracy: 0.9942 - val_loss: 1.1532 - val_accuracy: 0.4762\n",
      "Epoch 34/50\n",
      "19/19 [==============================] - 0s 3ms/step - loss: 0.0309 - accuracy: 0.9903 - val_loss: 1.1671 - val_accuracy: 0.5238\n",
      "Epoch 35/50\n",
      "19/19 [==============================] - 0s 3ms/step - loss: 0.0431 - accuracy: 0.9966 - val_loss: 1.2201 - val_accuracy: 0.3810\n",
      "Epoch 36/50\n",
      "19/19 [==============================] - 0s 3ms/step - loss: 0.0321 - accuracy: 0.9961 - val_loss: 1.2366 - val_accuracy: 0.3810\n",
      "Epoch 37/50\n",
      "19/19 [==============================] - 0s 3ms/step - loss: 0.0340 - accuracy: 0.9992 - val_loss: 1.2568 - val_accuracy: 0.3810\n",
      "Epoch 38/50\n",
      "19/19 [==============================] - 0s 6ms/step - loss: 0.0368 - accuracy: 0.9820 - val_loss: 1.2699 - val_accuracy: 0.4286\n",
      "Epoch 39/50\n",
      "19/19 [==============================] - 0s 5ms/step - loss: 0.0348 - accuracy: 1.0000 - val_loss: 1.2904 - val_accuracy: 0.4286\n",
      "Epoch 40/50\n",
      "19/19 [==============================] - 0s 6ms/step - loss: 0.0343 - accuracy: 0.9870 - val_loss: 1.2767 - val_accuracy: 0.4286\n",
      "Epoch 41/50\n",
      "19/19 [==============================] - 0s 5ms/step - loss: 0.0306 - accuracy: 1.0000 - val_loss: 1.2878 - val_accuracy: 0.4286\n",
      "Epoch 42/50\n",
      "19/19 [==============================] - 0s 6ms/step - loss: 0.0173 - accuracy: 1.0000 - val_loss: 1.3011 - val_accuracy: 0.4286\n",
      "Epoch 43/50\n",
      "19/19 [==============================] - 0s 5ms/step - loss: 0.0247 - accuracy: 1.0000 - val_loss: 1.3205 - val_accuracy: 0.4286\n",
      "Epoch 44/50\n",
      "19/19 [==============================] - 0s 4ms/step - loss: 0.0173 - accuracy: 1.0000 - val_loss: 1.3305 - val_accuracy: 0.4286\n",
      "Epoch 45/50\n",
      "19/19 [==============================] - 0s 4ms/step - loss: 0.0310 - accuracy: 1.0000 - val_loss: 1.3640 - val_accuracy: 0.3810\n",
      "Epoch 46/50\n",
      "19/19 [==============================] - 0s 4ms/step - loss: 0.0216 - accuracy: 0.9950 - val_loss: 1.3607 - val_accuracy: 0.3810\n",
      "Epoch 47/50\n",
      "19/19 [==============================] - 0s 5ms/step - loss: 0.0205 - accuracy: 0.9885 - val_loss: 1.3779 - val_accuracy: 0.4286\n",
      "Epoch 48/50\n",
      "19/19 [==============================] - 0s 5ms/step - loss: 0.0197 - accuracy: 1.0000 - val_loss: 1.3891 - val_accuracy: 0.4286\n",
      "Epoch 49/50\n",
      "19/19 [==============================] - 0s 5ms/step - loss: 0.0084 - accuracy: 1.0000 - val_loss: 1.3908 - val_accuracy: 0.4286\n",
      "Epoch 50/50\n",
      "19/19 [==============================] - 0s 5ms/step - loss: 0.0256 - accuracy: 1.0000 - val_loss: 1.3597 - val_accuracy: 0.4286\n",
      "time: 6.8046839237213135\n"
     ]
    }
   ],
   "source": [
    "import time\n",
    "time_begin = time.time()\n",
    "history = model.fit(x_train,one_hot_train_labels,\n",
    "                    validation_split=0.1,\n",
    "                    epochs=50,batch_size=10,\n",
    "                    shuffle=True)\n",
    "time_end = time.time()\n",
    "time = time_end - time_begin\n",
    "print('time:', time)"
   ]
  },
  {
   "cell_type": "code",
   "execution_count": 8,
   "metadata": {},
   "outputs": [
    {
     "name": "stdout",
     "output_type": "stream",
     "text": [
      "Test loss: 1.3608510494232178\n",
      "Test accuracy: 0.5\n",
      "time: 0.08136534690856934\n"
     ]
    }
   ],
   "source": [
    "import time\n",
    "time_begin = time.time()\n",
    "score = model.evaluate(x_test,one_hot_test_labels, verbose=0)\n",
    "print('Test loss:', score[0])\n",
    "print('Test accuracy:', score[1])\n",
    " \n",
    "time_end = time.time()\n",
    "time = time_end - time_begin\n",
    "print('time:', time)"
   ]
  },
  {
   "cell_type": "code",
   "execution_count": 9,
   "metadata": {},
   "outputs": [
    {
     "data": {
      "image/png": "[encoded data removed]",
      "text/plain": [
       "<Figure size 432x288 with 1 Axes>"
      ]
     },
     "metadata": {
      "needs_background": "light"
     },
     "output_type": "display_data"
    }
   ],
   "source": [
    "#绘制acc-loss曲线\n",
    "import matplotlib.pyplot as plt\n",
    "\n",
    "plt.plot(history.history['loss'],color='r')\n",
    "plt.plot(history.history['val_loss'],color='g')\n",
    "plt.plot(history.history['accuracy'],color='b')\n",
    "plt.plot(history.history['val_accuracy'],color='k')\n",
    "plt.title('model loss and acc')\n",
    "plt.ylabel('Accuracy')\n",
    "plt.xlabel('epoch')\n",
    "plt.legend(['train_loss', 'test_loss','train_acc', 'test_acc'], loc='center right')\n",
    "# plt.legend(['train_loss','train_acc'], loc='upper left')\n",
    "#plt.savefig('1.png')\n",
    "plt.show()"
   ]
  },
  {
   "cell_type": "code",
   "execution_count": 10,
   "metadata": {},
   "outputs": [
    {
     "data": {
      "image/png": "[encoded data removed]",
      "text/plain": [
       "<Figure size 432x288 with 1 Axes>"
      ]
     },
     "metadata": {
      "needs_background": "light"
     },
     "output_type": "display_data"
    }
   ],
   "source": [
    "import matplotlib.pyplot as plt\n",
    "\n",
    "plt.plot(history.history['loss'],color='r')\n",
    "plt.plot(history.history['accuracy'],color='b')\n",
    "plt.title('model loss and sccuracy ')\n",
    "plt.ylabel('loss/sccuracy')\n",
    "plt.xlabel('epoch')\n",
    "plt.legend(['train_loss', 'train_sccuracy'], loc='center right')\n",
    "plt.show()"
   ]
  },
  {
   "cell_type": "code",
   "execution_count": null,
   "metadata": {},
   "outputs": [],
   "source": []
  },
  {
   "cell_type": "code",
   "execution_count": null,
   "metadata": {},
   "outputs": [],
   "source": []
  }
 ],
 "metadata": {
  "kernelspec": {
   "display_name": "Python 3",
   "language": "python",
   "name": "python3"
  },
  "language_info": {
   "codemirror_mode": {
    "name": "ipython",
    "version": 3
   },
   "file_extension": ".py",
   "mimetype": "text/x-python",
   "name": "python",
   "nbconvert_exporter": "python",
   "pygments_lexer": "ipython3",
   "version": "3.8.5"
  }
 },
 "nbformat": 4,
 "nbformat_minor": 2
}
