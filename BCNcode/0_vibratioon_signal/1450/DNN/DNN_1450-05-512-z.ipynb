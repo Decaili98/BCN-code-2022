{
 "cells": [
  {
   "cell_type": "code",
   "execution_count": 1,
   "metadata": {},
   "outputs": [],
   "source": [
    "from tensorflow import keras\n",
    "from tensorflow.keras import *\n",
    "from tensorflow.keras.models import *\n",
    "from tensorflow.keras.layers import *\n",
    "from tensorflow.keras.regularizers import l2#正则化L2\n",
    "import tensorflow as tf\n",
    "import numpy as np\n",
    "import pandas as pd"
   ]
  },
  {
   "cell_type": "code",
   "execution_count": 2,
   "metadata": {},
   "outputs": [
    {
     "name": "stdout",
     "output_type": "stream",
     "text": [
      "(22, 32768) (22, 32768) ***************************************************\n",
      "(2, 32768) (2, 32768)\n",
      "[[ 1.3019  -1.4857   0.17466 ...  0.99471  0.31638  0.35524]\n",
      " [ 0.91259 -0.58925 -0.75321 ... -2.713    0.11026  0.08035]] \r\n",
      " [[ 2.4738   1.067    2.6707  ...  0.17386 -0.41222 -1.9366 ]\n",
      " [ 3.771    0.5142   0.51687 ...  1.3231  -0.84389  0.82212]] ***************************************************\n",
      "(1, 65536) (1, 65536)\n",
      "[[ 1.3019  -1.4857   0.17466 ... -2.713    0.11026  0.08035]] \r\n",
      " [[ 2.4738   1.067    2.6707  ...  1.3231  -0.84389  0.82212]] ***************************************************\n"
     ]
    }
   ],
   "source": [
    "normal = np.loadtxt(r'F:\\张老师课题学习内容\\code\\数据集\\试验数据(包括压力脉动和振动)\\2013.9.12-未发生缠绕前\\2013-9.12振动\\2013-9-12振动-1450rmin-mat\\1450r_normalvibz.txt', delimiter=',')\n",
    "chanrao = np.loadtxt(r'F:\\张老师课题学习内容\\code\\数据集\\试验数据(包括压力脉动和振动)\\2013.9.17-发生缠绕后\\振动\\9-17下午振动1450rmin-mat\\1450r_chanraovibz.txt', delimiter=',')\n",
    "print(normal.shape,chanrao.shape,\"***************************************************\")\n",
    "data_normal=normal[8:10]   #提取前两行\n",
    "data_chanrao=chanrao[8:10]   #提取前两行\n",
    "print(data_normal.shape,data_chanrao.shape)\n",
    "print(data_normal,\"\\r\\n\",data_chanrao,\"***************************************************\")\n",
    "data_normal=data_normal.reshape(1,-1)\n",
    "data_chanrao=data_chanrao.reshape(1,-1)\n",
    "print(data_normal.shape,data_chanrao.shape)\n",
    "print(data_normal,\"\\r\\n\",data_chanrao,\"***************************************************\")"
   ]
  },
  {
   "cell_type": "code",
   "execution_count": 3,
   "metadata": {},
   "outputs": [
    {
     "name": "stdout",
     "output_type": "stream",
     "text": [
      "(128, 512) (128, 512)\n"
     ]
    }
   ],
   "source": [
    "#水泵的两种故障类型信号normal正常，chanrao故障\n",
    "data_normal=data_normal.reshape(-1, 512)#(65536,1)-(128, 515)\n",
    "data_chanrao=data_chanrao.reshape(-1,512)\n",
    "print(data_normal.shape,data_chanrao.shape)\n"
   ]
  },
  {
   "cell_type": "code",
   "execution_count": 4,
   "metadata": {},
   "outputs": [
    {
     "name": "stdout",
     "output_type": "stream",
     "text": [
      "(204, 512, 1) (52, 512, 1)\n"
     ]
    }
   ],
   "source": [
    "import numpy as np\n",
    "def yuchuli(data,label):#(4:1)(51:13)\n",
    "    #打乱数据顺序\n",
    "    np.random.shuffle(data)\n",
    "    train = data[0:102,:]\n",
    "    test = data[102:128,:]\n",
    "    label_train = np.array([label for i in range(0,102)])\n",
    "    label_test =np.array([label for i in range(0,26)])\n",
    "    return train,test ,label_train ,label_test\n",
    "def stackkk(a,b,c,d,e,f,g,h):\n",
    "    aa = np.vstack((a, e))\n",
    "    bb = np.vstack((b, f))\n",
    "    cc = np.hstack((c, g))\n",
    "    dd = np.hstack((d, h))\n",
    "    return aa,bb,cc,dd\n",
    "x_tra0,x_tes0,y_tra0,y_tes0 = yuchuli(data_normal,0)\n",
    "x_tra1,x_tes1,y_tra1,y_tes1 = yuchuli(data_chanrao,1)\n",
    "tr1,te1,yr1,ye1=stackkk(x_tra0,x_tes0,y_tra0,y_tes0 ,x_tra1,x_tes1,y_tra1,y_tes1)\n",
    "\n",
    "x_train=tr1\n",
    "x_test=te1\n",
    "y_train = yr1\n",
    "y_test = ye1\n",
    "\n",
    "#打乱数据\n",
    "state = np.random.get_state()\n",
    "np.random.shuffle(x_train)\n",
    "np.random.set_state(state)\n",
    "np.random.shuffle(y_train)\n",
    "\n",
    "state = np.random.get_state()\n",
    "np.random.shuffle(x_test)\n",
    "np.random.set_state(state)\n",
    "np.random.shuffle(y_test)\n",
    "\n",
    "\n",
    "#对训练集和测试集标准化\n",
    "def ZscoreNormalization(x):\n",
    "    \"\"\"Z-score normaliaztion\"\"\"\n",
    "    x = (x - np.mean(x)) / np.std(x)\n",
    "    return x\n",
    "x_train=ZscoreNormalization(x_train)\n",
    "x_test=ZscoreNormalization(x_test)\n",
    "# print(x_test[0])\n",
    "\n",
    "\n",
    "#转化为一维序列\n",
    "x_train = x_train.reshape(-1,512,1)\n",
    "x_test = x_test.reshape(-1,512,1)\n",
    "print(x_train.shape,x_test.shape)\n",
    "\n",
    "def to_one_hot(labels,dimension=2):\n",
    "    results = np.zeros((len(labels),dimension))\n",
    "    for i,label in enumerate(labels):\n",
    "        results[i,label] = 1\n",
    "    return results\n",
    "one_hot_train_labels = to_one_hot(y_train)\n",
    "one_hot_test_labels = to_one_hot(y_test)\n"
   ]
  },
  {
   "cell_type": "code",
   "execution_count": 5,
   "metadata": {},
   "outputs": [
    {
     "name": "stdout",
     "output_type": "stream",
     "text": [
      "Model: \"model\"\n",
      "_________________________________________________________________\n",
      "Layer (type)                 Output Shape              Param #   \n",
      "=================================================================\n",
      "input_1 (InputLayer)         [(None, 512, 1, 1)]       0         \n",
      "_________________________________________________________________\n",
      "flatten (Flatten)            (None, 512)               0         \n",
      "_________________________________________________________________\n",
      "dense (Dense)                (None, 12)                6156      \n",
      "_________________________________________________________________\n",
      "dense_1 (Dense)              (None, 6)                 78        \n",
      "_________________________________________________________________\n",
      "dense_2 (Dense)              (None, 2)                 14        \n",
      "=================================================================\n",
      "Total params: 6,248\n",
      "Trainable params: 6,248\n",
      "Non-trainable params: 0\n",
      "_________________________________________________________________\n"
     ]
    }
   ],
   "source": [
    "x = layers.Input(shape=[512,1,1])\n",
    "Flatten=layers.Flatten()(x)\n",
    "Dense1=layers.Dense(12, activation='relu')(Flatten)\n",
    "Dense2=layers.Dense(6, activation='relu')(Dense1)\n",
    "Dense3=layers.Dense(2, activation='softmax')(Dense2)\n",
    "model = keras.Model(x, Dense3)    \n",
    "model.summary() "
   ]
  },
  {
   "cell_type": "code",
   "execution_count": 6,
   "metadata": {},
   "outputs": [],
   "source": [
    "#定义优化\n",
    "model.compile(loss='categorical_crossentropy',\n",
    "              optimizer='adam',metrics=['accuracy']) "
   ]
  },
  {
   "cell_type": "code",
   "execution_count": 7,
   "metadata": {
    "scrolled": true
   },
   "outputs": [
    {
     "name": "stdout",
     "output_type": "stream",
     "text": [
      "Epoch 1/50\n",
      "19/19 [==============================] - 2s 50ms/step - loss: 1.0480 - accuracy: 0.5474 - val_loss: 1.0816 - val_accuracy: 0.3810\n",
      "Epoch 2/50\n",
      "19/19 [==============================] - 0s 2ms/step - loss: 0.7748 - accuracy: 0.4809 - val_loss: 0.9368 - val_accuracy: 0.4762\n",
      "Epoch 3/50\n",
      "19/19 [==============================] - 0s 3ms/step - loss: 0.6329 - accuracy: 0.6215 - val_loss: 0.8678 - val_accuracy: 0.5238\n",
      "Epoch 4/50\n",
      "19/19 [==============================] - 0s 2ms/step - loss: 0.5050 - accuracy: 0.7928 - val_loss: 0.8435 - val_accuracy: 0.5238\n",
      "Epoch 5/50\n",
      "19/19 [==============================] - 0s 2ms/step - loss: 0.4803 - accuracy: 0.8443 - val_loss: 0.8261 - val_accuracy: 0.5714\n",
      "Epoch 6/50\n",
      "19/19 [==============================] - 0s 3ms/step - loss: 0.4317 - accuracy: 0.9095 - val_loss: 0.8268 - val_accuracy: 0.5714\n",
      "Epoch 7/50\n",
      "19/19 [==============================] - 0s 3ms/step - loss: 0.3743 - accuracy: 0.9642 - val_loss: 0.8226 - val_accuracy: 0.5714\n",
      "Epoch 8/50\n",
      "19/19 [==============================] - 0s 2ms/step - loss: 0.3579 - accuracy: 0.9639 - val_loss: 0.8255 - val_accuracy: 0.5714\n",
      "Epoch 9/50\n",
      "19/19 [==============================] - 0s 2ms/step - loss: 0.2979 - accuracy: 0.9833 - val_loss: 0.8179 - val_accuracy: 0.6190\n",
      "Epoch 10/50\n",
      "19/19 [==============================] - 0s 4ms/step - loss: 0.2947 - accuracy: 0.9824 - val_loss: 0.8058 - val_accuracy: 0.5714\n",
      "Epoch 11/50\n",
      "19/19 [==============================] - 0s 2ms/step - loss: 0.2582 - accuracy: 0.9839 - val_loss: 0.7831 - val_accuracy: 0.6190\n",
      "Epoch 12/50\n",
      "19/19 [==============================] - 0s 2ms/step - loss: 0.2323 - accuracy: 0.9694 - val_loss: 0.7675 - val_accuracy: 0.6190\n",
      "Epoch 13/50\n",
      "19/19 [==============================] - 0s 3ms/step - loss: 0.2064 - accuracy: 0.9926 - val_loss: 0.7740 - val_accuracy: 0.5714\n",
      "Epoch 14/50\n",
      "19/19 [==============================] - 0s 2ms/step - loss: 0.1903 - accuracy: 0.9795 - val_loss: 0.7749 - val_accuracy: 0.6667\n",
      "Epoch 15/50\n",
      "19/19 [==============================] - 0s 2ms/step - loss: 0.1792 - accuracy: 0.9917 - val_loss: 0.7690 - val_accuracy: 0.6667\n",
      "Epoch 16/50\n",
      "19/19 [==============================] - 0s 2ms/step - loss: 0.1296 - accuracy: 0.9928 - val_loss: 0.7708 - val_accuracy: 0.6667\n",
      "Epoch 17/50\n",
      "19/19 [==============================] - 0s 2ms/step - loss: 0.1327 - accuracy: 0.9903 - val_loss: 0.7499 - val_accuracy: 0.7143\n",
      "Epoch 18/50\n",
      "19/19 [==============================] - ETA: 0s - loss: 0.2601 - accuracy: 0.90 - 0s 3ms/step - loss: 0.1532 - accuracy: 0.9769 - val_loss: 0.7330 - val_accuracy: 0.7143\n",
      "Epoch 19/50\n",
      "19/19 [==============================] - 0s 2ms/step - loss: 0.1177 - accuracy: 0.9856 - val_loss: 0.7297 - val_accuracy: 0.7143\n",
      "Epoch 20/50\n",
      "19/19 [==============================] - 0s 2ms/step - loss: 0.1026 - accuracy: 0.9922 - val_loss: 0.7212 - val_accuracy: 0.7619\n",
      "Epoch 21/50\n",
      "19/19 [==============================] - 0s 3ms/step - loss: 0.0892 - accuracy: 0.9895 - val_loss: 0.7122 - val_accuracy: 0.7619\n",
      "Epoch 22/50\n",
      "19/19 [==============================] - 0s 4ms/step - loss: 0.1149 - accuracy: 0.9809 - val_loss: 0.7053 - val_accuracy: 0.7619\n",
      "Epoch 23/50\n",
      "19/19 [==============================] - 0s 3ms/step - loss: 0.0921 - accuracy: 0.9890 - val_loss: 0.6927 - val_accuracy: 0.7619\n",
      "Epoch 24/50\n",
      "19/19 [==============================] - 0s 4ms/step - loss: 0.0818 - accuracy: 0.9786 - val_loss: 0.6791 - val_accuracy: 0.7619\n",
      "Epoch 25/50\n",
      "19/19 [==============================] - 0s 3ms/step - loss: 0.0729 - accuracy: 0.9809 - val_loss: 0.6727 - val_accuracy: 0.7619\n",
      "Epoch 26/50\n",
      "19/19 [==============================] - 0s 4ms/step - loss: 0.0592 - accuracy: 0.9957 - val_loss: 0.6821 - val_accuracy: 0.7619\n",
      "Epoch 27/50\n",
      "19/19 [==============================] - 0s 2ms/step - loss: 0.0620 - accuracy: 0.9854 - val_loss: 0.6810 - val_accuracy: 0.7619\n",
      "Epoch 28/50\n",
      "19/19 [==============================] - 0s 3ms/step - loss: 0.0476 - accuracy: 0.9920 - val_loss: 0.6734 - val_accuracy: 0.7619\n",
      "Epoch 29/50\n",
      "19/19 [==============================] - 0s 3ms/step - loss: 0.0469 - accuracy: 0.9887 - val_loss: 0.6766 - val_accuracy: 0.7619\n",
      "Epoch 30/50\n",
      "19/19 [==============================] - 0s 5ms/step - loss: 0.0373 - accuracy: 0.9913 - val_loss: 0.6739 - val_accuracy: 0.7619\n",
      "Epoch 31/50\n",
      "19/19 [==============================] - 0s 4ms/step - loss: 0.0305 - accuracy: 0.9978 - val_loss: 0.6706 - val_accuracy: 0.7619\n",
      "Epoch 32/50\n",
      "19/19 [==============================] - 0s 4ms/step - loss: 0.0429 - accuracy: 0.9802 - val_loss: 0.6717 - val_accuracy: 0.7619\n",
      "Epoch 33/50\n",
      "19/19 [==============================] - 0s 3ms/step - loss: 0.0307 - accuracy: 0.9913 - val_loss: 0.6729 - val_accuracy: 0.7619\n",
      "Epoch 34/50\n",
      "19/19 [==============================] - 0s 3ms/step - loss: 0.0355 - accuracy: 0.9906 - val_loss: 0.6754 - val_accuracy: 0.7619\n",
      "Epoch 35/50\n",
      "19/19 [==============================] - 0s 3ms/step - loss: 0.0281 - accuracy: 0.9882 - val_loss: 0.6755 - val_accuracy: 0.7619\n",
      "Epoch 36/50\n",
      "19/19 [==============================] - 0s 4ms/step - loss: 0.0299 - accuracy: 0.9867 - val_loss: 0.6751 - val_accuracy: 0.7619\n",
      "Epoch 37/50\n",
      "19/19 [==============================] - 0s 4ms/step - loss: 0.0254 - accuracy: 0.9916 - val_loss: 0.6803 - val_accuracy: 0.7619\n",
      "Epoch 38/50\n",
      "19/19 [==============================] - 0s 4ms/step - loss: 0.0239 - accuracy: 0.9911 - val_loss: 0.6797 - val_accuracy: 0.7619\n",
      "Epoch 39/50\n",
      "19/19 [==============================] - 0s 3ms/step - loss: 0.0114 - accuracy: 0.9981 - val_loss: 0.6835 - val_accuracy: 0.7619\n",
      "Epoch 40/50\n",
      "19/19 [==============================] - 0s 3ms/step - loss: 0.0369 - accuracy: 0.9775 - val_loss: 0.6866 - val_accuracy: 0.7619\n",
      "Epoch 41/50\n",
      "19/19 [==============================] - 0s 4ms/step - loss: 0.0156 - accuracy: 0.9981 - val_loss: 0.6839 - val_accuracy: 0.7619\n",
      "Epoch 42/50\n",
      "19/19 [==============================] - 0s 4ms/step - loss: 0.0221 - accuracy: 0.9941 - val_loss: 0.6847 - val_accuracy: 0.7619\n",
      "Epoch 43/50\n",
      "19/19 [==============================] - 0s 4ms/step - loss: 0.0335 - accuracy: 0.9812 - val_loss: 0.6885 - val_accuracy: 0.7143\n",
      "Epoch 44/50\n",
      "19/19 [==============================] - 0s 4ms/step - loss: 0.0120 - accuracy: 0.9964 - val_loss: 0.6895 - val_accuracy: 0.7143\n",
      "Epoch 45/50\n",
      "19/19 [==============================] - 0s 3ms/step - loss: 0.0224 - accuracy: 0.9884 - val_loss: 0.6920 - val_accuracy: 0.7143\n",
      "Epoch 46/50\n",
      "19/19 [==============================] - 0s 3ms/step - loss: 0.0230 - accuracy: 0.9880 - val_loss: 0.6944 - val_accuracy: 0.7143\n",
      "Epoch 47/50\n",
      "19/19 [==============================] - 0s 3ms/step - loss: 0.0190 - accuracy: 0.9906 - val_loss: 0.6956 - val_accuracy: 0.7143\n",
      "Epoch 48/50\n",
      "19/19 [==============================] - 0s 6ms/step - loss: 0.0278 - accuracy: 0.9841 - val_loss: 0.6981 - val_accuracy: 0.7143\n",
      "Epoch 49/50\n",
      "19/19 [==============================] - 0s 3ms/step - loss: 0.0200 - accuracy: 0.9897 - val_loss: 0.6995 - val_accuracy: 0.7143\n",
      "Epoch 50/50\n",
      "19/19 [==============================] - 0s 3ms/step - loss: 0.0198 - accuracy: 0.9922 - val_loss: 0.7030 - val_accuracy: 0.7143\n",
      "time: 4.6617584228515625\n"
     ]
    }
   ],
   "source": [
    "import time\n",
    "time_begin = time.time()\n",
    "history = model.fit(x_train,one_hot_train_labels,\n",
    "                    validation_split=0.1,\n",
    "                    epochs=50,batch_size=10,\n",
    "                    shuffle=True)\n",
    "time_end = time.time()\n",
    "time = time_end - time_begin\n",
    "print('time:', time)"
   ]
  },
  {
   "cell_type": "code",
   "execution_count": 8,
   "metadata": {},
   "outputs": [
    {
     "name": "stdout",
     "output_type": "stream",
     "text": [
      "Test loss: 1.1195566654205322\n",
      "Test accuracy: 0.6730769276618958\n",
      "time: 0.05086851119995117\n"
     ]
    }
   ],
   "source": [
    "import time\n",
    "time_begin = time.time()\n",
    "score = model.evaluate(x_test,one_hot_test_labels, verbose=0)\n",
    "print('Test loss:', score[0])\n",
    "print('Test accuracy:', score[1])\n",
    " \n",
    "time_end = time.time()\n",
    "time = time_end - time_begin\n",
    "print('time:', time)"
   ]
  },
  {
   "cell_type": "code",
   "execution_count": 9,
   "metadata": {},
   "outputs": [
    {
     "data": {
      "image/png": "[encoded data removed]",
      "text/plain": [
       "<Figure size 432x288 with 1 Axes>"
      ]
     },
     "metadata": {
      "needs_background": "light"
     },
     "output_type": "display_data"
    }
   ],
   "source": [
    "#绘制acc-loss曲线\n",
    "import matplotlib.pyplot as plt\n",
    "\n",
    "plt.plot(history.history['loss'],color='r')\n",
    "plt.plot(history.history['val_loss'],color='g')\n",
    "plt.plot(history.history['accuracy'],color='b')\n",
    "plt.plot(history.history['val_accuracy'],color='k')\n",
    "plt.title('model loss and acc')\n",
    "plt.ylabel('Accuracy')\n",
    "plt.xlabel('epoch')\n",
    "plt.legend(['train_loss', 'test_loss','train_acc', 'test_acc'], loc='center right')\n",
    "# plt.legend(['train_loss','train_acc'], loc='upper left')\n",
    "#plt.savefig('1.png')\n",
    "plt.show()"
   ]
  },
  {
   "cell_type": "code",
   "execution_count": 10,
   "metadata": {},
   "outputs": [
    {
     "data": {
      "image/png": "[encoded data removed]",
      "text/plain": [
       "<Figure size 432x288 with 1 Axes>"
      ]
     },
     "metadata": {
      "needs_background": "light"
     },
     "output_type": "display_data"
    }
   ],
   "source": [
    "import matplotlib.pyplot as plt\n",
    "\n",
    "plt.plot(history.history['loss'],color='r')\n",
    "plt.plot(history.history['accuracy'],color='b')\n",
    "plt.title('model loss and sccuracy ')\n",
    "plt.ylabel('loss/sccuracy')\n",
    "plt.xlabel('epoch')\n",
    "plt.legend(['train_loss', 'train_sccuracy'], loc='center right')\n",
    "plt.show()"
   ]
  },
  {
   "cell_type": "code",
   "execution_count": null,
   "metadata": {},
   "outputs": [],
   "source": []
  },
  {
   "cell_type": "code",
   "execution_count": null,
   "metadata": {},
   "outputs": [],
   "source": []
  }
 ],
 "metadata": {
  "kernelspec": {
   "display_name": "Python 3",
   "language": "python",
   "name": "python3"
  },
  "language_info": {
   "codemirror_mode": {
    "name": "ipython",
    "version": 3
   },
   "file_extension": ".py",
   "mimetype": "text/x-python",
   "name": "python",
   "nbconvert_exporter": "python",
   "pygments_lexer": "ipython3",
   "version": "3.8.5"
  }
 },
 "nbformat": 4,
 "nbformat_minor": 2
}
