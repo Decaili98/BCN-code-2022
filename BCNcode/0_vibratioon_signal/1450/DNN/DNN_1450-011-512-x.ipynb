{
 "cells": [
  {
   "cell_type": "code",
   "execution_count": 1,
   "metadata": {},
   "outputs": [],
   "source": [
    "from tensorflow import keras\n",
    "from tensorflow.keras import *\n",
    "from tensorflow.keras.models import *\n",
    "from tensorflow.keras.layers import *\n",
    "from tensorflow.keras.regularizers import l2#正则化L2\n",
    "import tensorflow as tf\n",
    "import numpy as np\n",
    "import pandas as pd"
   ]
  },
  {
   "cell_type": "code",
   "execution_count": 2,
   "metadata": {},
   "outputs": [
    {
     "name": "stdout",
     "output_type": "stream",
     "text": [
      "(22, 32768) (22, 32768) ***************************************************\n",
      "(2, 32768) (2, 32768)\n",
      "[[-0.48398   0.52771   0.81684  ...  0.10754  -0.16297  -0.14819 ]\n",
      " [-0.76699   0.060077 -1.3187   ...  0.41728  -0.19369   0.13473 ]] \r\n",
      " [[ 1.4783   -3.0477    0.4864   ... -0.32556   0.081582  0.75064 ]\n",
      " [-0.87572   0.45935  -0.91375  ...  1.6293   -0.60795  -0.26352 ]] ***************************************************\n",
      "(1, 65536) (1, 65536)\n",
      "[[-0.48398  0.52771  0.81684 ...  0.41728 -0.19369  0.13473]] \r\n",
      " [[ 1.4783  -3.0477   0.4864  ...  1.6293  -0.60795 -0.26352]] ***************************************************\n"
     ]
    }
   ],
   "source": [
    "normal = np.loadtxt(r'F:\\张老师课题学习内容\\code\\数据集\\试验数据(包括压力脉动和振动)\\2013.9.12-未发生缠绕前\\2013-9.12振动\\2013-9-12振动-1450rmin-mat\\1450r_normalvibx.txt', delimiter=',')\n",
    "chanrao = np.loadtxt(r'F:\\张老师课题学习内容\\code\\数据集\\试验数据(包括压力脉动和振动)\\2013.9.17-发生缠绕后\\振动\\9-17下午振动1450rmin-mat\\1450r_chanraovibx.txt', delimiter=',')\n",
    "print(normal.shape,chanrao.shape,\"***************************************************\")\n",
    "data_normal=normal[20:22]   #提取前两行\n",
    "data_chanrao=chanrao[20:22]   #提取前两行\n",
    "print(data_normal.shape,data_chanrao.shape)\n",
    "print(data_normal,\"\\r\\n\",data_chanrao,\"***************************************************\")\n",
    "data_normal=data_normal.reshape(1,-1)\n",
    "data_chanrao=data_chanrao.reshape(1,-1)\n",
    "print(data_normal.shape,data_chanrao.shape)\n",
    "print(data_normal,\"\\r\\n\",data_chanrao,\"***************************************************\")"
   ]
  },
  {
   "cell_type": "code",
   "execution_count": 3,
   "metadata": {},
   "outputs": [
    {
     "name": "stdout",
     "output_type": "stream",
     "text": [
      "(128, 512) (128, 512)\n"
     ]
    }
   ],
   "source": [
    "#水泵的两种故障类型信号normal正常，chanrao故障\n",
    "data_normal=data_normal.reshape(-1, 512)#(65536,1)-(128, 515)\n",
    "data_chanrao=data_chanrao.reshape(-1,512)\n",
    "print(data_normal.shape,data_chanrao.shape)\n"
   ]
  },
  {
   "cell_type": "code",
   "execution_count": 4,
   "metadata": {},
   "outputs": [
    {
     "name": "stdout",
     "output_type": "stream",
     "text": [
      "(204, 512, 1) (52, 512, 1)\n"
     ]
    }
   ],
   "source": [
    "import numpy as np\n",
    "def yuchuli(data,label):#(4:1)(51:13)\n",
    "    #打乱数据顺序\n",
    "    np.random.shuffle(data)\n",
    "    train = data[0:102,:]\n",
    "    test = data[102:128,:]\n",
    "    label_train = np.array([label for i in range(0,102)])\n",
    "    label_test =np.array([label for i in range(0,26)])\n",
    "    return train,test ,label_train ,label_test\n",
    "def stackkk(a,b,c,d,e,f,g,h):\n",
    "    aa = np.vstack((a, e))\n",
    "    bb = np.vstack((b, f))\n",
    "    cc = np.hstack((c, g))\n",
    "    dd = np.hstack((d, h))\n",
    "    return aa,bb,cc,dd\n",
    "x_tra0,x_tes0,y_tra0,y_tes0 = yuchuli(data_normal,0)\n",
    "x_tra1,x_tes1,y_tra1,y_tes1 = yuchuli(data_chanrao,1)\n",
    "tr1,te1,yr1,ye1=stackkk(x_tra0,x_tes0,y_tra0,y_tes0 ,x_tra1,x_tes1,y_tra1,y_tes1)\n",
    "\n",
    "x_train=tr1\n",
    "x_test=te1\n",
    "y_train = yr1\n",
    "y_test = ye1\n",
    "\n",
    "#打乱数据\n",
    "state = np.random.get_state()\n",
    "np.random.shuffle(x_train)\n",
    "np.random.set_state(state)\n",
    "np.random.shuffle(y_train)\n",
    "\n",
    "state = np.random.get_state()\n",
    "np.random.shuffle(x_test)\n",
    "np.random.set_state(state)\n",
    "np.random.shuffle(y_test)\n",
    "\n",
    "\n",
    "#对训练集和测试集标准化\n",
    "def ZscoreNormalization(x):\n",
    "    \"\"\"Z-score normaliaztion\"\"\"\n",
    "    x = (x - np.mean(x)) / np.std(x)\n",
    "    return x\n",
    "x_train=ZscoreNormalization(x_train)\n",
    "x_test=ZscoreNormalization(x_test)\n",
    "# print(x_test[0])\n",
    "\n",
    "\n",
    "#转化为一维序列\n",
    "x_train = x_train.reshape(-1,512,1)\n",
    "x_test = x_test.reshape(-1,512,1)\n",
    "print(x_train.shape,x_test.shape)\n",
    "\n",
    "def to_one_hot(labels,dimension=2):\n",
    "    results = np.zeros((len(labels),dimension))\n",
    "    for i,label in enumerate(labels):\n",
    "        results[i,label] = 1\n",
    "    return results\n",
    "one_hot_train_labels = to_one_hot(y_train)\n",
    "one_hot_test_labels = to_one_hot(y_test)\n"
   ]
  },
  {
   "cell_type": "code",
   "execution_count": 5,
   "metadata": {},
   "outputs": [
    {
     "name": "stdout",
     "output_type": "stream",
     "text": [
      "Model: \"model\"\n",
      "_________________________________________________________________\n",
      "Layer (type)                 Output Shape              Param #   \n",
      "=================================================================\n",
      "input_1 (InputLayer)         [(None, 512, 1, 1)]       0         \n",
      "_________________________________________________________________\n",
      "flatten (Flatten)            (None, 512)               0         \n",
      "_________________________________________________________________\n",
      "dense (Dense)                (None, 12)                6156      \n",
      "_________________________________________________________________\n",
      "dense_1 (Dense)              (None, 6)                 78        \n",
      "_________________________________________________________________\n",
      "dense_2 (Dense)              (None, 2)                 14        \n",
      "=================================================================\n",
      "Total params: 6,248\n",
      "Trainable params: 6,248\n",
      "Non-trainable params: 0\n",
      "_________________________________________________________________\n"
     ]
    }
   ],
   "source": [
    "x = layers.Input(shape=[512,1,1])\n",
    "Flatten=layers.Flatten()(x)\n",
    "Dense1=layers.Dense(12, activation='relu')(Flatten)\n",
    "Dense2=layers.Dense(6, activation='relu')(Dense1)\n",
    "Dense3=layers.Dense(2, activation='softmax')(Dense2)\n",
    "model = keras.Model(x, Dense3)    \n",
    "model.summary() "
   ]
  },
  {
   "cell_type": "code",
   "execution_count": 6,
   "metadata": {},
   "outputs": [],
   "source": [
    "#定义优化\n",
    "model.compile(loss='categorical_crossentropy',\n",
    "              optimizer='adam',metrics=['accuracy']) "
   ]
  },
  {
   "cell_type": "code",
   "execution_count": 7,
   "metadata": {
    "scrolled": true
   },
   "outputs": [
    {
     "name": "stdout",
     "output_type": "stream",
     "text": [
      "Epoch 1/50\n",
      "19/19 [==============================] - 2s 60ms/step - loss: 0.7969 - accuracy: 0.4367 - val_loss: 0.6697 - val_accuracy: 0.7143\n",
      "Epoch 2/50\n",
      "19/19 [==============================] - 0s 4ms/step - loss: 0.6284 - accuracy: 0.5834 - val_loss: 0.6666 - val_accuracy: 0.6190\n",
      "Epoch 3/50\n",
      "19/19 [==============================] - 0s 4ms/step - loss: 0.5347 - accuracy: 0.7726 - val_loss: 0.6478 - val_accuracy: 0.6190\n",
      "Epoch 4/50\n",
      "19/19 [==============================] - 0s 5ms/step - loss: 0.4766 - accuracy: 0.8225 - val_loss: 0.6625 - val_accuracy: 0.6190\n",
      "Epoch 5/50\n",
      "19/19 [==============================] - 0s 4ms/step - loss: 0.4126 - accuracy: 0.8778 - val_loss: 0.6801 - val_accuracy: 0.6667\n",
      "Epoch 6/50\n",
      "19/19 [==============================] - 0s 4ms/step - loss: 0.3657 - accuracy: 0.9050 - val_loss: 0.6944 - val_accuracy: 0.6667\n",
      "Epoch 7/50\n",
      "19/19 [==============================] - 0s 3ms/step - loss: 0.3090 - accuracy: 0.9468 - val_loss: 0.6958 - val_accuracy: 0.6667\n",
      "Epoch 8/50\n",
      "19/19 [==============================] - 0s 4ms/step - loss: 0.2833 - accuracy: 0.9469 - val_loss: 0.6841 - val_accuracy: 0.6667\n",
      "Epoch 9/50\n",
      "19/19 [==============================] - 0s 4ms/step - loss: 0.2451 - accuracy: 0.9692 - val_loss: 0.6904 - val_accuracy: 0.6667\n",
      "Epoch 10/50\n",
      "19/19 [==============================] - 0s 3ms/step - loss: 0.1916 - accuracy: 0.9895 - val_loss: 0.6878 - val_accuracy: 0.6667\n",
      "Epoch 11/50\n",
      "19/19 [==============================] - 0s 3ms/step - loss: 0.1932 - accuracy: 0.9862 - val_loss: 0.6830 - val_accuracy: 0.6667\n",
      "Epoch 12/50\n",
      "19/19 [==============================] - 0s 3ms/step - loss: 0.1633 - accuracy: 0.9961 - val_loss: 0.6822 - val_accuracy: 0.6667\n",
      "Epoch 13/50\n",
      "19/19 [==============================] - 0s 5ms/step - loss: 0.1312 - accuracy: 0.9955 - val_loss: 0.6875 - val_accuracy: 0.6190\n",
      "Epoch 14/50\n",
      "19/19 [==============================] - 0s 4ms/step - loss: 0.1115 - accuracy: 1.0000 - val_loss: 0.6789 - val_accuracy: 0.5714\n",
      "Epoch 15/50\n",
      "19/19 [==============================] - 0s 5ms/step - loss: 0.0953 - accuracy: 0.9880 - val_loss: 0.6548 - val_accuracy: 0.5714\n",
      "Epoch 16/50\n",
      "19/19 [==============================] - 0s 5ms/step - loss: 0.0927 - accuracy: 1.0000 - val_loss: 0.6446 - val_accuracy: 0.6190\n",
      "Epoch 17/50\n",
      "19/19 [==============================] - 0s 4ms/step - loss: 0.0721 - accuracy: 1.0000 - val_loss: 0.6347 - val_accuracy: 0.6667\n",
      "Epoch 18/50\n",
      "19/19 [==============================] - 0s 4ms/step - loss: 0.0733 - accuracy: 0.9995 - val_loss: 0.6336 - val_accuracy: 0.6667\n",
      "Epoch 19/50\n",
      "19/19 [==============================] - 0s 5ms/step - loss: 0.0483 - accuracy: 1.0000 - val_loss: 0.6268 - val_accuracy: 0.6190\n",
      "Epoch 20/50\n",
      "19/19 [==============================] - 0s 3ms/step - loss: 0.0594 - accuracy: 1.0000 - val_loss: 0.6266 - val_accuracy: 0.6667\n",
      "Epoch 21/50\n",
      "19/19 [==============================] - 0s 4ms/step - loss: 0.0404 - accuracy: 1.0000 - val_loss: 0.6280 - val_accuracy: 0.6190\n",
      "Epoch 22/50\n",
      "19/19 [==============================] - 0s 3ms/step - loss: 0.0440 - accuracy: 1.0000 - val_loss: 0.6316 - val_accuracy: 0.6190\n",
      "Epoch 23/50\n",
      "19/19 [==============================] - 0s 4ms/step - loss: 0.0404 - accuracy: 1.0000 - val_loss: 0.6278 - val_accuracy: 0.6190\n",
      "Epoch 24/50\n",
      "19/19 [==============================] - 0s 3ms/step - loss: 0.0380 - accuracy: 1.0000 - val_loss: 0.6217 - val_accuracy: 0.6190\n",
      "Epoch 25/50\n",
      "19/19 [==============================] - 0s 4ms/step - loss: 0.0321 - accuracy: 1.0000 - val_loss: 0.6251 - val_accuracy: 0.6190\n",
      "Epoch 26/50\n",
      "19/19 [==============================] - 0s 4ms/step - loss: 0.0294 - accuracy: 1.0000 - val_loss: 0.6235 - val_accuracy: 0.6190\n",
      "Epoch 27/50\n",
      "19/19 [==============================] - 0s 4ms/step - loss: 0.0303 - accuracy: 1.0000 - val_loss: 0.6221 - val_accuracy: 0.6190\n",
      "Epoch 28/50\n",
      "19/19 [==============================] - 0s 5ms/step - loss: 0.0294 - accuracy: 1.0000 - val_loss: 0.6183 - val_accuracy: 0.6667\n",
      "Epoch 29/50\n",
      "19/19 [==============================] - 0s 5ms/step - loss: 0.0461 - accuracy: 1.0000 - val_loss: 0.6191 - val_accuracy: 0.6667\n",
      "Epoch 30/50\n",
      "19/19 [==============================] - 0s 5ms/step - loss: 0.0260 - accuracy: 1.0000 - val_loss: 0.6135 - val_accuracy: 0.6667\n",
      "Epoch 31/50\n",
      "19/19 [==============================] - 0s 5ms/step - loss: 0.0203 - accuracy: 1.0000 - val_loss: 0.6135 - val_accuracy: 0.6667\n",
      "Epoch 32/50\n",
      "19/19 [==============================] - 0s 4ms/step - loss: 0.0349 - accuracy: 1.0000 - val_loss: 0.6112 - val_accuracy: 0.7143\n",
      "Epoch 33/50\n",
      "19/19 [==============================] - 0s 4ms/step - loss: 0.0263 - accuracy: 1.0000 - val_loss: 0.6116 - val_accuracy: 0.7143\n",
      "Epoch 34/50\n",
      "19/19 [==============================] - 0s 4ms/step - loss: 0.0252 - accuracy: 1.0000 - val_loss: 0.6126 - val_accuracy: 0.7143\n",
      "Epoch 35/50\n",
      "19/19 [==============================] - 0s 4ms/step - loss: 0.0110 - accuracy: 1.0000 - val_loss: 0.6092 - val_accuracy: 0.7143\n",
      "Epoch 36/50\n",
      "19/19 [==============================] - 0s 4ms/step - loss: 0.0229 - accuracy: 1.0000 - val_loss: 0.6060 - val_accuracy: 0.7143\n",
      "Epoch 37/50\n",
      "19/19 [==============================] - 0s 5ms/step - loss: 0.0208 - accuracy: 1.0000 - val_loss: 0.6025 - val_accuracy: 0.7143\n",
      "Epoch 38/50\n",
      "19/19 [==============================] - 0s 4ms/step - loss: 0.0133 - accuracy: 1.0000 - val_loss: 0.5966 - val_accuracy: 0.7143\n",
      "Epoch 39/50\n",
      "19/19 [==============================] - 0s 5ms/step - loss: 0.0120 - accuracy: 1.0000 - val_loss: 0.5881 - val_accuracy: 0.7143\n",
      "Epoch 40/50\n",
      "19/19 [==============================] - 0s 6ms/step - loss: 0.0065 - accuracy: 1.0000 - val_loss: 0.5852 - val_accuracy: 0.7143\n",
      "Epoch 41/50\n",
      "19/19 [==============================] - 0s 6ms/step - loss: 0.0103 - accuracy: 1.0000 - val_loss: 0.5823 - val_accuracy: 0.7143\n",
      "Epoch 42/50\n",
      "19/19 [==============================] - 0s 4ms/step - loss: 0.0093 - accuracy: 1.0000 - val_loss: 0.5775 - val_accuracy: 0.7143\n",
      "Epoch 43/50\n",
      "19/19 [==============================] - 0s 4ms/step - loss: 0.0087 - accuracy: 1.0000 - val_loss: 0.5765 - val_accuracy: 0.7143\n",
      "Epoch 44/50\n",
      "19/19 [==============================] - 0s 6ms/step - loss: 0.0042 - accuracy: 1.0000 - val_loss: 0.5778 - val_accuracy: 0.7143\n",
      "Epoch 45/50\n",
      "19/19 [==============================] - 0s 4ms/step - loss: 0.0064 - accuracy: 1.0000 - val_loss: 0.5760 - val_accuracy: 0.7143\n",
      "Epoch 46/50\n",
      "19/19 [==============================] - 0s 6ms/step - loss: 0.0052 - accuracy: 1.0000 - val_loss: 0.5752 - val_accuracy: 0.7143\n",
      "Epoch 47/50\n",
      "19/19 [==============================] - 0s 6ms/step - loss: 0.0064 - accuracy: 1.0000 - val_loss: 0.5728 - val_accuracy: 0.7143\n",
      "Epoch 48/50\n",
      "19/19 [==============================] - 0s 5ms/step - loss: 0.0050 - accuracy: 1.0000 - val_loss: 0.5729 - val_accuracy: 0.7143\n",
      "Epoch 49/50\n",
      "19/19 [==============================] - 0s 4ms/step - loss: 0.0047 - accuracy: 1.0000 - val_loss: 0.5732 - val_accuracy: 0.7143\n",
      "Epoch 50/50\n",
      "19/19 [==============================] - 0s 4ms/step - loss: 0.0035 - accuracy: 1.0000 - val_loss: 0.5721 - val_accuracy: 0.7619\n",
      "time: 6.458275079727173\n"
     ]
    }
   ],
   "source": [
    "import time\n",
    "time_begin = time.time()\n",
    "history = model.fit(x_train,one_hot_train_labels,\n",
    "                    validation_split=0.1,\n",
    "                    epochs=50,batch_size=10,\n",
    "                    shuffle=True)\n",
    "time_end = time.time()\n",
    "time = time_end - time_begin\n",
    "print('time:', time)"
   ]
  },
  {
   "cell_type": "code",
   "execution_count": 8,
   "metadata": {},
   "outputs": [
    {
     "name": "stdout",
     "output_type": "stream",
     "text": [
      "Test loss: 1.1192303895950317\n",
      "Test accuracy: 0.6153846383094788\n",
      "time: 0.08476614952087402\n"
     ]
    }
   ],
   "source": [
    "import time\n",
    "time_begin = time.time()\n",
    "score = model.evaluate(x_test,one_hot_test_labels, verbose=0)\n",
    "print('Test loss:', score[0])\n",
    "print('Test accuracy:', score[1])\n",
    " \n",
    "time_end = time.time()\n",
    "time = time_end - time_begin\n",
    "print('time:', time)"
   ]
  },
  {
   "cell_type": "code",
   "execution_count": 9,
   "metadata": {},
   "outputs": [
    {
     "data": {
      "image/png": "[encoded data removed]",
      "text/plain": [
       "<Figure size 432x288 with 1 Axes>"
      ]
     },
     "metadata": {
      "needs_background": "light"
     },
     "output_type": "display_data"
    }
   ],
   "source": [
    "#绘制acc-loss曲线\n",
    "import matplotlib.pyplot as plt\n",
    "\n",
    "plt.plot(history.history['loss'],color='r')\n",
    "plt.plot(history.history['val_loss'],color='g')\n",
    "plt.plot(history.history['accuracy'],color='b')\n",
    "plt.plot(history.history['val_accuracy'],color='k')\n",
    "plt.title('model loss and acc')\n",
    "plt.ylabel('Accuracy')\n",
    "plt.xlabel('epoch')\n",
    "plt.legend(['train_loss', 'test_loss','train_acc', 'test_acc'], loc='center right')\n",
    "# plt.legend(['train_loss','train_acc'], loc='upper left')\n",
    "#plt.savefig('1.png')\n",
    "plt.show()"
   ]
  },
  {
   "cell_type": "code",
   "execution_count": 10,
   "metadata": {},
   "outputs": [
    {
     "data": {
      "image/png": "[encoded data removed]",
      "text/plain": [
       "<Figure size 432x288 with 1 Axes>"
      ]
     },
     "metadata": {
      "needs_background": "light"
     },
     "output_type": "display_data"
    }
   ],
   "source": [
    "import matplotlib.pyplot as plt\n",
    "\n",
    "plt.plot(history.history['loss'],color='r')\n",
    "plt.plot(history.history['accuracy'],color='b')\n",
    "plt.title('model loss and sccuracy ')\n",
    "plt.ylabel('loss/sccuracy')\n",
    "plt.xlabel('epoch')\n",
    "plt.legend(['train_loss', 'train_sccuracy'], loc='center right')\n",
    "plt.show()"
   ]
  },
  {
   "cell_type": "code",
   "execution_count": null,
   "metadata": {},
   "outputs": [],
   "source": []
  },
  {
   "cell_type": "code",
   "execution_count": null,
   "metadata": {},
   "outputs": [],
   "source": []
  }
 ],
 "metadata": {
  "kernelspec": {
   "display_name": "Python 3",
   "language": "python",
   "name": "python3"
  },
  "language_info": {
   "codemirror_mode": {
    "name": "ipython",
    "version": 3
   },
   "file_extension": ".py",
   "mimetype": "text/x-python",
   "name": "python",
   "nbconvert_exporter": "python",
   "pygments_lexer": "ipython3",
   "version": "3.8.5"
  }
 },
 "nbformat": 4,
 "nbformat_minor": 2
}
