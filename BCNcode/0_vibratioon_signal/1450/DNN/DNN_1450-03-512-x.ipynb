{
 "cells": [
  {
   "cell_type": "code",
   "execution_count": 1,
   "metadata": {},
   "outputs": [],
   "source": [
    "from tensorflow import keras\n",
    "from tensorflow.keras import *\n",
    "from tensorflow.keras.models import *\n",
    "from tensorflow.keras.layers import *\n",
    "from tensorflow.keras.regularizers import l2#正则化L2\n",
    "import tensorflow as tf\n",
    "import numpy as np\n",
    "import pandas as pd"
   ]
  },
  {
   "cell_type": "code",
   "execution_count": 2,
   "metadata": {},
   "outputs": [
    {
     "name": "stdout",
     "output_type": "stream",
     "text": [
      "(22, 32768) (22, 32768) ***************************************************\n",
      "(2, 32768) (2, 32768)\n",
      "[[ 0.2532      0.3779      0.066995   ...  0.27052     0.044949\n",
      "  -0.1731    ]\n",
      " [ 0.58844    -0.50922     0.33401    ...  0.00070802  0.025361\n",
      "   0.24553   ]] \r\n",
      " [[ 0.02479  1.0348   0.75866 ... -0.77082 -1.1474  -1.0268 ]\n",
      " [-0.60782 -0.38561 -0.46617 ... -0.58233  0.17711  0.9394 ]] ***************************************************\n",
      "(1, 65536) (1, 65536)\n",
      "[[0.2532     0.3779     0.066995   ... 0.00070802 0.025361   0.24553   ]] \r\n",
      " [[ 0.02479  1.0348   0.75866 ... -0.58233  0.17711  0.9394 ]] ***************************************************\n"
     ]
    }
   ],
   "source": [
    "normal = np.loadtxt(r'F:\\张老师课题学习内容\\code\\数据集\\试验数据(包括压力脉动和振动)\\2013.9.12-未发生缠绕前\\2013-9.12振动\\2013-9-12振动-1450rmin-mat\\1450r_normalvibx.txt', delimiter=',')\n",
    "chanrao = np.loadtxt(r'F:\\张老师课题学习内容\\code\\数据集\\试验数据(包括压力脉动和振动)\\2013.9.17-发生缠绕后\\振动\\9-17下午振动1450rmin-mat\\1450r_chanraovibx.txt', delimiter=',')\n",
    "print(normal.shape,chanrao.shape,\"***************************************************\")\n",
    "data_normal=normal[4:6]   #提取前两行\n",
    "data_chanrao=chanrao[4:6]   #提取前两行\n",
    "print(data_normal.shape,data_chanrao.shape)\n",
    "print(data_normal,\"\\r\\n\",data_chanrao,\"***************************************************\")\n",
    "data_normal=data_normal.reshape(1,-1)\n",
    "data_chanrao=data_chanrao.reshape(1,-1)\n",
    "print(data_normal.shape,data_chanrao.shape)\n",
    "print(data_normal,\"\\r\\n\",data_chanrao,\"***************************************************\")"
   ]
  },
  {
   "cell_type": "code",
   "execution_count": 3,
   "metadata": {},
   "outputs": [
    {
     "name": "stdout",
     "output_type": "stream",
     "text": [
      "(128, 512) (128, 512)\n"
     ]
    }
   ],
   "source": [
    "#水泵的两种故障类型信号normal正常，chanrao故障\n",
    "data_normal=data_normal.reshape(-1, 512)#(65536,1)-(128, 515)\n",
    "data_chanrao=data_chanrao.reshape(-1,512)\n",
    "print(data_normal.shape,data_chanrao.shape)\n"
   ]
  },
  {
   "cell_type": "code",
   "execution_count": 4,
   "metadata": {},
   "outputs": [
    {
     "name": "stdout",
     "output_type": "stream",
     "text": [
      "(204, 512, 1) (52, 512, 1)\n"
     ]
    }
   ],
   "source": [
    "import numpy as np\n",
    "def yuchuli(data,label):#(4:1)(51:13)\n",
    "    #打乱数据顺序\n",
    "    np.random.shuffle(data)\n",
    "    train = data[0:102,:]\n",
    "    test = data[102:128,:]\n",
    "    label_train = np.array([label for i in range(0,102)])\n",
    "    label_test =np.array([label for i in range(0,26)])\n",
    "    return train,test ,label_train ,label_test\n",
    "def stackkk(a,b,c,d,e,f,g,h):\n",
    "    aa = np.vstack((a, e))\n",
    "    bb = np.vstack((b, f))\n",
    "    cc = np.hstack((c, g))\n",
    "    dd = np.hstack((d, h))\n",
    "    return aa,bb,cc,dd\n",
    "x_tra0,x_tes0,y_tra0,y_tes0 = yuchuli(data_normal,0)\n",
    "x_tra1,x_tes1,y_tra1,y_tes1 = yuchuli(data_chanrao,1)\n",
    "tr1,te1,yr1,ye1=stackkk(x_tra0,x_tes0,y_tra0,y_tes0 ,x_tra1,x_tes1,y_tra1,y_tes1)\n",
    "\n",
    "x_train=tr1\n",
    "x_test=te1\n",
    "y_train = yr1\n",
    "y_test = ye1\n",
    "\n",
    "#打乱数据\n",
    "state = np.random.get_state()\n",
    "np.random.shuffle(x_train)\n",
    "np.random.set_state(state)\n",
    "np.random.shuffle(y_train)\n",
    "\n",
    "state = np.random.get_state()\n",
    "np.random.shuffle(x_test)\n",
    "np.random.set_state(state)\n",
    "np.random.shuffle(y_test)\n",
    "\n",
    "\n",
    "#对训练集和测试集标准化\n",
    "def ZscoreNormalization(x):\n",
    "    \"\"\"Z-score normaliaztion\"\"\"\n",
    "    x = (x - np.mean(x)) / np.std(x)\n",
    "    return x\n",
    "x_train=ZscoreNormalization(x_train)\n",
    "x_test=ZscoreNormalization(x_test)\n",
    "# print(x_test[0])\n",
    "\n",
    "\n",
    "#转化为一维序列\n",
    "x_train = x_train.reshape(-1,512,1)\n",
    "x_test = x_test.reshape(-1,512,1)\n",
    "print(x_train.shape,x_test.shape)\n",
    "\n",
    "def to_one_hot(labels,dimension=2):\n",
    "    results = np.zeros((len(labels),dimension))\n",
    "    for i,label in enumerate(labels):\n",
    "        results[i,label] = 1\n",
    "    return results\n",
    "one_hot_train_labels = to_one_hot(y_train)\n",
    "one_hot_test_labels = to_one_hot(y_test)\n"
   ]
  },
  {
   "cell_type": "code",
   "execution_count": 5,
   "metadata": {},
   "outputs": [
    {
     "name": "stdout",
     "output_type": "stream",
     "text": [
      "Model: \"model\"\n",
      "_________________________________________________________________\n",
      "Layer (type)                 Output Shape              Param #   \n",
      "=================================================================\n",
      "input_1 (InputLayer)         [(None, 512, 1, 1)]       0         \n",
      "_________________________________________________________________\n",
      "flatten (Flatten)            (None, 512)               0         \n",
      "_________________________________________________________________\n",
      "dense (Dense)                (None, 12)                6156      \n",
      "_________________________________________________________________\n",
      "dense_1 (Dense)              (None, 6)                 78        \n",
      "_________________________________________________________________\n",
      "dense_2 (Dense)              (None, 2)                 14        \n",
      "=================================================================\n",
      "Total params: 6,248\n",
      "Trainable params: 6,248\n",
      "Non-trainable params: 0\n",
      "_________________________________________________________________\n"
     ]
    }
   ],
   "source": [
    "x = layers.Input(shape=[512,1,1])\n",
    "Flatten=layers.Flatten()(x)\n",
    "Dense1=layers.Dense(12, activation='relu')(Flatten)\n",
    "Dense2=layers.Dense(6, activation='relu')(Dense1)\n",
    "Dense3=layers.Dense(2, activation='softmax')(Dense2)\n",
    "model = keras.Model(x, Dense3)    \n",
    "model.summary() "
   ]
  },
  {
   "cell_type": "code",
   "execution_count": 6,
   "metadata": {},
   "outputs": [],
   "source": [
    "#定义优化\n",
    "model.compile(loss='categorical_crossentropy',\n",
    "              optimizer='adam',metrics=['accuracy']) "
   ]
  },
  {
   "cell_type": "code",
   "execution_count": 7,
   "metadata": {
    "scrolled": true
   },
   "outputs": [
    {
     "name": "stdout",
     "output_type": "stream",
     "text": [
      "Epoch 1/50\n",
      "19/19 [==============================] - 2s 63ms/step - loss: 1.3554 - accuracy: 0.4529 - val_loss: 1.2290 - val_accuracy: 0.5714\n",
      "Epoch 2/50\n",
      "19/19 [==============================] - 0s 3ms/step - loss: 0.6984 - accuracy: 0.6496 - val_loss: 1.1247 - val_accuracy: 0.5714\n",
      "Epoch 3/50\n",
      "19/19 [==============================] - 0s 3ms/step - loss: 0.5392 - accuracy: 0.7637 - val_loss: 1.0862 - val_accuracy: 0.5714\n",
      "Epoch 4/50\n",
      "19/19 [==============================] - 0s 3ms/step - loss: 0.4764 - accuracy: 0.7784 - val_loss: 1.0456 - val_accuracy: 0.4762\n",
      "Epoch 5/50\n",
      "19/19 [==============================] - 0s 3ms/step - loss: 0.3363 - accuracy: 0.9061 - val_loss: 1.0409 - val_accuracy: 0.5238\n",
      "Epoch 6/50\n",
      "19/19 [==============================] - 0s 4ms/step - loss: 0.3105 - accuracy: 0.8967 - val_loss: 1.0505 - val_accuracy: 0.5238\n",
      "Epoch 7/50\n",
      "19/19 [==============================] - 0s 3ms/step - loss: 0.2900 - accuracy: 0.9212 - val_loss: 1.0678 - val_accuracy: 0.5238\n",
      "Epoch 8/50\n",
      "19/19 [==============================] - 0s 3ms/step - loss: 0.2438 - accuracy: 0.9551 - val_loss: 1.0884 - val_accuracy: 0.5238\n",
      "Epoch 9/50\n",
      "19/19 [==============================] - 0s 3ms/step - loss: 0.1841 - accuracy: 0.9779 - val_loss: 1.1076 - val_accuracy: 0.5238\n",
      "Epoch 10/50\n",
      "19/19 [==============================] - 0s 3ms/step - loss: 0.1515 - accuracy: 0.9790 - val_loss: 1.1396 - val_accuracy: 0.5714\n",
      "Epoch 11/50\n",
      "19/19 [==============================] - 0s 4ms/step - loss: 0.1426 - accuracy: 0.9812 - val_loss: 1.1675 - val_accuracy: 0.5714\n",
      "Epoch 12/50\n",
      "19/19 [==============================] - 0s 3ms/step - loss: 0.1173 - accuracy: 0.9729 - val_loss: 1.1877 - val_accuracy: 0.5714\n",
      "Epoch 13/50\n",
      "19/19 [==============================] - 0s 3ms/step - loss: 0.0899 - accuracy: 0.9853 - val_loss: 1.2117 - val_accuracy: 0.5714\n",
      "Epoch 14/50\n",
      "19/19 [==============================] - 0s 3ms/step - loss: 0.0921 - accuracy: 0.9780 - val_loss: 1.2405 - val_accuracy: 0.5714\n",
      "Epoch 15/50\n",
      "19/19 [==============================] - 0s 3ms/step - loss: 0.0858 - accuracy: 0.9831 - val_loss: 1.2541 - val_accuracy: 0.5238\n",
      "Epoch 16/50\n",
      "19/19 [==============================] - 0s 3ms/step - loss: 0.0781 - accuracy: 0.9905 - val_loss: 1.2794 - val_accuracy: 0.5238\n",
      "Epoch 17/50\n",
      "19/19 [==============================] - 0s 4ms/step - loss: 0.0750 - accuracy: 0.9812 - val_loss: 1.2993 - val_accuracy: 0.5714\n",
      "Epoch 18/50\n",
      "19/19 [==============================] - 0s 3ms/step - loss: 0.0614 - accuracy: 0.9924 - val_loss: 1.3257 - val_accuracy: 0.5714\n",
      "Epoch 19/50\n",
      "19/19 [==============================] - 0s 3ms/step - loss: 0.0521 - accuracy: 0.9850 - val_loss: 1.3412 - val_accuracy: 0.5714\n",
      "Epoch 20/50\n",
      "19/19 [==============================] - 0s 3ms/step - loss: 0.0504 - accuracy: 0.9911 - val_loss: 1.3626 - val_accuracy: 0.6190\n",
      "Epoch 21/50\n",
      "19/19 [==============================] - 0s 3ms/step - loss: 0.0380 - accuracy: 1.0000 - val_loss: 1.3850 - val_accuracy: 0.6190\n",
      "Epoch 22/50\n",
      "19/19 [==============================] - 0s 3ms/step - loss: 0.0352 - accuracy: 1.0000 - val_loss: 1.4046 - val_accuracy: 0.6190\n",
      "Epoch 23/50\n",
      "19/19 [==============================] - 0s 3ms/step - loss: 0.0332 - accuracy: 1.0000 - val_loss: 1.4219 - val_accuracy: 0.6190\n",
      "Epoch 24/50\n",
      "19/19 [==============================] - 0s 3ms/step - loss: 0.0269 - accuracy: 1.0000 - val_loss: 1.4440 - val_accuracy: 0.6190\n",
      "Epoch 25/50\n",
      "19/19 [==============================] - 0s 3ms/step - loss: 0.0187 - accuracy: 1.0000 - val_loss: 1.4643 - val_accuracy: 0.6190\n",
      "Epoch 26/50\n",
      "19/19 [==============================] - 0s 3ms/step - loss: 0.0193 - accuracy: 1.0000 - val_loss: 1.4780 - val_accuracy: 0.6190\n",
      "Epoch 27/50\n",
      "19/19 [==============================] - 0s 3ms/step - loss: 0.0166 - accuracy: 1.0000 - val_loss: 1.4983 - val_accuracy: 0.6190\n",
      "Epoch 28/50\n",
      "19/19 [==============================] - 0s 3ms/step - loss: 0.0139 - accuracy: 1.0000 - val_loss: 1.5118 - val_accuracy: 0.6190\n",
      "Epoch 29/50\n",
      "19/19 [==============================] - 0s 4ms/step - loss: 0.0128 - accuracy: 1.0000 - val_loss: 1.5229 - val_accuracy: 0.6190\n",
      "Epoch 30/50\n",
      "19/19 [==============================] - 0s 3ms/step - loss: 0.0119 - accuracy: 1.0000 - val_loss: 1.5354 - val_accuracy: 0.6190\n",
      "Epoch 31/50\n",
      "19/19 [==============================] - 0s 3ms/step - loss: 0.0102 - accuracy: 1.0000 - val_loss: 1.5514 - val_accuracy: 0.6190\n",
      "Epoch 32/50\n",
      "19/19 [==============================] - 0s 3ms/step - loss: 0.0110 - accuracy: 1.0000 - val_loss: 1.5652 - val_accuracy: 0.6190\n",
      "Epoch 33/50\n",
      "19/19 [==============================] - 0s 3ms/step - loss: 0.0089 - accuracy: 1.0000 - val_loss: 1.5802 - val_accuracy: 0.6190\n",
      "Epoch 34/50\n",
      "19/19 [==============================] - 0s 3ms/step - loss: 0.0078 - accuracy: 1.0000 - val_loss: 1.5933 - val_accuracy: 0.6190\n",
      "Epoch 35/50\n",
      "19/19 [==============================] - 0s 3ms/step - loss: 0.0071 - accuracy: 1.0000 - val_loss: 1.6064 - val_accuracy: 0.6190\n",
      "Epoch 36/50\n",
      "19/19 [==============================] - 0s 3ms/step - loss: 0.0075 - accuracy: 1.0000 - val_loss: 1.6184 - val_accuracy: 0.6667\n",
      "Epoch 37/50\n",
      "19/19 [==============================] - 0s 3ms/step - loss: 0.0064 - accuracy: 1.0000 - val_loss: 1.6260 - val_accuracy: 0.6667\n",
      "Epoch 38/50\n",
      "19/19 [==============================] - 0s 3ms/step - loss: 0.0067 - accuracy: 1.0000 - val_loss: 1.6399 - val_accuracy: 0.6667\n",
      "Epoch 39/50\n",
      "19/19 [==============================] - 0s 3ms/step - loss: 0.0065 - accuracy: 1.0000 - val_loss: 1.6521 - val_accuracy: 0.6667\n",
      "Epoch 40/50\n",
      "19/19 [==============================] - 0s 3ms/step - loss: 0.0049 - accuracy: 1.0000 - val_loss: 1.6625 - val_accuracy: 0.6190\n",
      "Epoch 41/50\n",
      "19/19 [==============================] - 0s 3ms/step - loss: 0.0054 - accuracy: 1.0000 - val_loss: 1.6710 - val_accuracy: 0.6667\n",
      "Epoch 42/50\n",
      "19/19 [==============================] - 0s 3ms/step - loss: 0.0048 - accuracy: 1.0000 - val_loss: 1.6828 - val_accuracy: 0.6667\n",
      "Epoch 43/50\n",
      "19/19 [==============================] - 0s 3ms/step - loss: 0.0044 - accuracy: 1.0000 - val_loss: 1.6937 - val_accuracy: 0.6667\n",
      "Epoch 44/50\n",
      "19/19 [==============================] - 0s 3ms/step - loss: 0.0048 - accuracy: 1.0000 - val_loss: 1.7026 - val_accuracy: 0.6667\n",
      "Epoch 45/50\n",
      "19/19 [==============================] - 0s 3ms/step - loss: 0.0037 - accuracy: 1.0000 - val_loss: 1.7113 - val_accuracy: 0.6667\n",
      "Epoch 46/50\n",
      "19/19 [==============================] - 0s 3ms/step - loss: 0.0035 - accuracy: 1.0000 - val_loss: 1.7210 - val_accuracy: 0.6667\n",
      "Epoch 47/50\n",
      "19/19 [==============================] - 0s 3ms/step - loss: 0.0033 - accuracy: 1.0000 - val_loss: 1.7288 - val_accuracy: 0.6667\n",
      "Epoch 48/50\n",
      "19/19 [==============================] - 0s 3ms/step - loss: 0.0033 - accuracy: 1.0000 - val_loss: 1.7379 - val_accuracy: 0.6667\n",
      "Epoch 49/50\n",
      "19/19 [==============================] - 0s 3ms/step - loss: 0.0031 - accuracy: 1.0000 - val_loss: 1.7455 - val_accuracy: 0.6667\n",
      "Epoch 50/50\n",
      "19/19 [==============================] - 0s 3ms/step - loss: 0.0033 - accuracy: 1.0000 - val_loss: 1.7542 - val_accuracy: 0.6667\n",
      "time: 5.118263006210327\n"
     ]
    }
   ],
   "source": [
    "import time\n",
    "time_begin = time.time()\n",
    "history = model.fit(x_train,one_hot_train_labels,\n",
    "                    validation_split=0.1,\n",
    "                    epochs=50,batch_size=10,\n",
    "                    shuffle=True)\n",
    "time_end = time.time()\n",
    "time = time_end - time_begin\n",
    "print('time:', time)"
   ]
  },
  {
   "cell_type": "code",
   "execution_count": 8,
   "metadata": {},
   "outputs": [
    {
     "name": "stdout",
     "output_type": "stream",
     "text": [
      "Test loss: 1.2224891185760498\n",
      "Test accuracy: 0.5961538553237915\n",
      "time: 0.05584979057312012\n"
     ]
    }
   ],
   "source": [
    "import time\n",
    "time_begin = time.time()\n",
    "score = model.evaluate(x_test,one_hot_test_labels, verbose=0)\n",
    "print('Test loss:', score[0])\n",
    "print('Test accuracy:', score[1])\n",
    " \n",
    "time_end = time.time()\n",
    "time = time_end - time_begin\n",
    "print('time:', time)"
   ]
  },
  {
   "cell_type": "code",
   "execution_count": 9,
   "metadata": {},
   "outputs": [
    {
     "data": {
      "image/png": "[encoded data removed]",
      "text/plain": [
       "<Figure size 432x288 with 1 Axes>"
      ]
     },
     "metadata": {
      "needs_background": "light"
     },
     "output_type": "display_data"
    }
   ],
   "source": [
    "#绘制acc-loss曲线\n",
    "import matplotlib.pyplot as plt\n",
    "\n",
    "plt.plot(history.history['loss'],color='r')\n",
    "plt.plot(history.history['val_loss'],color='g')\n",
    "plt.plot(history.history['accuracy'],color='b')\n",
    "plt.plot(history.history['val_accuracy'],color='k')\n",
    "plt.title('model loss and acc')\n",
    "plt.ylabel('Accuracy')\n",
    "plt.xlabel('epoch')\n",
    "plt.legend(['train_loss', 'test_loss','train_acc', 'test_acc'], loc='center right')\n",
    "# plt.legend(['train_loss','train_acc'], loc='upper left')\n",
    "#plt.savefig('1.png')\n",
    "plt.show()"
   ]
  },
  {
   "cell_type": "code",
   "execution_count": 10,
   "metadata": {},
   "outputs": [
    {
     "data": {
      "image/png": "[encoded data removed]",
      "text/plain": [
       "<Figure size 432x288 with 1 Axes>"
      ]
     },
     "metadata": {
      "needs_background": "light"
     },
     "output_type": "display_data"
    }
   ],
   "source": [
    "import matplotlib.pyplot as plt\n",
    "\n",
    "plt.plot(history.history['loss'],color='r')\n",
    "plt.plot(history.history['accuracy'],color='b')\n",
    "plt.title('model loss and sccuracy ')\n",
    "plt.ylabel('loss/sccuracy')\n",
    "plt.xlabel('epoch')\n",
    "plt.legend(['train_loss', 'train_sccuracy'], loc='center right')\n",
    "plt.show()"
   ]
  },
  {
   "cell_type": "code",
   "execution_count": null,
   "metadata": {},
   "outputs": [],
   "source": []
  },
  {
   "cell_type": "code",
   "execution_count": null,
   "metadata": {},
   "outputs": [],
   "source": []
  }
 ],
 "metadata": {
  "kernelspec": {
   "display_name": "Python 3",
   "language": "python",
   "name": "python3"
  },
  "language_info": {
   "codemirror_mode": {
    "name": "ipython",
    "version": 3
   },
   "file_extension": ".py",
   "mimetype": "text/x-python",
   "name": "python",
   "nbconvert_exporter": "python",
   "pygments_lexer": "ipython3",
   "version": "3.8.5"
  }
 },
 "nbformat": 4,
 "nbformat_minor": 2
}
