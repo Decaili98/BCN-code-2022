{
 "cells": [
  {
   "cell_type": "code",
   "execution_count": 1,
   "metadata": {},
   "outputs": [],
   "source": [
    "from tensorflow import keras\n",
    "from tensorflow.keras import *\n",
    "from tensorflow.keras.models import *\n",
    "from tensorflow.keras.layers import *\n",
    "from tensorflow.keras.regularizers import l2#正则化L2\n",
    "import tensorflow as tf\n",
    "import numpy as np\n",
    "import pandas as pd"
   ]
  },
  {
   "cell_type": "code",
   "execution_count": 2,
   "metadata": {},
   "outputs": [
    {
     "name": "stdout",
     "output_type": "stream",
     "text": [
      "(22, 32768) (22, 32768) ***************************************************\n",
      "(2, 32768) (2, 32768)\n",
      "[[-0.7288  -2.3215  -0.36534 ...  2.2422   0.55842  0.60367]\n",
      " [ 0.60054  1.1778   0.22803 ... -0.10214 -1.6385  -0.67138]] \r\n",
      " [[-1.2072  -3.1599  -0.59149 ... -0.56369  0.18759 -0.81892]\n",
      " [-0.29128  0.79912  1.267   ... -0.04568  1.7054   0.25676]] ***************************************************\n",
      "(1, 65536) (1, 65536)\n",
      "[[-0.7288  -2.3215  -0.36534 ... -0.10214 -1.6385  -0.67138]] \r\n",
      " [[-1.2072  -3.1599  -0.59149 ... -0.04568  1.7054   0.25676]] ***************************************************\n"
     ]
    }
   ],
   "source": [
    "normal = np.loadtxt(r'F:\\张老师课题学习内容\\code\\数据集\\试验数据(包括压力脉动和振动)\\2013.9.12-未发生缠绕前\\2013-9.12振动\\2013-9-12振动-1450rmin-mat\\1450r_normalvibz.txt', delimiter=',')\n",
    "chanrao = np.loadtxt(r'F:\\张老师课题学习内容\\code\\数据集\\试验数据(包括压力脉动和振动)\\2013.9.17-发生缠绕后\\振动\\9-17下午振动1450rmin-mat\\1450r_chanraovibz.txt', delimiter=',')\n",
    "print(normal.shape,chanrao.shape,\"***************************************************\")\n",
    "data_normal=normal[14:16]   #提取前两行\n",
    "data_chanrao=chanrao[14:16]   #提取前两行\n",
    "print(data_normal.shape,data_chanrao.shape)\n",
    "print(data_normal,\"\\r\\n\",data_chanrao,\"***************************************************\")\n",
    "data_normal=data_normal.reshape(1,-1)\n",
    "data_chanrao=data_chanrao.reshape(1,-1)\n",
    "print(data_normal.shape,data_chanrao.shape)\n",
    "print(data_normal,\"\\r\\n\",data_chanrao,\"***************************************************\")"
   ]
  },
  {
   "cell_type": "code",
   "execution_count": 3,
   "metadata": {},
   "outputs": [
    {
     "name": "stdout",
     "output_type": "stream",
     "text": [
      "(128, 512) (128, 512)\n"
     ]
    }
   ],
   "source": [
    "#水泵的两种故障类型信号normal正常，chanrao故障\n",
    "data_normal=data_normal.reshape(-1, 512)#(65536,1)-(128, 515)\n",
    "data_chanrao=data_chanrao.reshape(-1,512)\n",
    "print(data_normal.shape,data_chanrao.shape)\n"
   ]
  },
  {
   "cell_type": "code",
   "execution_count": 4,
   "metadata": {},
   "outputs": [
    {
     "name": "stdout",
     "output_type": "stream",
     "text": [
      "(204, 512, 1) (52, 512, 1)\n"
     ]
    }
   ],
   "source": [
    "import numpy as np\n",
    "def yuchuli(data,label):#(4:1)(51:13)\n",
    "    #打乱数据顺序\n",
    "    np.random.shuffle(data)\n",
    "    train = data[0:102,:]\n",
    "    test = data[102:128,:]\n",
    "    label_train = np.array([label for i in range(0,102)])\n",
    "    label_test =np.array([label for i in range(0,26)])\n",
    "    return train,test ,label_train ,label_test\n",
    "def stackkk(a,b,c,d,e,f,g,h):\n",
    "    aa = np.vstack((a, e))\n",
    "    bb = np.vstack((b, f))\n",
    "    cc = np.hstack((c, g))\n",
    "    dd = np.hstack((d, h))\n",
    "    return aa,bb,cc,dd\n",
    "x_tra0,x_tes0,y_tra0,y_tes0 = yuchuli(data_normal,0)\n",
    "x_tra1,x_tes1,y_tra1,y_tes1 = yuchuli(data_chanrao,1)\n",
    "tr1,te1,yr1,ye1=stackkk(x_tra0,x_tes0,y_tra0,y_tes0 ,x_tra1,x_tes1,y_tra1,y_tes1)\n",
    "\n",
    "x_train=tr1\n",
    "x_test=te1\n",
    "y_train = yr1\n",
    "y_test = ye1\n",
    "\n",
    "#打乱数据\n",
    "state = np.random.get_state()\n",
    "np.random.shuffle(x_train)\n",
    "np.random.set_state(state)\n",
    "np.random.shuffle(y_train)\n",
    "\n",
    "state = np.random.get_state()\n",
    "np.random.shuffle(x_test)\n",
    "np.random.set_state(state)\n",
    "np.random.shuffle(y_test)\n",
    "\n",
    "\n",
    "#对训练集和测试集标准化\n",
    "def ZscoreNormalization(x):\n",
    "    \"\"\"Z-score normaliaztion\"\"\"\n",
    "    x = (x - np.mean(x)) / np.std(x)\n",
    "    return x\n",
    "x_train=ZscoreNormalization(x_train)\n",
    "x_test=ZscoreNormalization(x_test)\n",
    "# print(x_test[0])\n",
    "\n",
    "\n",
    "#转化为一维序列\n",
    "x_train = x_train.reshape(-1,512,1)\n",
    "x_test = x_test.reshape(-1,512,1)\n",
    "print(x_train.shape,x_test.shape)\n",
    "\n",
    "def to_one_hot(labels,dimension=2):\n",
    "    results = np.zeros((len(labels),dimension))\n",
    "    for i,label in enumerate(labels):\n",
    "        results[i,label] = 1\n",
    "    return results\n",
    "one_hot_train_labels = to_one_hot(y_train)\n",
    "one_hot_test_labels = to_one_hot(y_test)\n"
   ]
  },
  {
   "cell_type": "code",
   "execution_count": 5,
   "metadata": {},
   "outputs": [
    {
     "name": "stdout",
     "output_type": "stream",
     "text": [
      "Model: \"model\"\n",
      "_________________________________________________________________\n",
      "Layer (type)                 Output Shape              Param #   \n",
      "=================================================================\n",
      "input_1 (InputLayer)         [(None, 512, 1, 1)]       0         \n",
      "_________________________________________________________________\n",
      "flatten (Flatten)            (None, 512)               0         \n",
      "_________________________________________________________________\n",
      "dense (Dense)                (None, 12)                6156      \n",
      "_________________________________________________________________\n",
      "dense_1 (Dense)              (None, 6)                 78        \n",
      "_________________________________________________________________\n",
      "dense_2 (Dense)              (None, 2)                 14        \n",
      "=================================================================\n",
      "Total params: 6,248\n",
      "Trainable params: 6,248\n",
      "Non-trainable params: 0\n",
      "_________________________________________________________________\n"
     ]
    }
   ],
   "source": [
    "x = layers.Input(shape=[512,1,1])\n",
    "Flatten=layers.Flatten()(x)\n",
    "Dense1=layers.Dense(12, activation='relu')(Flatten)\n",
    "Dense2=layers.Dense(6, activation='relu')(Dense1)\n",
    "Dense3=layers.Dense(2, activation='softmax')(Dense2)\n",
    "model = keras.Model(x, Dense3)    \n",
    "model.summary() "
   ]
  },
  {
   "cell_type": "code",
   "execution_count": 6,
   "metadata": {},
   "outputs": [],
   "source": [
    "#定义优化\n",
    "model.compile(loss='categorical_crossentropy',\n",
    "              optimizer='adam',metrics=['accuracy']) "
   ]
  },
  {
   "cell_type": "code",
   "execution_count": 7,
   "metadata": {
    "scrolled": true
   },
   "outputs": [
    {
     "name": "stdout",
     "output_type": "stream",
     "text": [
      "Epoch 1/50\n",
      "19/19 [==============================] - 2s 64ms/step - loss: 0.8001 - accuracy: 0.4778 - val_loss: 0.8529 - val_accuracy: 0.4762\n",
      "Epoch 2/50\n",
      "19/19 [==============================] - 0s 3ms/step - loss: 0.6100 - accuracy: 0.6810 - val_loss: 0.8285 - val_accuracy: 0.4762\n",
      "Epoch 3/50\n",
      "19/19 [==============================] - 0s 4ms/step - loss: 0.4533 - accuracy: 0.8121 - val_loss: 0.7959 - val_accuracy: 0.5238\n",
      "Epoch 4/50\n",
      "19/19 [==============================] - 0s 3ms/step - loss: 0.4134 - accuracy: 0.8270 - val_loss: 0.7939 - val_accuracy: 0.5714\n",
      "Epoch 5/50\n",
      "19/19 [==============================] - 0s 4ms/step - loss: 0.3838 - accuracy: 0.8451 - val_loss: 0.7786 - val_accuracy: 0.5714\n",
      "Epoch 6/50\n",
      "19/19 [==============================] - 0s 4ms/step - loss: 0.3580 - accuracy: 0.9190 - val_loss: 0.7579 - val_accuracy: 0.5714\n",
      "Epoch 7/50\n",
      "19/19 [==============================] - 0s 4ms/step - loss: 0.3256 - accuracy: 0.9109 - val_loss: 0.7393 - val_accuracy: 0.5714\n",
      "Epoch 8/50\n",
      "19/19 [==============================] - 0s 5ms/step - loss: 0.2863 - accuracy: 0.9037 - val_loss: 0.7600 - val_accuracy: 0.5714\n",
      "Epoch 9/50\n",
      "19/19 [==============================] - 0s 5ms/step - loss: 0.2411 - accuracy: 0.9621 - val_loss: 0.7747 - val_accuracy: 0.5714\n",
      "Epoch 10/50\n",
      "19/19 [==============================] - 0s 4ms/step - loss: 0.2276 - accuracy: 0.9433 - val_loss: 0.7973 - val_accuracy: 0.5238\n",
      "Epoch 11/50\n",
      "19/19 [==============================] - 0s 4ms/step - loss: 0.1764 - accuracy: 0.9753 - val_loss: 0.7726 - val_accuracy: 0.5238\n",
      "Epoch 12/50\n",
      "19/19 [==============================] - 0s 4ms/step - loss: 0.1724 - accuracy: 0.9760 - val_loss: 0.7493 - val_accuracy: 0.5238\n",
      "Epoch 13/50\n",
      "19/19 [==============================] - 0s 4ms/step - loss: 0.1484 - accuracy: 0.9837 - val_loss: 0.7440 - val_accuracy: 0.5238\n",
      "Epoch 14/50\n",
      "19/19 [==============================] - 0s 4ms/step - loss: 0.1348 - accuracy: 0.9829 - val_loss: 0.7382 - val_accuracy: 0.4762\n",
      "Epoch 15/50\n",
      "19/19 [==============================] - 0s 5ms/step - loss: 0.1029 - accuracy: 0.9802 - val_loss: 0.7418 - val_accuracy: 0.4762\n",
      "Epoch 16/50\n",
      "19/19 [==============================] - 0s 5ms/step - loss: 0.1056 - accuracy: 0.9870 - val_loss: 0.7479 - val_accuracy: 0.5238\n",
      "Epoch 17/50\n",
      "19/19 [==============================] - 0s 4ms/step - loss: 0.0800 - accuracy: 0.9956 - val_loss: 0.7744 - val_accuracy: 0.5238\n",
      "Epoch 18/50\n",
      "19/19 [==============================] - 0s 6ms/step - loss: 0.0529 - accuracy: 0.9992 - val_loss: 0.7932 - val_accuracy: 0.5238\n",
      "Epoch 19/50\n",
      "19/19 [==============================] - 0s 8ms/step - loss: 0.0530 - accuracy: 0.9911 - val_loss: 0.8029 - val_accuracy: 0.5238\n",
      "Epoch 20/50\n",
      "19/19 [==============================] - 0s 7ms/step - loss: 0.0594 - accuracy: 0.9820 - val_loss: 0.8143 - val_accuracy: 0.5238\n",
      "Epoch 21/50\n",
      "19/19 [==============================] - 0s 5ms/step - loss: 0.0412 - accuracy: 0.9942 - val_loss: 0.8250 - val_accuracy: 0.5714\n",
      "Epoch 22/50\n",
      "19/19 [==============================] - 0s 6ms/step - loss: 0.0328 - accuracy: 0.9975 - val_loss: 0.8290 - val_accuracy: 0.5714\n",
      "Epoch 23/50\n",
      "19/19 [==============================] - 0s 5ms/step - loss: 0.0392 - accuracy: 0.9956 - val_loss: 0.8329 - val_accuracy: 0.5714\n",
      "Epoch 24/50\n",
      "19/19 [==============================] - 0s 6ms/step - loss: 0.0269 - accuracy: 0.9986 - val_loss: 0.8417 - val_accuracy: 0.5714\n",
      "Epoch 25/50\n",
      "19/19 [==============================] - 0s 5ms/step - loss: 0.0292 - accuracy: 0.9942 - val_loss: 0.8571 - val_accuracy: 0.5714\n",
      "Epoch 26/50\n",
      "19/19 [==============================] - 0s 5ms/step - loss: 0.0255 - accuracy: 0.9966 - val_loss: 0.8662 - val_accuracy: 0.5714\n",
      "Epoch 27/50\n",
      "19/19 [==============================] - 0s 5ms/step - loss: 0.0308 - accuracy: 0.9911 - val_loss: 0.8748 - val_accuracy: 0.5714\n",
      "Epoch 28/50\n",
      "19/19 [==============================] - 0s 5ms/step - loss: 0.0201 - accuracy: 0.9956 - val_loss: 0.8839 - val_accuracy: 0.5714\n",
      "Epoch 29/50\n",
      "19/19 [==============================] - 0s 5ms/step - loss: 0.0206 - accuracy: 0.9986 - val_loss: 0.8977 - val_accuracy: 0.5714\n",
      "Epoch 30/50\n",
      "19/19 [==============================] - 0s 7ms/step - loss: 0.0172 - accuracy: 0.9956 - val_loss: 0.9040 - val_accuracy: 0.5714\n",
      "Epoch 31/50\n",
      "19/19 [==============================] - 0s 4ms/step - loss: 0.0147 - accuracy: 0.9989 - val_loss: 0.9032 - val_accuracy: 0.5714\n",
      "Epoch 32/50\n",
      "19/19 [==============================] - 0s 6ms/step - loss: 0.0234 - accuracy: 0.9934 - val_loss: 0.9136 - val_accuracy: 0.5714\n",
      "Epoch 33/50\n",
      "19/19 [==============================] - 0s 5ms/step - loss: 0.0280 - accuracy: 0.9895 - val_loss: 0.9124 - val_accuracy: 0.5714\n",
      "Epoch 34/50\n",
      "19/19 [==============================] - 0s 5ms/step - loss: 0.0123 - accuracy: 0.9966 - val_loss: 0.9144 - val_accuracy: 0.5714\n",
      "Epoch 35/50\n",
      "19/19 [==============================] - 0s 5ms/step - loss: 0.0094 - accuracy: 0.9982 - val_loss: 0.9221 - val_accuracy: 0.5714\n",
      "Epoch 36/50\n",
      "19/19 [==============================] - 0s 5ms/step - loss: 0.0095 - accuracy: 0.9989 - val_loss: 0.9299 - val_accuracy: 0.5714\n",
      "Epoch 37/50\n",
      "19/19 [==============================] - 0s 3ms/step - loss: 0.0203 - accuracy: 0.9895 - val_loss: 0.9334 - val_accuracy: 0.5714\n",
      "Epoch 38/50\n",
      "19/19 [==============================] - 0s 5ms/step - loss: 0.0108 - accuracy: 0.9989 - val_loss: 0.9381 - val_accuracy: 0.6190\n",
      "Epoch 39/50\n",
      "19/19 [==============================] - 0s 6ms/step - loss: 0.0093 - accuracy: 0.9979 - val_loss: 0.9427 - val_accuracy: 0.6190\n",
      "Epoch 40/50\n",
      "19/19 [==============================] - 0s 4ms/step - loss: 0.0111 - accuracy: 0.9986 - val_loss: 0.9452 - val_accuracy: 0.6190\n",
      "Epoch 41/50\n",
      "19/19 [==============================] - 0s 4ms/step - loss: 0.0192 - accuracy: 0.9870 - val_loss: 0.9478 - val_accuracy: 0.6190\n",
      "Epoch 42/50\n",
      "19/19 [==============================] - 0s 4ms/step - loss: 0.0129 - accuracy: 0.9966 - val_loss: 0.9535 - val_accuracy: 0.6190\n",
      "Epoch 43/50\n",
      "19/19 [==============================] - 0s 4ms/step - loss: 0.0141 - accuracy: 0.9911 - val_loss: 0.9582 - val_accuracy: 0.5714\n",
      "Epoch 44/50\n",
      "19/19 [==============================] - 0s 4ms/step - loss: 0.0140 - accuracy: 0.9956 - val_loss: 0.9615 - val_accuracy: 0.5714\n",
      "Epoch 45/50\n",
      "19/19 [==============================] - 0s 4ms/step - loss: 0.0133 - accuracy: 0.9934 - val_loss: 0.9645 - val_accuracy: 0.5714\n",
      "Epoch 46/50\n",
      "19/19 [==============================] - 0s 5ms/step - loss: 0.0082 - accuracy: 0.9961 - val_loss: 0.9696 - val_accuracy: 0.5714\n",
      "Epoch 47/50\n",
      "19/19 [==============================] - 0s 3ms/step - loss: 0.0160 - accuracy: 0.9924 - val_loss: 0.9767 - val_accuracy: 0.5714\n",
      "Epoch 48/50\n",
      "19/19 [==============================] - 0s 5ms/step - loss: 0.0074 - accuracy: 0.9982 - val_loss: 0.9802 - val_accuracy: 0.5714\n",
      "Epoch 49/50\n",
      "19/19 [==============================] - 0s 4ms/step - loss: 0.0159 - accuracy: 0.9934 - val_loss: 0.9810 - val_accuracy: 0.5714\n",
      "Epoch 50/50\n",
      "19/19 [==============================] - 0s 4ms/step - loss: 0.0219 - accuracy: 0.9820 - val_loss: 0.9845 - val_accuracy: 0.5714\n",
      "time: 6.770168304443359\n"
     ]
    }
   ],
   "source": [
    "import time\n",
    "time_begin = time.time()\n",
    "history = model.fit(x_train,one_hot_train_labels,\n",
    "                    validation_split=0.1,\n",
    "                    epochs=50,batch_size=10,\n",
    "                    shuffle=True)\n",
    "time_end = time.time()\n",
    "time = time_end - time_begin\n",
    "print('time:', time)"
   ]
  },
  {
   "cell_type": "code",
   "execution_count": 8,
   "metadata": {},
   "outputs": [
    {
     "name": "stdout",
     "output_type": "stream",
     "text": [
      "Test loss: 0.7980429530143738\n",
      "Test accuracy: 0.6346153616905212\n",
      "time: 0.08577132225036621\n"
     ]
    }
   ],
   "source": [
    "import time\n",
    "time_begin = time.time()\n",
    "score = model.evaluate(x_test,one_hot_test_labels, verbose=0)\n",
    "print('Test loss:', score[0])\n",
    "print('Test accuracy:', score[1])\n",
    " \n",
    "time_end = time.time()\n",
    "time = time_end - time_begin\n",
    "print('time:', time)"
   ]
  },
  {
   "cell_type": "code",
   "execution_count": 9,
   "metadata": {},
   "outputs": [
    {
     "data": {
      "image/png": "[encoded data removed]",
      "text/plain": [
       "<Figure size 432x288 with 1 Axes>"
      ]
     },
     "metadata": {
      "needs_background": "light"
     },
     "output_type": "display_data"
    }
   ],
   "source": [
    "#绘制acc-loss曲线\n",
    "import matplotlib.pyplot as plt\n",
    "\n",
    "plt.plot(history.history['loss'],color='r')\n",
    "plt.plot(history.history['val_loss'],color='g')\n",
    "plt.plot(history.history['accuracy'],color='b')\n",
    "plt.plot(history.history['val_accuracy'],color='k')\n",
    "plt.title('model loss and acc')\n",
    "plt.ylabel('Accuracy')\n",
    "plt.xlabel('epoch')\n",
    "plt.legend(['train_loss', 'test_loss','train_acc', 'test_acc'], loc='center right')\n",
    "# plt.legend(['train_loss','train_acc'], loc='upper left')\n",
    "#plt.savefig('1.png')\n",
    "plt.show()"
   ]
  },
  {
   "cell_type": "code",
   "execution_count": 10,
   "metadata": {},
   "outputs": [
    {
     "data": {
      "image/png": "[encoded data removed]",
      "text/plain": [
       "<Figure size 432x288 with 1 Axes>"
      ]
     },
     "metadata": {
      "needs_background": "light"
     },
     "output_type": "display_data"
    }
   ],
   "source": [
    "import matplotlib.pyplot as plt\n",
    "\n",
    "plt.plot(history.history['loss'],color='r')\n",
    "plt.plot(history.history['accuracy'],color='b')\n",
    "plt.title('model loss and sccuracy ')\n",
    "plt.ylabel('loss/sccuracy')\n",
    "plt.xlabel('epoch')\n",
    "plt.legend(['train_loss', 'train_sccuracy'], loc='center right')\n",
    "plt.show()"
   ]
  },
  {
   "cell_type": "code",
   "execution_count": null,
   "metadata": {},
   "outputs": [],
   "source": []
  },
  {
   "cell_type": "code",
   "execution_count": null,
   "metadata": {},
   "outputs": [],
   "source": []
  }
 ],
 "metadata": {
  "kernelspec": {
   "display_name": "Python 3",
   "language": "python",
   "name": "python3"
  },
  "language_info": {
   "codemirror_mode": {
    "name": "ipython",
    "version": 3
   },
   "file_extension": ".py",
   "mimetype": "text/x-python",
   "name": "python",
   "nbconvert_exporter": "python",
   "pygments_lexer": "ipython3",
   "version": "3.8.5"
  }
 },
 "nbformat": 4,
 "nbformat_minor": 2
}
