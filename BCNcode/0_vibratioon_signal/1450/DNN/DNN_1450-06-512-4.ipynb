{
 "cells": [
  {
   "cell_type": "code",
   "execution_count": 1,
   "metadata": {},
   "outputs": [],
   "source": [
    "from tensorflow import keras\n",
    "from tensorflow.keras import *\n",
    "from tensorflow.keras.models import *\n",
    "from tensorflow.keras.layers import *\n",
    "from tensorflow.keras.regularizers import l2#正则化L2\n",
    "import tensorflow as tf\n",
    "import numpy as np\n",
    "import pandas as pd"
   ]
  },
  {
   "cell_type": "code",
   "execution_count": 2,
   "metadata": {},
   "outputs": [
    {
     "name": "stdout",
     "output_type": "stream",
     "text": [
      "(22, 32768) (22, 32768) ***************************************************\n",
      "(2, 32768) (2, 32768)\n",
      "[[-1.4744    0.90778   0.29003  ... -1.7521   -1.2084    0.28745 ]\n",
      " [-0.10592  -1.454    -0.75424  ...  0.16009  -0.014918  0.4586  ]] \r\n",
      " [[ 2.3088   1.5436   1.4853  ...  1.3248  -0.72133  0.60527]\n",
      " [-0.80951  1.3011   0.24132 ...  3.2018   0.224    1.0032 ]] ***************************************************\n",
      "(1, 65536) (1, 65536)\n",
      "[[-1.4744    0.90778   0.29003  ...  0.16009  -0.014918  0.4586  ]] \r\n",
      " [[2.3088 1.5436 1.4853 ... 3.2018 0.224  1.0032]] ***************************************************\n"
     ]
    }
   ],
   "source": [
    "normal = np.loadtxt(r'F:\\data_all\\试验数据(包括压力脉动和振动)\\2013.9.12-未发生缠绕前\\2013-9.12振动\\2013-9-12振动-1450rmin-mat\\1450r_normalvib4.txt', delimiter=',')\n",
    "chanrao = np.loadtxt(r'F:\\data_all\\试验数据(包括压力脉动和振动)\\2013.9.17-发生缠绕后\\振动\\9-17下午振动1450rmin-mat\\1450r_chanraovib4.txt', delimiter=',')\n",
    "print(normal.shape,chanrao.shape,\"***************************************************\")\n",
    "data_normal=normal[10:12]   #提取前两行\n",
    "data_chanrao=chanrao[10:12]   #提取前两行\n",
    "print(data_normal.shape,data_chanrao.shape)\n",
    "print(data_normal,\"\\r\\n\",data_chanrao,\"***************************************************\")\n",
    "data_normal=data_normal.reshape(1,-1)\n",
    "data_chanrao=data_chanrao.reshape(1,-1)\n",
    "print(data_normal.shape,data_chanrao.shape)\n",
    "print(data_normal,\"\\r\\n\",data_chanrao,\"***************************************************\")"
   ]
  },
  {
   "cell_type": "code",
   "execution_count": 3,
   "metadata": {},
   "outputs": [
    {
     "name": "stdout",
     "output_type": "stream",
     "text": [
      "(128, 512) (128, 512)\n"
     ]
    }
   ],
   "source": [
    "#水泵的两种故障类型信号normal正常，chanrao故障\n",
    "data_normal=data_normal.reshape(-1, 512)#(65536,1)-(128, 515)\n",
    "data_chanrao=data_chanrao.reshape(-1,512)\n",
    "print(data_normal.shape,data_chanrao.shape)\n"
   ]
  },
  {
   "cell_type": "code",
   "execution_count": 4,
   "metadata": {},
   "outputs": [
    {
     "name": "stdout",
     "output_type": "stream",
     "text": [
      "(204, 512, 1) (52, 512, 1)\n"
     ]
    }
   ],
   "source": [
    "import numpy as np\n",
    "def yuchuli(data,label):#(4:1)(51:13)\n",
    "    #打乱数据顺序\n",
    "    np.random.shuffle(data)\n",
    "    train = data[0:102,:]\n",
    "    test = data[102:128,:]\n",
    "    label_train = np.array([label for i in range(0,102)])\n",
    "    label_test =np.array([label for i in range(0,26)])\n",
    "    return train,test ,label_train ,label_test\n",
    "def stackkk(a,b,c,d,e,f,g,h):\n",
    "    aa = np.vstack((a, e))\n",
    "    bb = np.vstack((b, f))\n",
    "    cc = np.hstack((c, g))\n",
    "    dd = np.hstack((d, h))\n",
    "    return aa,bb,cc,dd\n",
    "x_tra0,x_tes0,y_tra0,y_tes0 = yuchuli(data_normal,0)\n",
    "x_tra1,x_tes1,y_tra1,y_tes1 = yuchuli(data_chanrao,1)\n",
    "tr1,te1,yr1,ye1=stackkk(x_tra0,x_tes0,y_tra0,y_tes0 ,x_tra1,x_tes1,y_tra1,y_tes1)\n",
    "\n",
    "x_train=tr1\n",
    "x_test=te1\n",
    "y_train = yr1\n",
    "y_test = ye1\n",
    "\n",
    "#打乱数据\n",
    "state = np.random.get_state()\n",
    "np.random.shuffle(x_train)\n",
    "np.random.set_state(state)\n",
    "np.random.shuffle(y_train)\n",
    "\n",
    "state = np.random.get_state()\n",
    "np.random.shuffle(x_test)\n",
    "np.random.set_state(state)\n",
    "np.random.shuffle(y_test)\n",
    "\n",
    "\n",
    "#对训练集和测试集标准化\n",
    "def ZscoreNormalization(x):\n",
    "    \"\"\"Z-score normaliaztion\"\"\"\n",
    "    x = (x - np.mean(x)) / np.std(x)\n",
    "    return x\n",
    "x_train=ZscoreNormalization(x_train)\n",
    "x_test=ZscoreNormalization(x_test)\n",
    "# print(x_test[0])\n",
    "\n",
    "\n",
    "#转化为一维序列\n",
    "x_train = x_train.reshape(-1,512,1)\n",
    "x_test = x_test.reshape(-1,512,1)\n",
    "print(x_train.shape,x_test.shape)\n",
    "\n",
    "def to_one_hot(labels,dimension=2):\n",
    "    results = np.zeros((len(labels),dimension))\n",
    "    for i,label in enumerate(labels):\n",
    "        results[i,label] = 1\n",
    "    return results\n",
    "one_hot_train_labels = to_one_hot(y_train)\n",
    "one_hot_test_labels = to_one_hot(y_test)\n"
   ]
  },
  {
   "cell_type": "code",
   "execution_count": 5,
   "metadata": {},
   "outputs": [
    {
     "name": "stdout",
     "output_type": "stream",
     "text": [
      "Model: \"model\"\n",
      "_________________________________________________________________\n",
      "Layer (type)                 Output Shape              Param #   \n",
      "=================================================================\n",
      "input_1 (InputLayer)         [(None, 512, 1, 1)]       0         \n",
      "_________________________________________________________________\n",
      "flatten (Flatten)            (None, 512)               0         \n",
      "_________________________________________________________________\n",
      "dense (Dense)                (None, 12)                6156      \n",
      "_________________________________________________________________\n",
      "dense_1 (Dense)              (None, 6)                 78        \n",
      "_________________________________________________________________\n",
      "dense_2 (Dense)              (None, 2)                 14        \n",
      "=================================================================\n",
      "Total params: 6,248\n",
      "Trainable params: 6,248\n",
      "Non-trainable params: 0\n",
      "_________________________________________________________________\n"
     ]
    }
   ],
   "source": [
    "x = layers.Input(shape=[512,1,1])\n",
    "Flatten=layers.Flatten()(x)\n",
    "Dense1=layers.Dense(12, activation='relu')(Flatten)\n",
    "Dense2=layers.Dense(6, activation='relu')(Dense1)\n",
    "Dense3=layers.Dense(2, activation='softmax')(Dense2)\n",
    "model = keras.Model(x, Dense3)    \n",
    "model.summary() "
   ]
  },
  {
   "cell_type": "code",
   "execution_count": 6,
   "metadata": {},
   "outputs": [],
   "source": [
    "#定义优化\n",
    "model.compile(loss='categorical_crossentropy',\n",
    "              optimizer='adam',metrics=['accuracy']) "
   ]
  },
  {
   "cell_type": "code",
   "execution_count": 7,
   "metadata": {
    "scrolled": true
   },
   "outputs": [
    {
     "name": "stdout",
     "output_type": "stream",
     "text": [
      "Epoch 1/50\n",
      "19/19 [==============================] - 2s 52ms/step - loss: 1.5327 - accuracy: 0.5450 - val_loss: 1.5416 - val_accuracy: 0.5238\n",
      "Epoch 2/50\n",
      "19/19 [==============================] - 0s 3ms/step - loss: 0.6222 - accuracy: 0.7574 - val_loss: 1.4039 - val_accuracy: 0.5238\n",
      "Epoch 3/50\n",
      "19/19 [==============================] - 0s 3ms/step - loss: 0.3375 - accuracy: 0.8586 - val_loss: 1.3340 - val_accuracy: 0.6190\n",
      "Epoch 4/50\n",
      "19/19 [==============================] - 0s 3ms/step - loss: 0.2738 - accuracy: 0.8702 - val_loss: 1.2656 - val_accuracy: 0.6667\n",
      "Epoch 5/50\n",
      "19/19 [==============================] - 0s 3ms/step - loss: 0.2269 - accuracy: 0.8907 - val_loss: 1.2363 - val_accuracy: 0.6190\n",
      "Epoch 6/50\n",
      "19/19 [==============================] - 0s 3ms/step - loss: 0.1698 - accuracy: 0.9590 - val_loss: 1.2159 - val_accuracy: 0.6190\n",
      "Epoch 7/50\n",
      "19/19 [==============================] - 0s 3ms/step - loss: 0.1521 - accuracy: 0.9850 - val_loss: 1.1979 - val_accuracy: 0.6190\n",
      "Epoch 8/50\n",
      "19/19 [==============================] - 0s 4ms/step - loss: 0.1494 - accuracy: 0.9541 - val_loss: 1.1761 - val_accuracy: 0.6667\n",
      "Epoch 9/50\n",
      "19/19 [==============================] - 0s 4ms/step - loss: 0.0998 - accuracy: 0.9977 - val_loss: 1.1646 - val_accuracy: 0.7143\n",
      "Epoch 10/50\n",
      "19/19 [==============================] - 0s 4ms/step - loss: 0.1098 - accuracy: 0.9911 - val_loss: 1.1537 - val_accuracy: 0.7143\n",
      "Epoch 11/50\n",
      "19/19 [==============================] - 0s 4ms/step - loss: 0.1096 - accuracy: 1.0000 - val_loss: 1.1389 - val_accuracy: 0.6667\n",
      "Epoch 12/50\n",
      "19/19 [==============================] - 0s 3ms/step - loss: 0.0789 - accuracy: 1.0000 - val_loss: 1.1356 - val_accuracy: 0.6667\n",
      "Epoch 13/50\n",
      "19/19 [==============================] - 0s 3ms/step - loss: 0.0723 - accuracy: 1.0000 - val_loss: 1.1277 - val_accuracy: 0.6667\n",
      "Epoch 14/50\n",
      "19/19 [==============================] - 0s 3ms/step - loss: 0.0794 - accuracy: 1.0000 - val_loss: 1.1185 - val_accuracy: 0.6667\n",
      "Epoch 15/50\n",
      "19/19 [==============================] - 0s 3ms/step - loss: 0.0784 - accuracy: 1.0000 - val_loss: 1.1133 - val_accuracy: 0.6667\n",
      "Epoch 16/50\n",
      "19/19 [==============================] - 0s 3ms/step - loss: 0.0635 - accuracy: 1.0000 - val_loss: 1.1085 - val_accuracy: 0.6667\n",
      "Epoch 17/50\n",
      "19/19 [==============================] - 0s 3ms/step - loss: 0.0532 - accuracy: 1.0000 - val_loss: 1.1063 - val_accuracy: 0.6667\n",
      "Epoch 18/50\n",
      "19/19 [==============================] - 0s 3ms/step - loss: 0.0481 - accuracy: 1.0000 - val_loss: 1.1002 - val_accuracy: 0.6667\n",
      "Epoch 19/50\n",
      "19/19 [==============================] - 0s 3ms/step - loss: 0.0435 - accuracy: 1.0000 - val_loss: 1.0950 - val_accuracy: 0.6667\n",
      "Epoch 20/50\n",
      "19/19 [==============================] - 0s 3ms/step - loss: 0.0432 - accuracy: 1.0000 - val_loss: 1.1006 - val_accuracy: 0.6667\n",
      "Epoch 21/50\n",
      "19/19 [==============================] - 0s 4ms/step - loss: 0.0395 - accuracy: 1.0000 - val_loss: 1.1011 - val_accuracy: 0.6667\n",
      "Epoch 22/50\n",
      "19/19 [==============================] - 0s 4ms/step - loss: 0.0334 - accuracy: 1.0000 - val_loss: 1.0928 - val_accuracy: 0.6667\n",
      "Epoch 23/50\n",
      "19/19 [==============================] - 0s 4ms/step - loss: 0.0347 - accuracy: 1.0000 - val_loss: 1.0870 - val_accuracy: 0.6667\n",
      "Epoch 24/50\n",
      "19/19 [==============================] - 0s 3ms/step - loss: 0.0363 - accuracy: 1.0000 - val_loss: 1.0802 - val_accuracy: 0.6667\n",
      "Epoch 25/50\n",
      "19/19 [==============================] - 0s 5ms/step - loss: 0.0293 - accuracy: 1.0000 - val_loss: 1.0773 - val_accuracy: 0.6667\n",
      "Epoch 26/50\n",
      "19/19 [==============================] - 0s 4ms/step - loss: 0.0254 - accuracy: 1.0000 - val_loss: 1.0734 - val_accuracy: 0.6667\n",
      "Epoch 27/50\n",
      "19/19 [==============================] - 0s 4ms/step - loss: 0.0270 - accuracy: 1.0000 - val_loss: 1.0711 - val_accuracy: 0.6667\n",
      "Epoch 28/50\n",
      "19/19 [==============================] - 0s 5ms/step - loss: 0.0286 - accuracy: 1.0000 - val_loss: 1.0759 - val_accuracy: 0.6667\n",
      "Epoch 29/50\n",
      "19/19 [==============================] - 0s 3ms/step - loss: 0.0231 - accuracy: 1.0000 - val_loss: 1.0794 - val_accuracy: 0.6667\n",
      "Epoch 30/50\n",
      "19/19 [==============================] - 0s 4ms/step - loss: 0.0299 - accuracy: 1.0000 - val_loss: 1.0865 - val_accuracy: 0.6667\n",
      "Epoch 31/50\n",
      "19/19 [==============================] - 0s 4ms/step - loss: 0.0173 - accuracy: 1.0000 - val_loss: 1.0891 - val_accuracy: 0.6667\n",
      "Epoch 32/50\n",
      "19/19 [==============================] - 0s 4ms/step - loss: 0.0163 - accuracy: 1.0000 - val_loss: 1.0861 - val_accuracy: 0.6667\n",
      "Epoch 33/50\n",
      "19/19 [==============================] - 0s 4ms/step - loss: 0.0226 - accuracy: 1.0000 - val_loss: 1.0815 - val_accuracy: 0.6667\n",
      "Epoch 34/50\n",
      "19/19 [==============================] - 0s 3ms/step - loss: 0.0203 - accuracy: 1.0000 - val_loss: 1.0808 - val_accuracy: 0.7143\n",
      "Epoch 35/50\n",
      "19/19 [==============================] - 0s 4ms/step - loss: 0.0196 - accuracy: 1.0000 - val_loss: 1.0837 - val_accuracy: 0.7143\n",
      "Epoch 36/50\n",
      "19/19 [==============================] - 0s 3ms/step - loss: 0.0214 - accuracy: 1.0000 - val_loss: 1.0999 - val_accuracy: 0.7143\n",
      "Epoch 37/50\n",
      "19/19 [==============================] - 0s 4ms/step - loss: 0.0189 - accuracy: 1.0000 - val_loss: 1.1183 - val_accuracy: 0.7143\n",
      "Epoch 38/50\n",
      "19/19 [==============================] - 0s 3ms/step - loss: 0.0120 - accuracy: 1.0000 - val_loss: 1.1248 - val_accuracy: 0.7143\n",
      "Epoch 39/50\n",
      "19/19 [==============================] - 0s 3ms/step - loss: 0.0111 - accuracy: 1.0000 - val_loss: 1.1301 - val_accuracy: 0.7143\n",
      "Epoch 40/50\n",
      "19/19 [==============================] - 0s 3ms/step - loss: 0.0140 - accuracy: 1.0000 - val_loss: 1.1360 - val_accuracy: 0.7143\n",
      "Epoch 41/50\n",
      "19/19 [==============================] - 0s 3ms/step - loss: 0.0094 - accuracy: 1.0000 - val_loss: 1.1429 - val_accuracy: 0.7143\n",
      "Epoch 42/50\n",
      "19/19 [==============================] - 0s 2ms/step - loss: 0.0151 - accuracy: 1.0000 - val_loss: 1.1548 - val_accuracy: 0.7143\n",
      "Epoch 43/50\n",
      "19/19 [==============================] - 0s 2ms/step - loss: 0.0103 - accuracy: 1.0000 - val_loss: 1.1626 - val_accuracy: 0.7143\n",
      "Epoch 44/50\n",
      "19/19 [==============================] - 0s 3ms/step - loss: 0.0070 - accuracy: 1.0000 - val_loss: 1.1698 - val_accuracy: 0.7143\n",
      "Epoch 45/50\n",
      "19/19 [==============================] - 0s 2ms/step - loss: 0.0092 - accuracy: 1.0000 - val_loss: 1.1758 - val_accuracy: 0.7143\n",
      "Epoch 46/50\n",
      "19/19 [==============================] - 0s 2ms/step - loss: 0.0083 - accuracy: 1.0000 - val_loss: 1.1877 - val_accuracy: 0.7143\n",
      "Epoch 47/50\n",
      "19/19 [==============================] - 0s 3ms/step - loss: 0.0051 - accuracy: 1.0000 - val_loss: 1.1941 - val_accuracy: 0.7143\n",
      "Epoch 48/50\n",
      "19/19 [==============================] - 0s 3ms/step - loss: 0.0072 - accuracy: 1.0000 - val_loss: 1.1991 - val_accuracy: 0.7143\n",
      "Epoch 49/50\n",
      "19/19 [==============================] - 0s 3ms/step - loss: 0.0056 - accuracy: 1.0000 - val_loss: 1.2041 - val_accuracy: 0.7143\n",
      "Epoch 50/50\n",
      "19/19 [==============================] - 0s 5ms/step - loss: 0.0081 - accuracy: 1.0000 - val_loss: 1.2049 - val_accuracy: 0.7143\n",
      "time: 4.784206867218018\n"
     ]
    }
   ],
   "source": [
    "import time\n",
    "time_begin = time.time()\n",
    "history = model.fit(x_train,one_hot_train_labels,\n",
    "                    validation_split=0.1,\n",
    "                    epochs=50,batch_size=10,\n",
    "                    shuffle=True)\n",
    "time_end = time.time()\n",
    "time = time_end - time_begin\n",
    "print('time:', time)"
   ]
  },
  {
   "cell_type": "code",
   "execution_count": 8,
   "metadata": {},
   "outputs": [
    {
     "name": "stdout",
     "output_type": "stream",
     "text": [
      "Test loss: 1.4612314701080322\n",
      "Test accuracy: 0.6153846383094788\n",
      "time: 0.07480001449584961\n"
     ]
    }
   ],
   "source": [
    "import time\n",
    "time_begin = time.time()\n",
    "score = model.evaluate(x_test,one_hot_test_labels, verbose=0)\n",
    "print('Test loss:', score[0])\n",
    "print('Test accuracy:', score[1])\n",
    " \n",
    "time_end = time.time()\n",
    "time = time_end - time_begin\n",
    "print('time:', time)"
   ]
  },
  {
   "cell_type": "code",
   "execution_count": 9,
   "metadata": {},
   "outputs": [
    {
     "data": {
      "image/png": "[encoded data removed]",
      "text/plain": [
       "<Figure size 432x288 with 1 Axes>"
      ]
     },
     "metadata": {
      "needs_background": "light"
     },
     "output_type": "display_data"
    }
   ],
   "source": [
    "#绘制acc-loss曲线\n",
    "import matplotlib.pyplot as plt\n",
    "\n",
    "plt.plot(history.history['loss'],color='r')\n",
    "plt.plot(history.history['val_loss'],color='g')\n",
    "plt.plot(history.history['accuracy'],color='b')\n",
    "plt.plot(history.history['val_accuracy'],color='k')\n",
    "plt.title('model loss and acc')\n",
    "plt.ylabel('Accuracy')\n",
    "plt.xlabel('epoch')\n",
    "plt.legend(['train_loss', 'test_loss','train_acc', 'test_acc'], loc='center right')\n",
    "# plt.legend(['train_loss','train_acc'], loc='upper left')\n",
    "#plt.savefig('1.png')\n",
    "plt.show()"
   ]
  },
  {
   "cell_type": "code",
   "execution_count": 10,
   "metadata": {},
   "outputs": [
    {
     "data": {
      "image/png": "[encoded data removed]",
      "text/plain": [
       "<Figure size 432x288 with 1 Axes>"
      ]
     },
     "metadata": {
      "needs_background": "light"
     },
     "output_type": "display_data"
    }
   ],
   "source": [
    "import matplotlib.pyplot as plt\n",
    "\n",
    "plt.plot(history.history['loss'],color='r')\n",
    "plt.plot(history.history['accuracy'],color='b')\n",
    "plt.title('model loss and sccuracy ')\n",
    "plt.ylabel('loss/sccuracy')\n",
    "plt.xlabel('epoch')\n",
    "plt.legend(['train_loss', 'train_sccuracy'], loc='center right')\n",
    "plt.show()"
   ]
  },
  {
   "cell_type": "code",
   "execution_count": null,
   "metadata": {},
   "outputs": [],
   "source": []
  },
  {
   "cell_type": "code",
   "execution_count": null,
   "metadata": {},
   "outputs": [],
   "source": []
  }
 ],
 "metadata": {
  "kernelspec": {
   "display_name": "Python 3",
   "language": "python",
   "name": "python3"
  },
  "language_info": {
   "codemirror_mode": {
    "name": "ipython",
    "version": 3
   },
   "file_extension": ".py",
   "mimetype": "text/x-python",
   "name": "python",
   "nbconvert_exporter": "python",
   "pygments_lexer": "ipython3",
   "version": "3.8.5"
  }
 },
 "nbformat": 4,
 "nbformat_minor": 2
}
