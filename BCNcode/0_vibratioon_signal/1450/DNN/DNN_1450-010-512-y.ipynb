{
 "cells": [
  {
   "cell_type": "code",
   "execution_count": 1,
   "metadata": {},
   "outputs": [],
   "source": [
    "from tensorflow import keras\n",
    "from tensorflow.keras import *\n",
    "from tensorflow.keras.models import *\n",
    "from tensorflow.keras.layers import *\n",
    "from tensorflow.keras.regularizers import l2#正则化L2\n",
    "import tensorflow as tf\n",
    "import numpy as np\n",
    "import pandas as pd"
   ]
  },
  {
   "cell_type": "code",
   "execution_count": 2,
   "metadata": {},
   "outputs": [
    {
     "name": "stdout",
     "output_type": "stream",
     "text": [
      "(22, 32768) (22, 32768) ***************************************************\n",
      "(2, 32768) (2, 32768)\n",
      "[[ 0.66347  -1.1603   -0.068127 ... -0.022158  0.017101 -0.19172 ]\n",
      " [ 0.8346   -3.1431    0.84748  ... -0.69556   1.7992    1.5788  ]] \r\n",
      " [[-0.055427  0.97457   0.14396  ... -0.54475  -0.37807  -1.2289  ]\n",
      " [ 0.56207   0.38372   1.5169   ...  1.8567    1.0485    0.23565 ]] ***************************************************\n",
      "(1, 65536) (1, 65536)\n",
      "[[ 0.66347  -1.1603   -0.068127 ... -0.69556   1.7992    1.5788  ]] \r\n",
      " [[-0.055427  0.97457   0.14396  ...  1.8567    1.0485    0.23565 ]] ***************************************************\n"
     ]
    }
   ],
   "source": [
    "normal = np.loadtxt(r'F:\\张老师课题学习内容\\code\\数据集\\试验数据(包括压力脉动和振动)\\2013.9.12-未发生缠绕前\\2013-9.12振动\\2013-9-12振动-1450rmin-mat\\1450r_normalviby.txt', delimiter=',')\n",
    "chanrao = np.loadtxt(r'F:\\张老师课题学习内容\\code\\数据集\\试验数据(包括压力脉动和振动)\\2013.9.17-发生缠绕后\\振动\\9-17下午振动1450rmin-mat\\1450r_chanraoviby.txt', delimiter=',')\n",
    "print(normal.shape,chanrao.shape,\"***************************************************\")\n",
    "data_normal=normal[18:20]   #提取前两行\n",
    "data_chanrao=chanrao[18:20]   #提取前两行\n",
    "print(data_normal.shape,data_chanrao.shape)\n",
    "print(data_normal,\"\\r\\n\",data_chanrao,\"***************************************************\")\n",
    "data_normal=data_normal.reshape(1,-1)\n",
    "data_chanrao=data_chanrao.reshape(1,-1)\n",
    "print(data_normal.shape,data_chanrao.shape)\n",
    "print(data_normal,\"\\r\\n\",data_chanrao,\"***************************************************\")"
   ]
  },
  {
   "cell_type": "code",
   "execution_count": 3,
   "metadata": {},
   "outputs": [
    {
     "name": "stdout",
     "output_type": "stream",
     "text": [
      "(128, 512) (128, 512)\n"
     ]
    }
   ],
   "source": [
    "#水泵的两种故障类型信号normal正常，chanrao故障\n",
    "data_normal=data_normal.reshape(-1, 512)#(65536,1)-(128, 515)\n",
    "data_chanrao=data_chanrao.reshape(-1,512)\n",
    "print(data_normal.shape,data_chanrao.shape)\n"
   ]
  },
  {
   "cell_type": "code",
   "execution_count": 4,
   "metadata": {},
   "outputs": [
    {
     "name": "stdout",
     "output_type": "stream",
     "text": [
      "(204, 512, 1) (52, 512, 1)\n"
     ]
    }
   ],
   "source": [
    "import numpy as np\n",
    "def yuchuli(data,label):#(4:1)(51:13)\n",
    "    #打乱数据顺序\n",
    "    np.random.shuffle(data)\n",
    "    train = data[0:102,:]\n",
    "    test = data[102:128,:]\n",
    "    label_train = np.array([label for i in range(0,102)])\n",
    "    label_test =np.array([label for i in range(0,26)])\n",
    "    return train,test ,label_train ,label_test\n",
    "def stackkk(a,b,c,d,e,f,g,h):\n",
    "    aa = np.vstack((a, e))\n",
    "    bb = np.vstack((b, f))\n",
    "    cc = np.hstack((c, g))\n",
    "    dd = np.hstack((d, h))\n",
    "    return aa,bb,cc,dd\n",
    "x_tra0,x_tes0,y_tra0,y_tes0 = yuchuli(data_normal,0)\n",
    "x_tra1,x_tes1,y_tra1,y_tes1 = yuchuli(data_chanrao,1)\n",
    "tr1,te1,yr1,ye1=stackkk(x_tra0,x_tes0,y_tra0,y_tes0 ,x_tra1,x_tes1,y_tra1,y_tes1)\n",
    "\n",
    "x_train=tr1\n",
    "x_test=te1\n",
    "y_train = yr1\n",
    "y_test = ye1\n",
    "\n",
    "#打乱数据\n",
    "state = np.random.get_state()\n",
    "np.random.shuffle(x_train)\n",
    "np.random.set_state(state)\n",
    "np.random.shuffle(y_train)\n",
    "\n",
    "state = np.random.get_state()\n",
    "np.random.shuffle(x_test)\n",
    "np.random.set_state(state)\n",
    "np.random.shuffle(y_test)\n",
    "\n",
    "\n",
    "#对训练集和测试集标准化\n",
    "def ZscoreNormalization(x):\n",
    "    \"\"\"Z-score normaliaztion\"\"\"\n",
    "    x = (x - np.mean(x)) / np.std(x)\n",
    "    return x\n",
    "x_train=ZscoreNormalization(x_train)\n",
    "x_test=ZscoreNormalization(x_test)\n",
    "# print(x_test[0])\n",
    "\n",
    "\n",
    "#转化为一维序列\n",
    "x_train = x_train.reshape(-1,512,1)\n",
    "x_test = x_test.reshape(-1,512,1)\n",
    "print(x_train.shape,x_test.shape)\n",
    "\n",
    "def to_one_hot(labels,dimension=2):\n",
    "    results = np.zeros((len(labels),dimension))\n",
    "    for i,label in enumerate(labels):\n",
    "        results[i,label] = 1\n",
    "    return results\n",
    "one_hot_train_labels = to_one_hot(y_train)\n",
    "one_hot_test_labels = to_one_hot(y_test)\n"
   ]
  },
  {
   "cell_type": "code",
   "execution_count": 5,
   "metadata": {},
   "outputs": [
    {
     "name": "stdout",
     "output_type": "stream",
     "text": [
      "Model: \"model\"\n",
      "_________________________________________________________________\n",
      "Layer (type)                 Output Shape              Param #   \n",
      "=================================================================\n",
      "input_1 (InputLayer)         [(None, 512, 1, 1)]       0         \n",
      "_________________________________________________________________\n",
      "flatten (Flatten)            (None, 512)               0         \n",
      "_________________________________________________________________\n",
      "dense (Dense)                (None, 12)                6156      \n",
      "_________________________________________________________________\n",
      "dense_1 (Dense)              (None, 6)                 78        \n",
      "_________________________________________________________________\n",
      "dense_2 (Dense)              (None, 2)                 14        \n",
      "=================================================================\n",
      "Total params: 6,248\n",
      "Trainable params: 6,248\n",
      "Non-trainable params: 0\n",
      "_________________________________________________________________\n"
     ]
    }
   ],
   "source": [
    "x = layers.Input(shape=[512,1,1])\n",
    "Flatten=layers.Flatten()(x)\n",
    "Dense1=layers.Dense(12, activation='relu')(Flatten)\n",
    "Dense2=layers.Dense(6, activation='relu')(Dense1)\n",
    "Dense3=layers.Dense(2, activation='softmax')(Dense2)\n",
    "model = keras.Model(x, Dense3)    \n",
    "model.summary() "
   ]
  },
  {
   "cell_type": "code",
   "execution_count": 6,
   "metadata": {},
   "outputs": [],
   "source": [
    "#定义优化\n",
    "model.compile(loss='categorical_crossentropy',\n",
    "              optimizer='adam',metrics=['accuracy']) "
   ]
  },
  {
   "cell_type": "code",
   "execution_count": 7,
   "metadata": {
    "scrolled": true
   },
   "outputs": [
    {
     "name": "stdout",
     "output_type": "stream",
     "text": [
      "Epoch 1/50\n",
      "19/19 [==============================] - 2s 65ms/step - loss: 0.7613 - accuracy: 0.4786 - val_loss: 0.6924 - val_accuracy: 0.6190\n",
      "Epoch 2/50\n",
      "19/19 [==============================] - 0s 4ms/step - loss: 0.6199 - accuracy: 0.6453 - val_loss: 0.6812 - val_accuracy: 0.5714\n",
      "Epoch 3/50\n",
      "19/19 [==============================] - 0s 3ms/step - loss: 0.5362 - accuracy: 0.7116 - val_loss: 0.6760 - val_accuracy: 0.5714\n",
      "Epoch 4/50\n",
      "19/19 [==============================] - 0s 4ms/step - loss: 0.5387 - accuracy: 0.7103 - val_loss: 0.6791 - val_accuracy: 0.5714\n",
      "Epoch 5/50\n",
      "19/19 [==============================] - 0s 3ms/step - loss: 0.4822 - accuracy: 0.8454 - val_loss: 0.6763 - val_accuracy: 0.5238\n",
      "Epoch 6/50\n",
      "19/19 [==============================] - 0s 4ms/step - loss: 0.4091 - accuracy: 0.8330 - val_loss: 0.6742 - val_accuracy: 0.5714\n",
      "Epoch 7/50\n",
      "19/19 [==============================] - 0s 4ms/step - loss: 0.3873 - accuracy: 0.8699 - val_loss: 0.6978 - val_accuracy: 0.5714\n",
      "Epoch 8/50\n",
      "19/19 [==============================] - 0s 4ms/step - loss: 0.3662 - accuracy: 0.8439 - val_loss: 0.7226 - val_accuracy: 0.5238\n",
      "Epoch 9/50\n",
      "19/19 [==============================] - 0s 4ms/step - loss: 0.3219 - accuracy: 0.8895 - val_loss: 0.7143 - val_accuracy: 0.5714\n",
      "Epoch 10/50\n",
      "19/19 [==============================] - 0s 4ms/step - loss: 0.2961 - accuracy: 0.9033 - val_loss: 0.7374 - val_accuracy: 0.4286\n",
      "Epoch 11/50\n",
      "19/19 [==============================] - 0s 5ms/step - loss: 0.2330 - accuracy: 0.9331 - val_loss: 0.7527 - val_accuracy: 0.4286\n",
      "Epoch 12/50\n",
      "19/19 [==============================] - 0s 4ms/step - loss: 0.2147 - accuracy: 0.9242 - val_loss: 0.7393 - val_accuracy: 0.4286\n",
      "Epoch 13/50\n",
      "19/19 [==============================] - 0s 10ms/step - loss: 0.1929 - accuracy: 0.9468 - val_loss: 0.7349 - val_accuracy: 0.4286\n",
      "Epoch 14/50\n",
      "19/19 [==============================] - 0s 4ms/step - loss: 0.1781 - accuracy: 0.9449 - val_loss: 0.7596 - val_accuracy: 0.4286\n",
      "Epoch 15/50\n",
      "19/19 [==============================] - 0s 4ms/step - loss: 0.1234 - accuracy: 0.9732 - val_loss: 0.7765 - val_accuracy: 0.4762\n",
      "Epoch 16/50\n",
      "19/19 [==============================] - 0s 4ms/step - loss: 0.1224 - accuracy: 0.9825 - val_loss: 0.8021 - val_accuracy: 0.4762\n",
      "Epoch 17/50\n",
      "19/19 [==============================] - 0s 5ms/step - loss: 0.0965 - accuracy: 0.9907 - val_loss: 0.8006 - val_accuracy: 0.5238\n",
      "Epoch 18/50\n",
      "19/19 [==============================] - 0s 5ms/step - loss: 0.0784 - accuracy: 0.9939 - val_loss: 0.7943 - val_accuracy: 0.6190\n",
      "Epoch 19/50\n",
      "19/19 [==============================] - 0s 6ms/step - loss: 0.0716 - accuracy: 0.9938 - val_loss: 0.7869 - val_accuracy: 0.6190\n",
      "Epoch 20/50\n",
      "19/19 [==============================] - 0s 5ms/step - loss: 0.0645 - accuracy: 0.9923 - val_loss: 0.8116 - val_accuracy: 0.6667\n",
      "Epoch 21/50\n",
      "19/19 [==============================] - 0s 4ms/step - loss: 0.0473 - accuracy: 0.9982 - val_loss: 0.8190 - val_accuracy: 0.6667\n",
      "Epoch 22/50\n",
      "19/19 [==============================] - 0s 4ms/step - loss: 0.0433 - accuracy: 0.9986 - val_loss: 0.8274 - val_accuracy: 0.6667\n",
      "Epoch 23/50\n",
      "19/19 [==============================] - 0s 5ms/step - loss: 0.0412 - accuracy: 0.9942 - val_loss: 0.8300 - val_accuracy: 0.6667\n",
      "Epoch 24/50\n",
      "19/19 [==============================] - 0s 7ms/step - loss: 0.0344 - accuracy: 0.9979 - val_loss: 0.8051 - val_accuracy: 0.6190\n",
      "Epoch 25/50\n",
      "19/19 [==============================] - 0s 4ms/step - loss: 0.0342 - accuracy: 0.9989 - val_loss: 0.8075 - val_accuracy: 0.6667\n",
      "Epoch 26/50\n",
      "19/19 [==============================] - 0s 4ms/step - loss: 0.0258 - accuracy: 0.9956 - val_loss: 0.8165 - val_accuracy: 0.6190\n",
      "Epoch 27/50\n",
      "19/19 [==============================] - 0s 4ms/step - loss: 0.0235 - accuracy: 0.9989 - val_loss: 0.8310 - val_accuracy: 0.6190\n",
      "Epoch 28/50\n",
      "19/19 [==============================] - 0s 5ms/step - loss: 0.0199 - accuracy: 0.9979 - val_loss: 0.8361 - val_accuracy: 0.6190\n",
      "Epoch 29/50\n",
      "19/19 [==============================] - 0s 5ms/step - loss: 0.0256 - accuracy: 0.9870 - val_loss: 0.8437 - val_accuracy: 0.6190\n",
      "Epoch 30/50\n",
      "19/19 [==============================] - 0s 7ms/step - loss: 0.0189 - accuracy: 0.9975 - val_loss: 0.8534 - val_accuracy: 0.6190\n",
      "Epoch 31/50\n",
      "19/19 [==============================] - 0s 6ms/step - loss: 0.0153 - accuracy: 0.9966 - val_loss: 0.8558 - val_accuracy: 0.6190\n",
      "Epoch 32/50\n",
      "19/19 [==============================] - 0s 4ms/step - loss: 0.0144 - accuracy: 0.9989 - val_loss: 0.8679 - val_accuracy: 0.6190\n",
      "Epoch 33/50\n",
      "19/19 [==============================] - 0s 3ms/step - loss: 0.0229 - accuracy: 1.0000 - val_loss: 0.8992 - val_accuracy: 0.6190\n",
      "Epoch 34/50\n",
      "19/19 [==============================] - 0s 5ms/step - loss: 0.0094 - accuracy: 1.0000 - val_loss: 0.9057 - val_accuracy: 0.6190\n",
      "Epoch 35/50\n",
      "19/19 [==============================] - 0s 3ms/step - loss: 0.0129 - accuracy: 1.0000 - val_loss: 0.9172 - val_accuracy: 0.6190\n",
      "Epoch 36/50\n",
      "19/19 [==============================] - 0s 5ms/step - loss: 0.0173 - accuracy: 1.0000 - val_loss: 0.9306 - val_accuracy: 0.6190\n",
      "Epoch 37/50\n",
      "19/19 [==============================] - 0s 6ms/step - loss: 0.0110 - accuracy: 1.0000 - val_loss: 0.9477 - val_accuracy: 0.6190\n",
      "Epoch 38/50\n",
      "19/19 [==============================] - 0s 4ms/step - loss: 0.0087 - accuracy: 1.0000 - val_loss: 0.9501 - val_accuracy: 0.6190\n",
      "Epoch 39/50\n",
      "19/19 [==============================] - 0s 6ms/step - loss: 0.0080 - accuracy: 1.0000 - val_loss: 0.9579 - val_accuracy: 0.6190\n",
      "Epoch 40/50\n",
      "19/19 [==============================] - 0s 6ms/step - loss: 0.0141 - accuracy: 1.0000 - val_loss: 0.9671 - val_accuracy: 0.6190\n",
      "Epoch 41/50\n",
      "19/19 [==============================] - 0s 4ms/step - loss: 0.0124 - accuracy: 1.0000 - val_loss: 0.9762 - val_accuracy: 0.6190\n",
      "Epoch 42/50\n",
      "19/19 [==============================] - 0s 3ms/step - loss: 0.0145 - accuracy: 1.0000 - val_loss: 0.9826 - val_accuracy: 0.6190\n",
      "Epoch 43/50\n",
      "19/19 [==============================] - 0s 3ms/step - loss: 0.0049 - accuracy: 1.0000 - val_loss: 0.9884 - val_accuracy: 0.6190\n",
      "Epoch 44/50\n",
      "19/19 [==============================] - 0s 3ms/step - loss: 0.0053 - accuracy: 1.0000 - val_loss: 0.9936 - val_accuracy: 0.6190\n",
      "Epoch 45/50\n",
      "19/19 [==============================] - 0s 4ms/step - loss: 0.0034 - accuracy: 1.0000 - val_loss: 0.9997 - val_accuracy: 0.6190\n",
      "Epoch 46/50\n",
      "19/19 [==============================] - 0s 3ms/step - loss: 0.0049 - accuracy: 1.0000 - val_loss: 1.0079 - val_accuracy: 0.6190\n",
      "Epoch 47/50\n",
      "19/19 [==============================] - 0s 4ms/step - loss: 0.0043 - accuracy: 1.0000 - val_loss: 1.0166 - val_accuracy: 0.6190\n",
      "Epoch 48/50\n",
      "19/19 [==============================] - 0s 4ms/step - loss: 0.0069 - accuracy: 1.0000 - val_loss: 1.0220 - val_accuracy: 0.6190\n",
      "Epoch 49/50\n",
      "19/19 [==============================] - 0s 4ms/step - loss: 0.0041 - accuracy: 1.0000 - val_loss: 1.0260 - val_accuracy: 0.6190\n",
      "Epoch 50/50\n",
      "19/19 [==============================] - 0s 3ms/step - loss: 0.0057 - accuracy: 1.0000 - val_loss: 1.0312 - val_accuracy: 0.6190\n",
      "time: 6.119875907897949\n"
     ]
    }
   ],
   "source": [
    "import time\n",
    "time_begin = time.time()\n",
    "history = model.fit(x_train,one_hot_train_labels,\n",
    "                    validation_split=0.1,\n",
    "                    epochs=50,batch_size=10,\n",
    "                    shuffle=True)\n",
    "time_end = time.time()\n",
    "time = time_end - time_begin\n",
    "print('time:', time)"
   ]
  },
  {
   "cell_type": "code",
   "execution_count": 8,
   "metadata": {},
   "outputs": [
    {
     "name": "stdout",
     "output_type": "stream",
     "text": [
      "Test loss: 1.064577341079712\n",
      "Test accuracy: 0.5961538553237915\n",
      "time: 0.05377602577209473\n"
     ]
    }
   ],
   "source": [
    "import time\n",
    "time_begin = time.time()\n",
    "score = model.evaluate(x_test,one_hot_test_labels, verbose=0)\n",
    "print('Test loss:', score[0])\n",
    "print('Test accuracy:', score[1])\n",
    " \n",
    "time_end = time.time()\n",
    "time = time_end - time_begin\n",
    "print('time:', time)"
   ]
  },
  {
   "cell_type": "code",
   "execution_count": 9,
   "metadata": {},
   "outputs": [
    {
     "data": {
      "image/png": "[encoded data removed]",
      "text/plain": [
       "<Figure size 432x288 with 1 Axes>"
      ]
     },
     "metadata": {
      "needs_background": "light"
     },
     "output_type": "display_data"
    }
   ],
   "source": [
    "#绘制acc-loss曲线\n",
    "import matplotlib.pyplot as plt\n",
    "\n",
    "plt.plot(history.history['loss'],color='r')\n",
    "plt.plot(history.history['val_loss'],color='g')\n",
    "plt.plot(history.history['accuracy'],color='b')\n",
    "plt.plot(history.history['val_accuracy'],color='k')\n",
    "plt.title('model loss and acc')\n",
    "plt.ylabel('Accuracy')\n",
    "plt.xlabel('epoch')\n",
    "plt.legend(['train_loss', 'test_loss','train_acc', 'test_acc'], loc='center right')\n",
    "# plt.legend(['train_loss','train_acc'], loc='upper left')\n",
    "#plt.savefig('1.png')\n",
    "plt.show()"
   ]
  },
  {
   "cell_type": "code",
   "execution_count": 10,
   "metadata": {},
   "outputs": [
    {
     "data": {
      "image/png": "[encoded data removed]",
      "text/plain": [
       "<Figure size 432x288 with 1 Axes>"
      ]
     },
     "metadata": {
      "needs_background": "light"
     },
     "output_type": "display_data"
    }
   ],
   "source": [
    "import matplotlib.pyplot as plt\n",
    "\n",
    "plt.plot(history.history['loss'],color='r')\n",
    "plt.plot(history.history['accuracy'],color='b')\n",
    "plt.title('model loss and sccuracy ')\n",
    "plt.ylabel('loss/sccuracy')\n",
    "plt.xlabel('epoch')\n",
    "plt.legend(['train_loss', 'train_sccuracy'], loc='center right')\n",
    "plt.show()"
   ]
  },
  {
   "cell_type": "code",
   "execution_count": null,
   "metadata": {},
   "outputs": [],
   "source": []
  },
  {
   "cell_type": "code",
   "execution_count": null,
   "metadata": {},
   "outputs": [],
   "source": []
  }
 ],
 "metadata": {
  "kernelspec": {
   "display_name": "Python 3",
   "language": "python",
   "name": "python3"
  },
  "language_info": {
   "codemirror_mode": {
    "name": "ipython",
    "version": 3
   },
   "file_extension": ".py",
   "mimetype": "text/x-python",
   "name": "python",
   "nbconvert_exporter": "python",
   "pygments_lexer": "ipython3",
   "version": "3.8.5"
  }
 },
 "nbformat": 4,
 "nbformat_minor": 2
}
