{
 "cells": [
  {
   "cell_type": "code",
   "execution_count": 1,
   "metadata": {},
   "outputs": [],
   "source": [
    "from tensorflow import keras\n",
    "from tensorflow.keras import *\n",
    "from tensorflow.keras.models import *\n",
    "from tensorflow.keras.layers import *\n",
    "from tensorflow.keras.regularizers import l2#正则化L2\n",
    "import tensorflow as tf\n",
    "import numpy as np\n",
    "import pandas as pd"
   ]
  },
  {
   "cell_type": "code",
   "execution_count": 2,
   "metadata": {},
   "outputs": [
    {
     "name": "stdout",
     "output_type": "stream",
     "text": [
      "(22, 32768) (22, 32768) ***************************************************\n",
      "(2, 32768) (2, 32768)\n",
      "[[ 1.3019  -1.4857   0.17466 ...  0.99471  0.31638  0.35524]\n",
      " [ 0.91259 -0.58925 -0.75321 ... -2.713    0.11026  0.08035]] \r\n",
      " [[ 2.4738   1.067    2.6707  ...  0.17386 -0.41222 -1.9366 ]\n",
      " [ 3.771    0.5142   0.51687 ...  1.3231  -0.84389  0.82212]] ***************************************************\n",
      "(1, 65536) (1, 65536)\n",
      "[[ 1.3019  -1.4857   0.17466 ... -2.713    0.11026  0.08035]] \r\n",
      " [[ 2.4738   1.067    2.6707  ...  1.3231  -0.84389  0.82212]] ***************************************************\n"
     ]
    }
   ],
   "source": [
    "normal = np.loadtxt(r'F:\\data_all\\试验数据(包括压力脉动和振动)\\2013.9.12-未发生缠绕前\\2013-9.12振动\\2013-9-12振动-1450rmin-mat\\1450r_normalvib4.txt', delimiter=',')\n",
    "chanrao = np.loadtxt(r'F:\\data_all\\试验数据(包括压力脉动和振动)\\2013.9.17-发生缠绕后\\振动\\9-17下午振动1450rmin-mat\\1450r_chanraovib4.txt', delimiter=',')\n",
    "print(normal.shape,chanrao.shape,\"***************************************************\")\n",
    "data_normal=normal[8:10]   #提取前两行\n",
    "data_chanrao=chanrao[8:10]   #提取前两行\n",
    "print(data_normal.shape,data_chanrao.shape)\n",
    "print(data_normal,\"\\r\\n\",data_chanrao,\"***************************************************\")\n",
    "data_normal=data_normal.reshape(1,-1)\n",
    "data_chanrao=data_chanrao.reshape(1,-1)\n",
    "print(data_normal.shape,data_chanrao.shape)\n",
    "print(data_normal,\"\\r\\n\",data_chanrao,\"***************************************************\")"
   ]
  },
  {
   "cell_type": "code",
   "execution_count": 3,
   "metadata": {},
   "outputs": [
    {
     "name": "stdout",
     "output_type": "stream",
     "text": [
      "(128, 512) (128, 512)\n"
     ]
    }
   ],
   "source": [
    "#水泵的两种故障类型信号normal正常，chanrao故障\n",
    "data_normal=data_normal.reshape(-1, 512)#(65536,1)-(128, 515)\n",
    "data_chanrao=data_chanrao.reshape(-1,512)\n",
    "print(data_normal.shape,data_chanrao.shape)\n"
   ]
  },
  {
   "cell_type": "code",
   "execution_count": 4,
   "metadata": {},
   "outputs": [
    {
     "name": "stdout",
     "output_type": "stream",
     "text": [
      "(204, 512, 1) (52, 512, 1)\n"
     ]
    }
   ],
   "source": [
    "import numpy as np\n",
    "def yuchuli(data,label):#(4:1)(51:13)\n",
    "    #打乱数据顺序\n",
    "    np.random.shuffle(data)\n",
    "    train = data[0:102,:]\n",
    "    test = data[102:128,:]\n",
    "    label_train = np.array([label for i in range(0,102)])\n",
    "    label_test =np.array([label for i in range(0,26)])\n",
    "    return train,test ,label_train ,label_test\n",
    "def stackkk(a,b,c,d,e,f,g,h):\n",
    "    aa = np.vstack((a, e))\n",
    "    bb = np.vstack((b, f))\n",
    "    cc = np.hstack((c, g))\n",
    "    dd = np.hstack((d, h))\n",
    "    return aa,bb,cc,dd\n",
    "x_tra0,x_tes0,y_tra0,y_tes0 = yuchuli(data_normal,0)\n",
    "x_tra1,x_tes1,y_tra1,y_tes1 = yuchuli(data_chanrao,1)\n",
    "tr1,te1,yr1,ye1=stackkk(x_tra0,x_tes0,y_tra0,y_tes0 ,x_tra1,x_tes1,y_tra1,y_tes1)\n",
    "\n",
    "x_train=tr1\n",
    "x_test=te1\n",
    "y_train = yr1\n",
    "y_test = ye1\n",
    "\n",
    "#打乱数据\n",
    "state = np.random.get_state()\n",
    "np.random.shuffle(x_train)\n",
    "np.random.set_state(state)\n",
    "np.random.shuffle(y_train)\n",
    "\n",
    "state = np.random.get_state()\n",
    "np.random.shuffle(x_test)\n",
    "np.random.set_state(state)\n",
    "np.random.shuffle(y_test)\n",
    "\n",
    "\n",
    "#对训练集和测试集标准化\n",
    "def ZscoreNormalization(x):\n",
    "    \"\"\"Z-score normaliaztion\"\"\"\n",
    "    x = (x - np.mean(x)) / np.std(x)\n",
    "    return x\n",
    "x_train=ZscoreNormalization(x_train)\n",
    "x_test=ZscoreNormalization(x_test)\n",
    "# print(x_test[0])\n",
    "\n",
    "\n",
    "#转化为一维序列\n",
    "x_train = x_train.reshape(-1,512,1)\n",
    "x_test = x_test.reshape(-1,512,1)\n",
    "print(x_train.shape,x_test.shape)\n",
    "\n",
    "def to_one_hot(labels,dimension=2):\n",
    "    results = np.zeros((len(labels),dimension))\n",
    "    for i,label in enumerate(labels):\n",
    "        results[i,label] = 1\n",
    "    return results\n",
    "one_hot_train_labels = to_one_hot(y_train)\n",
    "one_hot_test_labels = to_one_hot(y_test)\n"
   ]
  },
  {
   "cell_type": "code",
   "execution_count": 5,
   "metadata": {},
   "outputs": [
    {
     "name": "stdout",
     "output_type": "stream",
     "text": [
      "Model: \"model\"\n",
      "_________________________________________________________________\n",
      "Layer (type)                 Output Shape              Param #   \n",
      "=================================================================\n",
      "input_1 (InputLayer)         [(None, 512, 1, 1)]       0         \n",
      "_________________________________________________________________\n",
      "flatten (Flatten)            (None, 512)               0         \n",
      "_________________________________________________________________\n",
      "dense (Dense)                (None, 12)                6156      \n",
      "_________________________________________________________________\n",
      "dense_1 (Dense)              (None, 6)                 78        \n",
      "_________________________________________________________________\n",
      "dense_2 (Dense)              (None, 2)                 14        \n",
      "=================================================================\n",
      "Total params: 6,248\n",
      "Trainable params: 6,248\n",
      "Non-trainable params: 0\n",
      "_________________________________________________________________\n"
     ]
    }
   ],
   "source": [
    "x = layers.Input(shape=[512,1,1])\n",
    "Flatten=layers.Flatten()(x)\n",
    "Dense1=layers.Dense(12, activation='relu')(Flatten)\n",
    "Dense2=layers.Dense(6, activation='relu')(Dense1)\n",
    "Dense3=layers.Dense(2, activation='softmax')(Dense2)\n",
    "model = keras.Model(x, Dense3)    \n",
    "model.summary() "
   ]
  },
  {
   "cell_type": "code",
   "execution_count": 6,
   "metadata": {},
   "outputs": [],
   "source": [
    "#定义优化\n",
    "model.compile(loss='categorical_crossentropy',\n",
    "              optimizer='adam',metrics=['accuracy']) "
   ]
  },
  {
   "cell_type": "code",
   "execution_count": 7,
   "metadata": {
    "scrolled": true
   },
   "outputs": [
    {
     "name": "stdout",
     "output_type": "stream",
     "text": [
      "Epoch 1/50\n",
      "19/19 [==============================] - 2s 55ms/step - loss: 0.8073 - accuracy: 0.5671 - val_loss: 0.7003 - val_accuracy: 0.5238\n",
      "Epoch 2/50\n",
      "19/19 [==============================] - 0s 3ms/step - loss: 0.5447 - accuracy: 0.7330 - val_loss: 0.6616 - val_accuracy: 0.5238\n",
      "Epoch 3/50\n",
      "19/19 [==============================] - 0s 4ms/step - loss: 0.3696 - accuracy: 0.8572 - val_loss: 0.6575 - val_accuracy: 0.4762\n",
      "Epoch 4/50\n",
      "19/19 [==============================] - 0s 3ms/step - loss: 0.3450 - accuracy: 0.9002 - val_loss: 0.6586 - val_accuracy: 0.4762\n",
      "Epoch 5/50\n",
      "19/19 [==============================] - 0s 3ms/step - loss: 0.2963 - accuracy: 0.9195 - val_loss: 0.6720 - val_accuracy: 0.4286\n",
      "Epoch 6/50\n",
      "19/19 [==============================] - 0s 3ms/step - loss: 0.2315 - accuracy: 0.9366 - val_loss: 0.6705 - val_accuracy: 0.5238\n",
      "Epoch 7/50\n",
      "19/19 [==============================] - 0s 3ms/step - loss: 0.2492 - accuracy: 0.9213 - val_loss: 0.6756 - val_accuracy: 0.5238\n",
      "Epoch 8/50\n",
      "19/19 [==============================] - 0s 3ms/step - loss: 0.1845 - accuracy: 0.9774 - val_loss: 0.6798 - val_accuracy: 0.5714\n",
      "Epoch 9/50\n",
      "19/19 [==============================] - 0s 3ms/step - loss: 0.1725 - accuracy: 0.9619 - val_loss: 0.6728 - val_accuracy: 0.6667\n",
      "Epoch 10/50\n",
      "19/19 [==============================] - 0s 3ms/step - loss: 0.1425 - accuracy: 0.9790 - val_loss: 0.6782 - val_accuracy: 0.5714\n",
      "Epoch 11/50\n",
      "19/19 [==============================] - 0s 3ms/step - loss: 0.1150 - accuracy: 0.9791 - val_loss: 0.6858 - val_accuracy: 0.6190\n",
      "Epoch 12/50\n",
      "19/19 [==============================] - 0s 3ms/step - loss: 0.1385 - accuracy: 0.9471 - val_loss: 0.7228 - val_accuracy: 0.5714\n",
      "Epoch 13/50\n",
      "19/19 [==============================] - 0s 3ms/step - loss: 0.1063 - accuracy: 0.9724 - val_loss: 0.7267 - val_accuracy: 0.5714\n",
      "Epoch 14/50\n",
      "19/19 [==============================] - 0s 3ms/step - loss: 0.0982 - accuracy: 0.9805 - val_loss: 0.7414 - val_accuracy: 0.5714\n",
      "Epoch 15/50\n",
      "19/19 [==============================] - 0s 3ms/step - loss: 0.0886 - accuracy: 0.9566 - val_loss: 0.7558 - val_accuracy: 0.5714\n",
      "Epoch 16/50\n",
      "19/19 [==============================] - 0s 3ms/step - loss: 0.0821 - accuracy: 0.9721 - val_loss: 0.7856 - val_accuracy: 0.6190\n",
      "Epoch 17/50\n",
      "19/19 [==============================] - 0s 3ms/step - loss: 0.0679 - accuracy: 0.9805 - val_loss: 0.8141 - val_accuracy: 0.6190\n",
      "Epoch 18/50\n",
      "19/19 [==============================] - 0s 3ms/step - loss: 0.0778 - accuracy: 0.9515 - val_loss: 0.8116 - val_accuracy: 0.6667\n",
      "Epoch 19/50\n",
      "19/19 [==============================] - 0s 3ms/step - loss: 0.0584 - accuracy: 0.9638 - val_loss: 0.8310 - val_accuracy: 0.6667\n",
      "Epoch 20/50\n",
      "19/19 [==============================] - 0s 3ms/step - loss: 0.0665 - accuracy: 0.9660 - val_loss: 0.8220 - val_accuracy: 0.6190\n",
      "Epoch 21/50\n",
      "19/19 [==============================] - 0s 3ms/step - loss: 0.0579 - accuracy: 0.9708 - val_loss: 0.8162 - val_accuracy: 0.6667\n",
      "Epoch 22/50\n",
      "19/19 [==============================] - 0s 3ms/step - loss: 0.0432 - accuracy: 0.9847 - val_loss: 0.8225 - val_accuracy: 0.6667\n",
      "Epoch 23/50\n",
      "19/19 [==============================] - 0s 3ms/step - loss: 0.0592 - accuracy: 0.9754 - val_loss: 0.8290 - val_accuracy: 0.6190\n",
      "Epoch 24/50\n",
      "19/19 [==============================] - 0s 3ms/step - loss: 0.0385 - accuracy: 0.9866 - val_loss: 0.8347 - val_accuracy: 0.6190\n",
      "Epoch 25/50\n",
      "19/19 [==============================] - 0s 3ms/step - loss: 0.0430 - accuracy: 0.9764 - val_loss: 0.8466 - val_accuracy: 0.6190\n",
      "Epoch 26/50\n",
      "19/19 [==============================] - 0s 3ms/step - loss: 0.0297 - accuracy: 0.9851 - val_loss: 0.8609 - val_accuracy: 0.6190\n",
      "Epoch 27/50\n",
      "19/19 [==============================] - 0s 3ms/step - loss: 0.0287 - accuracy: 0.9848 - val_loss: 0.8635 - val_accuracy: 0.6190\n",
      "Epoch 28/50\n",
      "19/19 [==============================] - 0s 3ms/step - loss: 0.0258 - accuracy: 0.9817 - val_loss: 0.8720 - val_accuracy: 0.6190\n",
      "Epoch 29/50\n",
      "19/19 [==============================] - 0s 3ms/step - loss: 0.0252 - accuracy: 0.9844 - val_loss: 0.8736 - val_accuracy: 0.6190\n",
      "Epoch 30/50\n",
      "19/19 [==============================] - 0s 3ms/step - loss: 0.0231 - accuracy: 0.9870 - val_loss: 0.8816 - val_accuracy: 0.6190\n",
      "Epoch 31/50\n",
      "19/19 [==============================] - 0s 3ms/step - loss: 0.0244 - accuracy: 0.9872 - val_loss: 0.8960 - val_accuracy: 0.6190\n",
      "Epoch 32/50\n",
      "19/19 [==============================] - 0s 3ms/step - loss: 0.0334 - accuracy: 0.9802 - val_loss: 0.9078 - val_accuracy: 0.6190\n",
      "Epoch 33/50\n",
      "19/19 [==============================] - 0s 3ms/step - loss: 0.0263 - accuracy: 0.9849 - val_loss: 0.9144 - val_accuracy: 0.6190\n",
      "Epoch 34/50\n",
      "19/19 [==============================] - 0s 3ms/step - loss: 0.0186 - accuracy: 0.9898 - val_loss: 0.9319 - val_accuracy: 0.6190\n",
      "Epoch 35/50\n",
      "19/19 [==============================] - 0s 3ms/step - loss: 0.0129 - accuracy: 0.9966 - val_loss: 0.9653 - val_accuracy: 0.6190\n",
      "Epoch 36/50\n",
      "19/19 [==============================] - 0s 3ms/step - loss: 0.0077 - accuracy: 1.0000 - val_loss: 0.9874 - val_accuracy: 0.6190\n",
      "Epoch 37/50\n",
      "19/19 [==============================] - 0s 4ms/step - loss: 0.0132 - accuracy: 1.0000 - val_loss: 0.9986 - val_accuracy: 0.6667\n",
      "Epoch 38/50\n",
      "19/19 [==============================] - 0s 4ms/step - loss: 0.0061 - accuracy: 1.0000 - val_loss: 1.0070 - val_accuracy: 0.6190\n",
      "Epoch 39/50\n",
      "19/19 [==============================] - 0s 4ms/step - loss: 0.0133 - accuracy: 1.0000 - val_loss: 1.0139 - val_accuracy: 0.6190\n",
      "Epoch 40/50\n",
      "19/19 [==============================] - 0s 4ms/step - loss: 0.0076 - accuracy: 1.0000 - val_loss: 1.0217 - val_accuracy: 0.6190\n",
      "Epoch 41/50\n",
      "19/19 [==============================] - 0s 3ms/step - loss: 0.0075 - accuracy: 1.0000 - val_loss: 1.0330 - val_accuracy: 0.6190\n",
      "Epoch 42/50\n",
      "19/19 [==============================] - 0s 3ms/step - loss: 0.0164 - accuracy: 1.0000 - val_loss: 1.0397 - val_accuracy: 0.6190\n",
      "Epoch 43/50\n",
      "19/19 [==============================] - 0s 3ms/step - loss: 0.0071 - accuracy: 1.0000 - val_loss: 1.0467 - val_accuracy: 0.6190\n",
      "Epoch 44/50\n",
      "19/19 [==============================] - 0s 3ms/step - loss: 0.0069 - accuracy: 1.0000 - val_loss: 1.0541 - val_accuracy: 0.6190\n",
      "Epoch 45/50\n",
      "19/19 [==============================] - 0s 3ms/step - loss: 0.0066 - accuracy: 1.0000 - val_loss: 1.0633 - val_accuracy: 0.6190\n",
      "Epoch 46/50\n",
      "19/19 [==============================] - 0s 3ms/step - loss: 0.0034 - accuracy: 1.0000 - val_loss: 1.0715 - val_accuracy: 0.6190\n",
      "Epoch 47/50\n",
      "19/19 [==============================] - 0s 3ms/step - loss: 0.0117 - accuracy: 1.0000 - val_loss: 1.0789 - val_accuracy: 0.6190\n",
      "Epoch 48/50\n",
      "19/19 [==============================] - 0s 6ms/step - loss: 0.0112 - accuracy: 1.0000 - val_loss: 1.0865 - val_accuracy: 0.6190\n",
      "Epoch 49/50\n",
      "19/19 [==============================] - 0s 2ms/step - loss: 0.0044 - accuracy: 1.0000 - val_loss: 1.0953 - val_accuracy: 0.6190\n",
      "Epoch 50/50\n",
      "19/19 [==============================] - 0s 4ms/step - loss: 0.0033 - accuracy: 1.0000 - val_loss: 1.1021 - val_accuracy: 0.6190\n",
      "time: 4.702404737472534\n"
     ]
    }
   ],
   "source": [
    "import time\n",
    "time_begin = time.time()\n",
    "history = model.fit(x_train,one_hot_train_labels,\n",
    "                    validation_split=0.1,\n",
    "                    epochs=50,batch_size=10,\n",
    "                    shuffle=True)\n",
    "time_end = time.time()\n",
    "time = time_end - time_begin\n",
    "print('time:', time)"
   ]
  },
  {
   "cell_type": "code",
   "execution_count": 8,
   "metadata": {},
   "outputs": [
    {
     "name": "stdout",
     "output_type": "stream",
     "text": [
      "Test loss: 0.6518973112106323\n",
      "Test accuracy: 0.7307692170143127\n",
      "time: 0.06582427024841309\n"
     ]
    }
   ],
   "source": [
    "import time\n",
    "time_begin = time.time()\n",
    "score = model.evaluate(x_test,one_hot_test_labels, verbose=0)\n",
    "print('Test loss:', score[0])\n",
    "print('Test accuracy:', score[1])\n",
    " \n",
    "time_end = time.time()\n",
    "time = time_end - time_begin\n",
    "print('time:', time)"
   ]
  },
  {
   "cell_type": "code",
   "execution_count": 9,
   "metadata": {},
   "outputs": [
    {
     "data": {
      "image/png": "[encoded data removed]",
      "text/plain": [
       "<Figure size 432x288 with 1 Axes>"
      ]
     },
     "metadata": {
      "needs_background": "light"
     },
     "output_type": "display_data"
    }
   ],
   "source": [
    "#绘制acc-loss曲线\n",
    "import matplotlib.pyplot as plt\n",
    "\n",
    "plt.plot(history.history['loss'],color='r')\n",
    "plt.plot(history.history['val_loss'],color='g')\n",
    "plt.plot(history.history['accuracy'],color='b')\n",
    "plt.plot(history.history['val_accuracy'],color='k')\n",
    "plt.title('model loss and acc')\n",
    "plt.ylabel('Accuracy')\n",
    "plt.xlabel('epoch')\n",
    "plt.legend(['train_loss', 'test_loss','train_acc', 'test_acc'], loc='center right')\n",
    "# plt.legend(['train_loss','train_acc'], loc='upper left')\n",
    "#plt.savefig('1.png')\n",
    "plt.show()"
   ]
  },
  {
   "cell_type": "code",
   "execution_count": 10,
   "metadata": {},
   "outputs": [
    {
     "data": {
      "image/png": "[encoded data removed]",
      "text/plain": [
       "<Figure size 432x288 with 1 Axes>"
      ]
     },
     "metadata": {
      "needs_background": "light"
     },
     "output_type": "display_data"
    }
   ],
   "source": [
    "import matplotlib.pyplot as plt\n",
    "\n",
    "plt.plot(history.history['loss'],color='r')\n",
    "plt.plot(history.history['accuracy'],color='b')\n",
    "plt.title('model loss and sccuracy ')\n",
    "plt.ylabel('loss/sccuracy')\n",
    "plt.xlabel('epoch')\n",
    "plt.legend(['train_loss', 'train_sccuracy'], loc='center right')\n",
    "plt.show()"
   ]
  },
  {
   "cell_type": "code",
   "execution_count": null,
   "metadata": {},
   "outputs": [],
   "source": []
  },
  {
   "cell_type": "code",
   "execution_count": null,
   "metadata": {},
   "outputs": [],
   "source": []
  }
 ],
 "metadata": {
  "kernelspec": {
   "display_name": "Python 3",
   "language": "python",
   "name": "python3"
  },
  "language_info": {
   "codemirror_mode": {
    "name": "ipython",
    "version": 3
   },
   "file_extension": ".py",
   "mimetype": "text/x-python",
   "name": "python",
   "nbconvert_exporter": "python",
   "pygments_lexer": "ipython3",
   "version": "3.8.5"
  }
 },
 "nbformat": 4,
 "nbformat_minor": 2
}
