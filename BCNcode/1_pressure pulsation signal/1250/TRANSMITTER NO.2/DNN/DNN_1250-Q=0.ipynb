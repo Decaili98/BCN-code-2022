{
 "cells": [
  {
   "cell_type": "code",
   "execution_count": 1,
   "metadata": {},
   "outputs": [],
   "source": [
    "from tensorflow import keras\n",
    "from tensorflow.keras import *\n",
    "from tensorflow.keras.models import *\n",
    "from tensorflow.keras.layers import *\n",
    "from tensorflow.keras.regularizers import l2#正则化L2\n",
    "import tensorflow as tf\n",
    "import numpy as np\n",
    "import pandas as pd"
   ]
  },
  {
   "cell_type": "code",
   "execution_count": 2,
   "metadata": {
    "scrolled": true
   },
   "outputs": [],
   "source": [
    "normal_all = pd.read_csv(r'F:\\张老师课题学习内容\\code\\数据集\\试验数据(包括压力脉动和振动)\\2013.9.12-未发生缠绕前\\2013-9-12压力脉动\\1250-txt\\normal_0_通道7.txt')\n",
    "chanrao_all = pd.read_csv(r'F:\\张老师课题学习内容\\code\\数据集\\试验数据(包括压力脉动和振动)\\2013.9.17-发生缠绕后\\压力脉动\\1250-txt\\chanrao_0_通道7.txt')  \n",
    "normal=normal_all[[\"通道7\"]]\n",
    "chanrao=chanrao_all[[\"通道7\"]]"
   ]
  },
  {
   "cell_type": "code",
   "execution_count": 3,
   "metadata": {},
   "outputs": [
    {
     "name": "stdout",
     "output_type": "stream",
     "text": [
      "(120000, 2) (120000, 2)\n",
      "(150, 800) (150, 800)\n"
     ]
    }
   ],
   "source": [
    "#水泵的两种故障类型信号normal正常，chanrao故障\n",
    "normal=normal.values.reshape(-1, 800)#(120000,1)-(150, 800)150条长度为800\n",
    "chanrao=chanrao.values.reshape(-1, 800)\n",
    "print(normal_all.shape,chanrao_all.shape)\n",
    "print(normal.shape,chanrao.shape)"
   ]
  },
  {
   "cell_type": "code",
   "execution_count": 4,
   "metadata": {},
   "outputs": [
    {
     "name": "stdout",
     "output_type": "stream",
     "text": [
      "(240, 800, 1) (60, 800, 1)\n"
     ]
    }
   ],
   "source": [
    "import numpy as np\n",
    "def yuchuli(data,label):#(7:1)(616:88)\n",
    "    #打乱数据顺序\n",
    "    np.random.shuffle(data)\n",
    "    train = data[0:120,:]\n",
    "    test = data[120:150,:]\n",
    "    label_train = np.array([label for i in range(0,120)])\n",
    "    label_test =np.array([label for i in range(0,30)])\n",
    "    return train,test ,label_train ,label_test\n",
    "\n",
    "def stackkk(a,b,c,d,e,f,g,h):\n",
    "    aa = np.vstack((a, e))\n",
    "    bb = np.vstack((b, f))\n",
    "    cc = np.hstack((c, g))\n",
    "    dd = np.hstack((d, h))\n",
    "    return aa,bb,cc,dd\n",
    "x_tra0,x_tes0,y_tra0,y_tes0 = yuchuli(normal,0)\n",
    "x_tra1,x_tes1,y_tra1,y_tes1 = yuchuli(chanrao,1)\n",
    "tr1,te1,yr1,ye1=stackkk(x_tra0,x_tes0,y_tra0,y_tes0 ,x_tra1,x_tes1,y_tra1,y_tes1)\n",
    "\n",
    "x_train=tr1\n",
    "x_test=te1\n",
    "y_train = yr1\n",
    "y_test = ye1\n",
    "\n",
    "#打乱数据\n",
    "state = np.random.get_state()\n",
    "np.random.shuffle(x_train)\n",
    "np.random.set_state(state)\n",
    "np.random.shuffle(y_train)\n",
    "\n",
    "state = np.random.get_state()\n",
    "np.random.shuffle(x_test)\n",
    "np.random.set_state(state)\n",
    "np.random.shuffle(y_test)\n",
    "\n",
    "\n",
    "#对训练集和测试集标准化\n",
    "def ZscoreNormalization(x):\n",
    "    \"\"\"Z-score normaliaztion\"\"\"\n",
    "    x = (x - np.mean(x)) / np.std(x)\n",
    "    return x\n",
    "x_train=ZscoreNormalization(x_train)\n",
    "x_test=ZscoreNormalization(x_test)\n",
    "# print(x_test[0])\n",
    "\n",
    "\n",
    "#转化为一维序列\n",
    "x_train = x_train.reshape(-1,800,1)\n",
    "x_test = x_test.reshape(-1,800,1)\n",
    "print(x_train.shape,x_test.shape)\n",
    "\n",
    "def to_one_hot(labels,dimension=2):\n",
    "    results = np.zeros((len(labels),dimension))\n",
    "    for i,label in enumerate(labels):\n",
    "        results[i,label] = 1\n",
    "    return results\n",
    "one_hot_train_labels = to_one_hot(y_train)\n",
    "one_hot_test_labels = to_one_hot(y_test)\n"
   ]
  },
  {
   "cell_type": "code",
   "execution_count": 5,
   "metadata": {
    "scrolled": true
   },
   "outputs": [
    {
     "name": "stdout",
     "output_type": "stream",
     "text": [
      "Model: \"model\"\n",
      "_________________________________________________________________\n",
      "Layer (type)                 Output Shape              Param #   \n",
      "=================================================================\n",
      "input_1 (InputLayer)         [(None, 800, 1, 1)]       0         \n",
      "_________________________________________________________________\n",
      "flatten (Flatten)            (None, 800)               0         \n",
      "_________________________________________________________________\n",
      "dense (Dense)                (None, 12)                9612      \n",
      "_________________________________________________________________\n",
      "dense_1 (Dense)              (None, 6)                 78        \n",
      "_________________________________________________________________\n",
      "dense_2 (Dense)              (None, 2)                 14        \n",
      "=================================================================\n",
      "Total params: 9,704\n",
      "Trainable params: 9,704\n",
      "Non-trainable params: 0\n",
      "_________________________________________________________________\n"
     ]
    }
   ],
   "source": [
    "x = layers.Input(shape=[800,1,1])\n",
    "Flatten=layers.Flatten()(x)\n",
    "Dense1=layers.Dense(12, activation='relu')(Flatten)\n",
    "Dense2=layers.Dense(6, activation='relu')(Dense1)\n",
    "Dense3=layers.Dense(2, activation='softmax')(Dense2)\n",
    "model = keras.Model(x, Dense3)    \n",
    "model.summary() "
   ]
  },
  {
   "cell_type": "code",
   "execution_count": 6,
   "metadata": {},
   "outputs": [],
   "source": [
    "\n",
    "#定义优化\n",
    "model.compile(loss='categorical_crossentropy',\n",
    "              optimizer='adam',metrics=['accuracy']) "
   ]
  },
  {
   "cell_type": "code",
   "execution_count": 7,
   "metadata": {
    "scrolled": true
   },
   "outputs": [
    {
     "name": "stdout",
     "output_type": "stream",
     "text": [
      "Epoch 1/50\n",
      "22/22 [==============================] - 1s 38ms/step - loss: 0.8839 - accuracy: 0.5073 - val_loss: 0.5994 - val_accuracy: 0.7500\n",
      "Epoch 2/50\n",
      "22/22 [==============================] - 0s 3ms/step - loss: 0.5104 - accuracy: 0.7754 - val_loss: 0.6483 - val_accuracy: 0.7083\n",
      "Epoch 3/50\n",
      "22/22 [==============================] - 0s 3ms/step - loss: 0.4097 - accuracy: 0.8731 - val_loss: 0.6209 - val_accuracy: 0.7500\n",
      "Epoch 4/50\n",
      "22/22 [==============================] - 0s 2ms/step - loss: 0.3472 - accuracy: 0.8923 - val_loss: 0.6743 - val_accuracy: 0.7917\n",
      "Epoch 5/50\n",
      "22/22 [==============================] - 0s 2ms/step - loss: 0.2623 - accuracy: 0.9486 - val_loss: 0.6887 - val_accuracy: 0.7500\n",
      "Epoch 6/50\n",
      "22/22 [==============================] - 0s 3ms/step - loss: 0.2571 - accuracy: 0.9653 - val_loss: 0.7052 - val_accuracy: 0.7500\n",
      "Epoch 7/50\n",
      "22/22 [==============================] - 0s 3ms/step - loss: 0.1712 - accuracy: 0.9639 - val_loss: 0.6941 - val_accuracy: 0.7083\n",
      "Epoch 8/50\n",
      "22/22 [==============================] - 0s 2ms/step - loss: 0.1588 - accuracy: 0.9961 - val_loss: 0.6711 - val_accuracy: 0.7500\n",
      "Epoch 9/50\n",
      "22/22 [==============================] - 0s 3ms/step - loss: 0.1239 - accuracy: 0.9992 - val_loss: 0.6868 - val_accuracy: 0.7083\n",
      "Epoch 10/50\n",
      "22/22 [==============================] - 0s 3ms/step - loss: 0.1091 - accuracy: 0.9984 - val_loss: 0.7535 - val_accuracy: 0.7083\n",
      "Epoch 11/50\n",
      "22/22 [==============================] - 0s 3ms/step - loss: 0.0946 - accuracy: 1.0000 - val_loss: 0.7841 - val_accuracy: 0.7083\n",
      "Epoch 12/50\n",
      "22/22 [==============================] - 0s 2ms/step - loss: 0.0599 - accuracy: 0.9950 - val_loss: 0.8149 - val_accuracy: 0.7083\n",
      "Epoch 13/50\n",
      "22/22 [==============================] - 0s 2ms/step - loss: 0.0721 - accuracy: 1.0000 - val_loss: 0.8516 - val_accuracy: 0.7083\n",
      "Epoch 14/50\n",
      "22/22 [==============================] - 0s 2ms/step - loss: 0.0482 - accuracy: 1.0000 - val_loss: 0.8674 - val_accuracy: 0.7083\n",
      "Epoch 15/50\n",
      "22/22 [==============================] - 0s 2ms/step - loss: 0.0357 - accuracy: 1.0000 - val_loss: 0.9071 - val_accuracy: 0.7083\n",
      "Epoch 16/50\n",
      "22/22 [==============================] - 0s 2ms/step - loss: 0.0356 - accuracy: 1.0000 - val_loss: 0.9341 - val_accuracy: 0.7083\n",
      "Epoch 17/50\n",
      "22/22 [==============================] - 0s 3ms/step - loss: 0.0236 - accuracy: 1.0000 - val_loss: 0.9494 - val_accuracy: 0.7083\n",
      "Epoch 18/50\n",
      "22/22 [==============================] - 0s 2ms/step - loss: 0.0222 - accuracy: 1.0000 - val_loss: 0.9694 - val_accuracy: 0.7083\n",
      "Epoch 19/50\n",
      "22/22 [==============================] - 0s 2ms/step - loss: 0.0311 - accuracy: 1.0000 - val_loss: 0.9867 - val_accuracy: 0.7083\n",
      "Epoch 20/50\n",
      "22/22 [==============================] - 0s 2ms/step - loss: 0.0293 - accuracy: 1.0000 - val_loss: 0.9954 - val_accuracy: 0.7083\n",
      "Epoch 21/50\n",
      "22/22 [==============================] - 0s 2ms/step - loss: 0.0240 - accuracy: 1.0000 - val_loss: 1.0136 - val_accuracy: 0.7083\n",
      "Epoch 22/50\n",
      "22/22 [==============================] - 0s 2ms/step - loss: 0.0214 - accuracy: 1.0000 - val_loss: 1.0529 - val_accuracy: 0.7083\n",
      "Epoch 23/50\n",
      "22/22 [==============================] - 0s 2ms/step - loss: 0.0138 - accuracy: 1.0000 - val_loss: 1.0926 - val_accuracy: 0.7083\n",
      "Epoch 24/50\n",
      "22/22 [==============================] - 0s 2ms/step - loss: 0.0126 - accuracy: 1.0000 - val_loss: 1.1114 - val_accuracy: 0.7083\n",
      "Epoch 25/50\n",
      "22/22 [==============================] - 0s 2ms/step - loss: 0.0233 - accuracy: 1.0000 - val_loss: 1.1304 - val_accuracy: 0.7083\n",
      "Epoch 26/50\n",
      "22/22 [==============================] - 0s 2ms/step - loss: 0.0094 - accuracy: 0.9976 - val_loss: 1.1463 - val_accuracy: 0.7083\n",
      "Epoch 27/50\n",
      "22/22 [==============================] - 0s 2ms/step - loss: 0.0193 - accuracy: 1.0000 - val_loss: 1.1420 - val_accuracy: 0.7083\n",
      "Epoch 28/50\n",
      "22/22 [==============================] - 0s 2ms/step - loss: 0.0063 - accuracy: 1.0000 - val_loss: 1.1462 - val_accuracy: 0.7083\n",
      "Epoch 29/50\n",
      "22/22 [==============================] - 0s 2ms/step - loss: 0.0060 - accuracy: 1.0000 - val_loss: 1.1568 - val_accuracy: 0.7083\n",
      "Epoch 30/50\n",
      "22/22 [==============================] - 0s 4ms/step - loss: 0.0049 - accuracy: 1.0000 - val_loss: 1.1723 - val_accuracy: 0.7083\n",
      "Epoch 31/50\n",
      "22/22 [==============================] - 0s 3ms/step - loss: 0.0040 - accuracy: 1.0000 - val_loss: 1.1805 - val_accuracy: 0.7083\n",
      "Epoch 32/50\n",
      "22/22 [==============================] - 0s 2ms/step - loss: 0.0065 - accuracy: 1.0000 - val_loss: 1.1938 - val_accuracy: 0.7083\n",
      "Epoch 33/50\n",
      "22/22 [==============================] - 0s 2ms/step - loss: 0.0053 - accuracy: 1.0000 - val_loss: 1.2046 - val_accuracy: 0.7083\n",
      "Epoch 34/50\n",
      "22/22 [==============================] - 0s 2ms/step - loss: 0.0083 - accuracy: 1.0000 - val_loss: 1.2123 - val_accuracy: 0.7083\n",
      "Epoch 35/50\n",
      "22/22 [==============================] - 0s 2ms/step - loss: 0.0042 - accuracy: 1.0000 - val_loss: 1.2261 - val_accuracy: 0.7083\n",
      "Epoch 36/50\n",
      "22/22 [==============================] - 0s 2ms/step - loss: 0.0027 - accuracy: 1.0000 - val_loss: 1.2363 - val_accuracy: 0.7083\n",
      "Epoch 37/50\n",
      "22/22 [==============================] - 0s 2ms/step - loss: 0.0080 - accuracy: 1.0000 - val_loss: 1.2450 - val_accuracy: 0.7083\n",
      "Epoch 38/50\n",
      "22/22 [==============================] - 0s 2ms/step - loss: 0.0082 - accuracy: 1.0000 - val_loss: 1.2570 - val_accuracy: 0.7083\n",
      "Epoch 39/50\n",
      "22/22 [==============================] - 0s 2ms/step - loss: 0.0069 - accuracy: 1.0000 - val_loss: 1.2639 - val_accuracy: 0.7083\n",
      "Epoch 40/50\n",
      "22/22 [==============================] - 0s 2ms/step - loss: 0.0044 - accuracy: 1.0000 - val_loss: 1.2725 - val_accuracy: 0.7083\n",
      "Epoch 41/50\n",
      "22/22 [==============================] - 0s 2ms/step - loss: 0.0028 - accuracy: 1.0000 - val_loss: 1.2822 - val_accuracy: 0.7083\n",
      "Epoch 42/50\n",
      "22/22 [==============================] - 0s 2ms/step - loss: 0.0077 - accuracy: 1.0000 - val_loss: 1.2905 - val_accuracy: 0.7083\n",
      "Epoch 43/50\n",
      "22/22 [==============================] - 0s 2ms/step - loss: 0.0024 - accuracy: 1.0000 - val_loss: 1.2989 - val_accuracy: 0.7083\n",
      "Epoch 44/50\n",
      "22/22 [==============================] - 0s 2ms/step - loss: 0.0027 - accuracy: 1.0000 - val_loss: 1.3069 - val_accuracy: 0.7083\n",
      "Epoch 45/50\n",
      "22/22 [==============================] - 0s 2ms/step - loss: 0.0058 - accuracy: 1.0000 - val_loss: 1.3137 - val_accuracy: 0.7083\n",
      "Epoch 46/50\n",
      "22/22 [==============================] - 0s 2ms/step - loss: 0.0014 - accuracy: 1.0000 - val_loss: 1.3221 - val_accuracy: 0.7083\n",
      "Epoch 47/50\n",
      "22/22 [==============================] - 0s 2ms/step - loss: 0.0025 - accuracy: 1.0000 - val_loss: 1.3296 - val_accuracy: 0.7083\n",
      "Epoch 48/50\n",
      "22/22 [==============================] - 0s 2ms/step - loss: 0.0024 - accuracy: 1.0000 - val_loss: 1.3362 - val_accuracy: 0.7083\n",
      "Epoch 49/50\n",
      "22/22 [==============================] - 0s 2ms/step - loss: 0.0016 - accuracy: 1.0000 - val_loss: 1.3438 - val_accuracy: 0.7083\n",
      "Epoch 50/50\n",
      "22/22 [==============================] - 0s 2ms/step - loss: 0.0028 - accuracy: 1.0000 - val_loss: 1.3508 - val_accuracy: 0.7083\n",
      "time: 3.8998098373413086\n"
     ]
    }
   ],
   "source": [
    "import time\n",
    "time_begin = time.time()\n",
    "history = model.fit(x_train,one_hot_train_labels,\n",
    "                    validation_split=0.1,\n",
    "                    epochs=50,batch_size=10,\n",
    "                    shuffle=True)\n",
    "time_end = time.time()\n",
    "time = time_end - time_begin\n",
    "print('time:', time)"
   ]
  },
  {
   "cell_type": "code",
   "execution_count": 8,
   "metadata": {},
   "outputs": [
    {
     "name": "stdout",
     "output_type": "stream",
     "text": [
      "Test loss: 0.8658097386360168\n",
      "Test accuracy: 0.7666666507720947\n",
      "time: 0.049866676330566406\n"
     ]
    }
   ],
   "source": [
    "import time\n",
    "time_begin = time.time()\n",
    "score = model.evaluate(x_test,one_hot_test_labels, verbose=0)\n",
    "print('Test loss:', score[0])\n",
    "print('Test accuracy:', score[1])\n",
    " \n",
    "time_end = time.time()\n",
    "time = time_end - time_begin\n",
    "print('time:', time)"
   ]
  },
  {
   "cell_type": "code",
   "execution_count": 9,
   "metadata": {},
   "outputs": [
    {
     "data": {
      "image/png": "[encoded data removed]",
      "text/plain": [
       "<Figure size 432x288 with 1 Axes>"
      ]
     },
     "metadata": {
      "needs_background": "light"
     },
     "output_type": "display_data"
    }
   ],
   "source": [
    "#绘制acc-loss曲线\n",
    "import matplotlib.pyplot as plt\n",
    "\n",
    "plt.plot(history.history['loss'],color='r')\n",
    "plt.plot(history.history['val_loss'],color='g')\n",
    "plt.plot(history.history['accuracy'],color='b')\n",
    "plt.plot(history.history['val_accuracy'],color='k')\n",
    "plt.title('model loss and acc')\n",
    "plt.ylabel('Accuracy')\n",
    "plt.xlabel('epoch')\n",
    "plt.legend(['train_loss', 'test_loss','train_acc', 'test_acc'], loc='center right')\n",
    "# plt.legend(['train_loss','train_acc'], loc='upper left')\n",
    "#plt.savefig('1.png')\n",
    "plt.show()"
   ]
  },
  {
   "cell_type": "code",
   "execution_count": 10,
   "metadata": {},
   "outputs": [
    {
     "data": {
      "image/png": "[encoded data removed]",
      "text/plain": [
       "<Figure size 432x288 with 1 Axes>"
      ]
     },
     "metadata": {
      "needs_background": "light"
     },
     "output_type": "display_data"
    }
   ],
   "source": [
    "import matplotlib.pyplot as plt\n",
    "\n",
    "plt.plot(history.history['loss'],color='r')\n",
    "plt.plot(history.history['accuracy'],color='b')\n",
    "plt.title('model loss and sccuracy ')\n",
    "plt.ylabel('loss/sccuracy')\n",
    "plt.xlabel('epoch')\n",
    "plt.legend(['train_loss', 'train_sccuracy'], loc='center right')\n",
    "plt.show()"
   ]
  },
  {
   "cell_type": "code",
   "execution_count": null,
   "metadata": {},
   "outputs": [],
   "source": []
  },
  {
   "cell_type": "code",
   "execution_count": null,
   "metadata": {},
   "outputs": [],
   "source": []
  }
 ],
 "metadata": {
  "kernelspec": {
   "display_name": "Python 3",
   "language": "python",
   "name": "python3"
  },
  "language_info": {
   "codemirror_mode": {
    "name": "ipython",
    "version": 3
   },
   "file_extension": ".py",
   "mimetype": "text/x-python",
   "name": "python",
   "nbconvert_exporter": "python",
   "pygments_lexer": "ipython3",
   "version": "3.8.5"
  }
 },
 "nbformat": 4,
 "nbformat_minor": 2
}
