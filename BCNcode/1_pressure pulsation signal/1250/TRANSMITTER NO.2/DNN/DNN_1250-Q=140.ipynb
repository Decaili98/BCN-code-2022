{
 "cells": [
  {
   "cell_type": "code",
   "execution_count": 1,
   "metadata": {},
   "outputs": [],
   "source": [
    "from tensorflow import keras\n",
    "from tensorflow.keras import *\n",
    "from tensorflow.keras.models import *\n",
    "from tensorflow.keras.layers import *\n",
    "from tensorflow.keras.regularizers import l2#正则化L2\n",
    "import tensorflow as tf\n",
    "import numpy as np\n",
    "import pandas as pd"
   ]
  },
  {
   "cell_type": "code",
   "execution_count": 2,
   "metadata": {
    "scrolled": true
   },
   "outputs": [],
   "source": [
    "normal_all = pd.read_csv(r'F:\\张老师课题学习内容\\code\\数据集\\试验数据(包括压力脉动和振动)\\2013.9.12-未发生缠绕前\\2013-9-12压力脉动\\1250-txt\\normal_140_通道7.txt')\n",
    "chanrao_all = pd.read_csv(r'F:\\张老师课题学习内容\\code\\数据集\\试验数据(包括压力脉动和振动)\\2013.9.17-发生缠绕后\\压力脉动\\1250-txt\\chanrao_140_通道7.txt')  \n",
    "normal=normal_all[[\"通道7\"]]\n",
    "chanrao=chanrao_all[[\"通道7\"]]"
   ]
  },
  {
   "cell_type": "code",
   "execution_count": 3,
   "metadata": {},
   "outputs": [
    {
     "name": "stdout",
     "output_type": "stream",
     "text": [
      "(120000, 2) (120000, 2)\n",
      "(150, 800) (150, 800)\n"
     ]
    }
   ],
   "source": [
    "#水泵的两种故障类型信号normal正常，chanrao故障\n",
    "normal=normal.values.reshape(-1, 800)#(120000,1)-(150, 800)150条长度为800\n",
    "chanrao=chanrao.values.reshape(-1, 800)\n",
    "print(normal_all.shape,chanrao_all.shape)\n",
    "print(normal.shape,chanrao.shape)"
   ]
  },
  {
   "cell_type": "code",
   "execution_count": 4,
   "metadata": {},
   "outputs": [
    {
     "name": "stdout",
     "output_type": "stream",
     "text": [
      "(240, 800, 1) (60, 800, 1)\n"
     ]
    }
   ],
   "source": [
    "import numpy as np\n",
    "def yuchuli(data,label):#(7:1)(616:88)\n",
    "    #打乱数据顺序\n",
    "    np.random.shuffle(data)\n",
    "    train = data[0:120,:]\n",
    "    test = data[120:150,:]\n",
    "    label_train = np.array([label for i in range(0,120)])\n",
    "    label_test =np.array([label for i in range(0,30)])\n",
    "    return train,test ,label_train ,label_test\n",
    "\n",
    "def stackkk(a,b,c,d,e,f,g,h):\n",
    "    aa = np.vstack((a, e))\n",
    "    bb = np.vstack((b, f))\n",
    "    cc = np.hstack((c, g))\n",
    "    dd = np.hstack((d, h))\n",
    "    return aa,bb,cc,dd\n",
    "x_tra0,x_tes0,y_tra0,y_tes0 = yuchuli(normal,0)\n",
    "x_tra1,x_tes1,y_tra1,y_tes1 = yuchuli(chanrao,1)\n",
    "tr1,te1,yr1,ye1=stackkk(x_tra0,x_tes0,y_tra0,y_tes0 ,x_tra1,x_tes1,y_tra1,y_tes1)\n",
    "\n",
    "x_train=tr1\n",
    "x_test=te1\n",
    "y_train = yr1\n",
    "y_test = ye1\n",
    "\n",
    "#打乱数据\n",
    "state = np.random.get_state()\n",
    "np.random.shuffle(x_train)\n",
    "np.random.set_state(state)\n",
    "np.random.shuffle(y_train)\n",
    "\n",
    "state = np.random.get_state()\n",
    "np.random.shuffle(x_test)\n",
    "np.random.set_state(state)\n",
    "np.random.shuffle(y_test)\n",
    "\n",
    "\n",
    "#对训练集和测试集标准化\n",
    "def ZscoreNormalization(x):\n",
    "    \"\"\"Z-score normaliaztion\"\"\"\n",
    "    x = (x - np.mean(x)) / np.std(x)\n",
    "    return x\n",
    "x_train=ZscoreNormalization(x_train)\n",
    "x_test=ZscoreNormalization(x_test)\n",
    "# print(x_test[0])\n",
    "\n",
    "\n",
    "#转化为一维序列\n",
    "x_train = x_train.reshape(-1,800,1)\n",
    "x_test = x_test.reshape(-1,800,1)\n",
    "print(x_train.shape,x_test.shape)\n",
    "\n",
    "def to_one_hot(labels,dimension=2):\n",
    "    results = np.zeros((len(labels),dimension))\n",
    "    for i,label in enumerate(labels):\n",
    "        results[i,label] = 1\n",
    "    return results\n",
    "one_hot_train_labels = to_one_hot(y_train)\n",
    "one_hot_test_labels = to_one_hot(y_test)\n"
   ]
  },
  {
   "cell_type": "code",
   "execution_count": 5,
   "metadata": {
    "scrolled": true
   },
   "outputs": [
    {
     "name": "stdout",
     "output_type": "stream",
     "text": [
      "Model: \"model\"\n",
      "_________________________________________________________________\n",
      "Layer (type)                 Output Shape              Param #   \n",
      "=================================================================\n",
      "input_1 (InputLayer)         [(None, 800, 1, 1)]       0         \n",
      "_________________________________________________________________\n",
      "flatten (Flatten)            (None, 800)               0         \n",
      "_________________________________________________________________\n",
      "dense (Dense)                (None, 12)                9612      \n",
      "_________________________________________________________________\n",
      "dense_1 (Dense)              (None, 6)                 78        \n",
      "_________________________________________________________________\n",
      "dense_2 (Dense)              (None, 2)                 14        \n",
      "=================================================================\n",
      "Total params: 9,704\n",
      "Trainable params: 9,704\n",
      "Non-trainable params: 0\n",
      "_________________________________________________________________\n"
     ]
    }
   ],
   "source": [
    "x = layers.Input(shape=[800,1,1])\n",
    "Flatten=layers.Flatten()(x)\n",
    "Dense1=layers.Dense(12, activation='relu')(Flatten)\n",
    "Dense2=layers.Dense(6, activation='relu')(Dense1)\n",
    "Dense3=layers.Dense(2, activation='softmax')(Dense2)\n",
    "model = keras.Model(x, Dense3)    \n",
    "model.summary() "
   ]
  },
  {
   "cell_type": "code",
   "execution_count": 6,
   "metadata": {},
   "outputs": [],
   "source": [
    "\n",
    "#定义优化\n",
    "model.compile(loss='categorical_crossentropy',\n",
    "              optimizer='adam',metrics=['accuracy']) "
   ]
  },
  {
   "cell_type": "code",
   "execution_count": 7,
   "metadata": {
    "scrolled": true
   },
   "outputs": [
    {
     "name": "stdout",
     "output_type": "stream",
     "text": [
      "Epoch 1/50\n",
      "22/22 [==============================] - 2s 46ms/step - loss: 0.9350 - accuracy: 0.4642 - val_loss: 0.6237 - val_accuracy: 0.5833\n",
      "Epoch 2/50\n",
      "22/22 [==============================] - 0s 3ms/step - loss: 0.5549 - accuracy: 0.7213 - val_loss: 0.4310 - val_accuracy: 0.8750\n",
      "Epoch 3/50\n",
      "22/22 [==============================] - 0s 2ms/step - loss: 0.4037 - accuracy: 0.9316 - val_loss: 0.3514 - val_accuracy: 1.0000\n",
      "Epoch 4/50\n",
      "22/22 [==============================] - 0s 2ms/step - loss: 0.2948 - accuracy: 0.9535 - val_loss: 0.3057 - val_accuracy: 0.9583\n",
      "Epoch 5/50\n",
      "22/22 [==============================] - 0s 3ms/step - loss: 0.2326 - accuracy: 0.9770 - val_loss: 0.2726 - val_accuracy: 0.8333\n",
      "Epoch 6/50\n",
      "22/22 [==============================] - 0s 2ms/step - loss: 0.1715 - accuracy: 0.9790 - val_loss: 0.2423 - val_accuracy: 0.8750\n",
      "Epoch 7/50\n",
      "22/22 [==============================] - 0s 2ms/step - loss: 0.1294 - accuracy: 0.9766 - val_loss: 0.2183 - val_accuracy: 0.8750\n",
      "Epoch 8/50\n",
      "22/22 [==============================] - 0s 2ms/step - loss: 0.0903 - accuracy: 0.9846 - val_loss: 0.1967 - val_accuracy: 0.8750\n",
      "Epoch 9/50\n",
      "22/22 [==============================] - 0s 3ms/step - loss: 0.0550 - accuracy: 0.9892 - val_loss: 0.1849 - val_accuracy: 0.8750\n",
      "Epoch 10/50\n",
      "22/22 [==============================] - 0s 2ms/step - loss: 0.0587 - accuracy: 0.9679 - val_loss: 0.1710 - val_accuracy: 0.9167\n",
      "Epoch 11/50\n",
      "22/22 [==============================] - 0s 2ms/step - loss: 0.0429 - accuracy: 0.9843 - val_loss: 0.1642 - val_accuracy: 0.9167\n",
      "Epoch 12/50\n",
      "22/22 [==============================] - 0s 2ms/step - loss: 0.0346 - accuracy: 0.9872 - val_loss: 0.1450 - val_accuracy: 0.9167\n",
      "Epoch 13/50\n",
      "22/22 [==============================] - 0s 2ms/step - loss: 0.0264 - accuracy: 0.9878 - val_loss: 0.1399 - val_accuracy: 0.9583\n",
      "Epoch 14/50\n",
      "22/22 [==============================] - 0s 2ms/step - loss: 0.0254 - accuracy: 0.9904 - val_loss: 0.1359 - val_accuracy: 0.9583\n",
      "Epoch 15/50\n",
      "22/22 [==============================] - 0s 2ms/step - loss: 0.0294 - accuracy: 0.9774 - val_loss: 0.1331 - val_accuracy: 0.9583\n",
      "Epoch 16/50\n",
      "22/22 [==============================] - 0s 3ms/step - loss: 0.0240 - accuracy: 0.9900 - val_loss: 0.1271 - val_accuracy: 0.9583\n",
      "Epoch 17/50\n",
      "22/22 [==============================] - 0s 3ms/step - loss: 0.0156 - accuracy: 0.9923 - val_loss: 0.1267 - val_accuracy: 0.9583\n",
      "Epoch 18/50\n",
      "22/22 [==============================] - 0s 2ms/step - loss: 0.0140 - accuracy: 0.9931 - val_loss: 0.1251 - val_accuracy: 0.9583\n",
      "Epoch 19/50\n",
      "22/22 [==============================] - 0s 2ms/step - loss: 0.0137 - accuracy: 0.9926 - val_loss: 0.1221 - val_accuracy: 0.9583\n",
      "Epoch 20/50\n",
      "22/22 [==============================] - 0s 2ms/step - loss: 0.0115 - accuracy: 0.9976 - val_loss: 0.1206 - val_accuracy: 0.9583\n",
      "Epoch 21/50\n",
      "22/22 [==============================] - 0s 4ms/step - loss: 0.0095 - accuracy: 0.9931 - val_loss: 0.1187 - val_accuracy: 0.9583\n",
      "Epoch 22/50\n",
      "22/22 [==============================] - 0s 2ms/step - loss: 0.0054 - accuracy: 0.9985 - val_loss: 0.1173 - val_accuracy: 0.9583\n",
      "Epoch 23/50\n",
      "22/22 [==============================] - 0s 2ms/step - loss: 0.0140 - accuracy: 0.9867 - val_loss: 0.1154 - val_accuracy: 0.9583\n",
      "Epoch 24/50\n",
      "22/22 [==============================] - 0s 3ms/step - loss: 0.0111 - accuracy: 0.9903 - val_loss: 0.1137 - val_accuracy: 0.9583\n",
      "Epoch 25/50\n",
      "22/22 [==============================] - 0s 3ms/step - loss: 0.0055 - accuracy: 0.9979 - val_loss: 0.1102 - val_accuracy: 0.9583\n",
      "Epoch 26/50\n",
      "22/22 [==============================] - 0s 2ms/step - loss: 0.0059 - accuracy: 0.9994 - val_loss: 0.1084 - val_accuracy: 0.9583\n",
      "Epoch 27/50\n",
      "22/22 [==============================] - 0s 2ms/step - loss: 0.0040 - accuracy: 0.9976 - val_loss: 0.1073 - val_accuracy: 0.9583\n",
      "Epoch 28/50\n",
      "22/22 [==============================] - 0s 4ms/step - loss: 0.0036 - accuracy: 0.9984 - val_loss: 0.1048 - val_accuracy: 0.9583\n",
      "Epoch 29/50\n",
      "22/22 [==============================] - 0s 3ms/step - loss: 0.0047 - accuracy: 0.9969 - val_loss: 0.1035 - val_accuracy: 0.9583\n",
      "Epoch 30/50\n",
      "22/22 [==============================] - 0s 2ms/step - loss: 0.0065 - accuracy: 0.9944 - val_loss: 0.1012 - val_accuracy: 0.9583\n",
      "Epoch 31/50\n",
      "22/22 [==============================] - 0s 2ms/step - loss: 0.0025 - accuracy: 0.9994 - val_loss: 0.1003 - val_accuracy: 0.9583\n",
      "Epoch 32/50\n",
      "22/22 [==============================] - 0s 3ms/step - loss: 0.0103 - accuracy: 0.9881 - val_loss: 0.0983 - val_accuracy: 0.9583\n",
      "Epoch 33/50\n",
      "22/22 [==============================] - 0s 3ms/step - loss: 0.0043 - accuracy: 0.9972 - val_loss: 0.0985 - val_accuracy: 0.9583\n",
      "Epoch 34/50\n",
      "22/22 [==============================] - 0s 3ms/step - loss: 0.0050 - accuracy: 0.9965 - val_loss: 0.0976 - val_accuracy: 0.9583\n",
      "Epoch 35/50\n",
      "22/22 [==============================] - 0s 2ms/step - loss: 0.0042 - accuracy: 0.9965 - val_loss: 0.0955 - val_accuracy: 0.9583\n",
      "Epoch 36/50\n",
      "22/22 [==============================] - 0s 2ms/step - loss: 0.0029 - accuracy: 1.0000 - val_loss: 0.0946 - val_accuracy: 0.9583\n",
      "Epoch 37/50\n",
      "22/22 [==============================] - 0s 2ms/step - loss: 0.0051 - accuracy: 1.0000 - val_loss: 0.0936 - val_accuracy: 0.9583\n",
      "Epoch 38/50\n",
      "22/22 [==============================] - 0s 2ms/step - loss: 0.0070 - accuracy: 1.0000 - val_loss: 0.0934 - val_accuracy: 0.9583\n",
      "Epoch 39/50\n",
      "22/22 [==============================] - 0s 2ms/step - loss: 0.0020 - accuracy: 1.0000 - val_loss: 0.0923 - val_accuracy: 0.9583\n",
      "Epoch 40/50\n",
      "22/22 [==============================] - 0s 2ms/step - loss: 0.0035 - accuracy: 1.0000 - val_loss: 0.0919 - val_accuracy: 0.9583\n",
      "Epoch 41/50\n",
      "22/22 [==============================] - 0s 2ms/step - loss: 0.0034 - accuracy: 1.0000 - val_loss: 0.0911 - val_accuracy: 0.9583\n",
      "Epoch 42/50\n",
      "22/22 [==============================] - 0s 3ms/step - loss: 0.0036 - accuracy: 1.0000 - val_loss: 0.0924 - val_accuracy: 0.9583\n",
      "Epoch 43/50\n",
      "22/22 [==============================] - 0s 3ms/step - loss: 0.0012 - accuracy: 0.9996 - val_loss: 0.0918 - val_accuracy: 0.9583\n",
      "Epoch 44/50\n",
      "22/22 [==============================] - 0s 3ms/step - loss: 0.0045 - accuracy: 1.0000 - val_loss: 0.0844 - val_accuracy: 0.9583\n",
      "Epoch 45/50\n",
      "22/22 [==============================] - 0s 3ms/step - loss: 8.3618e-04 - accuracy: 1.0000 - val_loss: 0.0840 - val_accuracy: 0.9583\n",
      "Epoch 46/50\n",
      "22/22 [==============================] - 0s 2ms/step - loss: 6.0974e-04 - accuracy: 1.0000 - val_loss: 0.0834 - val_accuracy: 0.9583\n",
      "Epoch 47/50\n",
      "22/22 [==============================] - 0s 2ms/step - loss: 7.5006e-04 - accuracy: 1.0000 - val_loss: 0.0826 - val_accuracy: 0.9583\n",
      "Epoch 48/50\n",
      "22/22 [==============================] - 0s 2ms/step - loss: 5.3094e-04 - accuracy: 1.0000 - val_loss: 0.0824 - val_accuracy: 0.9583\n",
      "Epoch 49/50\n",
      "22/22 [==============================] - 0s 2ms/step - loss: 6.9591e-04 - accuracy: 1.0000 - val_loss: 0.0818 - val_accuracy: 0.9583\n",
      "Epoch 50/50\n",
      "22/22 [==============================] - 0s 2ms/step - loss: 6.4406e-04 - accuracy: 1.0000 - val_loss: 0.0813 - val_accuracy: 0.9583\n",
      "time: 4.390343904495239\n"
     ]
    }
   ],
   "source": [
    "import time\n",
    "time_begin = time.time()\n",
    "history = model.fit(x_train,one_hot_train_labels,\n",
    "                    validation_split=0.1,\n",
    "                    epochs=50,batch_size=10,\n",
    "                    shuffle=True)\n",
    "time_end = time.time()\n",
    "time = time_end - time_begin\n",
    "print('time:', time)"
   ]
  },
  {
   "cell_type": "code",
   "execution_count": 8,
   "metadata": {},
   "outputs": [
    {
     "name": "stdout",
     "output_type": "stream",
     "text": [
      "Test loss: 0.15429547429084778\n",
      "Test accuracy: 0.9166666865348816\n",
      "time: 0.05070376396179199\n"
     ]
    }
   ],
   "source": [
    "import time\n",
    "time_begin = time.time()\n",
    "score = model.evaluate(x_test,one_hot_test_labels, verbose=0)\n",
    "print('Test loss:', score[0])\n",
    "print('Test accuracy:', score[1])\n",
    " \n",
    "time_end = time.time()\n",
    "time = time_end - time_begin\n",
    "print('time:', time)"
   ]
  },
  {
   "cell_type": "code",
   "execution_count": 9,
   "metadata": {},
   "outputs": [
    {
     "data": {
      "image/png": "[encoded data removed]",
      "text/plain": [
       "<Figure size 432x288 with 1 Axes>"
      ]
     },
     "metadata": {
      "needs_background": "light"
     },
     "output_type": "display_data"
    }
   ],
   "source": [
    "#绘制acc-loss曲线\n",
    "import matplotlib.pyplot as plt\n",
    "\n",
    "plt.plot(history.history['loss'],color='r')\n",
    "plt.plot(history.history['val_loss'],color='g')\n",
    "plt.plot(history.history['accuracy'],color='b')\n",
    "plt.plot(history.history['val_accuracy'],color='k')\n",
    "plt.title('model loss and acc')\n",
    "plt.ylabel('Accuracy')\n",
    "plt.xlabel('epoch')\n",
    "plt.legend(['train_loss', 'test_loss','train_acc', 'test_acc'], loc='center right')\n",
    "# plt.legend(['train_loss','train_acc'], loc='upper left')\n",
    "#plt.savefig('1.png')\n",
    "plt.show()"
   ]
  },
  {
   "cell_type": "code",
   "execution_count": 10,
   "metadata": {},
   "outputs": [
    {
     "data": {
      "image/png": "[encoded data removed]",
      "text/plain": [
       "<Figure size 432x288 with 1 Axes>"
      ]
     },
     "metadata": {
      "needs_background": "light"
     },
     "output_type": "display_data"
    }
   ],
   "source": [
    "import matplotlib.pyplot as plt\n",
    "\n",
    "plt.plot(history.history['loss'],color='r')\n",
    "plt.plot(history.history['accuracy'],color='b')\n",
    "plt.title('model loss and sccuracy ')\n",
    "plt.ylabel('loss/sccuracy')\n",
    "plt.xlabel('epoch')\n",
    "plt.legend(['train_loss', 'train_sccuracy'], loc='center right')\n",
    "plt.show()"
   ]
  },
  {
   "cell_type": "code",
   "execution_count": null,
   "metadata": {},
   "outputs": [],
   "source": []
  },
  {
   "cell_type": "code",
   "execution_count": null,
   "metadata": {},
   "outputs": [],
   "source": []
  }
 ],
 "metadata": {
  "kernelspec": {
   "display_name": "Python 3",
   "language": "python",
   "name": "python3"
  },
  "language_info": {
   "codemirror_mode": {
    "name": "ipython",
    "version": 3
   },
   "file_extension": ".py",
   "mimetype": "text/x-python",
   "name": "python",
   "nbconvert_exporter": "python",
   "pygments_lexer": "ipython3",
   "version": "3.8.5"
  }
 },
 "nbformat": 4,
 "nbformat_minor": 2
}
