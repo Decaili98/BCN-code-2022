{
 "cells": [
  {
   "cell_type": "code",
   "execution_count": 1,
   "metadata": {},
   "outputs": [],
   "source": [
    "from tensorflow import keras\n",
    "from tensorflow.keras import *\n",
    "from tensorflow.keras.models import *\n",
    "from tensorflow.keras.layers import *\n",
    "from tensorflow.keras.regularizers import l2#正则化L2\n",
    "import tensorflow as tf\n",
    "import numpy as np\n",
    "import pandas as pd"
   ]
  },
  {
   "cell_type": "code",
   "execution_count": 2,
   "metadata": {
    "scrolled": true
   },
   "outputs": [],
   "source": [
    "normal_all = pd.read_csv(r'F:\\张老师课题学习内容\\code\\数据集\\试验数据(包括压力脉动和振动)\\2013.9.12-未发生缠绕前\\2013-9-12压力脉动\\1450-txt\\normal_0_通道7.txt')\n",
    "chanrao_all = pd.read_csv(r'F:\\张老师课题学习内容\\code\\数据集\\试验数据(包括压力脉动和振动)\\2013.9.17-发生缠绕后\\压力脉动\\1450-txt\\chanrao_0_通道7.txt')  \n",
    "\n",
    "normal=normal_all[[\"通道7\"]]\n",
    "chanrao=chanrao_all[[\"通道7\"]]"
   ]
  },
  {
   "cell_type": "code",
   "execution_count": 3,
   "metadata": {},
   "outputs": [
    {
     "name": "stdout",
     "output_type": "stream",
     "text": [
      "(120000, 2) (120000, 2)\n",
      "(150, 800) (150, 800)\n"
     ]
    }
   ],
   "source": [
    "#水泵的两种故障类型信号normal正常，chanrao故障\n",
    "normal=normal.values.reshape(-1, 800)#(120000,1)-(150, 800)150条长度为800\n",
    "chanrao=chanrao.values.reshape(-1, 800)\n",
    "print(normal_all.shape,chanrao_all.shape)\n",
    "print(normal.shape,chanrao.shape)"
   ]
  },
  {
   "cell_type": "code",
   "execution_count": 4,
   "metadata": {},
   "outputs": [
    {
     "name": "stdout",
     "output_type": "stream",
     "text": [
      "(240, 800, 1) (60, 800, 1)\n"
     ]
    }
   ],
   "source": [
    "import numpy as np\n",
    "def yuchuli(data,label):#(7:1)(616:88)\n",
    "    #打乱数据顺序\n",
    "    np.random.shuffle(data)\n",
    "    train = data[0:120,:]\n",
    "    test = data[120:150,:]\n",
    "    label_train = np.array([label for i in range(0,120)])\n",
    "    label_test =np.array([label for i in range(0,30)])\n",
    "    return train,test ,label_train ,label_test\n",
    "\n",
    "def stackkk(a,b,c,d,e,f,g,h):\n",
    "    aa = np.vstack((a, e))\n",
    "    bb = np.vstack((b, f))\n",
    "    cc = np.hstack((c, g))\n",
    "    dd = np.hstack((d, h))\n",
    "    return aa,bb,cc,dd\n",
    "x_tra0,x_tes0,y_tra0,y_tes0 = yuchuli(normal,0)\n",
    "x_tra1,x_tes1,y_tra1,y_tes1 = yuchuli(chanrao,1)\n",
    "tr1,te1,yr1,ye1=stackkk(x_tra0,x_tes0,y_tra0,y_tes0 ,x_tra1,x_tes1,y_tra1,y_tes1)\n",
    "\n",
    "x_train=tr1\n",
    "x_test=te1\n",
    "y_train = yr1\n",
    "y_test = ye1\n",
    "\n",
    "#打乱数据\n",
    "state = np.random.get_state()\n",
    "np.random.shuffle(x_train)\n",
    "np.random.set_state(state)\n",
    "np.random.shuffle(y_train)\n",
    "\n",
    "state = np.random.get_state()\n",
    "np.random.shuffle(x_test)\n",
    "np.random.set_state(state)\n",
    "np.random.shuffle(y_test)\n",
    "\n",
    "\n",
    "#对训练集和测试集标准化\n",
    "def ZscoreNormalization(x):\n",
    "    \"\"\"Z-score normaliaztion\"\"\"\n",
    "    x = (x - np.mean(x)) / np.std(x)\n",
    "    return x\n",
    "x_train=ZscoreNormalization(x_train)\n",
    "x_test=ZscoreNormalization(x_test)\n",
    "# print(x_test[0])\n",
    "\n",
    "\n",
    "#转化为一维序列\n",
    "x_train = x_train.reshape(-1,800,1)\n",
    "x_test = x_test.reshape(-1,800,1)\n",
    "print(x_train.shape,x_test.shape)\n",
    "\n",
    "def to_one_hot(labels,dimension=2):\n",
    "    results = np.zeros((len(labels),dimension))\n",
    "    for i,label in enumerate(labels):\n",
    "        results[i,label] = 1\n",
    "    return results\n",
    "one_hot_train_labels = to_one_hot(y_train)\n",
    "one_hot_test_labels = to_one_hot(y_test)\n"
   ]
  },
  {
   "cell_type": "code",
   "execution_count": 5,
   "metadata": {
    "scrolled": true
   },
   "outputs": [
    {
     "name": "stdout",
     "output_type": "stream",
     "text": [
      "Model: \"model\"\n",
      "_________________________________________________________________\n",
      "Layer (type)                 Output Shape              Param #   \n",
      "=================================================================\n",
      "input_1 (InputLayer)         [(None, 800, 1, 1)]       0         \n",
      "_________________________________________________________________\n",
      "conv1 (Conv2D)               (None, 799, 1, 16)        48        \n",
      "_________________________________________________________________\n",
      "max_pooling2d (MaxPooling2D) (None, 399, 1, 16)        0         \n",
      "_________________________________________________________________\n",
      "conv2 (Conv2D)               (None, 398, 1, 32)        1056      \n",
      "_________________________________________________________________\n",
      "max_pooling2d_1 (MaxPooling2 (None, 199, 1, 32)        0         \n",
      "_________________________________________________________________\n",
      "dropout (Dropout)            (None, 199, 1, 32)        0         \n",
      "_________________________________________________________________\n",
      "flatten (Flatten)            (None, 6368)              0         \n",
      "_________________________________________________________________\n",
      "dense (Dense)                (None, 100)               636900    \n",
      "_________________________________________________________________\n",
      "dense_1 (Dense)              (None, 2)                 202       \n",
      "=================================================================\n",
      "Total params: 638,206\n",
      "Trainable params: 638,206\n",
      "Non-trainable params: 0\n",
      "_________________________________________________________________\n"
     ]
    }
   ],
   "source": [
    "x = layers.Input(shape=[800,1,1])\n",
    "#普通卷积层\n",
    "conv1 = layers.Conv2D(filters=16, kernel_size=(2, 1),  activation='relu',padding='valid',name='conv1')(x)\n",
    "#池化层\n",
    "POOL1 = MaxPooling2D((2,1))(conv1)\n",
    "#普通卷积层\n",
    "conv2 = layers.Conv2D(filters=32, kernel_size=(2, 1), activation='relu',padding='valid',name='conv2')(POOL1)\n",
    "#池化层\n",
    "POOL2 = MaxPooling2D((2,1))(conv2)\n",
    "#Dropout层\n",
    "Dropout=layers.Dropout(0.1)(POOL2 )\n",
    "Flatten=layers.Flatten()(Dropout)\n",
    "#全连接层\n",
    "Dense1=layers.Dense(100, activation='relu')(Flatten)\n",
    "Dense2=layers.Dense(2, activation='softmax')(Dense1)\n",
    "model = keras.Model(x, Dense2)    \n",
    "model.summary() "
   ]
  },
  {
   "cell_type": "code",
   "execution_count": 6,
   "metadata": {},
   "outputs": [],
   "source": [
    "\n",
    "#定义优化\n",
    "model.compile(loss='categorical_crossentropy',\n",
    "              optimizer='adam',metrics=['accuracy']) "
   ]
  },
  {
   "cell_type": "code",
   "execution_count": 7,
   "metadata": {
    "scrolled": true
   },
   "outputs": [
    {
     "name": "stdout",
     "output_type": "stream",
     "text": [
      "Epoch 1/50\n",
      "22/22 [==============================] - 3s 74ms/step - loss: 0.7383 - accuracy: 0.5938 - val_loss: 0.5136 - val_accuracy: 0.8333\n",
      "Epoch 2/50\n",
      "22/22 [==============================] - 0s 15ms/step - loss: 0.4115 - accuracy: 0.8245 - val_loss: 0.4472 - val_accuracy: 0.7500\n",
      "Epoch 3/50\n",
      "22/22 [==============================] - 0s 14ms/step - loss: 0.2920 - accuracy: 0.8644 - val_loss: 0.4876 - val_accuracy: 0.7917\n",
      "Epoch 4/50\n",
      "22/22 [==============================] - 0s 13ms/step - loss: 0.2152 - accuracy: 0.8972 - val_loss: 0.4983 - val_accuracy: 0.7917\n",
      "Epoch 5/50\n",
      "22/22 [==============================] - 0s 16ms/step - loss: 0.1482 - accuracy: 0.9444 - val_loss: 0.5168 - val_accuracy: 0.7500\n",
      "Epoch 6/50\n",
      "22/22 [==============================] - 0s 14ms/step - loss: 0.1250 - accuracy: 0.9635 - val_loss: 0.5809 - val_accuracy: 0.7083\n",
      "Epoch 7/50\n",
      "22/22 [==============================] - 0s 13ms/step - loss: 0.0753 - accuracy: 0.9838 - val_loss: 0.6006 - val_accuracy: 0.7500\n",
      "Epoch 8/50\n",
      "22/22 [==============================] - 0s 12ms/step - loss: 0.0445 - accuracy: 0.9903 - val_loss: 0.7160 - val_accuracy: 0.7500\n",
      "Epoch 9/50\n",
      "22/22 [==============================] - 0s 12ms/step - loss: 0.0291 - accuracy: 1.0000 - val_loss: 0.7834 - val_accuracy: 0.7500\n",
      "Epoch 10/50\n",
      "22/22 [==============================] - 0s 15ms/step - loss: 0.0173 - accuracy: 1.0000 - val_loss: 0.8343 - val_accuracy: 0.7500\n",
      "Epoch 11/50\n",
      "22/22 [==============================] - 0s 13ms/step - loss: 0.0115 - accuracy: 1.0000 - val_loss: 0.8767 - val_accuracy: 0.7500\n",
      "Epoch 12/50\n",
      "22/22 [==============================] - 0s 13ms/step - loss: 0.0110 - accuracy: 1.0000 - val_loss: 0.9686 - val_accuracy: 0.7500\n",
      "Epoch 13/50\n",
      "22/22 [==============================] - 0s 12ms/step - loss: 0.0061 - accuracy: 1.0000 - val_loss: 0.9732 - val_accuracy: 0.7500\n",
      "Epoch 14/50\n",
      "22/22 [==============================] - 0s 14ms/step - loss: 0.0038 - accuracy: 1.0000 - val_loss: 0.9641 - val_accuracy: 0.7500\n",
      "Epoch 15/50\n",
      "22/22 [==============================] - 0s 13ms/step - loss: 0.0038 - accuracy: 1.0000 - val_loss: 0.9903 - val_accuracy: 0.7500\n",
      "Epoch 16/50\n",
      "22/22 [==============================] - 0s 14ms/step - loss: 0.0033 - accuracy: 1.0000 - val_loss: 1.0098 - val_accuracy: 0.7500\n",
      "Epoch 17/50\n",
      "22/22 [==============================] - 0s 14ms/step - loss: 0.0023 - accuracy: 1.0000 - val_loss: 1.0227 - val_accuracy: 0.7500\n",
      "Epoch 18/50\n",
      "22/22 [==============================] - 0s 14ms/step - loss: 0.0018 - accuracy: 1.0000 - val_loss: 1.0373 - val_accuracy: 0.7500\n",
      "Epoch 19/50\n",
      "22/22 [==============================] - 0s 12ms/step - loss: 0.0019 - accuracy: 1.0000 - val_loss: 1.0511 - val_accuracy: 0.7500\n",
      "Epoch 20/50\n",
      "22/22 [==============================] - 0s 12ms/step - loss: 0.0016 - accuracy: 1.0000 - val_loss: 1.0594 - val_accuracy: 0.7500\n",
      "Epoch 21/50\n",
      "22/22 [==============================] - 0s 14ms/step - loss: 0.0015 - accuracy: 1.0000 - val_loss: 1.0767 - val_accuracy: 0.7500\n",
      "Epoch 22/50\n",
      "22/22 [==============================] - 0s 13ms/step - loss: 0.0012 - accuracy: 1.0000 - val_loss: 1.0866 - val_accuracy: 0.7500\n",
      "Epoch 23/50\n",
      "22/22 [==============================] - 0s 13ms/step - loss: 0.0015 - accuracy: 1.0000 - val_loss: 1.1077 - val_accuracy: 0.7500\n",
      "Epoch 24/50\n",
      "22/22 [==============================] - 0s 12ms/step - loss: 8.2953e-04 - accuracy: 1.0000 - val_loss: 1.1054 - val_accuracy: 0.7500\n",
      "Epoch 25/50\n",
      "22/22 [==============================] - 0s 13ms/step - loss: 7.4389e-04 - accuracy: 1.0000 - val_loss: 1.1201 - val_accuracy: 0.7500\n",
      "Epoch 26/50\n",
      "22/22 [==============================] - 0s 18ms/step - loss: 7.4640e-04 - accuracy: 1.0000 - val_loss: 1.1301 - val_accuracy: 0.7500\n",
      "Epoch 27/50\n",
      "22/22 [==============================] - 0s 14ms/step - loss: 9.0692e-04 - accuracy: 1.0000 - val_loss: 1.1407 - val_accuracy: 0.7500\n",
      "Epoch 28/50\n",
      "22/22 [==============================] - 0s 13ms/step - loss: 5.5162e-04 - accuracy: 1.0000 - val_loss: 1.1487 - val_accuracy: 0.7500\n",
      "Epoch 29/50\n",
      "22/22 [==============================] - 0s 13ms/step - loss: 6.3770e-04 - accuracy: 1.0000 - val_loss: 1.1613 - val_accuracy: 0.7500\n",
      "Epoch 30/50\n",
      "22/22 [==============================] - 0s 14ms/step - loss: 6.4409e-04 - accuracy: 1.0000 - val_loss: 1.1653 - val_accuracy: 0.7500\n",
      "Epoch 31/50\n",
      "22/22 [==============================] - 0s 17ms/step - loss: 5.4621e-04 - accuracy: 1.0000 - val_loss: 1.1765 - val_accuracy: 0.7500\n",
      "Epoch 32/50\n",
      "22/22 [==============================] - 0s 12ms/step - loss: 4.6945e-04 - accuracy: 1.0000 - val_loss: 1.1776 - val_accuracy: 0.7500\n",
      "Epoch 33/50\n",
      "22/22 [==============================] - 0s 13ms/step - loss: 5.3166e-04 - accuracy: 1.0000 - val_loss: 1.1806 - val_accuracy: 0.7500\n",
      "Epoch 34/50\n",
      "22/22 [==============================] - 0s 13ms/step - loss: 4.4293e-04 - accuracy: 1.0000 - val_loss: 1.1941 - val_accuracy: 0.7500\n",
      "Epoch 35/50\n",
      "22/22 [==============================] - 0s 13ms/step - loss: 5.2313e-04 - accuracy: 1.0000 - val_loss: 1.2084 - val_accuracy: 0.7500\n",
      "Epoch 36/50\n",
      "22/22 [==============================] - 0s 13ms/step - loss: 3.3822e-04 - accuracy: 1.0000 - val_loss: 1.2083 - val_accuracy: 0.7500\n",
      "Epoch 37/50\n",
      "22/22 [==============================] - 0s 15ms/step - loss: 3.8038e-04 - accuracy: 1.0000 - val_loss: 1.2155 - val_accuracy: 0.7500\n",
      "Epoch 38/50\n",
      "22/22 [==============================] - 0s 13ms/step - loss: 2.5605e-04 - accuracy: 1.0000 - val_loss: 1.2267 - val_accuracy: 0.7500\n",
      "Epoch 39/50\n",
      "22/22 [==============================] - 0s 13ms/step - loss: 3.2699e-04 - accuracy: 1.0000 - val_loss: 1.2310 - val_accuracy: 0.7500\n",
      "Epoch 40/50\n",
      "22/22 [==============================] - 0s 13ms/step - loss: 3.0244e-04 - accuracy: 1.0000 - val_loss: 1.2408 - val_accuracy: 0.7500\n",
      "Epoch 41/50\n",
      "22/22 [==============================] - 0s 13ms/step - loss: 1.9411e-04 - accuracy: 1.0000 - val_loss: 1.2482 - val_accuracy: 0.7500\n",
      "Epoch 42/50\n",
      "22/22 [==============================] - 0s 13ms/step - loss: 2.5708e-04 - accuracy: 1.0000 - val_loss: 1.2504 - val_accuracy: 0.7500\n",
      "Epoch 43/50\n",
      "22/22 [==============================] - 0s 13ms/step - loss: 2.1698e-04 - accuracy: 1.0000 - val_loss: 1.2529 - val_accuracy: 0.7500\n",
      "Epoch 44/50\n",
      "22/22 [==============================] - 0s 12ms/step - loss: 2.5288e-04 - accuracy: 1.0000 - val_loss: 1.2636 - val_accuracy: 0.7500\n",
      "Epoch 45/50\n",
      "22/22 [==============================] - 0s 12ms/step - loss: 2.6686e-04 - accuracy: 1.0000 - val_loss: 1.2725 - val_accuracy: 0.7500\n",
      "Epoch 46/50\n",
      "22/22 [==============================] - 0s 13ms/step - loss: 1.8293e-04 - accuracy: 1.0000 - val_loss: 1.2809 - val_accuracy: 0.7500\n",
      "Epoch 47/50\n",
      "22/22 [==============================] - 0s 13ms/step - loss: 1.8035e-04 - accuracy: 1.0000 - val_loss: 1.2849 - val_accuracy: 0.7500\n",
      "Epoch 48/50\n",
      "22/22 [==============================] - 0s 12ms/step - loss: 1.4587e-04 - accuracy: 1.0000 - val_loss: 1.2903 - val_accuracy: 0.7500\n",
      "Epoch 49/50\n",
      "22/22 [==============================] - 0s 11ms/step - loss: 1.7788e-04 - accuracy: 1.0000 - val_loss: 1.2902 - val_accuracy: 0.7500\n",
      "Epoch 50/50\n",
      "22/22 [==============================] - 0s 11ms/step - loss: 1.9414e-04 - accuracy: 1.0000 - val_loss: 1.3017 - val_accuracy: 0.7500\n",
      "time: 17.192751169204712\n"
     ]
    }
   ],
   "source": [
    "import time\n",
    "time_begin = time.time()\n",
    "history = model.fit(x_train,one_hot_train_labels,\n",
    "                    validation_split=0.1,\n",
    "                    epochs=50,batch_size=10,\n",
    "                    shuffle=True)\n",
    "time_end = time.time()\n",
    "time = time_end - time_begin\n",
    "print('time:', time)"
   ]
  },
  {
   "cell_type": "code",
   "execution_count": 8,
   "metadata": {},
   "outputs": [
    {
     "name": "stdout",
     "output_type": "stream",
     "text": [
      "Test loss: 1.5606235265731812\n",
      "Test accuracy: 0.6833333373069763\n",
      "time: 0.07995772361755371\n"
     ]
    }
   ],
   "source": [
    "import time\n",
    "time_begin = time.time()\n",
    "score = model.evaluate(x_test,one_hot_test_labels, verbose=0)\n",
    "print('Test loss:', score[0])\n",
    "print('Test accuracy:', score[1])\n",
    " \n",
    "time_end = time.time()\n",
    "time = time_end - time_begin\n",
    "print('time:', time)"
   ]
  },
  {
   "cell_type": "code",
   "execution_count": 9,
   "metadata": {},
   "outputs": [
    {
     "data": {
      "image/png": "[encoded data removed]",
      "text/plain": [
       "<Figure size 432x288 with 1 Axes>"
      ]
     },
     "metadata": {
      "needs_background": "light"
     },
     "output_type": "display_data"
    }
   ],
   "source": [
    "#绘制acc-loss曲线\n",
    "import matplotlib.pyplot as plt\n",
    "\n",
    "plt.plot(history.history['loss'],color='r')\n",
    "plt.plot(history.history['val_loss'],color='g')\n",
    "plt.plot(history.history['accuracy'],color='b')\n",
    "plt.plot(history.history['val_accuracy'],color='k')\n",
    "plt.title('model loss and acc')\n",
    "plt.ylabel('Accuracy')\n",
    "plt.xlabel('epoch')\n",
    "plt.legend(['train_loss', 'test_loss','train_acc', 'test_acc'], loc='center right')\n",
    "# plt.legend(['train_loss','train_acc'], loc='upper left')\n",
    "#plt.savefig('1.png')\n",
    "plt.show()"
   ]
  },
  {
   "cell_type": "code",
   "execution_count": 10,
   "metadata": {},
   "outputs": [
    {
     "data": {
      "image/png": "[encoded data removed]",
      "text/plain": [
       "<Figure size 432x288 with 1 Axes>"
      ]
     },
     "metadata": {
      "needs_background": "light"
     },
     "output_type": "display_data"
    }
   ],
   "source": [
    "import matplotlib.pyplot as plt\n",
    "\n",
    "plt.plot(history.history['loss'],color='r')\n",
    "plt.plot(history.history['accuracy'],color='b')\n",
    "plt.title('model loss and sccuracy ')\n",
    "plt.ylabel('loss/sccuracy')\n",
    "plt.xlabel('epoch')\n",
    "plt.legend(['train_loss', 'train_sccuracy'], loc='center right')\n",
    "plt.show()"
   ]
  },
  {
   "cell_type": "code",
   "execution_count": null,
   "metadata": {},
   "outputs": [],
   "source": []
  },
  {
   "cell_type": "code",
   "execution_count": null,
   "metadata": {},
   "outputs": [],
   "source": []
  }
 ],
 "metadata": {
  "kernelspec": {
   "display_name": "Python 3",
   "language": "python",
   "name": "python3"
  },
  "language_info": {
   "codemirror_mode": {
    "name": "ipython",
    "version": 3
   },
   "file_extension": ".py",
   "mimetype": "text/x-python",
   "name": "python",
   "nbconvert_exporter": "python",
   "pygments_lexer": "ipython3",
   "version": "3.8.5"
  }
 },
 "nbformat": 4,
 "nbformat_minor": 2
}
